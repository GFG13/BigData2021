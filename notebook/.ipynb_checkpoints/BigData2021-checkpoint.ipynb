{
 "cells": [
  {
   "cell_type": "markdown",
   "metadata": {},
   "source": [
    "# Aperture AI - BigData2021 Case Competition\n",
    "\n",
    "### Workflow: \n",
    "1. **Anaconda Navigator** to open **Jupyter Labs**\n",
    "2. Notebook saved in **Jupyter Labs** locally\n",
    "3. **Git** repository initialized in local directory\n",
    "4. Remote repo linked to local repo using **Git Bash** commands:\n",
    "   * `git add remote origin https:github.com/GFG13/BigData2021.git`\n",
    "   * `git clone https:github.com/GFG13/BigData2021.git`\n",
    "5. **Git GUI** used to manage file commit and push\n",
    "   * scan for changes, select files and commit changes with message\n",
    "6. Push the local content to remote repo\n",
    "\n",
    "### Alternative workflow within Jupyter Labs:\n",
    "1. Same as '1' above\n",
    "2. Install Jupyter Labs extension **@jupyterlab/github\n",
    "3. Find github directory 'GFG13'\n",
    "4. Select Jupyter notebook to edit within Jupyter Labs"
   ]
  }
 ],
 "metadata": {
  "kernelspec": {
   "display_name": "Python 3",
   "language": "python",
   "name": "python3"
  },
  "language_info": {
   "codemirror_mode": {
    "name": "ipython",
    "version": 3
   },
   "file_extension": ".py",
   "mimetype": "text/x-python",
   "name": "python",
   "nbconvert_exporter": "python",
   "pygments_lexer": "ipython3",
   "version": "3.7.4"
  }
 },
 "nbformat": 4,
 "nbformat_minor": 4
}
