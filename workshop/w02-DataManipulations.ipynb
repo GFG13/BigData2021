{
 "cells": [
  {
   "cell_type": "code",
   "execution_count": 1,
   "metadata": {},
   "outputs": [],
   "source": [
    "import pandas as pd"
   ]
  },
  {
   "cell_type": "code",
   "execution_count": 2,
   "metadata": {},
   "outputs": [],
   "source": [
    "covid_cases = pd.read_csv(\"https://raw.githubusercontent.com/datasets/covid-19/main/data/us_deaths.csv\")"
   ]
  },
  {
   "cell_type": "code",
   "execution_count": 3,
   "metadata": {},
   "outputs": [
    {
     "data": {
      "text/plain": [
       "pandas.core.frame.DataFrame"
      ]
     },
     "execution_count": 3,
     "metadata": {},
     "output_type": "execute_result"
    }
   ],
   "source": [
    "type(covid_cases)"
   ]
  },
  {
   "cell_type": "code",
   "execution_count": 4,
   "metadata": {},
   "outputs": [
    {
     "data": {
      "text/plain": [
       "(1189040, 5)"
      ]
     },
     "execution_count": 4,
     "metadata": {},
     "output_type": "execute_result"
    }
   ],
   "source": [
    "covid_cases.shape"
   ]
  },
  {
   "cell_type": "code",
   "execution_count": 5,
   "metadata": {},
   "outputs": [
    {
     "data": {
      "text/html": [
       "<div>\n",
       "<style scoped>\n",
       "    .dataframe tbody tr th:only-of-type {\n",
       "        vertical-align: middle;\n",
       "    }\n",
       "\n",
       "    .dataframe tbody tr th {\n",
       "        vertical-align: top;\n",
       "    }\n",
       "\n",
       "    .dataframe thead th {\n",
       "        text-align: right;\n",
       "    }\n",
       "</style>\n",
       "<table border=\"1\" class=\"dataframe\">\n",
       "  <thead>\n",
       "    <tr style=\"text-align: right;\">\n",
       "      <th></th>\n",
       "      <th>Admin2</th>\n",
       "      <th>Date</th>\n",
       "      <th>Case</th>\n",
       "      <th>Country/Region</th>\n",
       "      <th>Province/State</th>\n",
       "    </tr>\n",
       "  </thead>\n",
       "  <tbody>\n",
       "    <tr>\n",
       "      <th>0</th>\n",
       "      <td>Autauga</td>\n",
       "      <td>2020-01-22</td>\n",
       "      <td>0</td>\n",
       "      <td>US</td>\n",
       "      <td>Alabama</td>\n",
       "    </tr>\n",
       "    <tr>\n",
       "      <th>1</th>\n",
       "      <td>Autauga</td>\n",
       "      <td>2020-01-23</td>\n",
       "      <td>0</td>\n",
       "      <td>US</td>\n",
       "      <td>Alabama</td>\n",
       "    </tr>\n",
       "    <tr>\n",
       "      <th>2</th>\n",
       "      <td>Autauga</td>\n",
       "      <td>2020-01-24</td>\n",
       "      <td>0</td>\n",
       "      <td>US</td>\n",
       "      <td>Alabama</td>\n",
       "    </tr>\n",
       "    <tr>\n",
       "      <th>3</th>\n",
       "      <td>Autauga</td>\n",
       "      <td>2020-01-25</td>\n",
       "      <td>0</td>\n",
       "      <td>US</td>\n",
       "      <td>Alabama</td>\n",
       "    </tr>\n",
       "    <tr>\n",
       "      <th>4</th>\n",
       "      <td>Autauga</td>\n",
       "      <td>2020-01-26</td>\n",
       "      <td>0</td>\n",
       "      <td>US</td>\n",
       "      <td>Alabama</td>\n",
       "    </tr>\n",
       "  </tbody>\n",
       "</table>\n",
       "</div>"
      ],
      "text/plain": [
       "    Admin2        Date  Case Country/Region Province/State\n",
       "0  Autauga  2020-01-22     0             US        Alabama\n",
       "1  Autauga  2020-01-23     0             US        Alabama\n",
       "2  Autauga  2020-01-24     0             US        Alabama\n",
       "3  Autauga  2020-01-25     0             US        Alabama\n",
       "4  Autauga  2020-01-26     0             US        Alabama"
      ]
     },
     "execution_count": 5,
     "metadata": {},
     "output_type": "execute_result"
    }
   ],
   "source": [
    "covid_cases.head()"
   ]
  },
  {
   "cell_type": "code",
   "execution_count": 6,
   "metadata": {},
   "outputs": [
    {
     "data": {
      "text/html": [
       "<div>\n",
       "<style scoped>\n",
       "    .dataframe tbody tr th:only-of-type {\n",
       "        vertical-align: middle;\n",
       "    }\n",
       "\n",
       "    .dataframe tbody tr th {\n",
       "        vertical-align: top;\n",
       "    }\n",
       "\n",
       "    .dataframe thead th {\n",
       "        text-align: right;\n",
       "    }\n",
       "</style>\n",
       "<table border=\"1\" class=\"dataframe\">\n",
       "  <thead>\n",
       "    <tr style=\"text-align: right;\">\n",
       "      <th></th>\n",
       "      <th>Admin2</th>\n",
       "      <th>Date</th>\n",
       "      <th>Case</th>\n",
       "      <th>Country/Region</th>\n",
       "      <th>Province/State</th>\n",
       "    </tr>\n",
       "  </thead>\n",
       "  <tbody>\n",
       "    <tr>\n",
       "      <th>1189035</th>\n",
       "      <td>Weston</td>\n",
       "      <td>2021-01-07</td>\n",
       "      <td>4</td>\n",
       "      <td>US</td>\n",
       "      <td>Wyoming</td>\n",
       "    </tr>\n",
       "    <tr>\n",
       "      <th>1189036</th>\n",
       "      <td>Weston</td>\n",
       "      <td>2021-01-08</td>\n",
       "      <td>4</td>\n",
       "      <td>US</td>\n",
       "      <td>Wyoming</td>\n",
       "    </tr>\n",
       "    <tr>\n",
       "      <th>1189037</th>\n",
       "      <td>Weston</td>\n",
       "      <td>2021-01-09</td>\n",
       "      <td>4</td>\n",
       "      <td>US</td>\n",
       "      <td>Wyoming</td>\n",
       "    </tr>\n",
       "    <tr>\n",
       "      <th>1189038</th>\n",
       "      <td>Weston</td>\n",
       "      <td>2021-01-10</td>\n",
       "      <td>4</td>\n",
       "      <td>US</td>\n",
       "      <td>Wyoming</td>\n",
       "    </tr>\n",
       "    <tr>\n",
       "      <th>1189039</th>\n",
       "      <td>Weston</td>\n",
       "      <td>2021-01-11</td>\n",
       "      <td>4</td>\n",
       "      <td>US</td>\n",
       "      <td>Wyoming</td>\n",
       "    </tr>\n",
       "  </tbody>\n",
       "</table>\n",
       "</div>"
      ],
      "text/plain": [
       "         Admin2        Date  Case Country/Region Province/State\n",
       "1189035  Weston  2021-01-07     4             US        Wyoming\n",
       "1189036  Weston  2021-01-08     4             US        Wyoming\n",
       "1189037  Weston  2021-01-09     4             US        Wyoming\n",
       "1189038  Weston  2021-01-10     4             US        Wyoming\n",
       "1189039  Weston  2021-01-11     4             US        Wyoming"
      ]
     },
     "execution_count": 6,
     "metadata": {},
     "output_type": "execute_result"
    }
   ],
   "source": [
    "covid_cases.tail()"
   ]
  },
  {
   "cell_type": "code",
   "execution_count": 7,
   "metadata": {},
   "outputs": [
    {
     "data": {
      "text/plain": [
       "Index(['Admin2', 'Date', 'Case', 'Country/Region', 'Province/State'], dtype='object')"
      ]
     },
     "execution_count": 7,
     "metadata": {},
     "output_type": "execute_result"
    }
   ],
   "source": [
    "covid_cases.columns"
   ]
  },
  {
   "cell_type": "code",
   "execution_count": 8,
   "metadata": {},
   "outputs": [
    {
     "data": {
      "text/plain": [
       "Admin2            object\n",
       "Date              object\n",
       "Case               int64\n",
       "Country/Region    object\n",
       "Province/State    object\n",
       "dtype: object"
      ]
     },
     "execution_count": 8,
     "metadata": {},
     "output_type": "execute_result"
    }
   ],
   "source": [
    "covid_cases.dtypes"
   ]
  },
  {
   "cell_type": "code",
   "execution_count": 9,
   "metadata": {},
   "outputs": [
    {
     "data": {
      "text/plain": [
       "array(['Alabama', 'Alaska', 'American Samoa', 'Arizona', 'Arkansas',\n",
       "       'California', 'Colorado', 'Connecticut', 'Delaware',\n",
       "       'Diamond Princess', 'District of Columbia', 'Florida', 'Georgia',\n",
       "       'Grand Princess', 'Guam', 'Hawaii', 'Idaho', 'Illinois', 'Indiana',\n",
       "       'Iowa', 'Kansas', 'Kentucky', 'Louisiana', 'Maine', 'Maryland',\n",
       "       'Massachusetts', 'Michigan', 'Minnesota', 'Mississippi',\n",
       "       'Missouri', 'Montana', 'Nebraska', 'Nevada', 'New Hampshire',\n",
       "       'New Jersey', 'New Mexico', 'New York', 'North Carolina',\n",
       "       'North Dakota', 'Northern Mariana Islands', 'Ohio', 'Oklahoma',\n",
       "       'Oregon', 'Pennsylvania', 'Puerto Rico', 'Rhode Island',\n",
       "       'South Carolina', 'South Dakota', 'Tennessee', 'Texas', 'Utah',\n",
       "       'Vermont', 'Virgin Islands', 'Virginia', 'Washington',\n",
       "       'West Virginia', 'Wisconsin', 'Wyoming'], dtype=object)"
      ]
     },
     "execution_count": 9,
     "metadata": {},
     "output_type": "execute_result"
    }
   ],
   "source": [
    "covid_cases[\"Province/State\"].unique()"
   ]
  },
  {
   "cell_type": "code",
   "execution_count": 10,
   "metadata": {},
   "outputs": [
    {
     "data": {
      "text/plain": [
       "58"
      ]
     },
     "execution_count": 10,
     "metadata": {},
     "output_type": "execute_result"
    }
   ],
   "source": [
    "covid_cases[\"Province/State\"].nunique()"
   ]
  },
  {
   "cell_type": "code",
   "execution_count": 11,
   "metadata": {},
   "outputs": [
    {
     "data": {
      "text/plain": [
       "array(['2020-01-22', '2020-01-23', '2020-01-24', '2020-01-25',\n",
       "       '2020-01-26', '2020-01-27', '2020-01-28', '2020-01-29',\n",
       "       '2020-01-30', '2020-01-31', '2020-02-01', '2020-02-02',\n",
       "       '2020-02-03', '2020-02-04', '2020-02-05', '2020-02-06',\n",
       "       '2020-02-07', '2020-02-08', '2020-02-09', '2020-02-10',\n",
       "       '2020-02-11', '2020-02-12', '2020-02-13', '2020-02-14',\n",
       "       '2020-02-15', '2020-02-16', '2020-02-17', '2020-02-18',\n",
       "       '2020-02-19', '2020-02-20', '2020-02-21', '2020-02-22',\n",
       "       '2020-02-23', '2020-02-24', '2020-02-25', '2020-02-26',\n",
       "       '2020-02-27', '2020-02-28', '2020-02-29', '2020-03-01',\n",
       "       '2020-03-02', '2020-03-03', '2020-03-04', '2020-03-05',\n",
       "       '2020-03-06', '2020-03-07', '2020-03-08', '2020-03-09',\n",
       "       '2020-03-10', '2020-03-11', '2020-03-12', '2020-03-13',\n",
       "       '2020-03-14', '2020-03-15', '2020-03-16', '2020-03-17',\n",
       "       '2020-03-18', '2020-03-19', '2020-03-20', '2020-03-21',\n",
       "       '2020-03-22', '2020-03-23', '2020-03-24', '2020-03-25',\n",
       "       '2020-03-26', '2020-03-27', '2020-03-28', '2020-03-29',\n",
       "       '2020-03-30', '2020-03-31', '2020-04-01', '2020-04-02',\n",
       "       '2020-04-03', '2020-04-04', '2020-04-05', '2020-04-06',\n",
       "       '2020-04-07', '2020-04-08', '2020-04-09', '2020-04-10',\n",
       "       '2020-04-11', '2020-04-12', '2020-04-13', '2020-04-14',\n",
       "       '2020-04-15', '2020-04-16', '2020-04-17', '2020-04-18',\n",
       "       '2020-04-19', '2020-04-20', '2020-04-21', '2020-04-22',\n",
       "       '2020-04-23', '2020-04-24', '2020-04-25', '2020-04-26',\n",
       "       '2020-04-27', '2020-04-28', '2020-04-29', '2020-04-30',\n",
       "       '2020-05-01', '2020-05-02', '2020-05-03', '2020-05-04',\n",
       "       '2020-05-05', '2020-05-06', '2020-05-07', '2020-05-08',\n",
       "       '2020-05-09', '2020-05-10', '2020-05-11', '2020-05-12',\n",
       "       '2020-05-13', '2020-05-14', '2020-05-15', '2020-05-16',\n",
       "       '2020-05-17', '2020-05-18', '2020-05-19', '2020-05-20',\n",
       "       '2020-05-21', '2020-05-22', '2020-05-23', '2020-05-24',\n",
       "       '2020-05-25', '2020-05-26', '2020-05-27', '2020-05-28',\n",
       "       '2020-05-29', '2020-05-30', '2020-05-31', '2020-06-01',\n",
       "       '2020-06-02', '2020-06-03', '2020-06-04', '2020-06-05',\n",
       "       '2020-06-06', '2020-06-07', '2020-06-08', '2020-06-09',\n",
       "       '2020-06-10', '2020-06-11', '2020-06-12', '2020-06-13',\n",
       "       '2020-06-14', '2020-06-15', '2020-06-16', '2020-06-17',\n",
       "       '2020-06-18', '2020-06-19', '2020-06-20', '2020-06-21',\n",
       "       '2020-06-22', '2020-06-23', '2020-06-24', '2020-06-25',\n",
       "       '2020-06-26', '2020-06-27', '2020-06-28', '2020-06-29',\n",
       "       '2020-06-30', '2020-07-01', '2020-07-02', '2020-07-03',\n",
       "       '2020-07-04', '2020-07-05', '2020-07-06', '2020-07-07',\n",
       "       '2020-07-08', '2020-07-09', '2020-07-10', '2020-07-11',\n",
       "       '2020-07-12', '2020-07-13', '2020-07-14', '2020-07-15',\n",
       "       '2020-07-16', '2020-07-17', '2020-07-18', '2020-07-19',\n",
       "       '2020-07-20', '2020-07-21', '2020-07-22', '2020-07-23',\n",
       "       '2020-07-24', '2020-07-25', '2020-07-26', '2020-07-27',\n",
       "       '2020-07-28', '2020-07-29', '2020-07-30', '2020-07-31',\n",
       "       '2020-08-01', '2020-08-02', '2020-08-03', '2020-08-04',\n",
       "       '2020-08-05', '2020-08-06', '2020-08-07', '2020-08-08',\n",
       "       '2020-08-09', '2020-08-10', '2020-08-11', '2020-08-12',\n",
       "       '2020-08-13', '2020-08-14', '2020-08-15', '2020-08-16',\n",
       "       '2020-08-17', '2020-08-18', '2020-08-19', '2020-08-20',\n",
       "       '2020-08-21', '2020-08-22', '2020-08-23', '2020-08-24',\n",
       "       '2020-08-25', '2020-08-26', '2020-08-27', '2020-08-28',\n",
       "       '2020-08-29', '2020-08-30', '2020-08-31', '2020-09-01',\n",
       "       '2020-09-02', '2020-09-03', '2020-09-04', '2020-09-05',\n",
       "       '2020-09-06', '2020-09-07', '2020-09-08', '2020-09-09',\n",
       "       '2020-09-10', '2020-09-11', '2020-09-12', '2020-09-13',\n",
       "       '2020-09-14', '2020-09-15', '2020-09-16', '2020-09-17',\n",
       "       '2020-09-18', '2020-09-19', '2020-09-20', '2020-09-21',\n",
       "       '2020-09-22', '2020-09-23', '2020-09-24', '2020-09-25',\n",
       "       '2020-09-26', '2020-09-27', '2020-09-28', '2020-09-29',\n",
       "       '2020-09-30', '2020-10-01', '2020-10-02', '2020-10-03',\n",
       "       '2020-10-04', '2020-10-05', '2020-10-06', '2020-10-07',\n",
       "       '2020-10-08', '2020-10-09', '2020-10-10', '2020-10-11',\n",
       "       '2020-10-12', '2020-10-13', '2020-10-14', '2020-10-15',\n",
       "       '2020-10-16', '2020-10-17', '2020-10-18', '2020-10-19',\n",
       "       '2020-10-20', '2020-10-21', '2020-10-22', '2020-10-23',\n",
       "       '2020-10-24', '2020-10-25', '2020-10-26', '2020-10-27',\n",
       "       '2020-10-28', '2020-10-29', '2020-10-30', '2020-10-31',\n",
       "       '2020-11-01', '2020-11-02', '2020-11-03', '2020-11-04',\n",
       "       '2020-11-05', '2020-11-06', '2020-11-07', '2020-11-08',\n",
       "       '2020-11-09', '2020-11-10', '2020-11-11', '2020-11-12',\n",
       "       '2020-11-13', '2020-11-14', '2020-11-15', '2020-11-16',\n",
       "       '2020-11-17', '2020-11-18', '2020-11-19', '2020-11-20',\n",
       "       '2020-11-21', '2020-11-22', '2020-11-23', '2020-11-24',\n",
       "       '2020-11-25', '2020-11-26', '2020-11-27', '2020-11-28',\n",
       "       '2020-11-29', '2020-11-30', '2020-12-01', '2020-12-02',\n",
       "       '2020-12-03', '2020-12-04', '2020-12-05', '2020-12-06',\n",
       "       '2020-12-07', '2020-12-08', '2020-12-09', '2020-12-10',\n",
       "       '2020-12-11', '2020-12-12', '2020-12-13', '2020-12-14',\n",
       "       '2020-12-15', '2020-12-16', '2020-12-17', '2020-12-18',\n",
       "       '2020-12-19', '2020-12-20', '2020-12-21', '2020-12-22',\n",
       "       '2020-12-23', '2020-12-24', '2020-12-25', '2020-12-26',\n",
       "       '2020-12-27', '2020-12-28', '2020-12-29', '2020-12-30',\n",
       "       '2020-12-31', '2021-01-01', '2021-01-02', '2021-01-03',\n",
       "       '2021-01-04', '2021-01-05', '2021-01-06', '2021-01-07',\n",
       "       '2021-01-08', '2021-01-09', '2021-01-10', '2021-01-11'],\n",
       "      dtype=object)"
      ]
     },
     "execution_count": 11,
     "metadata": {},
     "output_type": "execute_result"
    }
   ],
   "source": [
    "covid_cases.Date.unique()"
   ]
  },
  {
   "cell_type": "code",
   "execution_count": 12,
   "metadata": {},
   "outputs": [
    {
     "data": {
      "text/plain": [
       "'2021-01-11'"
      ]
     },
     "execution_count": 12,
     "metadata": {},
     "output_type": "execute_result"
    }
   ],
   "source": [
    "covid_cases.Date.max()"
   ]
  },
  {
   "cell_type": "code",
   "execution_count": 13,
   "metadata": {},
   "outputs": [
    {
     "data": {
      "text/plain": [
       "'2020-01-22'"
      ]
     },
     "execution_count": 13,
     "metadata": {},
     "output_type": "execute_result"
    }
   ],
   "source": [
    "covid_cases.Date.min()"
   ]
  },
  {
   "cell_type": "markdown",
   "metadata": {},
   "source": [
    "Use `inplace=True` to apply to dataframe"
   ]
  },
  {
   "cell_type": "code",
   "execution_count": 14,
   "metadata": {},
   "outputs": [],
   "source": [
    "covid_cases.rename(columns={'Admin2':'County'},inplace=True)"
   ]
  },
  {
   "cell_type": "code",
   "execution_count": 15,
   "metadata": {},
   "outputs": [
    {
     "data": {
      "text/html": [
       "<div>\n",
       "<style scoped>\n",
       "    .dataframe tbody tr th:only-of-type {\n",
       "        vertical-align: middle;\n",
       "    }\n",
       "\n",
       "    .dataframe tbody tr th {\n",
       "        vertical-align: top;\n",
       "    }\n",
       "\n",
       "    .dataframe thead th {\n",
       "        text-align: right;\n",
       "    }\n",
       "</style>\n",
       "<table border=\"1\" class=\"dataframe\">\n",
       "  <thead>\n",
       "    <tr style=\"text-align: right;\">\n",
       "      <th></th>\n",
       "      <th>County</th>\n",
       "      <th>Date</th>\n",
       "      <th>Case</th>\n",
       "      <th>Country/Region</th>\n",
       "      <th>Province/State</th>\n",
       "    </tr>\n",
       "  </thead>\n",
       "  <tbody>\n",
       "    <tr>\n",
       "      <th>0</th>\n",
       "      <td>Autauga</td>\n",
       "      <td>2020-01-22</td>\n",
       "      <td>0</td>\n",
       "      <td>US</td>\n",
       "      <td>Alabama</td>\n",
       "    </tr>\n",
       "    <tr>\n",
       "      <th>1</th>\n",
       "      <td>Autauga</td>\n",
       "      <td>2020-01-23</td>\n",
       "      <td>0</td>\n",
       "      <td>US</td>\n",
       "      <td>Alabama</td>\n",
       "    </tr>\n",
       "    <tr>\n",
       "      <th>2</th>\n",
       "      <td>Autauga</td>\n",
       "      <td>2020-01-24</td>\n",
       "      <td>0</td>\n",
       "      <td>US</td>\n",
       "      <td>Alabama</td>\n",
       "    </tr>\n",
       "    <tr>\n",
       "      <th>3</th>\n",
       "      <td>Autauga</td>\n",
       "      <td>2020-01-25</td>\n",
       "      <td>0</td>\n",
       "      <td>US</td>\n",
       "      <td>Alabama</td>\n",
       "    </tr>\n",
       "    <tr>\n",
       "      <th>4</th>\n",
       "      <td>Autauga</td>\n",
       "      <td>2020-01-26</td>\n",
       "      <td>0</td>\n",
       "      <td>US</td>\n",
       "      <td>Alabama</td>\n",
       "    </tr>\n",
       "  </tbody>\n",
       "</table>\n",
       "</div>"
      ],
      "text/plain": [
       "    County        Date  Case Country/Region Province/State\n",
       "0  Autauga  2020-01-22     0             US        Alabama\n",
       "1  Autauga  2020-01-23     0             US        Alabama\n",
       "2  Autauga  2020-01-24     0             US        Alabama\n",
       "3  Autauga  2020-01-25     0             US        Alabama\n",
       "4  Autauga  2020-01-26     0             US        Alabama"
      ]
     },
     "execution_count": 15,
     "metadata": {},
     "output_type": "execute_result"
    }
   ],
   "source": [
    "covid_cases.head()"
   ]
  },
  {
   "cell_type": "code",
   "execution_count": 16,
   "metadata": {},
   "outputs": [
    {
     "name": "stdout",
     "output_type": "stream",
     "text": [
      "<class 'pandas.core.frame.DataFrame'>\n",
      "RangeIndex: 1189040 entries, 0 to 1189039\n",
      "Data columns (total 5 columns):\n",
      " #   Column          Non-Null Count    Dtype \n",
      "---  ------          --------------    ----- \n",
      " 0   County          1186904 non-null  object\n",
      " 1   Date            1189040 non-null  object\n",
      " 2   Case            1189040 non-null  int64 \n",
      " 3   Country/Region  1189040 non-null  object\n",
      " 4   Province/State  1189040 non-null  object\n",
      "dtypes: int64(1), object(4)\n",
      "memory usage: 45.4+ MB\n"
     ]
    }
   ],
   "source": [
    "covid_cases.info()"
   ]
  },
  {
   "cell_type": "markdown",
   "metadata": {},
   "source": [
    "From above, there are missing data in County. Use `loc` and `isna()` to locate the missing County data"
   ]
  },
  {
   "cell_type": "code",
   "execution_count": 17,
   "metadata": {},
   "outputs": [
    {
     "data": {
      "text/html": [
       "<div>\n",
       "<style scoped>\n",
       "    .dataframe tbody tr th:only-of-type {\n",
       "        vertical-align: middle;\n",
       "    }\n",
       "\n",
       "    .dataframe tbody tr th {\n",
       "        vertical-align: top;\n",
       "    }\n",
       "\n",
       "    .dataframe thead th {\n",
       "        text-align: right;\n",
       "    }\n",
       "</style>\n",
       "<table border=\"1\" class=\"dataframe\">\n",
       "  <thead>\n",
       "    <tr style=\"text-align: right;\">\n",
       "      <th></th>\n",
       "      <th>County</th>\n",
       "      <th>Date</th>\n",
       "      <th>Case</th>\n",
       "      <th>Country/Region</th>\n",
       "      <th>Province/State</th>\n",
       "    </tr>\n",
       "  </thead>\n",
       "  <tbody>\n",
       "    <tr>\n",
       "      <th>35600</th>\n",
       "      <td>NaN</td>\n",
       "      <td>2020-01-22</td>\n",
       "      <td>0</td>\n",
       "      <td>US</td>\n",
       "      <td>American Samoa</td>\n",
       "    </tr>\n",
       "    <tr>\n",
       "      <th>35601</th>\n",
       "      <td>NaN</td>\n",
       "      <td>2020-01-23</td>\n",
       "      <td>0</td>\n",
       "      <td>US</td>\n",
       "      <td>American Samoa</td>\n",
       "    </tr>\n",
       "    <tr>\n",
       "      <th>35602</th>\n",
       "      <td>NaN</td>\n",
       "      <td>2020-01-24</td>\n",
       "      <td>0</td>\n",
       "      <td>US</td>\n",
       "      <td>American Samoa</td>\n",
       "    </tr>\n",
       "    <tr>\n",
       "      <th>35603</th>\n",
       "      <td>NaN</td>\n",
       "      <td>2020-01-25</td>\n",
       "      <td>0</td>\n",
       "      <td>US</td>\n",
       "      <td>American Samoa</td>\n",
       "    </tr>\n",
       "    <tr>\n",
       "      <th>35604</th>\n",
       "      <td>NaN</td>\n",
       "      <td>2020-01-26</td>\n",
       "      <td>0</td>\n",
       "      <td>US</td>\n",
       "      <td>American Samoa</td>\n",
       "    </tr>\n",
       "    <tr>\n",
       "      <th>...</th>\n",
       "      <td>...</td>\n",
       "      <td>...</td>\n",
       "      <td>...</td>\n",
       "      <td>...</td>\n",
       "      <td>...</td>\n",
       "    </tr>\n",
       "    <tr>\n",
       "      <th>1070843</th>\n",
       "      <td>NaN</td>\n",
       "      <td>2021-01-07</td>\n",
       "      <td>24</td>\n",
       "      <td>US</td>\n",
       "      <td>Virgin Islands</td>\n",
       "    </tr>\n",
       "    <tr>\n",
       "      <th>1070844</th>\n",
       "      <td>NaN</td>\n",
       "      <td>2021-01-08</td>\n",
       "      <td>24</td>\n",
       "      <td>US</td>\n",
       "      <td>Virgin Islands</td>\n",
       "    </tr>\n",
       "    <tr>\n",
       "      <th>1070845</th>\n",
       "      <td>NaN</td>\n",
       "      <td>2021-01-09</td>\n",
       "      <td>24</td>\n",
       "      <td>US</td>\n",
       "      <td>Virgin Islands</td>\n",
       "    </tr>\n",
       "    <tr>\n",
       "      <th>1070846</th>\n",
       "      <td>NaN</td>\n",
       "      <td>2021-01-10</td>\n",
       "      <td>24</td>\n",
       "      <td>US</td>\n",
       "      <td>Virgin Islands</td>\n",
       "    </tr>\n",
       "    <tr>\n",
       "      <th>1070847</th>\n",
       "      <td>NaN</td>\n",
       "      <td>2021-01-11</td>\n",
       "      <td>24</td>\n",
       "      <td>US</td>\n",
       "      <td>Virgin Islands</td>\n",
       "    </tr>\n",
       "  </tbody>\n",
       "</table>\n",
       "<p>2136 rows × 5 columns</p>\n",
       "</div>"
      ],
      "text/plain": [
       "        County        Date  Case Country/Region  Province/State\n",
       "35600      NaN  2020-01-22     0             US  American Samoa\n",
       "35601      NaN  2020-01-23     0             US  American Samoa\n",
       "35602      NaN  2020-01-24     0             US  American Samoa\n",
       "35603      NaN  2020-01-25     0             US  American Samoa\n",
       "35604      NaN  2020-01-26     0             US  American Samoa\n",
       "...        ...         ...   ...            ...             ...\n",
       "1070843    NaN  2021-01-07    24             US  Virgin Islands\n",
       "1070844    NaN  2021-01-08    24             US  Virgin Islands\n",
       "1070845    NaN  2021-01-09    24             US  Virgin Islands\n",
       "1070846    NaN  2021-01-10    24             US  Virgin Islands\n",
       "1070847    NaN  2021-01-11    24             US  Virgin Islands\n",
       "\n",
       "[2136 rows x 5 columns]"
      ]
     },
     "execution_count": 17,
     "metadata": {},
     "output_type": "execute_result"
    }
   ],
   "source": [
    "covid_cases.loc[covid_cases.County.isna()]"
   ]
  },
  {
   "cell_type": "code",
   "execution_count": 18,
   "metadata": {},
   "outputs": [],
   "source": [
    "null_counties = covid_cases.loc[covid_cases.County.isna()]"
   ]
  },
  {
   "cell_type": "code",
   "execution_count": 19,
   "metadata": {},
   "outputs": [
    {
     "data": {
      "text/plain": [
       "(2136, 5)"
      ]
     },
     "execution_count": 19,
     "metadata": {},
     "output_type": "execute_result"
    }
   ],
   "source": [
    "null_counties.shape"
   ]
  },
  {
   "cell_type": "code",
   "execution_count": 20,
   "metadata": {},
   "outputs": [
    {
     "data": {
      "text/plain": [
       "array(['American Samoa', 'Diamond Princess', 'Grand Princess', 'Guam',\n",
       "       'Northern Mariana Islands', 'Virgin Islands'], dtype=object)"
      ]
     },
     "execution_count": 20,
     "metadata": {},
     "output_type": "execute_result"
    }
   ],
   "source": [
    "null_counties[\"Province/State\"].unique()"
   ]
  },
  {
   "cell_type": "code",
   "execution_count": 21,
   "metadata": {},
   "outputs": [],
   "source": [
    "del null_counties"
   ]
  },
  {
   "cell_type": "markdown",
   "metadata": {},
   "source": [
    "To view variables use `whos` command"
   ]
  },
  {
   "cell_type": "code",
   "execution_count": 22,
   "metadata": {},
   "outputs": [
    {
     "name": "stdout",
     "output_type": "stream",
     "text": [
      "Variable      Type         Data/Info\n",
      "------------------------------------\n",
      "covid_cases   DataFrame              County        D<...>1189040 rows x 5 columns]\n",
      "pd            module       <module 'pandas' from 'D:<...>es\\\\pandas\\\\__init__.py'>\n"
     ]
    }
   ],
   "source": [
    "whos"
   ]
  },
  {
   "cell_type": "code",
   "execution_count": 23,
   "metadata": {},
   "outputs": [
    {
     "data": {
      "text/html": [
       "<div>\n",
       "<style scoped>\n",
       "    .dataframe tbody tr th:only-of-type {\n",
       "        vertical-align: middle;\n",
       "    }\n",
       "\n",
       "    .dataframe tbody tr th {\n",
       "        vertical-align: top;\n",
       "    }\n",
       "\n",
       "    .dataframe thead th {\n",
       "        text-align: right;\n",
       "    }\n",
       "</style>\n",
       "<table border=\"1\" class=\"dataframe\">\n",
       "  <thead>\n",
       "    <tr style=\"text-align: right;\">\n",
       "      <th></th>\n",
       "      <th>Case</th>\n",
       "    </tr>\n",
       "  </thead>\n",
       "  <tbody>\n",
       "    <tr>\n",
       "      <th>count</th>\n",
       "      <td>1.189040e+06</td>\n",
       "    </tr>\n",
       "    <tr>\n",
       "      <th>mean</th>\n",
       "      <td>4.268159e+01</td>\n",
       "    </tr>\n",
       "    <tr>\n",
       "      <th>std</th>\n",
       "      <td>2.657642e+02</td>\n",
       "    </tr>\n",
       "    <tr>\n",
       "      <th>min</th>\n",
       "      <td>0.000000e+00</td>\n",
       "    </tr>\n",
       "    <tr>\n",
       "      <th>25%</th>\n",
       "      <td>0.000000e+00</td>\n",
       "    </tr>\n",
       "    <tr>\n",
       "      <th>50%</th>\n",
       "      <td>1.000000e+00</td>\n",
       "    </tr>\n",
       "    <tr>\n",
       "      <th>75%</th>\n",
       "      <td>1.400000e+01</td>\n",
       "    </tr>\n",
       "    <tr>\n",
       "      <th>max</th>\n",
       "      <td>1.238700e+04</td>\n",
       "    </tr>\n",
       "  </tbody>\n",
       "</table>\n",
       "</div>"
      ],
      "text/plain": [
       "               Case\n",
       "count  1.189040e+06\n",
       "mean   4.268159e+01\n",
       "std    2.657642e+02\n",
       "min    0.000000e+00\n",
       "25%    0.000000e+00\n",
       "50%    1.000000e+00\n",
       "75%    1.400000e+01\n",
       "max    1.238700e+04"
      ]
     },
     "execution_count": 23,
     "metadata": {},
     "output_type": "execute_result"
    }
   ],
   "source": [
    "covid_cases.describe()"
   ]
  },
  {
   "cell_type": "code",
   "execution_count": 24,
   "metadata": {},
   "outputs": [],
   "source": [
    "max_cases = covid_cases.Case.max()"
   ]
  },
  {
   "cell_type": "code",
   "execution_count": 25,
   "metadata": {},
   "outputs": [
    {
     "data": {
      "text/html": [
       "<div>\n",
       "<style scoped>\n",
       "    .dataframe tbody tr th:only-of-type {\n",
       "        vertical-align: middle;\n",
       "    }\n",
       "\n",
       "    .dataframe tbody tr th {\n",
       "        vertical-align: top;\n",
       "    }\n",
       "\n",
       "    .dataframe thead th {\n",
       "        text-align: right;\n",
       "    }\n",
       "</style>\n",
       "<table border=\"1\" class=\"dataframe\">\n",
       "  <thead>\n",
       "    <tr style=\"text-align: right;\">\n",
       "      <th></th>\n",
       "      <th>County</th>\n",
       "      <th>Date</th>\n",
       "      <th>Case</th>\n",
       "      <th>Country/Region</th>\n",
       "      <th>Province/State</th>\n",
       "    </tr>\n",
       "  </thead>\n",
       "  <tbody>\n",
       "    <tr>\n",
       "      <th>76183</th>\n",
       "      <td>Los Angeles</td>\n",
       "      <td>2021-01-11</td>\n",
       "      <td>12387</td>\n",
       "      <td>US</td>\n",
       "      <td>California</td>\n",
       "    </tr>\n",
       "  </tbody>\n",
       "</table>\n",
       "</div>"
      ],
      "text/plain": [
       "            County        Date   Case Country/Region Province/State\n",
       "76183  Los Angeles  2021-01-11  12387             US     California"
      ]
     },
     "execution_count": 25,
     "metadata": {},
     "output_type": "execute_result"
    }
   ],
   "source": [
    "covid_cases.loc[covid_cases.Case == max_cases]"
   ]
  },
  {
   "cell_type": "code",
   "execution_count": 26,
   "metadata": {},
   "outputs": [
    {
     "name": "stdout",
     "output_type": "stream",
     "text": [
      "The Zen of Python, by Tim Peters\n",
      "\n",
      "Beautiful is better than ugly.\n",
      "Explicit is better than implicit.\n",
      "Simple is better than complex.\n",
      "Complex is better than complicated.\n",
      "Flat is better than nested.\n",
      "Sparse is better than dense.\n",
      "Readability counts.\n",
      "Special cases aren't special enough to break the rules.\n",
      "Although practicality beats purity.\n",
      "Errors should never pass silently.\n",
      "Unless explicitly silenced.\n",
      "In the face of ambiguity, refuse the temptation to guess.\n",
      "There should be one-- and preferably only one --obvious way to do it.\n",
      "Although that way may not be obvious at first unless you're Dutch.\n",
      "Now is better than never.\n",
      "Although never is often better than *right* now.\n",
      "If the implementation is hard to explain, it's a bad idea.\n",
      "If the implementation is easy to explain, it may be a good idea.\n",
      "Namespaces are one honking great idea -- let's do more of those!\n"
     ]
    }
   ],
   "source": [
    "import this"
   ]
  },
  {
   "cell_type": "code",
   "execution_count": 36,
   "metadata": {},
   "outputs": [
    {
     "data": {
      "text/html": [
       "<div>\n",
       "<style scoped>\n",
       "    .dataframe tbody tr th:only-of-type {\n",
       "        vertical-align: middle;\n",
       "    }\n",
       "\n",
       "    .dataframe tbody tr th {\n",
       "        vertical-align: top;\n",
       "    }\n",
       "\n",
       "    .dataframe thead tr th {\n",
       "        text-align: left;\n",
       "    }\n",
       "\n",
       "    .dataframe thead tr:last-of-type th {\n",
       "        text-align: right;\n",
       "    }\n",
       "</style>\n",
       "<table border=\"1\" class=\"dataframe\">\n",
       "  <thead>\n",
       "    <tr>\n",
       "      <th></th>\n",
       "      <th colspan=\"2\" halign=\"left\">Case</th>\n",
       "      <th>County</th>\n",
       "    </tr>\n",
       "    <tr>\n",
       "      <th></th>\n",
       "      <th>max</th>\n",
       "      <th>sum</th>\n",
       "      <th>max</th>\n",
       "    </tr>\n",
       "    <tr>\n",
       "      <th>Province/State</th>\n",
       "      <th></th>\n",
       "      <th></th>\n",
       "      <th></th>\n",
       "    </tr>\n",
       "  </thead>\n",
       "  <tbody>\n",
       "    <tr>\n",
       "      <th>Alabama</th>\n",
       "      <td>784</td>\n",
       "      <td>581981</td>\n",
       "      <td>Winston</td>\n",
       "    </tr>\n",
       "    <tr>\n",
       "      <th>Alaska</th>\n",
       "      <td>126</td>\n",
       "      <td>16492</td>\n",
       "      <td>Yukon-Koyukuk</td>\n",
       "    </tr>\n",
       "    <tr>\n",
       "      <th>American Samoa</th>\n",
       "      <td>0</td>\n",
       "      <td>0</td>\n",
       "      <td>NaN</td>\n",
       "    </tr>\n",
       "    <tr>\n",
       "      <th>Arizona</th>\n",
       "      <td>5823</td>\n",
       "      <td>1153145</td>\n",
       "      <td>Yuma</td>\n",
       "    </tr>\n",
       "    <tr>\n",
       "      <th>Arkansas</th>\n",
       "      <td>430</td>\n",
       "      <td>328607</td>\n",
       "      <td>Yell</td>\n",
       "    </tr>\n",
       "    <tr>\n",
       "      <th>California</th>\n",
       "      <td>12387</td>\n",
       "      <td>3369525</td>\n",
       "      <td>Yuba</td>\n",
       "    </tr>\n",
       "    <tr>\n",
       "      <th>Colorado</th>\n",
       "      <td>703</td>\n",
       "      <td>594863</td>\n",
       "      <td>Yuma</td>\n",
       "    </tr>\n",
       "    <tr>\n",
       "      <th>Connecticut</th>\n",
       "      <td>1958</td>\n",
       "      <td>1188321</td>\n",
       "      <td>Windham</td>\n",
       "    </tr>\n",
       "    <tr>\n",
       "      <th>Delaware</th>\n",
       "      <td>488</td>\n",
       "      <td>156115</td>\n",
       "      <td>Unassigned</td>\n",
       "    </tr>\n",
       "    <tr>\n",
       "      <th>Diamond Princess</th>\n",
       "      <td>0</td>\n",
       "      <td>0</td>\n",
       "      <td>NaN</td>\n",
       "    </tr>\n",
       "    <tr>\n",
       "      <th>District of Columbia</th>\n",
       "      <td>821</td>\n",
       "      <td>155237</td>\n",
       "      <td>Unassigned</td>\n",
       "    </tr>\n",
       "    <tr>\n",
       "      <th>Florida</th>\n",
       "      <td>4441</td>\n",
       "      <td>2878411</td>\n",
       "      <td>Washington</td>\n",
       "    </tr>\n",
       "    <tr>\n",
       "      <th>Georgia</th>\n",
       "      <td>815</td>\n",
       "      <td>1520422</td>\n",
       "      <td>Worth</td>\n",
       "    </tr>\n",
       "    <tr>\n",
       "      <th>Grand Princess</th>\n",
       "      <td>3</td>\n",
       "      <td>848</td>\n",
       "      <td>NaN</td>\n",
       "    </tr>\n",
       "    <tr>\n",
       "      <th>Guam</th>\n",
       "      <td>124</td>\n",
       "      <td>11543</td>\n",
       "      <td>NaN</td>\n",
       "    </tr>\n",
       "    <tr>\n",
       "      <th>Hawaii</th>\n",
       "      <td>242</td>\n",
       "      <td>30702</td>\n",
       "      <td>Unassigned</td>\n",
       "    </tr>\n",
       "    <tr>\n",
       "      <th>Idaho</th>\n",
       "      <td>374</td>\n",
       "      <td>124889</td>\n",
       "      <td>Washington</td>\n",
       "    </tr>\n",
       "    <tr>\n",
       "      <th>Illinois</th>\n",
       "      <td>8811</td>\n",
       "      <td>2407592</td>\n",
       "      <td>Woodford</td>\n",
       "    </tr>\n",
       "    <tr>\n",
       "      <th>Indiana</th>\n",
       "      <td>1249</td>\n",
       "      <td>1014593</td>\n",
       "      <td>Whitley</td>\n",
       "    </tr>\n",
       "    <tr>\n",
       "      <th>Iowa</th>\n",
       "      <td>426</td>\n",
       "      <td>379063</td>\n",
       "      <td>Wright</td>\n",
       "    </tr>\n",
       "    <tr>\n",
       "      <th>Kansas</th>\n",
       "      <td>517</td>\n",
       "      <td>220793</td>\n",
       "      <td>Wyandotte</td>\n",
       "    </tr>\n",
       "    <tr>\n",
       "      <th>Kentucky</th>\n",
       "      <td>565</td>\n",
       "      <td>300625</td>\n",
       "      <td>Woodford</td>\n",
       "    </tr>\n",
       "    <tr>\n",
       "      <th>Louisiana</th>\n",
       "      <td>708</td>\n",
       "      <td>1269107</td>\n",
       "      <td>Winn</td>\n",
       "    </tr>\n",
       "    <tr>\n",
       "      <th>Maine</th>\n",
       "      <td>111</td>\n",
       "      <td>39930</td>\n",
       "      <td>York</td>\n",
       "    </tr>\n",
       "    <tr>\n",
       "      <th>Maryland</th>\n",
       "      <td>1183</td>\n",
       "      <td>978658</td>\n",
       "      <td>Worcester</td>\n",
       "    </tr>\n",
       "    <tr>\n",
       "      <th>Massachusetts</th>\n",
       "      <td>2851</td>\n",
       "      <td>2362745</td>\n",
       "      <td>Worcester</td>\n",
       "    </tr>\n",
       "    <tr>\n",
       "      <th>Michigan</th>\n",
       "      <td>3792</td>\n",
       "      <td>1999908</td>\n",
       "      <td>Wexford</td>\n",
       "    </tr>\n",
       "    <tr>\n",
       "      <th>Minnesota</th>\n",
       "      <td>1447</td>\n",
       "      <td>592821</td>\n",
       "      <td>Yellow Medicine</td>\n",
       "    </tr>\n",
       "    <tr>\n",
       "      <th>Mississippi</th>\n",
       "      <td>299</td>\n",
       "      <td>627547</td>\n",
       "      <td>Yazoo</td>\n",
       "    </tr>\n",
       "    <tr>\n",
       "      <th>Missouri</th>\n",
       "      <td>1476</td>\n",
       "      <td>585175</td>\n",
       "      <td>Wright</td>\n",
       "    </tr>\n",
       "    <tr>\n",
       "      <th>Montana</th>\n",
       "      <td>170</td>\n",
       "      <td>69870</td>\n",
       "      <td>Yellowstone</td>\n",
       "    </tr>\n",
       "    <tr>\n",
       "      <th>Nebraska</th>\n",
       "      <td>617</td>\n",
       "      <td>149046</td>\n",
       "      <td>York</td>\n",
       "    </tr>\n",
       "    <tr>\n",
       "      <th>Nevada</th>\n",
       "      <td>2637</td>\n",
       "      <td>354951</td>\n",
       "      <td>White Pine</td>\n",
       "    </tr>\n",
       "    <tr>\n",
       "      <th>New Hampshire</th>\n",
       "      <td>479</td>\n",
       "      <td>111879</td>\n",
       "      <td>Unassigned</td>\n",
       "    </tr>\n",
       "    <tr>\n",
       "      <th>New Jersey</th>\n",
       "      <td>2429</td>\n",
       "      <td>4157947</td>\n",
       "      <td>Warren</td>\n",
       "    </tr>\n",
       "    <tr>\n",
       "      <th>New Mexico</th>\n",
       "      <td>648</td>\n",
       "      <td>245938</td>\n",
       "      <td>Valencia</td>\n",
       "    </tr>\n",
       "    <tr>\n",
       "      <th>New York</th>\n",
       "      <td>7914</td>\n",
       "      <td>8936117</td>\n",
       "      <td>Yates</td>\n",
       "    </tr>\n",
       "    <tr>\n",
       "      <th>North Carolina</th>\n",
       "      <td>618</td>\n",
       "      <td>809488</td>\n",
       "      <td>Yancey</td>\n",
       "    </tr>\n",
       "    <tr>\n",
       "      <th>North Dakota</th>\n",
       "      <td>179</td>\n",
       "      <td>100770</td>\n",
       "      <td>Williams</td>\n",
       "    </tr>\n",
       "    <tr>\n",
       "      <th>Northern Mariana Islands</th>\n",
       "      <td>2</td>\n",
       "      <td>566</td>\n",
       "      <td>NaN</td>\n",
       "    </tr>\n",
       "    <tr>\n",
       "      <th>Ohio</th>\n",
       "      <td>955</td>\n",
       "      <td>1165148</td>\n",
       "      <td>Wyandot</td>\n",
       "    </tr>\n",
       "    <tr>\n",
       "      <th>Oklahoma</th>\n",
       "      <td>473</td>\n",
       "      <td>262709</td>\n",
       "      <td>Woodward</td>\n",
       "    </tr>\n",
       "    <tr>\n",
       "      <th>Oregon</th>\n",
       "      <td>415</td>\n",
       "      <td>144813</td>\n",
       "      <td>Yamhill</td>\n",
       "    </tr>\n",
       "    <tr>\n",
       "      <th>Pennsylvania</th>\n",
       "      <td>2606</td>\n",
       "      <td>2170830</td>\n",
       "      <td>York</td>\n",
       "    </tr>\n",
       "    <tr>\n",
       "      <th>Puerto Rico</th>\n",
       "      <td>1642</td>\n",
       "      <td>151946</td>\n",
       "      <td>Yauco</td>\n",
       "    </tr>\n",
       "    <tr>\n",
       "      <th>Rhode Island</th>\n",
       "      <td>1436</td>\n",
       "      <td>285059</td>\n",
       "      <td>Washington</td>\n",
       "    </tr>\n",
       "    <tr>\n",
       "      <th>South Carolina</th>\n",
       "      <td>575</td>\n",
       "      <td>680137</td>\n",
       "      <td>York</td>\n",
       "    </tr>\n",
       "    <tr>\n",
       "      <th>South Dakota</th>\n",
       "      <td>285</td>\n",
       "      <td>103711</td>\n",
       "      <td>Ziebach</td>\n",
       "    </tr>\n",
       "    <tr>\n",
       "      <th>Tennessee</th>\n",
       "      <td>1039</td>\n",
       "      <td>626860</td>\n",
       "      <td>Wilson</td>\n",
       "    </tr>\n",
       "    <tr>\n",
       "      <th>Texas</th>\n",
       "      <td>3591</td>\n",
       "      <td>3319676</td>\n",
       "      <td>Zavala</td>\n",
       "    </tr>\n",
       "    <tr>\n",
       "      <th>Utah</th>\n",
       "      <td>599</td>\n",
       "      <td>126001</td>\n",
       "      <td>Weber-Morgan</td>\n",
       "    </tr>\n",
       "    <tr>\n",
       "      <th>Vermont</th>\n",
       "      <td>76</td>\n",
       "      <td>18098</td>\n",
       "      <td>Windsor</td>\n",
       "    </tr>\n",
       "    <tr>\n",
       "      <th>Virgin Islands</th>\n",
       "      <td>24</td>\n",
       "      <td>3760</td>\n",
       "      <td>NaN</td>\n",
       "    </tr>\n",
       "    <tr>\n",
       "      <th>Virginia</th>\n",
       "      <td>707</td>\n",
       "      <td>726719</td>\n",
       "      <td>York</td>\n",
       "    </tr>\n",
       "    <tr>\n",
       "      <th>Washington</th>\n",
       "      <td>1105</td>\n",
       "      <td>527058</td>\n",
       "      <td>Yakima</td>\n",
       "    </tr>\n",
       "    <tr>\n",
       "      <th>West Virginia</th>\n",
       "      <td>227</td>\n",
       "      <td>100528</td>\n",
       "      <td>Wyoming</td>\n",
       "    </tr>\n",
       "    <tr>\n",
       "      <th>Wisconsin</th>\n",
       "      <td>1015</td>\n",
       "      <td>484900</td>\n",
       "      <td>Wood</td>\n",
       "    </tr>\n",
       "    <tr>\n",
       "      <th>Wyoming</th>\n",
       "      <td>101</td>\n",
       "      <td>25932</td>\n",
       "      <td>Weston</td>\n",
       "    </tr>\n",
       "  </tbody>\n",
       "</table>\n",
       "</div>"
      ],
      "text/plain": [
       "                           Case                    County\n",
       "                            max      sum              max\n",
       "Province/State                                           \n",
       "Alabama                     784   581981          Winston\n",
       "Alaska                      126    16492    Yukon-Koyukuk\n",
       "American Samoa                0        0              NaN\n",
       "Arizona                    5823  1153145             Yuma\n",
       "Arkansas                    430   328607             Yell\n",
       "California                12387  3369525             Yuba\n",
       "Colorado                    703   594863             Yuma\n",
       "Connecticut                1958  1188321          Windham\n",
       "Delaware                    488   156115       Unassigned\n",
       "Diamond Princess              0        0              NaN\n",
       "District of Columbia        821   155237       Unassigned\n",
       "Florida                    4441  2878411       Washington\n",
       "Georgia                     815  1520422            Worth\n",
       "Grand Princess                3      848              NaN\n",
       "Guam                        124    11543              NaN\n",
       "Hawaii                      242    30702       Unassigned\n",
       "Idaho                       374   124889       Washington\n",
       "Illinois                   8811  2407592         Woodford\n",
       "Indiana                    1249  1014593          Whitley\n",
       "Iowa                        426   379063           Wright\n",
       "Kansas                      517   220793        Wyandotte\n",
       "Kentucky                    565   300625         Woodford\n",
       "Louisiana                   708  1269107             Winn\n",
       "Maine                       111    39930             York\n",
       "Maryland                   1183   978658        Worcester\n",
       "Massachusetts              2851  2362745        Worcester\n",
       "Michigan                   3792  1999908          Wexford\n",
       "Minnesota                  1447   592821  Yellow Medicine\n",
       "Mississippi                 299   627547            Yazoo\n",
       "Missouri                   1476   585175           Wright\n",
       "Montana                     170    69870      Yellowstone\n",
       "Nebraska                    617   149046             York\n",
       "Nevada                     2637   354951       White Pine\n",
       "New Hampshire               479   111879       Unassigned\n",
       "New Jersey                 2429  4157947           Warren\n",
       "New Mexico                  648   245938         Valencia\n",
       "New York                   7914  8936117            Yates\n",
       "North Carolina              618   809488           Yancey\n",
       "North Dakota                179   100770         Williams\n",
       "Northern Mariana Islands      2      566              NaN\n",
       "Ohio                        955  1165148          Wyandot\n",
       "Oklahoma                    473   262709         Woodward\n",
       "Oregon                      415   144813          Yamhill\n",
       "Pennsylvania               2606  2170830             York\n",
       "Puerto Rico                1642   151946            Yauco\n",
       "Rhode Island               1436   285059       Washington\n",
       "South Carolina              575   680137             York\n",
       "South Dakota                285   103711          Ziebach\n",
       "Tennessee                  1039   626860           Wilson\n",
       "Texas                      3591  3319676           Zavala\n",
       "Utah                        599   126001     Weber-Morgan\n",
       "Vermont                      76    18098          Windsor\n",
       "Virgin Islands               24     3760              NaN\n",
       "Virginia                    707   726719             York\n",
       "Washington                 1105   527058           Yakima\n",
       "West Virginia               227   100528          Wyoming\n",
       "Wisconsin                  1015   484900             Wood\n",
       "Wyoming                     101    25932           Weston"
      ]
     },
     "execution_count": 36,
     "metadata": {},
     "output_type": "execute_result"
    }
   ],
   "source": [
    "covid_cases.groupby(\"Province/State\").agg({\"Case\":[\"max\", \"sum\"],\"County\":\"max\"})"
   ]
  },
  {
   "cell_type": "code",
   "execution_count": 37,
   "metadata": {},
   "outputs": [],
   "source": [
    "cases_per_state = covid_cases.groupby(\"Province/State\").agg({\"Case\":\"sum\"}).sort_values(\"Case\", ascending = False)"
   ]
  },
  {
   "cell_type": "code",
   "execution_count": 38,
   "metadata": {},
   "outputs": [
    {
     "data": {
      "text/plain": [
       "Index(['Case'], dtype='object')"
      ]
     },
     "execution_count": 38,
     "metadata": {},
     "output_type": "execute_result"
    }
   ],
   "source": [
    "cases_per_state.columns"
   ]
  },
  {
   "cell_type": "code",
   "execution_count": 89,
   "metadata": {},
   "outputs": [],
   "source": [
    "cases_per_state.reset_index(inplace=True)"
   ]
  },
  {
   "cell_type": "code",
   "execution_count": 90,
   "metadata": {},
   "outputs": [
    {
     "data": {
      "image/png": "[encoded data removed]",
      "text/plain": [
       "<Figure size 1440x576 with 1 Axes>"
      ]
     },
     "metadata": {
      "needs_background": "light"
     },
     "output_type": "display_data"
    }
   ],
   "source": [
    "cases_per_state.plot(\n",
    "    x=\"Province/State\",\n",
    "    y=\"Case\",\n",
    "    kind=\"bar\",\n",
    "    figsize=(20,8),\n",
    "    title=\"Number of Covid-19 Cases\"\n",
    ");"
   ]
  },
  {
   "cell_type": "code",
   "execution_count": 43,
   "metadata": {},
   "outputs": [],
   "source": [
    "covid_cases[\"Date\"] = pd.to_datetime(covid_cases.Date)"
   ]
  },
  {
   "cell_type": "code",
   "execution_count": 44,
   "metadata": {},
   "outputs": [
    {
     "data": {
      "text/plain": [
       "County                    object\n",
       "Date              datetime64[ns]\n",
       "Case                       int64\n",
       "Country/Region            object\n",
       "Province/State            object\n",
       "dtype: object"
      ]
     },
     "execution_count": 44,
     "metadata": {},
     "output_type": "execute_result"
    }
   ],
   "source": [
    "covid_cases.dtypes"
   ]
  },
  {
   "cell_type": "code",
   "execution_count": 48,
   "metadata": {},
   "outputs": [
    {
     "data": {
      "text/html": [
       "<div>\n",
       "<style scoped>\n",
       "    .dataframe tbody tr th:only-of-type {\n",
       "        vertical-align: middle;\n",
       "    }\n",
       "\n",
       "    .dataframe tbody tr th {\n",
       "        vertical-align: top;\n",
       "    }\n",
       "\n",
       "    .dataframe thead th {\n",
       "        text-align: right;\n",
       "    }\n",
       "</style>\n",
       "<table border=\"1\" class=\"dataframe\">\n",
       "  <thead>\n",
       "    <tr style=\"text-align: right;\">\n",
       "      <th></th>\n",
       "      <th>Case</th>\n",
       "    </tr>\n",
       "    <tr>\n",
       "      <th>Date</th>\n",
       "      <th></th>\n",
       "    </tr>\n",
       "  </thead>\n",
       "  <tbody>\n",
       "    <tr>\n",
       "      <th>2020-01</th>\n",
       "      <td>0</td>\n",
       "    </tr>\n",
       "    <tr>\n",
       "      <th>2020-02</th>\n",
       "      <td>1</td>\n",
       "    </tr>\n",
       "    <tr>\n",
       "      <th>2020-03</th>\n",
       "      <td>25444</td>\n",
       "    </tr>\n",
       "    <tr>\n",
       "      <th>2020-04</th>\n",
       "      <td>1061225</td>\n",
       "    </tr>\n",
       "    <tr>\n",
       "      <th>2020-05</th>\n",
       "      <td>2794020</td>\n",
       "    </tr>\n",
       "  </tbody>\n",
       "</table>\n",
       "</div>"
      ],
      "text/plain": [
       "            Case\n",
       "Date            \n",
       "2020-01        0\n",
       "2020-02        1\n",
       "2020-03    25444\n",
       "2020-04  1061225\n",
       "2020-05  2794020"
      ]
     },
     "execution_count": 48,
     "metadata": {},
     "output_type": "execute_result"
    }
   ],
   "source": [
    "cases_per_month = covid_cases.groupby(covid_cases.Date.dt.to_period(\"M\")).agg({\"Case\": \"sum\"})\n",
    "cases_per_month.head()"
   ]
  },
  {
   "cell_type": "code",
   "execution_count": 49,
   "metadata": {},
   "outputs": [
    {
     "data": {
      "text/plain": [
       "<AxesSubplot:xlabel='Date'>"
      ]
     },
     "execution_count": 49,
     "metadata": {},
     "output_type": "execute_result"
    },
    {
     "data": {
      "image/png": "[encoded data removed]",
      "text/plain": [
       "<Figure size 432x288 with 1 Axes>"
      ]
     },
     "metadata": {
      "needs_background": "light"
     },
     "output_type": "display_data"
    }
   ],
   "source": [
    "cases_per_month.plot()"
   ]
  },
  {
   "cell_type": "code",
   "execution_count": 94,
   "metadata": {},
   "outputs": [
    {
     "data": {
      "text/html": [
       "<div>\n",
       "<style scoped>\n",
       "    .dataframe tbody tr th:only-of-type {\n",
       "        vertical-align: middle;\n",
       "    }\n",
       "\n",
       "    .dataframe tbody tr th {\n",
       "        vertical-align: top;\n",
       "    }\n",
       "\n",
       "    .dataframe thead th {\n",
       "        text-align: right;\n",
       "    }\n",
       "</style>\n",
       "<table border=\"1\" class=\"dataframe\">\n",
       "  <thead>\n",
       "    <tr style=\"text-align: right;\">\n",
       "      <th></th>\n",
       "      <th>County</th>\n",
       "      <th>Date</th>\n",
       "      <th>Case</th>\n",
       "      <th>Country/Region</th>\n",
       "      <th>Province/State</th>\n",
       "    </tr>\n",
       "  </thead>\n",
       "  <tbody>\n",
       "    <tr>\n",
       "      <th>0</th>\n",
       "      <td>Autauga</td>\n",
       "      <td>2020-01-22</td>\n",
       "      <td>0</td>\n",
       "      <td>US</td>\n",
       "      <td>Alabama</td>\n",
       "    </tr>\n",
       "    <tr>\n",
       "      <th>1</th>\n",
       "      <td>Autauga</td>\n",
       "      <td>2020-01-23</td>\n",
       "      <td>0</td>\n",
       "      <td>US</td>\n",
       "      <td>Alabama</td>\n",
       "    </tr>\n",
       "    <tr>\n",
       "      <th>2</th>\n",
       "      <td>Autauga</td>\n",
       "      <td>2020-01-24</td>\n",
       "      <td>0</td>\n",
       "      <td>US</td>\n",
       "      <td>Alabama</td>\n",
       "    </tr>\n",
       "    <tr>\n",
       "      <th>3</th>\n",
       "      <td>Autauga</td>\n",
       "      <td>2020-01-25</td>\n",
       "      <td>0</td>\n",
       "      <td>US</td>\n",
       "      <td>Alabama</td>\n",
       "    </tr>\n",
       "    <tr>\n",
       "      <th>4</th>\n",
       "      <td>Autauga</td>\n",
       "      <td>2020-01-26</td>\n",
       "      <td>0</td>\n",
       "      <td>US</td>\n",
       "      <td>Alabama</td>\n",
       "    </tr>\n",
       "  </tbody>\n",
       "</table>\n",
       "</div>"
      ],
      "text/plain": [
       "    County       Date  Case Country/Region Province/State\n",
       "0  Autauga 2020-01-22     0             US        Alabama\n",
       "1  Autauga 2020-01-23     0             US        Alabama\n",
       "2  Autauga 2020-01-24     0             US        Alabama\n",
       "3  Autauga 2020-01-25     0             US        Alabama\n",
       "4  Autauga 2020-01-26     0             US        Alabama"
      ]
     },
     "execution_count": 94,
     "metadata": {},
     "output_type": "execute_result"
    }
   ],
   "source": [
    "covid_cases.head()"
   ]
  },
  {
   "cell_type": "code",
   "execution_count": 113,
   "metadata": {},
   "outputs": [],
   "source": [
    "def myPlot(state):\n",
    "    df = covid_cases.loc[covid_cases[\"Province/State\"]== state]\n",
    "    cases_per_month_per_state = df.groupby(covid_cases.Date.dt.to_period(\"M\")).agg({\"Case\": \"sum\"})\n",
    "    return cases_per_month_per_state.plot();"
   ]
  },
  {
   "cell_type": "code",
   "execution_count": 115,
   "metadata": {},
   "outputs": [
    {
     "data": {
      "text/plain": [
       "<AxesSubplot:xlabel='Date'>"
      ]
     },
     "execution_count": 115,
     "metadata": {},
     "output_type": "execute_result"
    },
    {
     "data": {
      "image/png": "[encoded data removed]",
      "text/plain": [
       "<Figure size 432x288 with 1 Axes>"
      ]
     },
     "metadata": {
      "needs_background": "light"
     },
     "output_type": "display_data"
    }
   ],
   "source": [
    "myPlot(\"New York\")"
   ]
  },
  {
   "cell_type": "code",
   "execution_count": 70,
   "metadata": {},
   "outputs": [
    {
     "data": {
      "text/html": [
       "<div>\n",
       "<style scoped>\n",
       "    .dataframe tbody tr th:only-of-type {\n",
       "        vertical-align: middle;\n",
       "    }\n",
       "\n",
       "    .dataframe tbody tr th {\n",
       "        vertical-align: top;\n",
       "    }\n",
       "\n",
       "    .dataframe thead tr th {\n",
       "        text-align: left;\n",
       "    }\n",
       "</style>\n",
       "<table border=\"1\" class=\"dataframe\">\n",
       "  <thead>\n",
       "    <tr>\n",
       "      <th></th>\n",
       "      <th>State etc.</th>\n",
       "      <th colspan=\"4\" halign=\"left\">Population density</th>\n",
       "      <th colspan=\"2\" halign=\"left\">Population</th>\n",
       "      <th colspan=\"3\" halign=\"left\">Land area</th>\n",
       "    </tr>\n",
       "    <tr>\n",
       "      <th></th>\n",
       "      <th>State etc.</th>\n",
       "      <th>Rank(all)</th>\n",
       "      <th>Rank(50 states)</th>\n",
       "      <th>permi2</th>\n",
       "      <th>perkm2</th>\n",
       "      <th>Rank</th>\n",
       "      <th>Numbers</th>\n",
       "      <th>Rank</th>\n",
       "      <th>mi2</th>\n",
       "      <th>km2</th>\n",
       "    </tr>\n",
       "  </thead>\n",
       "  <tbody>\n",
       "    <tr>\n",
       "      <th>0</th>\n",
       "      <td>District of Columbia</td>\n",
       "      <td>1</td>\n",
       "      <td>—</td>\n",
       "      <td>11011</td>\n",
       "      <td>4251</td>\n",
       "      <td>50</td>\n",
       "      <td>672228</td>\n",
       "      <td>56</td>\n",
       "      <td>61</td>\n",
       "      <td>158.0</td>\n",
       "    </tr>\n",
       "    <tr>\n",
       "      <th>1</th>\n",
       "      <td>New Jersey</td>\n",
       "      <td>2</td>\n",
       "      <td>1</td>\n",
       "      <td>1218</td>\n",
       "      <td>470</td>\n",
       "      <td>11</td>\n",
       "      <td>8958013</td>\n",
       "      <td>46</td>\n",
       "      <td>7354</td>\n",
       "      <td>19046.8</td>\n",
       "    </tr>\n",
       "    <tr>\n",
       "      <th>2</th>\n",
       "      <td>Puerto Rico</td>\n",
       "      <td>3</td>\n",
       "      <td>—</td>\n",
       "      <td>1046</td>\n",
       "      <td>404</td>\n",
       "      <td>29</td>\n",
       "      <td>3680058</td>\n",
       "      <td>49</td>\n",
       "      <td>3515</td>\n",
       "      <td>9103.8</td>\n",
       "    </tr>\n",
       "    <tr>\n",
       "      <th>3</th>\n",
       "      <td>Rhode Island</td>\n",
       "      <td>4</td>\n",
       "      <td>2</td>\n",
       "      <td>1021</td>\n",
       "      <td>394</td>\n",
       "      <td>44</td>\n",
       "      <td>1056298</td>\n",
       "      <td>51</td>\n",
       "      <td>1034</td>\n",
       "      <td>2678.0</td>\n",
       "    </tr>\n",
       "    <tr>\n",
       "      <th>4</th>\n",
       "      <td>Massachusetts</td>\n",
       "      <td>5</td>\n",
       "      <td>3</td>\n",
       "      <td>871</td>\n",
       "      <td>336</td>\n",
       "      <td>15</td>\n",
       "      <td>6794422</td>\n",
       "      <td>45</td>\n",
       "      <td>7800</td>\n",
       "      <td>20201.9</td>\n",
       "    </tr>\n",
       "  </tbody>\n",
       "</table>\n",
       "</div>"
      ],
      "text/plain": [
       "             State etc. Population density                                \\\n",
       "             State etc.          Rank(all) Rank(50 states) permi2 perkm2   \n",
       "0  District of Columbia                  1               —  11011   4251   \n",
       "1            New Jersey                  2               1   1218    470   \n",
       "2           Puerto Rico                  3               —   1046    404   \n",
       "3          Rhode Island                  4               2   1021    394   \n",
       "4         Massachusetts                  5               3    871    336   \n",
       "\n",
       "  Population          Land area                 \n",
       "        Rank  Numbers      Rank   mi2      km2  \n",
       "0         50   672228        56    61    158.0  \n",
       "1         11  8958013        46  7354  19046.8  \n",
       "2         29  3680058        49  3515   9103.8  \n",
       "3         44  1056298        51  1034   2678.0  \n",
       "4         15  6794422        45  7800  20201.9  "
      ]
     },
     "execution_count": 70,
     "metadata": {},
     "output_type": "execute_result"
    }
   ],
   "source": [
    "url_path = \"https://en.wikipedia.org/wiki/List_of_states_and_territories_of_the_United_States_by_population_density\"\n",
    "population_raw = pd.read_html(url_path)[1]\n",
    "population_raw.head()"
   ]
  },
  {
   "cell_type": "code",
   "execution_count": 72,
   "metadata": {},
   "outputs": [
    {
     "data": {
      "text/plain": [
       "(56, 10)"
      ]
     },
     "execution_count": 72,
     "metadata": {},
     "output_type": "execute_result"
    }
   ],
   "source": [
    "population_raw.shape"
   ]
  },
  {
   "cell_type": "code",
   "execution_count": 73,
   "metadata": {},
   "outputs": [
    {
     "data": {
      "text/plain": [
       "Index(['County', 'Date', 'Case', 'Country/Region', 'Province/State'], dtype='object')"
      ]
     },
     "execution_count": 73,
     "metadata": {},
     "output_type": "execute_result"
    }
   ],
   "source": [
    "covid_cases.columns"
   ]
  },
  {
   "cell_type": "code",
   "execution_count": 74,
   "metadata": {},
   "outputs": [
    {
     "data": {
      "text/plain": [
       "MultiIndex([(        'State etc.',      'State etc.'),\n",
       "            ('Population density',       'Rank(all)'),\n",
       "            ('Population density', 'Rank(50 states)'),\n",
       "            ('Population density',          'permi2'),\n",
       "            ('Population density',          'perkm2'),\n",
       "            (        'Population',            'Rank'),\n",
       "            (        'Population',         'Numbers'),\n",
       "            (         'Land area',            'Rank'),\n",
       "            (         'Land area',             'mi2'),\n",
       "            (         'Land area',             'km2')],\n",
       "           )"
      ]
     },
     "execution_count": 74,
     "metadata": {},
     "output_type": "execute_result"
    }
   ],
   "source": [
    "population_raw.columns"
   ]
  },
  {
   "cell_type": "markdown",
   "metadata": {},
   "source": [
    "Need to *flatten* the MultiIndex dataframe"
   ]
  },
  {
   "cell_type": "code",
   "execution_count": 75,
   "metadata": {},
   "outputs": [],
   "source": [
    "population_raw.columns = population_raw.columns.get_level_values(1)"
   ]
  },
  {
   "cell_type": "code",
   "execution_count": 77,
   "metadata": {},
   "outputs": [
    {
     "data": {
      "text/html": [
       "<div>\n",
       "<style scoped>\n",
       "    .dataframe tbody tr th:only-of-type {\n",
       "        vertical-align: middle;\n",
       "    }\n",
       "\n",
       "    .dataframe tbody tr th {\n",
       "        vertical-align: top;\n",
       "    }\n",
       "\n",
       "    .dataframe thead th {\n",
       "        text-align: right;\n",
       "    }\n",
       "</style>\n",
       "<table border=\"1\" class=\"dataframe\">\n",
       "  <thead>\n",
       "    <tr style=\"text-align: right;\">\n",
       "      <th></th>\n",
       "      <th>Province/State</th>\n",
       "      <th>Population</th>\n",
       "    </tr>\n",
       "  </thead>\n",
       "  <tbody>\n",
       "    <tr>\n",
       "      <th>0</th>\n",
       "      <td>District of Columbia</td>\n",
       "      <td>672228</td>\n",
       "    </tr>\n",
       "    <tr>\n",
       "      <th>1</th>\n",
       "      <td>New Jersey</td>\n",
       "      <td>8958013</td>\n",
       "    </tr>\n",
       "    <tr>\n",
       "      <th>2</th>\n",
       "      <td>Puerto Rico</td>\n",
       "      <td>3680058</td>\n",
       "    </tr>\n",
       "    <tr>\n",
       "      <th>3</th>\n",
       "      <td>Rhode Island</td>\n",
       "      <td>1056298</td>\n",
       "    </tr>\n",
       "    <tr>\n",
       "      <th>4</th>\n",
       "      <td>Massachusetts</td>\n",
       "      <td>6794422</td>\n",
       "    </tr>\n",
       "  </tbody>\n",
       "</table>\n",
       "</div>"
      ],
      "text/plain": [
       "         Province/State  Population\n",
       "0  District of Columbia      672228\n",
       "1            New Jersey     8958013\n",
       "2           Puerto Rico     3680058\n",
       "3          Rhode Island     1056298\n",
       "4         Massachusetts     6794422"
      ]
     },
     "execution_count": 77,
     "metadata": {},
     "output_type": "execute_result"
    }
   ],
   "source": [
    "population_refined = population_raw[[\"State etc.\", \"Numbers\"]].rename(columns = {\"State etc.\":\"Province/State\", \"Numbers\":\"Population\"})\n",
    "population_refined.head()"
   ]
  },
  {
   "cell_type": "code",
   "execution_count": 79,
   "metadata": {},
   "outputs": [
    {
     "data": {
      "text/html": [
       "<div>\n",
       "<style scoped>\n",
       "    .dataframe tbody tr th:only-of-type {\n",
       "        vertical-align: middle;\n",
       "    }\n",
       "\n",
       "    .dataframe tbody tr th {\n",
       "        vertical-align: top;\n",
       "    }\n",
       "\n",
       "    .dataframe thead th {\n",
       "        text-align: right;\n",
       "    }\n",
       "</style>\n",
       "<table border=\"1\" class=\"dataframe\">\n",
       "  <thead>\n",
       "    <tr style=\"text-align: right;\">\n",
       "      <th></th>\n",
       "      <th>Case</th>\n",
       "    </tr>\n",
       "    <tr>\n",
       "      <th>Province/State</th>\n",
       "      <th></th>\n",
       "    </tr>\n",
       "  </thead>\n",
       "  <tbody>\n",
       "    <tr>\n",
       "      <th>New York</th>\n",
       "      <td>8936117</td>\n",
       "    </tr>\n",
       "    <tr>\n",
       "      <th>New Jersey</th>\n",
       "      <td>4157947</td>\n",
       "    </tr>\n",
       "    <tr>\n",
       "      <th>California</th>\n",
       "      <td>3369525</td>\n",
       "    </tr>\n",
       "    <tr>\n",
       "      <th>Texas</th>\n",
       "      <td>3319676</td>\n",
       "    </tr>\n",
       "    <tr>\n",
       "      <th>Florida</th>\n",
       "      <td>2878411</td>\n",
       "    </tr>\n",
       "  </tbody>\n",
       "</table>\n",
       "</div>"
      ],
      "text/plain": [
       "                   Case\n",
       "Province/State         \n",
       "New York        8936117\n",
       "New Jersey      4157947\n",
       "California      3369525\n",
       "Texas           3319676\n",
       "Florida         2878411"
      ]
     },
     "execution_count": 79,
     "metadata": {},
     "output_type": "execute_result"
    }
   ],
   "source": [
    "cases_per_state.head()"
   ]
  },
  {
   "cell_type": "code",
   "execution_count": 80,
   "metadata": {},
   "outputs": [
    {
     "data": {
      "text/html": [
       "<div>\n",
       "<style scoped>\n",
       "    .dataframe tbody tr th:only-of-type {\n",
       "        vertical-align: middle;\n",
       "    }\n",
       "\n",
       "    .dataframe tbody tr th {\n",
       "        vertical-align: top;\n",
       "    }\n",
       "\n",
       "    .dataframe thead th {\n",
       "        text-align: right;\n",
       "    }\n",
       "</style>\n",
       "<table border=\"1\" class=\"dataframe\">\n",
       "  <thead>\n",
       "    <tr style=\"text-align: right;\">\n",
       "      <th></th>\n",
       "      <th>Province/State</th>\n",
       "      <th>Case</th>\n",
       "      <th>Population</th>\n",
       "    </tr>\n",
       "  </thead>\n",
       "  <tbody>\n",
       "    <tr>\n",
       "      <th>0</th>\n",
       "      <td>New York</td>\n",
       "      <td>8936117</td>\n",
       "      <td>19795791.0</td>\n",
       "    </tr>\n",
       "    <tr>\n",
       "      <th>1</th>\n",
       "      <td>New Jersey</td>\n",
       "      <td>4157947</td>\n",
       "      <td>8958013.0</td>\n",
       "    </tr>\n",
       "    <tr>\n",
       "      <th>2</th>\n",
       "      <td>California</td>\n",
       "      <td>3369525</td>\n",
       "      <td>39144818.0</td>\n",
       "    </tr>\n",
       "    <tr>\n",
       "      <th>3</th>\n",
       "      <td>Texas</td>\n",
       "      <td>3319676</td>\n",
       "      <td>27469114.0</td>\n",
       "    </tr>\n",
       "    <tr>\n",
       "      <th>4</th>\n",
       "      <td>Florida</td>\n",
       "      <td>2878411</td>\n",
       "      <td>20271272.0</td>\n",
       "    </tr>\n",
       "  </tbody>\n",
       "</table>\n",
       "</div>"
      ],
      "text/plain": [
       "  Province/State     Case  Population\n",
       "0       New York  8936117  19795791.0\n",
       "1     New Jersey  4157947   8958013.0\n",
       "2     California  3369525  39144818.0\n",
       "3          Texas  3319676  27469114.0\n",
       "4        Florida  2878411  20271272.0"
      ]
     },
     "execution_count": 80,
     "metadata": {},
     "output_type": "execute_result"
    }
   ],
   "source": [
    "cases_per_capita = pd.merge(cases_per_state,population_refined,how=\"left\",on=\"Province/State\")\n",
    "cases_per_capita.head()"
   ]
  },
  {
   "cell_type": "code",
   "execution_count": 123,
   "metadata": {},
   "outputs": [],
   "source": [
    "cases_per_capita[\"ratio\"] = cases_per_capita[\"Case\"]/cases_per_capita[\"Population\"]\n",
    "cases_per_capita.sort_values(\"ratio\", ascending = False,inplace=True)"
   ]
  },
  {
   "cell_type": "code",
   "execution_count": 121,
   "metadata": {},
   "outputs": [
    {
     "data": {
      "text/html": [
       "<div>\n",
       "<style scoped>\n",
       "    .dataframe tbody tr th:only-of-type {\n",
       "        vertical-align: middle;\n",
       "    }\n",
       "\n",
       "    .dataframe tbody tr th {\n",
       "        vertical-align: top;\n",
       "    }\n",
       "\n",
       "    .dataframe thead th {\n",
       "        text-align: right;\n",
       "    }\n",
       "</style>\n",
       "<table border=\"1\" class=\"dataframe\">\n",
       "  <thead>\n",
       "    <tr style=\"text-align: right;\">\n",
       "      <th></th>\n",
       "      <th>Province/State</th>\n",
       "      <th>Case</th>\n",
       "      <th>Population</th>\n",
       "      <th>ratio</th>\n",
       "    </tr>\n",
       "  </thead>\n",
       "  <tbody>\n",
       "    <tr>\n",
       "      <th>0</th>\n",
       "      <td>New York</td>\n",
       "      <td>8936117</td>\n",
       "      <td>19795791.0</td>\n",
       "      <td>0.451415</td>\n",
       "    </tr>\n",
       "    <tr>\n",
       "      <th>1</th>\n",
       "      <td>New Jersey</td>\n",
       "      <td>4157947</td>\n",
       "      <td>8958013.0</td>\n",
       "      <td>0.464160</td>\n",
       "    </tr>\n",
       "    <tr>\n",
       "      <th>2</th>\n",
       "      <td>California</td>\n",
       "      <td>3369525</td>\n",
       "      <td>39144818.0</td>\n",
       "      <td>0.086078</td>\n",
       "    </tr>\n",
       "    <tr>\n",
       "      <th>3</th>\n",
       "      <td>Texas</td>\n",
       "      <td>3319676</td>\n",
       "      <td>27469114.0</td>\n",
       "      <td>0.120851</td>\n",
       "    </tr>\n",
       "    <tr>\n",
       "      <th>4</th>\n",
       "      <td>Florida</td>\n",
       "      <td>2878411</td>\n",
       "      <td>20271272.0</td>\n",
       "      <td>0.141995</td>\n",
       "    </tr>\n",
       "  </tbody>\n",
       "</table>\n",
       "</div>"
      ],
      "text/plain": [
       "  Province/State     Case  Population     ratio\n",
       "0       New York  8936117  19795791.0  0.451415\n",
       "1     New Jersey  4157947   8958013.0  0.464160\n",
       "2     California  3369525  39144818.0  0.086078\n",
       "3          Texas  3319676  27469114.0  0.120851\n",
       "4        Florida  2878411  20271272.0  0.141995"
      ]
     },
     "execution_count": 121,
     "metadata": {},
     "output_type": "execute_result"
    }
   ],
   "source": [
    "cases_per_capita.head()"
   ]
  },
  {
   "cell_type": "code",
   "execution_count": 125,
   "metadata": {},
   "outputs": [
    {
     "data": {
      "image/png": "[encoded data removed]",
      "text/plain": [
       "<Figure size 1440x576 with 1 Axes>"
      ]
     },
     "metadata": {
      "needs_background": "light"
     },
     "output_type": "display_data"
    }
   ],
   "source": [
    "fig1= cases_per_capita.plot(\n",
    "    x=\"Province/State\",\n",
    "    y=\"ratio\",\n",
    "    kind=\"bar\",\n",
    "    figsize=(20,8),\n",
    "    title=\"Number of Covid-19 Cases per State Population\"\n",
    ");"
   ]
  }
 ],
 "metadata": {
  "kernelspec": {
   "display_name": "Python 3",
   "language": "python",
   "name": "python3"
  },
  "language_info": {
   "codemirror_mode": {
    "name": "ipython",
    "version": 3
   },
   "file_extension": ".py",
   "mimetype": "text/x-python",
   "name": "python",
   "nbconvert_exporter": "python",
   "pygments_lexer": "ipython3",
   "version": "3.7.4"
  }
 },
 "nbformat": 4,
 "nbformat_minor": 4
}
