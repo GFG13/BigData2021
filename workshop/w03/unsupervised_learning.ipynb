{
 "cells": [
  {
   "cell_type": "markdown",
   "metadata": {
    "id": "-euO-XTRTcFq"
   },
   "source": [
    "# Unsupervised Learning"
   ]
  },
  {
   "cell_type": "markdown",
   "metadata": {
    "id": "1sHn6wZjTcFr"
   },
   "source": [
    "Unsupervised learning describes a collection of techniques that attempt to find structure in data.\n",
    "\n",
    "Examples include:\n",
    "\n",
    "* __Clustering__: attempts to divide data into groups based off a definition of similarity, such as distance in univariate or multidimensional space.\n",
    "* __Dimensionality Reduction__: Attempts to encode high dimensional data (e.g. tens of thousands of variables) into a smaller set of variables\n",
    "\n",
    "This is in contrast to supervised learning, where, given an input $x$ and output $y$ we attempt to learn a function $f(x)$ = $y$, where $x$ and $y$ can be scalars (numbers) , vectors (lines of numbers), or matrices (2D array of numbers). In unsupervised learning, we are only given $x$ and no output, and the goal is to find structure in a collection of data points.\n",
    "\n",
    "Here, we'll go over 2 Techniques: dimensionality reduction and clustering."
   ]
  },
  {
   "cell_type": "markdown",
   "metadata": {
    "id": "TTJeQp5KTcFv"
   },
   "source": [
    "## Dimensionality Reduction\n",
    "\n",
    "Often we can deal with datasets that exist in high dimensional spaces (e.g $d$ = 10,000, where $d$ is the number of variables in the data). The breast cancer dataset we shall explore has 30 dimensions for 'input data' features  plus 1 for 'target' label (i.e. whether or not the example is benign or malignant). Not only is it impossible for people to visualize data beyond 3 dimensions, but when we use supervised learning techniques such as K-nearest neighbor classification or an unsupervised method such as K-means clustering, the assumption that similar datapoints are closer to one another than dissimilar points in terms of Euclidean distance is violated<sup>1</sup>. The violation of this assumption is called the _curse of dimensionality_. A further discussion of this topic can be found [here](https://www.cs.cornell.edu/courses/cs4780/2018fa/lectures/lecturenote02_kNN.html).\n",
    "\n",
    "What dimensionality reduction can accomplish is to pick up neat properties of your data in high dimensional space and express them in a much lower dimensional space. This allows an automated fashion of finding those neat properties while also expressing data in a way better suited for downstream applications such as clustering or classification. Examples include Princpal Components Analysis (PCA), Factor Analysis, Locally Linear Embedding, and more. Today we'll go over PCA.\n",
    "\n",
    "1. For 2D and 3D data, Euclidean distance is just the length of a line drawn between two points $p$ and $q$ if you plotted them in 2 or 3D, and its formula is $\\sqrt{\\sum_{d=1}^D (p_d - q_d)^2} $, where $d$ denotes an individual variable and $D$ is the total number of variables. Here's an example in 2D from Wikipedia:\n",
    "\n",
    "![Euclidean Distance in 2D (Wikipedia)](https://upload.wikimedia.org/wikipedia/commons/5/55/Euclidean_distance_2d.svg)\n",
    "\n",
    "### Overview of PCA:\n",
    "\n",
    "Without diving into linear algebra, what PCA tries to do at the end of the day is express the data as weighted sums of the data's variables.\n",
    "\n",
    "The procedure is as follows:\n",
    "\n",
    "1. Standard Normalize Data. Part of the reason we do this is so the procedure doesn't give too much weight to certain variables based on certain variables having a wider range of values.\n",
    "\n",
    "    Formula is as follows: $b_{id} = (x_{id} - \\bar{x_d})/\\sigma_d$, where $i$ denotes sample, $d$ denotes variable,  $\\bar{x_d}$ denotes mean for the variable among all $x_{id}$, and $\\sigma_d$ denotes the standard deviation for variable d\n",
    "\n",
    "2. calculate a variable $v_1$ = $\\sum_{d=1}^{D} a_d b_d$ such that $Var[v_1]$ (variance of the new variable) is maximized, with the constraint that $\\sum_{d=1}^{D} a_d^2$ = 1\n",
    "\n",
    "3. repeat step 2, but subject to the constraint that the new variable, $v_2$ is uncorrelated with $v_1$, i.e correlation between the two variables = 0.\n",
    "\n",
    "4. Repeat step 3, again and again, subject to the constraint that any new variable $v_k$ computed for iteration $l$ is not correlated with any variables $v_{k'}$ where $k' < k$ (i.e not correlated with any previously computed variables).\n",
    "\n",
    "There's an upper limit on the amount of PCs that can be computed, but we're not discussing that today as it requires knowledge of linear algebra.\n",
    "\n",
    "For a more in depth discussion of PCA, here's a reference you can look into:\n",
    "\n",
    "* [Stanford Engineering Everywhere, CS229 PCA Notes](https://see.stanford.edu/materials/aimlcs229/cs229-notes10.pdf)\n",
    "\n",
    "Let's dive into the data!"
   ]
  },
  {
   "cell_type": "markdown",
   "metadata": {
    "id": "J0qQfWPPTcFw"
   },
   "source": [
    "### PCA on Breast Cancer Dataset\n",
    "\n"
   ]
  },
  {
   "cell_type": "code",
   "execution_count": 1,
   "metadata": {
    "executionInfo": {
     "elapsed": 1310,
     "status": "ok",
     "timestamp": 1601944303289,
     "user": {
      "displayName": "Anish Verma",
      "photoUrl": "https://lh3.googleusercontent.com/a-/AOh14GjoJkgF8eNPvSqmoPGVlpinxfL1NruO1yFjvmI=s64",
      "userId": "07835666647966761602"
     },
     "user_tz": 420
    },
    "id": "T8Hg1rPhTcFx"
   },
   "outputs": [],
   "source": [
    "import numpy as np\n",
    "from sklearn.datasets import load_breast_cancer\n",
    "from sklearn import preprocessing\n",
    "from ipywidgets import interact, fixed\n",
    "from matplotlib import pyplot as plt\n",
    "import seaborn\n",
    "import pandas as pd\n",
    "\n",
    "data = load_breast_cancer()"
   ]
  },
  {
   "cell_type": "markdown",
   "metadata": {
    "id": "i0hzrmdZTcF0"
   },
   "source": [
    "##### Data\n",
    "\n",
    "The data we're using consists of attributes obtained from imaging data undergoing screening for breast cancer. Features correspond to geometric qualities of cell nuclei (objects that hold the DNA in a cell).\n",
    "\n",
    "for more details, see (sklearn website)[https://scikit-learn.org/stable/datasets/index.html] and (original source)[https://archive.ics.uci.edu/ml/datasets/Breast+Cancer+Wisconsin+(Diagnostic)]"
   ]
  },
  {
   "cell_type": "code",
   "execution_count": 2,
   "metadata": {
    "colab": {
     "base_uri": "https://localhost:8080/",
     "height": 35
    },
    "executionInfo": {
     "elapsed": 833,
     "status": "ok",
     "timestamp": 1601944364676,
     "user": {
      "displayName": "Anish Verma",
      "photoUrl": "https://lh3.googleusercontent.com/a-/AOh14GjoJkgF8eNPvSqmoPGVlpinxfL1NruO1yFjvmI=s64",
      "userId": "07835666647966761602"
     },
     "user_tz": 420
    },
    "id": "z4th1Dm0TcF0",
    "outputId": "2f2d73b4-7773-4036-bb6e-dcd0b6024b29"
   },
   "outputs": [
    {
     "data": {
      "text/plain": [
       "30"
      ]
     },
     "execution_count": 2,
     "metadata": {},
     "output_type": "execute_result"
    }
   ],
   "source": [
    "len(data.feature_names)"
   ]
  },
  {
   "cell_type": "code",
   "execution_count": 3,
   "metadata": {
    "colab": {
     "base_uri": "https://localhost:8080/",
     "height": 35
    },
    "executionInfo": {
     "elapsed": 969,
     "status": "ok",
     "timestamp": 1601944366166,
     "user": {
      "displayName": "Anish Verma",
      "photoUrl": "https://lh3.googleusercontent.com/a-/AOh14GjoJkgF8eNPvSqmoPGVlpinxfL1NruO1yFjvmI=s64",
      "userId": "07835666647966761602"
     },
     "user_tz": 420
    },
    "id": "OfjD5buCTcF3",
    "outputId": "8d033753-dc2a-4dd4-dfe9-4dba4d574b01"
   },
   "outputs": [
    {
     "data": {
      "text/plain": [
       "(569, 30)"
      ]
     },
     "execution_count": 3,
     "metadata": {},
     "output_type": "execute_result"
    }
   ],
   "source": [
    "# dimensions of data: 569 examples x 30 features\n",
    "data['data'].shape"
   ]
  },
  {
   "cell_type": "code",
   "execution_count": 4,
   "metadata": {
    "executionInfo": {
     "elapsed": 801,
     "status": "ok",
     "timestamp": 1601944367659,
     "user": {
      "displayName": "Anish Verma",
      "photoUrl": "https://lh3.googleusercontent.com/a-/AOh14GjoJkgF8eNPvSqmoPGVlpinxfL1NruO1yFjvmI=s64",
      "userId": "07835666647966761602"
     },
     "user_tz": 420
    },
    "id": "LnltYO75TcF5"
   },
   "outputs": [],
   "source": [
    "# Examine Data\n",
    "breast_cancer_df = pd.DataFrame(data = data['data'], columns = data.feature_names)"
   ]
  },
  {
   "cell_type": "code",
   "execution_count": 5,
   "metadata": {
    "colab": {
     "base_uri": "https://localhost:8080/",
     "height": 238
    },
    "executionInfo": {
     "elapsed": 1058,
     "status": "ok",
     "timestamp": 1601944369238,
     "user": {
      "displayName": "Anish Verma",
      "photoUrl": "https://lh3.googleusercontent.com/a-/AOh14GjoJkgF8eNPvSqmoPGVlpinxfL1NruO1yFjvmI=s64",
      "userId": "07835666647966761602"
     },
     "user_tz": 420
    },
    "id": "kiEtDtykTcF7",
    "outputId": "61ae5a4f-e510-479a-a390-c010eb1777e6"
   },
   "outputs": [
    {
     "data": {
      "text/html": [
       "<div>\n",
       "<style scoped>\n",
       "    .dataframe tbody tr th:only-of-type {\n",
       "        vertical-align: middle;\n",
       "    }\n",
       "\n",
       "    .dataframe tbody tr th {\n",
       "        vertical-align: top;\n",
       "    }\n",
       "\n",
       "    .dataframe thead th {\n",
       "        text-align: right;\n",
       "    }\n",
       "</style>\n",
       "<table border=\"1\" class=\"dataframe\">\n",
       "  <thead>\n",
       "    <tr style=\"text-align: right;\">\n",
       "      <th></th>\n",
       "      <th>mean radius</th>\n",
       "      <th>mean texture</th>\n",
       "      <th>mean perimeter</th>\n",
       "      <th>mean area</th>\n",
       "      <th>mean smoothness</th>\n",
       "      <th>mean compactness</th>\n",
       "      <th>mean concavity</th>\n",
       "      <th>mean concave points</th>\n",
       "      <th>mean symmetry</th>\n",
       "      <th>mean fractal dimension</th>\n",
       "      <th>radius error</th>\n",
       "      <th>texture error</th>\n",
       "      <th>perimeter error</th>\n",
       "      <th>area error</th>\n",
       "      <th>smoothness error</th>\n",
       "    </tr>\n",
       "  </thead>\n",
       "  <tbody>\n",
       "    <tr>\n",
       "      <th>0</th>\n",
       "      <td>17.99</td>\n",
       "      <td>10.38</td>\n",
       "      <td>122.80</td>\n",
       "      <td>1001.0</td>\n",
       "      <td>0.11840</td>\n",
       "      <td>0.27760</td>\n",
       "      <td>0.3001</td>\n",
       "      <td>0.14710</td>\n",
       "      <td>0.2419</td>\n",
       "      <td>0.07871</td>\n",
       "      <td>1.0950</td>\n",
       "      <td>0.9053</td>\n",
       "      <td>8.589</td>\n",
       "      <td>153.40</td>\n",
       "      <td>0.006399</td>\n",
       "    </tr>\n",
       "    <tr>\n",
       "      <th>1</th>\n",
       "      <td>20.57</td>\n",
       "      <td>17.77</td>\n",
       "      <td>132.90</td>\n",
       "      <td>1326.0</td>\n",
       "      <td>0.08474</td>\n",
       "      <td>0.07864</td>\n",
       "      <td>0.0869</td>\n",
       "      <td>0.07017</td>\n",
       "      <td>0.1812</td>\n",
       "      <td>0.05667</td>\n",
       "      <td>0.5435</td>\n",
       "      <td>0.7339</td>\n",
       "      <td>3.398</td>\n",
       "      <td>74.08</td>\n",
       "      <td>0.005225</td>\n",
       "    </tr>\n",
       "    <tr>\n",
       "      <th>2</th>\n",
       "      <td>19.69</td>\n",
       "      <td>21.25</td>\n",
       "      <td>130.00</td>\n",
       "      <td>1203.0</td>\n",
       "      <td>0.10960</td>\n",
       "      <td>0.15990</td>\n",
       "      <td>0.1974</td>\n",
       "      <td>0.12790</td>\n",
       "      <td>0.2069</td>\n",
       "      <td>0.05999</td>\n",
       "      <td>0.7456</td>\n",
       "      <td>0.7869</td>\n",
       "      <td>4.585</td>\n",
       "      <td>94.03</td>\n",
       "      <td>0.006150</td>\n",
       "    </tr>\n",
       "    <tr>\n",
       "      <th>3</th>\n",
       "      <td>11.42</td>\n",
       "      <td>20.38</td>\n",
       "      <td>77.58</td>\n",
       "      <td>386.1</td>\n",
       "      <td>0.14250</td>\n",
       "      <td>0.28390</td>\n",
       "      <td>0.2414</td>\n",
       "      <td>0.10520</td>\n",
       "      <td>0.2597</td>\n",
       "      <td>0.09744</td>\n",
       "      <td>0.4956</td>\n",
       "      <td>1.1560</td>\n",
       "      <td>3.445</td>\n",
       "      <td>27.23</td>\n",
       "      <td>0.009110</td>\n",
       "    </tr>\n",
       "    <tr>\n",
       "      <th>4</th>\n",
       "      <td>20.29</td>\n",
       "      <td>14.34</td>\n",
       "      <td>135.10</td>\n",
       "      <td>1297.0</td>\n",
       "      <td>0.10030</td>\n",
       "      <td>0.13280</td>\n",
       "      <td>0.1980</td>\n",
       "      <td>0.10430</td>\n",
       "      <td>0.1809</td>\n",
       "      <td>0.05883</td>\n",
       "      <td>0.7572</td>\n",
       "      <td>0.7813</td>\n",
       "      <td>5.438</td>\n",
       "      <td>94.44</td>\n",
       "      <td>0.011490</td>\n",
       "    </tr>\n",
       "  </tbody>\n",
       "</table>\n",
       "</div>"
      ],
      "text/plain": [
       "   mean radius  mean texture  mean perimeter  mean area  mean smoothness  \\\n",
       "0        17.99         10.38          122.80     1001.0          0.11840   \n",
       "1        20.57         17.77          132.90     1326.0          0.08474   \n",
       "2        19.69         21.25          130.00     1203.0          0.10960   \n",
       "3        11.42         20.38           77.58      386.1          0.14250   \n",
       "4        20.29         14.34          135.10     1297.0          0.10030   \n",
       "\n",
       "   mean compactness  mean concavity  mean concave points  mean symmetry  \\\n",
       "0           0.27760          0.3001              0.14710         0.2419   \n",
       "1           0.07864          0.0869              0.07017         0.1812   \n",
       "2           0.15990          0.1974              0.12790         0.2069   \n",
       "3           0.28390          0.2414              0.10520         0.2597   \n",
       "4           0.13280          0.1980              0.10430         0.1809   \n",
       "\n",
       "   mean fractal dimension  radius error  texture error  perimeter error  \\\n",
       "0                 0.07871        1.0950         0.9053            8.589   \n",
       "1                 0.05667        0.5435         0.7339            3.398   \n",
       "2                 0.05999        0.7456         0.7869            4.585   \n",
       "3                 0.09744        0.4956         1.1560            3.445   \n",
       "4                 0.05883        0.7572         0.7813            5.438   \n",
       "\n",
       "   area error  smoothness error  \n",
       "0      153.40          0.006399  \n",
       "1       74.08          0.005225  \n",
       "2       94.03          0.006150  \n",
       "3       27.23          0.009110  \n",
       "4       94.44          0.011490  "
      ]
     },
     "execution_count": 5,
     "metadata": {},
     "output_type": "execute_result"
    }
   ],
   "source": [
    "# Columns 1-15 (0-14 in 0 based indexing)\n",
    "breast_cancer_df.iloc[:, 0:15].head()"
   ]
  },
  {
   "cell_type": "code",
   "execution_count": 6,
   "metadata": {
    "colab": {
     "base_uri": "https://localhost:8080/",
     "height": 238
    },
    "executionInfo": {
     "elapsed": 795,
     "status": "ok",
     "timestamp": 1601944371821,
     "user": {
      "displayName": "Anish Verma",
      "photoUrl": "https://lh3.googleusercontent.com/a-/AOh14GjoJkgF8eNPvSqmoPGVlpinxfL1NruO1yFjvmI=s64",
      "userId": "07835666647966761602"
     },
     "user_tz": 420
    },
    "id": "gkS7Rs3LTcF-",
    "outputId": "49112742-1101-4311-a4c5-d198b52f6861"
   },
   "outputs": [
    {
     "data": {
      "text/html": [
       "<div>\n",
       "<style scoped>\n",
       "    .dataframe tbody tr th:only-of-type {\n",
       "        vertical-align: middle;\n",
       "    }\n",
       "\n",
       "    .dataframe tbody tr th {\n",
       "        vertical-align: top;\n",
       "    }\n",
       "\n",
       "    .dataframe thead th {\n",
       "        text-align: right;\n",
       "    }\n",
       "</style>\n",
       "<table border=\"1\" class=\"dataframe\">\n",
       "  <thead>\n",
       "    <tr style=\"text-align: right;\">\n",
       "      <th></th>\n",
       "      <th>compactness error</th>\n",
       "      <th>concavity error</th>\n",
       "      <th>concave points error</th>\n",
       "      <th>symmetry error</th>\n",
       "      <th>fractal dimension error</th>\n",
       "      <th>worst radius</th>\n",
       "      <th>worst texture</th>\n",
       "      <th>worst perimeter</th>\n",
       "      <th>worst area</th>\n",
       "      <th>worst smoothness</th>\n",
       "      <th>worst compactness</th>\n",
       "      <th>worst concavity</th>\n",
       "      <th>worst concave points</th>\n",
       "      <th>worst symmetry</th>\n",
       "      <th>worst fractal dimension</th>\n",
       "    </tr>\n",
       "  </thead>\n",
       "  <tbody>\n",
       "    <tr>\n",
       "      <th>0</th>\n",
       "      <td>0.04904</td>\n",
       "      <td>0.05373</td>\n",
       "      <td>0.01587</td>\n",
       "      <td>0.03003</td>\n",
       "      <td>0.006193</td>\n",
       "      <td>25.38</td>\n",
       "      <td>17.33</td>\n",
       "      <td>184.60</td>\n",
       "      <td>2019.0</td>\n",
       "      <td>0.1622</td>\n",
       "      <td>0.6656</td>\n",
       "      <td>0.7119</td>\n",
       "      <td>0.2654</td>\n",
       "      <td>0.4601</td>\n",
       "      <td>0.11890</td>\n",
       "    </tr>\n",
       "    <tr>\n",
       "      <th>1</th>\n",
       "      <td>0.01308</td>\n",
       "      <td>0.01860</td>\n",
       "      <td>0.01340</td>\n",
       "      <td>0.01389</td>\n",
       "      <td>0.003532</td>\n",
       "      <td>24.99</td>\n",
       "      <td>23.41</td>\n",
       "      <td>158.80</td>\n",
       "      <td>1956.0</td>\n",
       "      <td>0.1238</td>\n",
       "      <td>0.1866</td>\n",
       "      <td>0.2416</td>\n",
       "      <td>0.1860</td>\n",
       "      <td>0.2750</td>\n",
       "      <td>0.08902</td>\n",
       "    </tr>\n",
       "    <tr>\n",
       "      <th>2</th>\n",
       "      <td>0.04006</td>\n",
       "      <td>0.03832</td>\n",
       "      <td>0.02058</td>\n",
       "      <td>0.02250</td>\n",
       "      <td>0.004571</td>\n",
       "      <td>23.57</td>\n",
       "      <td>25.53</td>\n",
       "      <td>152.50</td>\n",
       "      <td>1709.0</td>\n",
       "      <td>0.1444</td>\n",
       "      <td>0.4245</td>\n",
       "      <td>0.4504</td>\n",
       "      <td>0.2430</td>\n",
       "      <td>0.3613</td>\n",
       "      <td>0.08758</td>\n",
       "    </tr>\n",
       "    <tr>\n",
       "      <th>3</th>\n",
       "      <td>0.07458</td>\n",
       "      <td>0.05661</td>\n",
       "      <td>0.01867</td>\n",
       "      <td>0.05963</td>\n",
       "      <td>0.009208</td>\n",
       "      <td>14.91</td>\n",
       "      <td>26.50</td>\n",
       "      <td>98.87</td>\n",
       "      <td>567.7</td>\n",
       "      <td>0.2098</td>\n",
       "      <td>0.8663</td>\n",
       "      <td>0.6869</td>\n",
       "      <td>0.2575</td>\n",
       "      <td>0.6638</td>\n",
       "      <td>0.17300</td>\n",
       "    </tr>\n",
       "    <tr>\n",
       "      <th>4</th>\n",
       "      <td>0.02461</td>\n",
       "      <td>0.05688</td>\n",
       "      <td>0.01885</td>\n",
       "      <td>0.01756</td>\n",
       "      <td>0.005115</td>\n",
       "      <td>22.54</td>\n",
       "      <td>16.67</td>\n",
       "      <td>152.20</td>\n",
       "      <td>1575.0</td>\n",
       "      <td>0.1374</td>\n",
       "      <td>0.2050</td>\n",
       "      <td>0.4000</td>\n",
       "      <td>0.1625</td>\n",
       "      <td>0.2364</td>\n",
       "      <td>0.07678</td>\n",
       "    </tr>\n",
       "  </tbody>\n",
       "</table>\n",
       "</div>"
      ],
      "text/plain": [
       "   compactness error  concavity error  concave points error  symmetry error  \\\n",
       "0            0.04904          0.05373               0.01587         0.03003   \n",
       "1            0.01308          0.01860               0.01340         0.01389   \n",
       "2            0.04006          0.03832               0.02058         0.02250   \n",
       "3            0.07458          0.05661               0.01867         0.05963   \n",
       "4            0.02461          0.05688               0.01885         0.01756   \n",
       "\n",
       "   fractal dimension error  worst radius  worst texture  worst perimeter  \\\n",
       "0                 0.006193         25.38          17.33           184.60   \n",
       "1                 0.003532         24.99          23.41           158.80   \n",
       "2                 0.004571         23.57          25.53           152.50   \n",
       "3                 0.009208         14.91          26.50            98.87   \n",
       "4                 0.005115         22.54          16.67           152.20   \n",
       "\n",
       "   worst area  worst smoothness  worst compactness  worst concavity  \\\n",
       "0      2019.0            0.1622             0.6656           0.7119   \n",
       "1      1956.0            0.1238             0.1866           0.2416   \n",
       "2      1709.0            0.1444             0.4245           0.4504   \n",
       "3       567.7            0.2098             0.8663           0.6869   \n",
       "4      1575.0            0.1374             0.2050           0.4000   \n",
       "\n",
       "   worst concave points  worst symmetry  worst fractal dimension  \n",
       "0                0.2654          0.4601                  0.11890  \n",
       "1                0.1860          0.2750                  0.08902  \n",
       "2                0.2430          0.3613                  0.08758  \n",
       "3                0.2575          0.6638                  0.17300  \n",
       "4                0.1625          0.2364                  0.07678  "
      ]
     },
     "execution_count": 6,
     "metadata": {},
     "output_type": "execute_result"
    }
   ],
   "source": [
    "# Columns 16-30 (15-29 in 0 based indexing)\n",
    "breast_cancer_df.iloc[:, 15:30].head()"
   ]
  },
  {
   "cell_type": "code",
   "execution_count": 7,
   "metadata": {
    "colab": {
     "base_uri": "https://localhost:8080/",
     "height": 297,
     "referenced_widgets": [
      "4a08699214314369be9da89bcec6e0fd",
      "1b85e0b83f094d77b8c10d376c12da76",
      "26d00b9d2c0e4d85977aeb06c66e2463",
      "13523723db8e499996fd1f68c9dc988a",
      "c97a94cdb8754433bb9165b05fa47fd7",
      "736a705833154ff19510029854314057",
      "63dd4cc727034c8c8a8043fc17d69cb1"
     ]
    },
    "executionInfo": {
     "elapsed": 951,
     "status": "ok",
     "timestamp": 1601944374359,
     "user": {
      "displayName": "Anish Verma",
      "photoUrl": "https://lh3.googleusercontent.com/a-/AOh14GjoJkgF8eNPvSqmoPGVlpinxfL1NruO1yFjvmI=s64",
      "userId": "07835666647966761602"
     },
     "user_tz": 420
    },
    "id": "fLAieACTTcGB",
    "outputId": "ad9e0791-e994-435b-ca3f-dbdb5ecb5c8e"
   },
   "outputs": [
    {
     "data": {
      "application/vnd.jupyter.widget-view+json": {
       "model_id": "6d19d39fd60347cb85b815c5c35b5cdc",
       "version_major": 2,
       "version_minor": 0
      },
      "text/plain": [
       "interactive(children=(Dropdown(description='var_name', options=('mean radius', 'mean texture', 'mean perimeter…"
      ]
     },
     "metadata": {},
     "output_type": "display_data"
    }
   ],
   "source": [
    "@interact\n",
    "# Interactive Histogram, using interact decorator function from ipywidgets\n",
    "def do_hist(var_name = data.feature_names, df = fixed(breast_cancer_df)):\n",
    "    # Inputs:\n",
    "    #       var_name: variable name. change variable name in menu to change variable displaed\n",
    "    #       df = data.frame to use. this is fixed\n",
    "    plt.hist(df[var_name].to_numpy())"
   ]
  },
  {
   "cell_type": "markdown",
   "metadata": {
    "id": "0J_OaD4TTcGE"
   },
   "source": [
    "Note that variables denote either continuous or count data. PCA will help us find correlated structure. However, we note that the data is not centered and scaled, and while the sklearn PCA workflow does automatic centering of data, it does not scale data such that it's standard normalized. let's scale and center it now."
   ]
  },
  {
   "cell_type": "code",
   "execution_count": 8,
   "metadata": {
    "executionInfo": {
     "elapsed": 966,
     "status": "ok",
     "timestamp": 1601944393815,
     "user": {
      "displayName": "Anish Verma",
      "photoUrl": "https://lh3.googleusercontent.com/a-/AOh14GjoJkgF8eNPvSqmoPGVlpinxfL1NruO1yFjvmI=s64",
      "userId": "07835666647966761602"
     },
     "user_tz": 420
    },
    "id": "lSKCg7EITcGF"
   },
   "outputs": [],
   "source": [
    "data_scaled = preprocessing.scale(data['data'])\n",
    "data_scaled_df = pd.DataFrame(data = data_scaled, columns = data.feature_names)"
   ]
  },
  {
   "cell_type": "code",
   "execution_count": 9,
   "metadata": {
    "colab": {
     "base_uri": "https://localhost:8080/",
     "height": 297,
     "referenced_widgets": [
      "8e5fa0d33a7448cb991aa9e80288061f",
      "cd9ec21d539542ae8f3c12a382da3a66",
      "250bad957753485b80a83b1517066721",
      "2e7951596a13447da89368cf05353d3c",
      "aee0adf7e3284007a803ea170676245b",
      "dd9eb1e7c7d04eec97b7d89bc5f79d41",
      "fe27590ed0f04842921d48e4fd5d721a"
     ]
    },
    "executionInfo": {
     "elapsed": 1173,
     "status": "ok",
     "timestamp": 1601944399552,
     "user": {
      "displayName": "Anish Verma",
      "photoUrl": "https://lh3.googleusercontent.com/a-/AOh14GjoJkgF8eNPvSqmoPGVlpinxfL1NruO1yFjvmI=s64",
      "userId": "07835666647966761602"
     },
     "user_tz": 420
    },
    "id": "oseq9dgsTcGH",
    "outputId": "8f72a7c3-8544-42e2-a19e-340ab6e6a7f9",
    "scrolled": true
   },
   "outputs": [
    {
     "data": {
      "application/vnd.jupyter.widget-view+json": {
       "model_id": "698d3508654c41e6ae3fadd866ca22eb",
       "version_major": 2,
       "version_minor": 0
      },
      "text/plain": [
       "interactive(children=(Dropdown(description='var_name', options=('mean radius', 'mean texture', 'mean perimeter…"
      ]
     },
     "metadata": {},
     "output_type": "display_data"
    }
   ],
   "source": [
    "@interact\n",
    "# Interactive Histogram, using interact decorator function from ipywidgets\n",
    "def do_hist(var_name = data.feature_names, df = fixed(data_scaled_df)):\n",
    "    # Inputs:\n",
    "    #       var_name: variable name. change variable name in menu to change variable displaed\n",
    "    #       df = data.frame to use. this is fixed\n",
    "    plt.hist(df[var_name].to_numpy())"
   ]
  },
  {
   "cell_type": "code",
   "execution_count": 10,
   "metadata": {
    "colab": {
     "base_uri": "https://localhost:8080/",
     "height": 53
    },
    "executionInfo": {
     "elapsed": 640,
     "status": "ok",
     "timestamp": 1601944419909,
     "user": {
      "displayName": "Anish Verma",
      "photoUrl": "https://lh3.googleusercontent.com/a-/AOh14GjoJkgF8eNPvSqmoPGVlpinxfL1NruO1yFjvmI=s64",
      "userId": "07835666647966761602"
     },
     "user_tz": 420
    },
    "id": "OfONEgsMTcGJ",
    "outputId": "195334a2-8e0d-45a3-8f81-8f2386adc5c6"
   },
   "outputs": [
    {
     "data": {
      "text/plain": [
       "array([1., 1., 1., 1., 1., 1., 1., 1., 1., 1., 1., 1., 1., 1., 1., 1., 1.,\n",
       "       1., 1., 1., 1., 1., 1., 1., 1., 1., 1., 1., 1., 1.])"
      ]
     },
     "execution_count": 10,
     "metadata": {},
     "output_type": "execute_result"
    }
   ],
   "source": [
    "# check actual numerical values of variance. here we see that we have variance = 1 for \n",
    "np.var(data_scaled, axis = 0)"
   ]
  },
  {
   "cell_type": "code",
   "execution_count": 11,
   "metadata": {
    "colab": {
     "base_uri": "https://localhost:8080/",
     "height": 161
    },
    "executionInfo": {
     "elapsed": 486,
     "status": "ok",
     "timestamp": 1601944420265,
     "user": {
      "displayName": "Anish Verma",
      "photoUrl": "https://lh3.googleusercontent.com/a-/AOh14GjoJkgF8eNPvSqmoPGVlpinxfL1NruO1yFjvmI=s64",
      "userId": "07835666647966761602"
     },
     "user_tz": 420
    },
    "id": "GpSOWjhETcGM",
    "outputId": "b6003509-8e50-4de4-f046-15552fd4ce9a"
   },
   "outputs": [
    {
     "data": {
      "text/plain": [
       "array([-3.16286735e-15, -6.53060890e-15, -7.07889127e-16, -8.79983452e-16,\n",
       "        6.13217737e-15, -1.12036918e-15, -4.42138027e-16,  9.73249991e-16,\n",
       "       -1.97167024e-15, -1.45363120e-15, -9.07641468e-16, -8.85349205e-16,\n",
       "        1.77367396e-15, -8.29155139e-16, -7.54180940e-16, -3.92187747e-16,\n",
       "        7.91789988e-16, -2.73946068e-16, -3.10823423e-16, -3.36676596e-16,\n",
       "       -2.33322442e-15,  1.76367415e-15, -1.19802625e-15,  5.04966114e-16,\n",
       "       -5.21317026e-15, -2.17478837e-15,  6.85645643e-16, -1.41265636e-16,\n",
       "       -2.28956670e-15,  2.57517109e-15])"
      ]
     },
     "execution_count": 11,
     "metadata": {},
     "output_type": "execute_result"
    }
   ],
   "source": [
    "# check actual numerical values of mean\n",
    "np.mean(data_scaled, axis = 0)"
   ]
  },
  {
   "cell_type": "markdown",
   "metadata": {
    "id": "DiBKWnnQTcGO"
   },
   "source": [
    "Variances are all = 1, means are all very close to 0. The latter result is likely a consequencec of numerical stability issues with very small numbers"
   ]
  },
  {
   "cell_type": "markdown",
   "metadata": {
    "id": "HxBnJ4nhTcGP"
   },
   "source": [
    "##### Labels (Not Used Here for PCA)"
   ]
  },
  {
   "cell_type": "code",
   "execution_count": 12,
   "metadata": {
    "colab": {
     "base_uri": "https://localhost:8080/",
     "height": 35
    },
    "executionInfo": {
     "elapsed": 767,
     "status": "ok",
     "timestamp": 1601944426597,
     "user": {
      "displayName": "Anish Verma",
      "photoUrl": "https://lh3.googleusercontent.com/a-/AOh14GjoJkgF8eNPvSqmoPGVlpinxfL1NruO1yFjvmI=s64",
      "userId": "07835666647966761602"
     },
     "user_tz": 420
    },
    "id": "K8-C_bF2TcGQ",
    "outputId": "27ca770f-94f1-4346-9423-6eb69425612f"
   },
   "outputs": [
    {
     "data": {
      "text/plain": [
       "array(['malignant', 'benign'], dtype='<U9')"
      ]
     },
     "execution_count": 12,
     "metadata": {},
     "output_type": "execute_result"
    }
   ],
   "source": [
    "data.target_names"
   ]
  },
  {
   "cell_type": "code",
   "execution_count": 13,
   "metadata": {
    "colab": {
     "base_uri": "https://localhost:8080/",
     "height": 35
    },
    "executionInfo": {
     "elapsed": 690,
     "status": "ok",
     "timestamp": 1601944426993,
     "user": {
      "displayName": "Anish Verma",
      "photoUrl": "https://lh3.googleusercontent.com/a-/AOh14GjoJkgF8eNPvSqmoPGVlpinxfL1NruO1yFjvmI=s64",
      "userId": "07835666647966761602"
     },
     "user_tz": 420
    },
    "id": "mdXQ7zh0TcGS",
    "outputId": "79603f9d-1161-4dbe-80ae-f69dcd81d458"
   },
   "outputs": [
    {
     "data": {
      "text/plain": [
       "array([0, 1])"
      ]
     },
     "execution_count": 13,
     "metadata": {},
     "output_type": "execute_result"
    }
   ],
   "source": [
    "np.unique(data['target'])"
   ]
  },
  {
   "cell_type": "code",
   "execution_count": 14,
   "metadata": {
    "colab": {
     "base_uri": "https://localhost:8080/",
     "height": 485
    },
    "executionInfo": {
     "elapsed": 806,
     "status": "ok",
     "timestamp": 1601944427863,
     "user": {
      "displayName": "Anish Verma",
      "photoUrl": "https://lh3.googleusercontent.com/a-/AOh14GjoJkgF8eNPvSqmoPGVlpinxfL1NruO1yFjvmI=s64",
      "userId": "07835666647966761602"
     },
     "user_tz": 420
    },
    "id": "fkC-G3UXTcGU",
    "outputId": "f997ce2e-9c26-4005-e857-7833c0dd4053"
   },
   "outputs": [
    {
     "data": {
      "text/plain": [
       "array([0, 0, 0, 0, 0, 0, 0, 0, 0, 0, 0, 0, 0, 0, 0, 0, 0, 0, 0, 1, 1, 1,\n",
       "       0, 0, 0, 0, 0, 0, 0, 0, 0, 0, 0, 0, 0, 0, 0, 1, 0, 0, 0, 0, 0, 0,\n",
       "       0, 0, 1, 0, 1, 1, 1, 1, 1, 0, 0, 1, 0, 0, 1, 1, 1, 1, 0, 1, 0, 0,\n",
       "       1, 1, 1, 1, 0, 1, 0, 0, 1, 0, 1, 0, 0, 1, 1, 1, 0, 0, 1, 0, 0, 0,\n",
       "       1, 1, 1, 0, 1, 1, 0, 0, 1, 1, 1, 0, 0, 1, 1, 1, 1, 0, 1, 1, 0, 1,\n",
       "       1, 1, 1, 1, 1, 1, 1, 0, 0, 0, 1, 0, 0, 1, 1, 1, 0, 0, 1, 0, 1, 0,\n",
       "       0, 1, 0, 0, 1, 1, 0, 1, 1, 0, 1, 1, 1, 1, 0, 1, 1, 1, 1, 1, 1, 1,\n",
       "       1, 1, 0, 1, 1, 1, 1, 0, 0, 1, 0, 1, 1, 0, 0, 1, 1, 0, 0, 1, 1, 1,\n",
       "       1, 0, 1, 1, 0, 0, 0, 1, 0, 1, 0, 1, 1, 1, 0, 1, 1, 0, 0, 1, 0, 0,\n",
       "       0, 0, 1, 0, 0, 0, 1, 0, 1, 0, 1, 1, 0, 1, 0, 0, 0, 0, 1, 1, 0, 0,\n",
       "       1, 1, 1, 0, 1, 1, 1, 1, 1, 0, 0, 1, 1, 0, 1, 1, 0, 0, 1, 0, 1, 1,\n",
       "       1, 1, 0, 1, 1, 1, 1, 1, 0, 1, 0, 0, 0, 0, 0, 0, 0, 0, 0, 0, 0, 0,\n",
       "       0, 0, 1, 1, 1, 1, 1, 1, 0, 1, 0, 1, 1, 0, 1, 1, 0, 1, 0, 0, 1, 1,\n",
       "       1, 1, 1, 1, 1, 1, 1, 1, 1, 1, 1, 0, 1, 1, 0, 1, 0, 1, 1, 1, 1, 1,\n",
       "       1, 1, 1, 1, 1, 1, 1, 1, 1, 0, 1, 1, 1, 0, 1, 0, 1, 1, 1, 1, 0, 0,\n",
       "       0, 1, 1, 1, 1, 0, 1, 0, 1, 0, 1, 1, 1, 0, 1, 1, 1, 1, 1, 1, 1, 0,\n",
       "       0, 0, 1, 1, 1, 1, 1, 1, 1, 1, 1, 1, 1, 0, 0, 1, 0, 0, 0, 1, 0, 0,\n",
       "       1, 1, 1, 1, 1, 0, 1, 1, 1, 1, 1, 0, 1, 1, 1, 0, 1, 1, 0, 0, 1, 1,\n",
       "       1, 1, 1, 1, 0, 1, 1, 1, 1, 1, 1, 1, 0, 1, 1, 1, 1, 1, 0, 1, 1, 0,\n",
       "       1, 1, 1, 1, 1, 1, 1, 1, 1, 1, 1, 1, 0, 1, 0, 0, 1, 0, 1, 1, 1, 1,\n",
       "       1, 0, 1, 1, 0, 1, 0, 1, 1, 0, 1, 0, 1, 1, 1, 1, 1, 1, 1, 1, 0, 0,\n",
       "       1, 1, 1, 1, 1, 1, 0, 1, 1, 1, 1, 1, 1, 1, 1, 1, 1, 0, 1, 1, 1, 1,\n",
       "       1, 1, 1, 0, 1, 0, 1, 1, 0, 1, 1, 1, 1, 1, 0, 0, 1, 0, 1, 0, 1, 1,\n",
       "       1, 1, 1, 0, 1, 1, 0, 1, 0, 1, 0, 0, 1, 1, 1, 0, 1, 1, 1, 1, 1, 1,\n",
       "       1, 1, 1, 1, 1, 0, 1, 0, 0, 1, 1, 1, 1, 1, 1, 1, 1, 1, 1, 1, 1, 1,\n",
       "       1, 1, 1, 1, 1, 1, 1, 1, 1, 1, 1, 1, 0, 0, 0, 0, 0, 0, 1])"
      ]
     },
     "execution_count": 14,
     "metadata": {},
     "output_type": "execute_result"
    }
   ],
   "source": [
    "data['target']"
   ]
  },
  {
   "cell_type": "markdown",
   "metadata": {
    "id": "jhbUyjzwTcGW"
   },
   "source": [
    "Labels here just denote a known class of the object for a category, in this case whether or not a case is malignant or benign. Somewhat counterintuitively, they've chosen to label benign samples as 1, malignant samples as 0 (this was spot checked against source dataset)"
   ]
  },
  {
   "cell_type": "markdown",
   "metadata": {
    "id": "DkoWkwaKTcGX"
   },
   "source": [
    "##### PCA of Data"
   ]
  },
  {
   "cell_type": "code",
   "execution_count": 15,
   "metadata": {
    "colab": {
     "base_uri": "https://localhost:8080/",
     "height": 53
    },
    "executionInfo": {
     "elapsed": 1220,
     "status": "ok",
     "timestamp": 1601944432314,
     "user": {
      "displayName": "Anish Verma",
      "photoUrl": "https://lh3.googleusercontent.com/a-/AOh14GjoJkgF8eNPvSqmoPGVlpinxfL1NruO1yFjvmI=s64",
      "userId": "07835666647966761602"
     },
     "user_tz": 420
    },
    "id": "1Yki97WJTcGX",
    "outputId": "0d0ea1e3-7c7c-4bf8-8cff-b6699b1dd5f2"
   },
   "outputs": [
    {
     "data": {
      "text/plain": [
       "PCA()"
      ]
     },
     "execution_count": 15,
     "metadata": {},
     "output_type": "execute_result"
    }
   ],
   "source": [
    "from sklearn import decomposition\n",
    "# setup object\n",
    "pca_obj = decomposition.PCA()\n",
    "# fit PCA, i.e. perform PCA algorithm on data\n",
    "pca_obj.fit(data_scaled)"
   ]
  },
  {
   "cell_type": "code",
   "execution_count": 16,
   "metadata": {
    "colab": {
     "base_uri": "https://localhost:8080/",
     "height": 279
    },
    "executionInfo": {
     "elapsed": 953,
     "status": "ok",
     "timestamp": 1601944435191,
     "user": {
      "displayName": "Anish Verma",
      "photoUrl": "https://lh3.googleusercontent.com/a-/AOh14GjoJkgF8eNPvSqmoPGVlpinxfL1NruO1yFjvmI=s64",
      "userId": "07835666647966761602"
     },
     "user_tz": 420
    },
    "id": "EodXVN1YTcGZ",
    "outputId": "79c92507-82c3-4429-f97e-d2c5b2864008"
   },
   "outputs": [
    {
     "data": {
      "image/png": "[encoded data removed]",
      "text/plain": [
       "<Figure size 432x288 with 1 Axes>"
      ]
     },
     "metadata": {
      "needs_background": "light"
     },
     "output_type": "display_data"
    }
   ],
   "source": [
    "# explained variance per PC\n",
    "pcs_plot = np.arange(0,20)\n",
    "plt.plot(pcs_plot, pca_obj.explained_variance_ratio_[pcs_plot])\n",
    "plt.xticks(pcs_plot)\n",
    "plt.xlabel('PC')\n",
    "plt.ylabel('Fraction Variance Explained')\n",
    "plt.show()"
   ]
  },
  {
   "cell_type": "code",
   "execution_count": 17,
   "metadata": {
    "colab": {
     "base_uri": "https://localhost:8080/",
     "height": 89
    },
    "executionInfo": {
     "elapsed": 645,
     "status": "ok",
     "timestamp": 1601944436857,
     "user": {
      "displayName": "Anish Verma",
      "photoUrl": "https://lh3.googleusercontent.com/a-/AOh14GjoJkgF8eNPvSqmoPGVlpinxfL1NruO1yFjvmI=s64",
      "userId": "07835666647966761602"
     },
     "user_tz": 420
    },
    "id": "ahoxpLtKTcGd",
    "outputId": "0d75ac73-b19c-4bfe-8d5a-194adb4abdae"
   },
   "outputs": [
    {
     "data": {
      "text/plain": [
       "array([0.44272026, 0.18971182, 0.09393163, 0.06602135, 0.05495768,\n",
       "       0.04024522, 0.02250734, 0.01588724, 0.01389649, 0.01168978,\n",
       "       0.00979719, 0.00870538, 0.00804525, 0.00523366, 0.00313783,\n",
       "       0.00266209, 0.00197997, 0.00175396, 0.00164925, 0.00103865])"
      ]
     },
     "execution_count": 17,
     "metadata": {},
     "output_type": "execute_result"
    }
   ],
   "source": [
    "pca_obj.explained_variance_ratio_[pcs_plot]"
   ]
  },
  {
   "cell_type": "markdown",
   "metadata": {
    "id": "YYHXP5MUTcGg"
   },
   "source": [
    "Variance explained = variance of PC divided by sum of all variances across all input variables. Note that with 0 indexing, PC 0 is actually the first PC computed. it explains about 45% of variance in the data. PC 1 explains about 20%,a and PC 2 10%, for a total of about 72% of variance in the data. For the sake of simplicity and time, we'll just look at PCs 0 through 2.\n",
    "\n",
    "We can look at which features are important for each PC."
   ]
  },
  {
   "cell_type": "code",
   "execution_count": 18,
   "metadata": {
    "colab": {
     "base_uri": "https://localhost:8080/",
     "height": 284
    },
    "executionInfo": {
     "elapsed": 1289,
     "status": "ok",
     "timestamp": 1601944439905,
     "user": {
      "displayName": "Anish Verma",
      "photoUrl": "https://lh3.googleusercontent.com/a-/AOh14GjoJkgF8eNPvSqmoPGVlpinxfL1NruO1yFjvmI=s64",
      "userId": "07835666647966761602"
     },
     "user_tz": 420
    },
    "id": "kp1CwPoUTcGg",
    "outputId": "1f7240f4-71ce-42a3-f036-2caf69aad49a"
   },
   "outputs": [
    {
     "data": {
      "text/plain": [
       "<AxesSubplot:>"
      ]
     },
     "execution_count": 18,
     "metadata": {},
     "output_type": "execute_result"
    },
    {
     "data": {
      "image/png": "[encoded data removed]",
      "text/plain": [
       "<Figure size 432x288 with 2 Axes>"
      ]
     },
     "metadata": {
      "needs_background": "light"
     },
     "output_type": "display_data"
    }
   ],
   "source": [
    "# get loadings for PC, i.e. association of input features with each PC. Do for PC0, PC1, PC2\n",
    "loadings_mat = pca_obj.components_[0:3, :]\n",
    "# 3 components x 30 features\n",
    "loadings_mat.shape\n",
    "\n",
    "loadings_df = pd.DataFrame(data = np.transpose(loadings_mat), \n",
    "                           index = data.feature_names, \n",
    "                           columns = np.arange(0,3).astype('str'))\n",
    "loadings_df.shape\n",
    "seaborn.heatmap(loadings_df, xticklabels = True, yticklabels = True)"
   ]
  },
  {
   "cell_type": "code",
   "execution_count": 19,
   "metadata": {
    "colab": {
     "base_uri": "https://localhost:8080/",
     "height": 979
    },
    "executionInfo": {
     "elapsed": 707,
     "status": "ok",
     "timestamp": 1601944442538,
     "user": {
      "displayName": "Anish Verma",
      "photoUrl": "https://lh3.googleusercontent.com/a-/AOh14GjoJkgF8eNPvSqmoPGVlpinxfL1NruO1yFjvmI=s64",
      "userId": "07835666647966761602"
     },
     "user_tz": 420
    },
    "id": "GtoYq0xbTcGi",
    "outputId": "1ce6a783-f793-4252-de2c-ae2d30d9ac23"
   },
   "outputs": [
    {
     "data": {
      "text/html": [
       "<div>\n",
       "<style scoped>\n",
       "    .dataframe tbody tr th:only-of-type {\n",
       "        vertical-align: middle;\n",
       "    }\n",
       "\n",
       "    .dataframe tbody tr th {\n",
       "        vertical-align: top;\n",
       "    }\n",
       "\n",
       "    .dataframe thead th {\n",
       "        text-align: right;\n",
       "    }\n",
       "</style>\n",
       "<table border=\"1\" class=\"dataframe\">\n",
       "  <thead>\n",
       "    <tr style=\"text-align: right;\">\n",
       "      <th></th>\n",
       "      <th>0</th>\n",
       "    </tr>\n",
       "  </thead>\n",
       "  <tbody>\n",
       "    <tr>\n",
       "      <th>mean concave points</th>\n",
       "      <td>0.260854</td>\n",
       "    </tr>\n",
       "    <tr>\n",
       "      <th>mean concavity</th>\n",
       "      <td>0.258400</td>\n",
       "    </tr>\n",
       "    <tr>\n",
       "      <th>worst concave points</th>\n",
       "      <td>0.250886</td>\n",
       "    </tr>\n",
       "    <tr>\n",
       "      <th>mean compactness</th>\n",
       "      <td>0.239285</td>\n",
       "    </tr>\n",
       "    <tr>\n",
       "      <th>worst perimeter</th>\n",
       "      <td>0.236640</td>\n",
       "    </tr>\n",
       "    <tr>\n",
       "      <th>worst concavity</th>\n",
       "      <td>0.228768</td>\n",
       "    </tr>\n",
       "    <tr>\n",
       "      <th>worst radius</th>\n",
       "      <td>0.227997</td>\n",
       "    </tr>\n",
       "    <tr>\n",
       "      <th>mean perimeter</th>\n",
       "      <td>0.227537</td>\n",
       "    </tr>\n",
       "    <tr>\n",
       "      <th>worst area</th>\n",
       "      <td>0.224871</td>\n",
       "    </tr>\n",
       "    <tr>\n",
       "      <th>mean area</th>\n",
       "      <td>0.220995</td>\n",
       "    </tr>\n",
       "    <tr>\n",
       "      <th>mean radius</th>\n",
       "      <td>0.218902</td>\n",
       "    </tr>\n",
       "    <tr>\n",
       "      <th>perimeter error</th>\n",
       "      <td>0.211326</td>\n",
       "    </tr>\n",
       "    <tr>\n",
       "      <th>worst compactness</th>\n",
       "      <td>0.210096</td>\n",
       "    </tr>\n",
       "    <tr>\n",
       "      <th>radius error</th>\n",
       "      <td>0.205979</td>\n",
       "    </tr>\n",
       "    <tr>\n",
       "      <th>area error</th>\n",
       "      <td>0.202870</td>\n",
       "    </tr>\n",
       "    <tr>\n",
       "      <th>concave points error</th>\n",
       "      <td>0.183417</td>\n",
       "    </tr>\n",
       "    <tr>\n",
       "      <th>compactness error</th>\n",
       "      <td>0.170393</td>\n",
       "    </tr>\n",
       "    <tr>\n",
       "      <th>concavity error</th>\n",
       "      <td>0.153590</td>\n",
       "    </tr>\n",
       "    <tr>\n",
       "      <th>mean smoothness</th>\n",
       "      <td>0.142590</td>\n",
       "    </tr>\n",
       "    <tr>\n",
       "      <th>mean symmetry</th>\n",
       "      <td>0.138167</td>\n",
       "    </tr>\n",
       "    <tr>\n",
       "      <th>worst fractal dimension</th>\n",
       "      <td>0.131784</td>\n",
       "    </tr>\n",
       "    <tr>\n",
       "      <th>worst smoothness</th>\n",
       "      <td>0.127953</td>\n",
       "    </tr>\n",
       "    <tr>\n",
       "      <th>worst symmetry</th>\n",
       "      <td>0.122905</td>\n",
       "    </tr>\n",
       "    <tr>\n",
       "      <th>worst texture</th>\n",
       "      <td>0.104469</td>\n",
       "    </tr>\n",
       "    <tr>\n",
       "      <th>mean texture</th>\n",
       "      <td>0.103725</td>\n",
       "    </tr>\n",
       "    <tr>\n",
       "      <th>fractal dimension error</th>\n",
       "      <td>0.102568</td>\n",
       "    </tr>\n",
       "    <tr>\n",
       "      <th>mean fractal dimension</th>\n",
       "      <td>0.064363</td>\n",
       "    </tr>\n",
       "    <tr>\n",
       "      <th>symmetry error</th>\n",
       "      <td>0.042498</td>\n",
       "    </tr>\n",
       "    <tr>\n",
       "      <th>texture error</th>\n",
       "      <td>0.017428</td>\n",
       "    </tr>\n",
       "    <tr>\n",
       "      <th>smoothness error</th>\n",
       "      <td>0.014531</td>\n",
       "    </tr>\n",
       "  </tbody>\n",
       "</table>\n",
       "</div>"
      ],
      "text/plain": [
       "                                0\n",
       "mean concave points      0.260854\n",
       "mean concavity           0.258400\n",
       "worst concave points     0.250886\n",
       "mean compactness         0.239285\n",
       "worst perimeter          0.236640\n",
       "worst concavity          0.228768\n",
       "worst radius             0.227997\n",
       "mean perimeter           0.227537\n",
       "worst area               0.224871\n",
       "mean area                0.220995\n",
       "mean radius              0.218902\n",
       "perimeter error          0.211326\n",
       "worst compactness        0.210096\n",
       "radius error             0.205979\n",
       "area error               0.202870\n",
       "concave points error     0.183417\n",
       "compactness error        0.170393\n",
       "concavity error          0.153590\n",
       "mean smoothness          0.142590\n",
       "mean symmetry            0.138167\n",
       "worst fractal dimension  0.131784\n",
       "worst smoothness         0.127953\n",
       "worst symmetry           0.122905\n",
       "worst texture            0.104469\n",
       "mean texture             0.103725\n",
       "fractal dimension error  0.102568\n",
       "mean fractal dimension   0.064363\n",
       "symmetry error           0.042498\n",
       "texture error            0.017428\n",
       "smoothness error         0.014531"
      ]
     },
     "execution_count": 19,
     "metadata": {},
     "output_type": "execute_result"
    }
   ],
   "source": [
    "# features ranked by association with PC 0\n",
    "loadings_df.sort_values(by = '0', ascending = False).iloc[:, np.arange(0,1)]"
   ]
  },
  {
   "cell_type": "code",
   "execution_count": 20,
   "metadata": {
    "colab": {
     "base_uri": "https://localhost:8080/",
     "height": 979
    },
    "executionInfo": {
     "elapsed": 887,
     "status": "ok",
     "timestamp": 1601944445021,
     "user": {
      "displayName": "Anish Verma",
      "photoUrl": "https://lh3.googleusercontent.com/a-/AOh14GjoJkgF8eNPvSqmoPGVlpinxfL1NruO1yFjvmI=s64",
      "userId": "07835666647966761602"
     },
     "user_tz": 420
    },
    "id": "fDgVUEJTTcGk",
    "outputId": "2cd43ab6-974e-4243-adfc-2e8568a120a4"
   },
   "outputs": [
    {
     "data": {
      "text/html": [
       "<div>\n",
       "<style scoped>\n",
       "    .dataframe tbody tr th:only-of-type {\n",
       "        vertical-align: middle;\n",
       "    }\n",
       "\n",
       "    .dataframe tbody tr th {\n",
       "        vertical-align: top;\n",
       "    }\n",
       "\n",
       "    .dataframe thead th {\n",
       "        text-align: right;\n",
       "    }\n",
       "</style>\n",
       "<table border=\"1\" class=\"dataframe\">\n",
       "  <thead>\n",
       "    <tr style=\"text-align: right;\">\n",
       "      <th></th>\n",
       "      <th>1</th>\n",
       "    </tr>\n",
       "  </thead>\n",
       "  <tbody>\n",
       "    <tr>\n",
       "      <th>mean fractal dimension</th>\n",
       "      <td>0.366575</td>\n",
       "    </tr>\n",
       "    <tr>\n",
       "      <th>fractal dimension error</th>\n",
       "      <td>0.280092</td>\n",
       "    </tr>\n",
       "    <tr>\n",
       "      <th>worst fractal dimension</th>\n",
       "      <td>0.275339</td>\n",
       "    </tr>\n",
       "    <tr>\n",
       "      <th>compactness error</th>\n",
       "      <td>0.232716</td>\n",
       "    </tr>\n",
       "    <tr>\n",
       "      <th>smoothness error</th>\n",
       "      <td>0.204430</td>\n",
       "    </tr>\n",
       "    <tr>\n",
       "      <th>concavity error</th>\n",
       "      <td>0.197207</td>\n",
       "    </tr>\n",
       "    <tr>\n",
       "      <th>mean symmetry</th>\n",
       "      <td>0.190349</td>\n",
       "    </tr>\n",
       "    <tr>\n",
       "      <th>mean smoothness</th>\n",
       "      <td>0.186113</td>\n",
       "    </tr>\n",
       "    <tr>\n",
       "      <th>symmetry error</th>\n",
       "      <td>0.183848</td>\n",
       "    </tr>\n",
       "    <tr>\n",
       "      <th>worst smoothness</th>\n",
       "      <td>0.172304</td>\n",
       "    </tr>\n",
       "    <tr>\n",
       "      <th>mean compactness</th>\n",
       "      <td>0.151892</td>\n",
       "    </tr>\n",
       "    <tr>\n",
       "      <th>worst compactness</th>\n",
       "      <td>0.143593</td>\n",
       "    </tr>\n",
       "    <tr>\n",
       "      <th>worst symmetry</th>\n",
       "      <td>0.141883</td>\n",
       "    </tr>\n",
       "    <tr>\n",
       "      <th>concave points error</th>\n",
       "      <td>0.130322</td>\n",
       "    </tr>\n",
       "    <tr>\n",
       "      <th>worst concavity</th>\n",
       "      <td>0.097964</td>\n",
       "    </tr>\n",
       "    <tr>\n",
       "      <th>texture error</th>\n",
       "      <td>0.089980</td>\n",
       "    </tr>\n",
       "    <tr>\n",
       "      <th>mean concavity</th>\n",
       "      <td>0.060165</td>\n",
       "    </tr>\n",
       "    <tr>\n",
       "      <th>worst concave points</th>\n",
       "      <td>-0.008257</td>\n",
       "    </tr>\n",
       "    <tr>\n",
       "      <th>mean concave points</th>\n",
       "      <td>-0.034768</td>\n",
       "    </tr>\n",
       "    <tr>\n",
       "      <th>worst texture</th>\n",
       "      <td>-0.045467</td>\n",
       "    </tr>\n",
       "    <tr>\n",
       "      <th>mean texture</th>\n",
       "      <td>-0.059706</td>\n",
       "    </tr>\n",
       "    <tr>\n",
       "      <th>perimeter error</th>\n",
       "      <td>-0.089457</td>\n",
       "    </tr>\n",
       "    <tr>\n",
       "      <th>radius error</th>\n",
       "      <td>-0.105552</td>\n",
       "    </tr>\n",
       "    <tr>\n",
       "      <th>area error</th>\n",
       "      <td>-0.152293</td>\n",
       "    </tr>\n",
       "    <tr>\n",
       "      <th>worst perimeter</th>\n",
       "      <td>-0.199878</td>\n",
       "    </tr>\n",
       "    <tr>\n",
       "      <th>mean perimeter</th>\n",
       "      <td>-0.215181</td>\n",
       "    </tr>\n",
       "    <tr>\n",
       "      <th>worst area</th>\n",
       "      <td>-0.219352</td>\n",
       "    </tr>\n",
       "    <tr>\n",
       "      <th>worst radius</th>\n",
       "      <td>-0.219866</td>\n",
       "    </tr>\n",
       "    <tr>\n",
       "      <th>mean area</th>\n",
       "      <td>-0.231077</td>\n",
       "    </tr>\n",
       "    <tr>\n",
       "      <th>mean radius</th>\n",
       "      <td>-0.233857</td>\n",
       "    </tr>\n",
       "  </tbody>\n",
       "</table>\n",
       "</div>"
      ],
      "text/plain": [
       "                                1\n",
       "mean fractal dimension   0.366575\n",
       "fractal dimension error  0.280092\n",
       "worst fractal dimension  0.275339\n",
       "compactness error        0.232716\n",
       "smoothness error         0.204430\n",
       "concavity error          0.197207\n",
       "mean symmetry            0.190349\n",
       "mean smoothness          0.186113\n",
       "symmetry error           0.183848\n",
       "worst smoothness         0.172304\n",
       "mean compactness         0.151892\n",
       "worst compactness        0.143593\n",
       "worst symmetry           0.141883\n",
       "concave points error     0.130322\n",
       "worst concavity          0.097964\n",
       "texture error            0.089980\n",
       "mean concavity           0.060165\n",
       "worst concave points    -0.008257\n",
       "mean concave points     -0.034768\n",
       "worst texture           -0.045467\n",
       "mean texture            -0.059706\n",
       "perimeter error         -0.089457\n",
       "radius error            -0.105552\n",
       "area error              -0.152293\n",
       "worst perimeter         -0.199878\n",
       "mean perimeter          -0.215181\n",
       "worst area              -0.219352\n",
       "worst radius            -0.219866\n",
       "mean area               -0.231077\n",
       "mean radius             -0.233857"
      ]
     },
     "execution_count": 20,
     "metadata": {},
     "output_type": "execute_result"
    }
   ],
   "source": [
    "# features ranked by association with PC 1\n",
    "loadings_df.sort_values(by = '1', ascending = False).iloc[:, np.arange(1,2)]"
   ]
  },
  {
   "cell_type": "code",
   "execution_count": 21,
   "metadata": {
    "colab": {
     "base_uri": "https://localhost:8080/",
     "height": 979
    },
    "executionInfo": {
     "elapsed": 672,
     "status": "ok",
     "timestamp": 1601944447110,
     "user": {
      "displayName": "Anish Verma",
      "photoUrl": "https://lh3.googleusercontent.com/a-/AOh14GjoJkgF8eNPvSqmoPGVlpinxfL1NruO1yFjvmI=s64",
      "userId": "07835666647966761602"
     },
     "user_tz": 420
    },
    "id": "ULyLcATzTcGl",
    "outputId": "24f2bc99-efe0-4c80-ecf1-b40988471b87"
   },
   "outputs": [
    {
     "data": {
      "text/html": [
       "<div>\n",
       "<style scoped>\n",
       "    .dataframe tbody tr th:only-of-type {\n",
       "        vertical-align: middle;\n",
       "    }\n",
       "\n",
       "    .dataframe tbody tr th {\n",
       "        vertical-align: top;\n",
       "    }\n",
       "\n",
       "    .dataframe thead th {\n",
       "        text-align: right;\n",
       "    }\n",
       "</style>\n",
       "<table border=\"1\" class=\"dataframe\">\n",
       "  <thead>\n",
       "    <tr style=\"text-align: right;\">\n",
       "      <th></th>\n",
       "      <th>2</th>\n",
       "    </tr>\n",
       "  </thead>\n",
       "  <tbody>\n",
       "    <tr>\n",
       "      <th>texture error</th>\n",
       "      <td>0.374634</td>\n",
       "    </tr>\n",
       "    <tr>\n",
       "      <th>smoothness error</th>\n",
       "      <td>0.308839</td>\n",
       "    </tr>\n",
       "    <tr>\n",
       "      <th>symmetry error</th>\n",
       "      <td>0.288584</td>\n",
       "    </tr>\n",
       "    <tr>\n",
       "      <th>radius error</th>\n",
       "      <td>0.268481</td>\n",
       "    </tr>\n",
       "    <tr>\n",
       "      <th>perimeter error</th>\n",
       "      <td>0.266645</td>\n",
       "    </tr>\n",
       "    <tr>\n",
       "      <th>concave points error</th>\n",
       "      <td>0.224658</td>\n",
       "    </tr>\n",
       "    <tr>\n",
       "      <th>area error</th>\n",
       "      <td>0.216007</td>\n",
       "    </tr>\n",
       "    <tr>\n",
       "      <th>fractal dimension error</th>\n",
       "      <td>0.211504</td>\n",
       "    </tr>\n",
       "    <tr>\n",
       "      <th>concavity error</th>\n",
       "      <td>0.176464</td>\n",
       "    </tr>\n",
       "    <tr>\n",
       "      <th>compactness error</th>\n",
       "      <td>0.154780</td>\n",
       "    </tr>\n",
       "    <tr>\n",
       "      <th>mean texture</th>\n",
       "      <td>0.064550</td>\n",
       "    </tr>\n",
       "    <tr>\n",
       "      <th>mean area</th>\n",
       "      <td>0.028700</td>\n",
       "    </tr>\n",
       "    <tr>\n",
       "      <th>mean concavity</th>\n",
       "      <td>0.002734</td>\n",
       "    </tr>\n",
       "    <tr>\n",
       "      <th>mean radius</th>\n",
       "      <td>-0.008531</td>\n",
       "    </tr>\n",
       "    <tr>\n",
       "      <th>mean perimeter</th>\n",
       "      <td>-0.009314</td>\n",
       "    </tr>\n",
       "    <tr>\n",
       "      <th>worst area</th>\n",
       "      <td>-0.011902</td>\n",
       "    </tr>\n",
       "    <tr>\n",
       "      <th>mean fractal dimension</th>\n",
       "      <td>-0.022574</td>\n",
       "    </tr>\n",
       "    <tr>\n",
       "      <th>mean concave points</th>\n",
       "      <td>-0.025564</td>\n",
       "    </tr>\n",
       "    <tr>\n",
       "      <th>mean symmetry</th>\n",
       "      <td>-0.040240</td>\n",
       "    </tr>\n",
       "    <tr>\n",
       "      <th>worst texture</th>\n",
       "      <td>-0.042298</td>\n",
       "    </tr>\n",
       "    <tr>\n",
       "      <th>worst radius</th>\n",
       "      <td>-0.047507</td>\n",
       "    </tr>\n",
       "    <tr>\n",
       "      <th>worst perimeter</th>\n",
       "      <td>-0.048547</td>\n",
       "    </tr>\n",
       "    <tr>\n",
       "      <th>mean compactness</th>\n",
       "      <td>-0.074092</td>\n",
       "    </tr>\n",
       "    <tr>\n",
       "      <th>mean smoothness</th>\n",
       "      <td>-0.104292</td>\n",
       "    </tr>\n",
       "    <tr>\n",
       "      <th>worst concave points</th>\n",
       "      <td>-0.170344</td>\n",
       "    </tr>\n",
       "    <tr>\n",
       "      <th>worst concavity</th>\n",
       "      <td>-0.173057</td>\n",
       "    </tr>\n",
       "    <tr>\n",
       "      <th>worst fractal dimension</th>\n",
       "      <td>-0.232791</td>\n",
       "    </tr>\n",
       "    <tr>\n",
       "      <th>worst compactness</th>\n",
       "      <td>-0.236076</td>\n",
       "    </tr>\n",
       "    <tr>\n",
       "      <th>worst smoothness</th>\n",
       "      <td>-0.259798</td>\n",
       "    </tr>\n",
       "    <tr>\n",
       "      <th>worst symmetry</th>\n",
       "      <td>-0.271313</td>\n",
       "    </tr>\n",
       "  </tbody>\n",
       "</table>\n",
       "</div>"
      ],
      "text/plain": [
       "                                2\n",
       "texture error            0.374634\n",
       "smoothness error         0.308839\n",
       "symmetry error           0.288584\n",
       "radius error             0.268481\n",
       "perimeter error          0.266645\n",
       "concave points error     0.224658\n",
       "area error               0.216007\n",
       "fractal dimension error  0.211504\n",
       "concavity error          0.176464\n",
       "compactness error        0.154780\n",
       "mean texture             0.064550\n",
       "mean area                0.028700\n",
       "mean concavity           0.002734\n",
       "mean radius             -0.008531\n",
       "mean perimeter          -0.009314\n",
       "worst area              -0.011902\n",
       "mean fractal dimension  -0.022574\n",
       "mean concave points     -0.025564\n",
       "mean symmetry           -0.040240\n",
       "worst texture           -0.042298\n",
       "worst radius            -0.047507\n",
       "worst perimeter         -0.048547\n",
       "mean compactness        -0.074092\n",
       "mean smoothness         -0.104292\n",
       "worst concave points    -0.170344\n",
       "worst concavity         -0.173057\n",
       "worst fractal dimension -0.232791\n",
       "worst compactness       -0.236076\n",
       "worst smoothness        -0.259798\n",
       "worst symmetry          -0.271313"
      ]
     },
     "execution_count": 21,
     "metadata": {},
     "output_type": "execute_result"
    }
   ],
   "source": [
    "# features ranked by association with PC 2\n",
    "loadings_df.sort_values(by = '2', ascending = False).iloc[:, np.arange(2,3)]"
   ]
  },
  {
   "cell_type": "code",
   "execution_count": 22,
   "metadata": {
    "colab": {
     "base_uri": "https://localhost:8080/",
     "height": 703
    },
    "executionInfo": {
     "elapsed": 953,
     "status": "ok",
     "timestamp": 1601944449111,
     "user": {
      "displayName": "Anish Verma",
      "photoUrl": "https://lh3.googleusercontent.com/a-/AOh14GjoJkgF8eNPvSqmoPGVlpinxfL1NruO1yFjvmI=s64",
      "userId": "07835666647966761602"
     },
     "user_tz": 420
    },
    "id": "zzA51w3uTcGo",
    "outputId": "ab1dc551-f57a-49ae-ba56-ee317d77b2ad"
   },
   "outputs": [
    {
     "data": {
      "text/html": [
       "<div>\n",
       "<style scoped>\n",
       "    .dataframe tbody tr th:only-of-type {\n",
       "        vertical-align: middle;\n",
       "    }\n",
       "\n",
       "    .dataframe tbody tr th {\n",
       "        vertical-align: top;\n",
       "    }\n",
       "\n",
       "    .dataframe thead th {\n",
       "        text-align: right;\n",
       "    }\n",
       "</style>\n",
       "<table border=\"1\" class=\"dataframe\">\n",
       "  <thead>\n",
       "    <tr style=\"text-align: right;\">\n",
       "      <th></th>\n",
       "      <th>worst radius</th>\n",
       "      <th>worst texture</th>\n",
       "      <th>worst perimeter</th>\n",
       "      <th>worst area</th>\n",
       "      <th>worst smoothness</th>\n",
       "      <th>worst compactness</th>\n",
       "      <th>worst concavity</th>\n",
       "      <th>worst concave points</th>\n",
       "      <th>worst symmetry</th>\n",
       "      <th>worst fractal dimension</th>\n",
       "      <th>0</th>\n",
       "      <th>1</th>\n",
       "      <th>2</th>\n",
       "      <th>label</th>\n",
       "    </tr>\n",
       "  </thead>\n",
       "  <tbody>\n",
       "    <tr>\n",
       "      <th>0</th>\n",
       "      <td>25.38</td>\n",
       "      <td>17.33</td>\n",
       "      <td>184.60</td>\n",
       "      <td>2019.0</td>\n",
       "      <td>0.1622</td>\n",
       "      <td>0.6656</td>\n",
       "      <td>0.7119</td>\n",
       "      <td>0.26540</td>\n",
       "      <td>0.4601</td>\n",
       "      <td>0.11890</td>\n",
       "      <td>9.192837</td>\n",
       "      <td>1.948583</td>\n",
       "      <td>-1.123166</td>\n",
       "      <td>malignant</td>\n",
       "    </tr>\n",
       "    <tr>\n",
       "      <th>1</th>\n",
       "      <td>24.99</td>\n",
       "      <td>23.41</td>\n",
       "      <td>158.80</td>\n",
       "      <td>1956.0</td>\n",
       "      <td>0.1238</td>\n",
       "      <td>0.1866</td>\n",
       "      <td>0.2416</td>\n",
       "      <td>0.18600</td>\n",
       "      <td>0.2750</td>\n",
       "      <td>0.08902</td>\n",
       "      <td>2.387802</td>\n",
       "      <td>-3.768172</td>\n",
       "      <td>-0.529293</td>\n",
       "      <td>malignant</td>\n",
       "    </tr>\n",
       "    <tr>\n",
       "      <th>2</th>\n",
       "      <td>23.57</td>\n",
       "      <td>25.53</td>\n",
       "      <td>152.50</td>\n",
       "      <td>1709.0</td>\n",
       "      <td>0.1444</td>\n",
       "      <td>0.4245</td>\n",
       "      <td>0.4504</td>\n",
       "      <td>0.24300</td>\n",
       "      <td>0.3613</td>\n",
       "      <td>0.08758</td>\n",
       "      <td>5.733896</td>\n",
       "      <td>-1.075174</td>\n",
       "      <td>-0.551748</td>\n",
       "      <td>malignant</td>\n",
       "    </tr>\n",
       "    <tr>\n",
       "      <th>3</th>\n",
       "      <td>14.91</td>\n",
       "      <td>26.50</td>\n",
       "      <td>98.87</td>\n",
       "      <td>567.7</td>\n",
       "      <td>0.2098</td>\n",
       "      <td>0.8663</td>\n",
       "      <td>0.6869</td>\n",
       "      <td>0.25750</td>\n",
       "      <td>0.6638</td>\n",
       "      <td>0.17300</td>\n",
       "      <td>7.122953</td>\n",
       "      <td>10.275589</td>\n",
       "      <td>-3.232790</td>\n",
       "      <td>malignant</td>\n",
       "    </tr>\n",
       "    <tr>\n",
       "      <th>4</th>\n",
       "      <td>22.54</td>\n",
       "      <td>16.67</td>\n",
       "      <td>152.20</td>\n",
       "      <td>1575.0</td>\n",
       "      <td>0.1374</td>\n",
       "      <td>0.2050</td>\n",
       "      <td>0.4000</td>\n",
       "      <td>0.16250</td>\n",
       "      <td>0.2364</td>\n",
       "      <td>0.07678</td>\n",
       "      <td>3.935302</td>\n",
       "      <td>-1.948072</td>\n",
       "      <td>1.389767</td>\n",
       "      <td>malignant</td>\n",
       "    </tr>\n",
       "    <tr>\n",
       "      <th>5</th>\n",
       "      <td>15.47</td>\n",
       "      <td>23.75</td>\n",
       "      <td>103.40</td>\n",
       "      <td>741.6</td>\n",
       "      <td>0.1791</td>\n",
       "      <td>0.5249</td>\n",
       "      <td>0.5355</td>\n",
       "      <td>0.17410</td>\n",
       "      <td>0.3985</td>\n",
       "      <td>0.12440</td>\n",
       "      <td>2.380247</td>\n",
       "      <td>3.949929</td>\n",
       "      <td>-2.934877</td>\n",
       "      <td>malignant</td>\n",
       "    </tr>\n",
       "    <tr>\n",
       "      <th>6</th>\n",
       "      <td>22.88</td>\n",
       "      <td>27.66</td>\n",
       "      <td>153.20</td>\n",
       "      <td>1606.0</td>\n",
       "      <td>0.1442</td>\n",
       "      <td>0.2576</td>\n",
       "      <td>0.3784</td>\n",
       "      <td>0.19320</td>\n",
       "      <td>0.3063</td>\n",
       "      <td>0.08368</td>\n",
       "      <td>2.238883</td>\n",
       "      <td>-2.690031</td>\n",
       "      <td>-1.639913</td>\n",
       "      <td>malignant</td>\n",
       "    </tr>\n",
       "    <tr>\n",
       "      <th>7</th>\n",
       "      <td>17.06</td>\n",
       "      <td>28.14</td>\n",
       "      <td>110.60</td>\n",
       "      <td>897.0</td>\n",
       "      <td>0.1654</td>\n",
       "      <td>0.3682</td>\n",
       "      <td>0.2678</td>\n",
       "      <td>0.15560</td>\n",
       "      <td>0.3196</td>\n",
       "      <td>0.11510</td>\n",
       "      <td>2.143299</td>\n",
       "      <td>2.340244</td>\n",
       "      <td>-0.871947</td>\n",
       "      <td>malignant</td>\n",
       "    </tr>\n",
       "    <tr>\n",
       "      <th>8</th>\n",
       "      <td>15.49</td>\n",
       "      <td>30.73</td>\n",
       "      <td>106.20</td>\n",
       "      <td>739.3</td>\n",
       "      <td>0.1703</td>\n",
       "      <td>0.5401</td>\n",
       "      <td>0.5390</td>\n",
       "      <td>0.20600</td>\n",
       "      <td>0.4378</td>\n",
       "      <td>0.10720</td>\n",
       "      <td>3.174924</td>\n",
       "      <td>3.391813</td>\n",
       "      <td>-3.119986</td>\n",
       "      <td>malignant</td>\n",
       "    </tr>\n",
       "    <tr>\n",
       "      <th>9</th>\n",
       "      <td>15.09</td>\n",
       "      <td>40.68</td>\n",
       "      <td>97.65</td>\n",
       "      <td>711.4</td>\n",
       "      <td>0.1853</td>\n",
       "      <td>1.0580</td>\n",
       "      <td>1.1050</td>\n",
       "      <td>0.22100</td>\n",
       "      <td>0.4366</td>\n",
       "      <td>0.20750</td>\n",
       "      <td>6.351747</td>\n",
       "      <td>7.727174</td>\n",
       "      <td>-4.341916</td>\n",
       "      <td>malignant</td>\n",
       "    </tr>\n",
       "    <tr>\n",
       "      <th>10</th>\n",
       "      <td>19.19</td>\n",
       "      <td>33.88</td>\n",
       "      <td>123.80</td>\n",
       "      <td>1150.0</td>\n",
       "      <td>0.1181</td>\n",
       "      <td>0.1551</td>\n",
       "      <td>0.1459</td>\n",
       "      <td>0.09975</td>\n",
       "      <td>0.2948</td>\n",
       "      <td>0.08452</td>\n",
       "      <td>-0.810414</td>\n",
       "      <td>-2.659275</td>\n",
       "      <td>-0.488830</td>\n",
       "      <td>malignant</td>\n",
       "    </tr>\n",
       "    <tr>\n",
       "      <th>11</th>\n",
       "      <td>20.42</td>\n",
       "      <td>27.28</td>\n",
       "      <td>136.50</td>\n",
       "      <td>1299.0</td>\n",
       "      <td>0.1396</td>\n",
       "      <td>0.5609</td>\n",
       "      <td>0.3965</td>\n",
       "      <td>0.18100</td>\n",
       "      <td>0.3792</td>\n",
       "      <td>0.10480</td>\n",
       "      <td>2.651100</td>\n",
       "      <td>0.066568</td>\n",
       "      <td>-1.526455</td>\n",
       "      <td>malignant</td>\n",
       "    </tr>\n",
       "    <tr>\n",
       "      <th>12</th>\n",
       "      <td>20.96</td>\n",
       "      <td>29.94</td>\n",
       "      <td>151.70</td>\n",
       "      <td>1332.0</td>\n",
       "      <td>0.1037</td>\n",
       "      <td>0.3903</td>\n",
       "      <td>0.3639</td>\n",
       "      <td>0.17670</td>\n",
       "      <td>0.3176</td>\n",
       "      <td>0.10230</td>\n",
       "      <td>8.185034</td>\n",
       "      <td>2.700976</td>\n",
       "      <td>5.730231</td>\n",
       "      <td>malignant</td>\n",
       "    </tr>\n",
       "    <tr>\n",
       "      <th>13</th>\n",
       "      <td>16.84</td>\n",
       "      <td>27.66</td>\n",
       "      <td>112.00</td>\n",
       "      <td>876.5</td>\n",
       "      <td>0.1131</td>\n",
       "      <td>0.1924</td>\n",
       "      <td>0.2322</td>\n",
       "      <td>0.11190</td>\n",
       "      <td>0.2809</td>\n",
       "      <td>0.06287</td>\n",
       "      <td>0.342126</td>\n",
       "      <td>-0.968279</td>\n",
       "      <td>1.717172</td>\n",
       "      <td>malignant</td>\n",
       "    </tr>\n",
       "    <tr>\n",
       "      <th>14</th>\n",
       "      <td>15.03</td>\n",
       "      <td>32.01</td>\n",
       "      <td>108.80</td>\n",
       "      <td>697.7</td>\n",
       "      <td>0.1651</td>\n",
       "      <td>0.7725</td>\n",
       "      <td>0.6943</td>\n",
       "      <td>0.22080</td>\n",
       "      <td>0.3596</td>\n",
       "      <td>0.14310</td>\n",
       "      <td>4.342379</td>\n",
       "      <td>4.861083</td>\n",
       "      <td>-2.816116</td>\n",
       "      <td>malignant</td>\n",
       "    </tr>\n",
       "    <tr>\n",
       "      <th>15</th>\n",
       "      <td>17.46</td>\n",
       "      <td>37.13</td>\n",
       "      <td>124.10</td>\n",
       "      <td>943.2</td>\n",
       "      <td>0.1678</td>\n",
       "      <td>0.6577</td>\n",
       "      <td>0.7026</td>\n",
       "      <td>0.17120</td>\n",
       "      <td>0.4218</td>\n",
       "      <td>0.13410</td>\n",
       "      <td>4.075656</td>\n",
       "      <td>2.977061</td>\n",
       "      <td>-3.125274</td>\n",
       "      <td>malignant</td>\n",
       "    </tr>\n",
       "    <tr>\n",
       "      <th>16</th>\n",
       "      <td>19.07</td>\n",
       "      <td>30.88</td>\n",
       "      <td>123.40</td>\n",
       "      <td>1138.0</td>\n",
       "      <td>0.1464</td>\n",
       "      <td>0.1871</td>\n",
       "      <td>0.2914</td>\n",
       "      <td>0.16090</td>\n",
       "      <td>0.3029</td>\n",
       "      <td>0.08216</td>\n",
       "      <td>0.230055</td>\n",
       "      <td>-1.564758</td>\n",
       "      <td>-0.802519</td>\n",
       "      <td>malignant</td>\n",
       "    </tr>\n",
       "    <tr>\n",
       "      <th>17</th>\n",
       "      <td>20.96</td>\n",
       "      <td>31.48</td>\n",
       "      <td>136.80</td>\n",
       "      <td>1315.0</td>\n",
       "      <td>0.1789</td>\n",
       "      <td>0.4233</td>\n",
       "      <td>0.4784</td>\n",
       "      <td>0.20730</td>\n",
       "      <td>0.3706</td>\n",
       "      <td>0.11420</td>\n",
       "      <td>4.418011</td>\n",
       "      <td>1.418670</td>\n",
       "      <td>-2.270319</td>\n",
       "      <td>malignant</td>\n",
       "    </tr>\n",
       "    <tr>\n",
       "      <th>18</th>\n",
       "      <td>27.32</td>\n",
       "      <td>30.88</td>\n",
       "      <td>186.80</td>\n",
       "      <td>2398.0</td>\n",
       "      <td>0.1512</td>\n",
       "      <td>0.3150</td>\n",
       "      <td>0.5372</td>\n",
       "      <td>0.23880</td>\n",
       "      <td>0.2768</td>\n",
       "      <td>0.07615</td>\n",
       "      <td>4.948704</td>\n",
       "      <td>-4.114334</td>\n",
       "      <td>-0.314749</td>\n",
       "      <td>malignant</td>\n",
       "    </tr>\n",
       "    <tr>\n",
       "      <th>19</th>\n",
       "      <td>15.11</td>\n",
       "      <td>19.26</td>\n",
       "      <td>99.70</td>\n",
       "      <td>711.2</td>\n",
       "      <td>0.1440</td>\n",
       "      <td>0.1773</td>\n",
       "      <td>0.2390</td>\n",
       "      <td>0.12880</td>\n",
       "      <td>0.2977</td>\n",
       "      <td>0.07259</td>\n",
       "      <td>-1.237063</td>\n",
       "      <td>-0.188215</td>\n",
       "      <td>-0.593283</td>\n",
       "      <td>benign</td>\n",
       "    </tr>\n",
       "  </tbody>\n",
       "</table>\n",
       "</div>"
      ],
      "text/plain": [
       "    worst radius  worst texture  worst perimeter  worst area  \\\n",
       "0          25.38          17.33           184.60      2019.0   \n",
       "1          24.99          23.41           158.80      1956.0   \n",
       "2          23.57          25.53           152.50      1709.0   \n",
       "3          14.91          26.50            98.87       567.7   \n",
       "4          22.54          16.67           152.20      1575.0   \n",
       "5          15.47          23.75           103.40       741.6   \n",
       "6          22.88          27.66           153.20      1606.0   \n",
       "7          17.06          28.14           110.60       897.0   \n",
       "8          15.49          30.73           106.20       739.3   \n",
       "9          15.09          40.68            97.65       711.4   \n",
       "10         19.19          33.88           123.80      1150.0   \n",
       "11         20.42          27.28           136.50      1299.0   \n",
       "12         20.96          29.94           151.70      1332.0   \n",
       "13         16.84          27.66           112.00       876.5   \n",
       "14         15.03          32.01           108.80       697.7   \n",
       "15         17.46          37.13           124.10       943.2   \n",
       "16         19.07          30.88           123.40      1138.0   \n",
       "17         20.96          31.48           136.80      1315.0   \n",
       "18         27.32          30.88           186.80      2398.0   \n",
       "19         15.11          19.26            99.70       711.2   \n",
       "\n",
       "    worst smoothness  worst compactness  worst concavity  \\\n",
       "0             0.1622             0.6656           0.7119   \n",
       "1             0.1238             0.1866           0.2416   \n",
       "2             0.1444             0.4245           0.4504   \n",
       "3             0.2098             0.8663           0.6869   \n",
       "4             0.1374             0.2050           0.4000   \n",
       "5             0.1791             0.5249           0.5355   \n",
       "6             0.1442             0.2576           0.3784   \n",
       "7             0.1654             0.3682           0.2678   \n",
       "8             0.1703             0.5401           0.5390   \n",
       "9             0.1853             1.0580           1.1050   \n",
       "10            0.1181             0.1551           0.1459   \n",
       "11            0.1396             0.5609           0.3965   \n",
       "12            0.1037             0.3903           0.3639   \n",
       "13            0.1131             0.1924           0.2322   \n",
       "14            0.1651             0.7725           0.6943   \n",
       "15            0.1678             0.6577           0.7026   \n",
       "16            0.1464             0.1871           0.2914   \n",
       "17            0.1789             0.4233           0.4784   \n",
       "18            0.1512             0.3150           0.5372   \n",
       "19            0.1440             0.1773           0.2390   \n",
       "\n",
       "    worst concave points  worst symmetry  worst fractal dimension         0  \\\n",
       "0                0.26540          0.4601                  0.11890  9.192837   \n",
       "1                0.18600          0.2750                  0.08902  2.387802   \n",
       "2                0.24300          0.3613                  0.08758  5.733896   \n",
       "3                0.25750          0.6638                  0.17300  7.122953   \n",
       "4                0.16250          0.2364                  0.07678  3.935302   \n",
       "5                0.17410          0.3985                  0.12440  2.380247   \n",
       "6                0.19320          0.3063                  0.08368  2.238883   \n",
       "7                0.15560          0.3196                  0.11510  2.143299   \n",
       "8                0.20600          0.4378                  0.10720  3.174924   \n",
       "9                0.22100          0.4366                  0.20750  6.351747   \n",
       "10               0.09975          0.2948                  0.08452 -0.810414   \n",
       "11               0.18100          0.3792                  0.10480  2.651100   \n",
       "12               0.17670          0.3176                  0.10230  8.185034   \n",
       "13               0.11190          0.2809                  0.06287  0.342126   \n",
       "14               0.22080          0.3596                  0.14310  4.342379   \n",
       "15               0.17120          0.4218                  0.13410  4.075656   \n",
       "16               0.16090          0.3029                  0.08216  0.230055   \n",
       "17               0.20730          0.3706                  0.11420  4.418011   \n",
       "18               0.23880          0.2768                  0.07615  4.948704   \n",
       "19               0.12880          0.2977                  0.07259 -1.237063   \n",
       "\n",
       "            1         2      label  \n",
       "0    1.948583 -1.123166  malignant  \n",
       "1   -3.768172 -0.529293  malignant  \n",
       "2   -1.075174 -0.551748  malignant  \n",
       "3   10.275589 -3.232790  malignant  \n",
       "4   -1.948072  1.389767  malignant  \n",
       "5    3.949929 -2.934877  malignant  \n",
       "6   -2.690031 -1.639913  malignant  \n",
       "7    2.340244 -0.871947  malignant  \n",
       "8    3.391813 -3.119986  malignant  \n",
       "9    7.727174 -4.341916  malignant  \n",
       "10  -2.659275 -0.488830  malignant  \n",
       "11   0.066568 -1.526455  malignant  \n",
       "12   2.700976  5.730231  malignant  \n",
       "13  -0.968279  1.717172  malignant  \n",
       "14   4.861083 -2.816116  malignant  \n",
       "15   2.977061 -3.125274  malignant  \n",
       "16  -1.564758 -0.802519  malignant  \n",
       "17   1.418670 -2.270319  malignant  \n",
       "18  -4.114334 -0.314749  malignant  \n",
       "19  -0.188215 -0.593283     benign  "
      ]
     },
     "execution_count": 22,
     "metadata": {},
     "output_type": "execute_result"
    }
   ],
   "source": [
    "# We can plot features and visualize both the distribution fo data and association of features with data\n",
    "\n",
    "# PCA coordinates derived from scaled data\n",
    "pca_coords = pca_obj.fit_transform(data_scaled)[:, 0:3]\n",
    "pca_coords_df = pd.DataFrame(data = pca_coords, columns = np.arange(0,3).astype('str'))\n",
    "# combine coordinates with other data\n",
    "combined_df = pd.concat([breast_cancer_df, pca_coords_df], axis = 1)\n",
    "lab_vect = np.repeat('malignant', combined_df.shape[0])\n",
    "lab_vect[data['target'] == 1] = 'benign'\n",
    "combined_df['label'] = lab_vect\n",
    "# we see that PCA coords + case label are appended to end\n",
    "combined_df.iloc[:, 20:34].head(20)\n"
   ]
  },
  {
   "cell_type": "code",
   "execution_count": 23,
   "metadata": {
    "executionInfo": {
     "elapsed": 742,
     "status": "ok",
     "timestamp": 1601944451159,
     "user": {
      "displayName": "Anish Verma",
      "photoUrl": "https://lh3.googleusercontent.com/a-/AOh14GjoJkgF8eNPvSqmoPGVlpinxfL1NruO1yFjvmI=s64",
      "userId": "07835666647966761602"
     },
     "user_tz": 420
    },
    "id": "-X5rlBYSTcGq"
   },
   "outputs": [],
   "source": [
    "# helper function for pca plots. Don't worry too much about code here\n",
    "def pca_plots(df, feature):\n",
    "    # Create two subplots and unpack the output array immediately\n",
    "    \n",
    "    # notes on matplotlibe for future reference: https://jakevdp.github.io/mpl_tutorial/tutorial_pages/tut3.html\n",
    "    \n",
    "    f, (ax1, ax2) = plt.subplots(1, 2)\n",
    "    # get data for plotting\n",
    "    feat_vect = df[feature].to_numpy()\n",
    "    x1 = df['0'].to_numpy()\n",
    "    x2 = df['1'].to_numpy()\n",
    "    x3 = df['2'].to_numpy()\n",
    "    \n",
    "    if np.issubdtype(feat_vect.dtype, np.number):\n",
    "        cmap_use = None\n",
    "        categorical = False\n",
    "        col_vect = feat_vect\n",
    "    else:\n",
    "        if not type(feat_vect.dtype) == np.string_:\n",
    "            try:\n",
    "                feat_vect = feat_vect.astype('str')\n",
    "            except:\n",
    "                raise ValueError('feature maps to a variable that is neither string nor numeric')\n",
    "        unique_cats = np.unique(feat_vect)\n",
    "        num_cats = len(unique_cats)\n",
    "        cmap_use=plt.cm.get_cmap('Pastel2', num_cats)\n",
    "        # since c must be numeric for scatter method,\n",
    "        # convert to numeric labels, which are mapped back to string labels\n",
    "        # when plotting\n",
    "        col_vect = np.zeros(len(feat_vect))\n",
    "        for i in range(0, num_cats):\n",
    "            col_vect[feat_vect == unique_cats[i]] = i\n",
    "        categorical = True\n",
    "        \n",
    "    # make plots\n",
    "    ax1.scatter(x1, x2, c = col_vect, cmap = cmap_use)\n",
    "    ax1.set_xlabel('PC 0')\n",
    "    ax1.set_ylabel('PC 1')\n",
    "    im = ax2.scatter(x2, x3, c = col_vect, cmap = cmap_use)\n",
    "    ax2.set_xlabel('PC 1')\n",
    "    ax2.set_ylabel('PC 2')\n",
    "    # add colorbar\n",
    "    if categorical:\n",
    "        formatter = plt.FuncFormatter(lambda val, loc: unique_cats[val])\n",
    "        f.colorbar(im, ax = ax2, ticks=np.arange(0, num_cats), format=formatter)\n",
    "    else:\n",
    "        f.colorbar(im, ax = ax2)\n",
    "    # set width + height\n",
    "    f.set_figheight(5)\n",
    "    f.set_figwidth(15)"
   ]
  },
  {
   "cell_type": "code",
   "execution_count": 24,
   "metadata": {
    "colab": {
     "base_uri": "https://localhost:8080/",
     "height": 366,
     "referenced_widgets": [
      "000bf37799ee45fcb5f5b21d2d49c00a",
      "67d000462d82461eb2ab68e04cad2359",
      "871b1000de084472a3bd130c86416d18",
      "29fc780acad940b782fbb199929e67b9",
      "c4b3455af5fc402e9bf0e6906b7c80d3",
      "de884c9dd2aa413595f03295499afcef",
      "8cda080de11f4c68983bae8223595544"
     ]
    },
    "executionInfo": {
     "elapsed": 1835,
     "status": "ok",
     "timestamp": 1601944454436,
     "user": {
      "displayName": "Anish Verma",
      "photoUrl": "https://lh3.googleusercontent.com/a-/AOh14GjoJkgF8eNPvSqmoPGVlpinxfL1NruO1yFjvmI=s64",
      "userId": "07835666647966761602"
     },
     "user_tz": 420
    },
    "id": "hGHOwbFATcGt",
    "outputId": "abb787ab-6d7a-4e39-83fe-279eb7b5cdbf"
   },
   "outputs": [
    {
     "data": {
      "application/vnd.jupyter.widget-view+json": {
       "model_id": "dc09280ac81047f8bf584b62ea392ed1",
       "version_major": 2,
       "version_minor": 0
      },
      "text/plain": [
       "interactive(children=(Dropdown(description='feature', options=('mean radius', 'mean texture', 'mean perimeter'…"
      ]
     },
     "metadata": {},
     "output_type": "display_data"
    }
   ],
   "source": [
    "# Interactive PCA plot\n",
    "@interact\n",
    "# PCA plots\n",
    "def pca_interactive(df = fixed(combined_df), feature = combined_df.columns):\n",
    "    pca_plots(df = df, feature = feature)\n",
    "    "
   ]
  },
  {
   "cell_type": "markdown",
   "metadata": {
    "id": "3nXBHQ_gTcGv"
   },
   "source": [
    "## Clustering\n",
    "\n",
    "### Overview\n",
    "\n",
    "Suppose you want to discover if there are groups of samples that are similar to one another, but don't know where to start? Manually examining numbers and grouping things together is not something people are great at, unless it's points in 2D and 3D space. Even then, you want to have a definition of how you got those groups. Clustering refers to automated procedures by which we can find groups given a bunch of samples defined by numbers.\n",
    "\n",
    "### Kmeans\n",
    "\n",
    "One example of clustering is kmeans, which attempts to find groups of samples where samples in the same group are closer to one another than they are to other samples.\n",
    "\n",
    "The function it tries to minimize is as follows:\n",
    "\n",
    "$\\sum_{i=1}^{N}\\sum_{k=1}^K r_{ik} \\cdot dist(x_i, \\mu_k)^2$\n",
    "\n",
    "where $x_i$ is a datapoint, $r_{ik}$ = 1 if $x_i$ is in cluster $k$ and = 0 otherwise, and $dist(x_i, \\mu_k)$ is the Euclidean distance between the datapoint and the mean of all datapoints in cluster k.\n",
    "\n",
    "More details on kmeans algorithm [here](https://see.stanford.edu/materials/aimlcs229/cs229-notes7a.pdf).\n",
    "\n",
    "We can try clustering with a varying number of clusters. For this exercise, we're going to use the first 2 PCs we found in the breast cancer dataset, as it will be easier to visualize what kmeans is doing.\n",
    "\n",
    "Let's try k = 2:"
   ]
  },
  {
   "cell_type": "code",
   "execution_count": 25,
   "metadata": {
    "id": "0NymOB7PTcGw",
    "outputId": "5b55bd1c-f891-433b-e1a3-fc772034b92f"
   },
   "outputs": [
    {
     "data": {
      "text/html": [
       "<div>\n",
       "<style scoped>\n",
       "    .dataframe tbody tr th:only-of-type {\n",
       "        vertical-align: middle;\n",
       "    }\n",
       "\n",
       "    .dataframe tbody tr th {\n",
       "        vertical-align: top;\n",
       "    }\n",
       "\n",
       "    .dataframe thead th {\n",
       "        text-align: right;\n",
       "    }\n",
       "</style>\n",
       "<table border=\"1\" class=\"dataframe\">\n",
       "  <thead>\n",
       "    <tr style=\"text-align: right;\">\n",
       "      <th></th>\n",
       "      <th>worst symmetry</th>\n",
       "      <th>worst fractal dimension</th>\n",
       "      <th>0</th>\n",
       "      <th>1</th>\n",
       "      <th>2</th>\n",
       "      <th>label</th>\n",
       "      <th>k2</th>\n",
       "    </tr>\n",
       "  </thead>\n",
       "  <tbody>\n",
       "    <tr>\n",
       "      <th>0</th>\n",
       "      <td>0.4601</td>\n",
       "      <td>0.11890</td>\n",
       "      <td>9.192837</td>\n",
       "      <td>1.948583</td>\n",
       "      <td>-1.123166</td>\n",
       "      <td>malignant</td>\n",
       "      <td>1</td>\n",
       "    </tr>\n",
       "    <tr>\n",
       "      <th>1</th>\n",
       "      <td>0.2750</td>\n",
       "      <td>0.08902</td>\n",
       "      <td>2.387802</td>\n",
       "      <td>-3.768172</td>\n",
       "      <td>-0.529293</td>\n",
       "      <td>malignant</td>\n",
       "      <td>1</td>\n",
       "    </tr>\n",
       "    <tr>\n",
       "      <th>2</th>\n",
       "      <td>0.3613</td>\n",
       "      <td>0.08758</td>\n",
       "      <td>5.733896</td>\n",
       "      <td>-1.075174</td>\n",
       "      <td>-0.551748</td>\n",
       "      <td>malignant</td>\n",
       "      <td>1</td>\n",
       "    </tr>\n",
       "    <tr>\n",
       "      <th>3</th>\n",
       "      <td>0.6638</td>\n",
       "      <td>0.17300</td>\n",
       "      <td>7.122953</td>\n",
       "      <td>10.275589</td>\n",
       "      <td>-3.232790</td>\n",
       "      <td>malignant</td>\n",
       "      <td>1</td>\n",
       "    </tr>\n",
       "    <tr>\n",
       "      <th>4</th>\n",
       "      <td>0.2364</td>\n",
       "      <td>0.07678</td>\n",
       "      <td>3.935302</td>\n",
       "      <td>-1.948072</td>\n",
       "      <td>1.389767</td>\n",
       "      <td>malignant</td>\n",
       "      <td>1</td>\n",
       "    </tr>\n",
       "  </tbody>\n",
       "</table>\n",
       "</div>"
      ],
      "text/plain": [
       "   worst symmetry  worst fractal dimension         0          1         2  \\\n",
       "0          0.4601                  0.11890  9.192837   1.948583 -1.123166   \n",
       "1          0.2750                  0.08902  2.387802  -3.768172 -0.529293   \n",
       "2          0.3613                  0.08758  5.733896  -1.075174 -0.551748   \n",
       "3          0.6638                  0.17300  7.122953  10.275589 -3.232790   \n",
       "4          0.2364                  0.07678  3.935302  -1.948072  1.389767   \n",
       "\n",
       "       label k2  \n",
       "0  malignant  1  \n",
       "1  malignant  1  \n",
       "2  malignant  1  \n",
       "3  malignant  1  \n",
       "4  malignant  1  "
      ]
     },
     "execution_count": 25,
     "metadata": {},
     "output_type": "execute_result"
    }
   ],
   "source": [
    "from sklearn import cluster\n",
    "\n",
    "# function to do kmeans and add data to dataframe\n",
    "\n",
    "def do_kmeans(df, feats_use, k = 2, col_name = 'cluster'):\n",
    "    # df = pandas DataFrame with numeric features\n",
    "    # feats_use = list or array features columns to subset\n",
    "    # modifies dataframe to contain cluster labels\n",
    "    data_use = df[feats_use].to_numpy().astype('float64')\n",
    "    # setup + run kmeans\n",
    "    kmeans_obj = cluster.KMeans(n_clusters = k, random_state = 42)\n",
    "    clust_labs = kmeans_obj.fit_predict(data_use)\n",
    "    # conver clust_labs to string (categorical)\n",
    "    clust_labs = clust_labs.astype('str')\n",
    "    df[col_name] = clust_labs\n",
    "    \n",
    "do_kmeans(combined_df, feats_use = ['0', '1'], k = 2, col_name = 'k2')\n",
    "\n",
    "combined_df.iloc[:,28:combined_df.shape[1]].head()"
   ]
  },
  {
   "cell_type": "code",
   "execution_count": 26,
   "metadata": {
    "id": "_5shhG6WTcGx",
    "outputId": "854bebf5-4320-4351-b681-c361f7c8f68f"
   },
   "outputs": [
    {
     "data": {
      "image/png": "[encoded data removed]",
      "text/plain": [
       "<Figure size 1080x360 with 3 Axes>"
      ]
     },
     "metadata": {
      "needs_background": "light"
     },
     "output_type": "display_data"
    }
   ],
   "source": [
    "pca_plots(combined_df, 'k2')"
   ]
  },
  {
   "cell_type": "code",
   "execution_count": 27,
   "metadata": {
    "id": "tMcUD2-ITcGz",
    "outputId": "4d00aa71-b139-43d2-9db3-d3dd3fb13ddb"
   },
   "outputs": [
    {
     "data": {
      "image/png": "[encoded data removed]",
      "text/plain": [
       "<Figure size 1080x360 with 3 Axes>"
      ]
     },
     "metadata": {
      "needs_background": "light"
     },
     "output_type": "display_data"
    }
   ],
   "source": [
    "pca_plots(combined_df, 'label')"
   ]
  },
  {
   "cell_type": "markdown",
   "metadata": {
    "id": "EtDKn5M1TcG1"
   },
   "source": [
    "Notice how the data's been partitioned into two clusters of samples that are close to one another? Also notice how in our particular dataset, clustering with k = 2 nicely partitions data into 2 groups separated perfectly in the space of PC 0 and PC 1?"
   ]
  },
  {
   "cell_type": "markdown",
   "metadata": {
    "id": "hZR3yhiwTcG1"
   },
   "source": [
    "Let's try k = 3:"
   ]
  },
  {
   "cell_type": "code",
   "execution_count": 28,
   "metadata": {
    "id": "S1UnSVP2TcG2",
    "outputId": "61549afe-cec6-4818-a1ee-c87609c6983f"
   },
   "outputs": [
    {
     "data": {
      "text/html": [
       "<div>\n",
       "<style scoped>\n",
       "    .dataframe tbody tr th:only-of-type {\n",
       "        vertical-align: middle;\n",
       "    }\n",
       "\n",
       "    .dataframe tbody tr th {\n",
       "        vertical-align: top;\n",
       "    }\n",
       "\n",
       "    .dataframe thead th {\n",
       "        text-align: right;\n",
       "    }\n",
       "</style>\n",
       "<table border=\"1\" class=\"dataframe\">\n",
       "  <thead>\n",
       "    <tr style=\"text-align: right;\">\n",
       "      <th></th>\n",
       "      <th>worst symmetry</th>\n",
       "      <th>worst fractal dimension</th>\n",
       "      <th>0</th>\n",
       "      <th>1</th>\n",
       "      <th>2</th>\n",
       "      <th>label</th>\n",
       "      <th>k2</th>\n",
       "      <th>k3</th>\n",
       "    </tr>\n",
       "  </thead>\n",
       "  <tbody>\n",
       "    <tr>\n",
       "      <th>0</th>\n",
       "      <td>0.4601</td>\n",
       "      <td>0.11890</td>\n",
       "      <td>9.192837</td>\n",
       "      <td>1.948583</td>\n",
       "      <td>-1.123166</td>\n",
       "      <td>malignant</td>\n",
       "      <td>1</td>\n",
       "      <td>1</td>\n",
       "    </tr>\n",
       "    <tr>\n",
       "      <th>1</th>\n",
       "      <td>0.2750</td>\n",
       "      <td>0.08902</td>\n",
       "      <td>2.387802</td>\n",
       "      <td>-3.768172</td>\n",
       "      <td>-0.529293</td>\n",
       "      <td>malignant</td>\n",
       "      <td>1</td>\n",
       "      <td>1</td>\n",
       "    </tr>\n",
       "    <tr>\n",
       "      <th>2</th>\n",
       "      <td>0.3613</td>\n",
       "      <td>0.08758</td>\n",
       "      <td>5.733896</td>\n",
       "      <td>-1.075174</td>\n",
       "      <td>-0.551748</td>\n",
       "      <td>malignant</td>\n",
       "      <td>1</td>\n",
       "      <td>1</td>\n",
       "    </tr>\n",
       "    <tr>\n",
       "      <th>3</th>\n",
       "      <td>0.6638</td>\n",
       "      <td>0.17300</td>\n",
       "      <td>7.122953</td>\n",
       "      <td>10.275589</td>\n",
       "      <td>-3.232790</td>\n",
       "      <td>malignant</td>\n",
       "      <td>1</td>\n",
       "      <td>2</td>\n",
       "    </tr>\n",
       "    <tr>\n",
       "      <th>4</th>\n",
       "      <td>0.2364</td>\n",
       "      <td>0.07678</td>\n",
       "      <td>3.935302</td>\n",
       "      <td>-1.948072</td>\n",
       "      <td>1.389767</td>\n",
       "      <td>malignant</td>\n",
       "      <td>1</td>\n",
       "      <td>1</td>\n",
       "    </tr>\n",
       "  </tbody>\n",
       "</table>\n",
       "</div>"
      ],
      "text/plain": [
       "   worst symmetry  worst fractal dimension         0          1         2  \\\n",
       "0          0.4601                  0.11890  9.192837   1.948583 -1.123166   \n",
       "1          0.2750                  0.08902  2.387802  -3.768172 -0.529293   \n",
       "2          0.3613                  0.08758  5.733896  -1.075174 -0.551748   \n",
       "3          0.6638                  0.17300  7.122953  10.275589 -3.232790   \n",
       "4          0.2364                  0.07678  3.935302  -1.948072  1.389767   \n",
       "\n",
       "       label k2 k3  \n",
       "0  malignant  1  1  \n",
       "1  malignant  1  1  \n",
       "2  malignant  1  1  \n",
       "3  malignant  1  2  \n",
       "4  malignant  1  1  "
      ]
     },
     "execution_count": 28,
     "metadata": {},
     "output_type": "execute_result"
    }
   ],
   "source": [
    "do_kmeans(combined_df, feats_use = ['0', '1'], k = 3, col_name = 'k3')\n",
    "\n",
    "combined_df.iloc[:,28:combined_df.shape[1]].head()"
   ]
  },
  {
   "cell_type": "code",
   "execution_count": 29,
   "metadata": {
    "id": "A93PC6RxTcG4",
    "outputId": "4c28a569-01bf-42d6-805e-4176a163ce3c"
   },
   "outputs": [
    {
     "data": {
      "image/png": "[encoded data removed]",
      "text/plain": [
       "<Figure size 1080x360 with 3 Axes>"
      ]
     },
     "metadata": {
      "needs_background": "light"
     },
     "output_type": "display_data"
    }
   ],
   "source": [
    "pca_plots(combined_df, 'k3')"
   ]
  },
  {
   "cell_type": "markdown",
   "metadata": {
    "id": "PZdsc0PaTcG6"
   },
   "source": [
    "Now we have 3 groups of samples that looks close to one another. Also notice that again, separation only happens in PC 0 and PC 1, the variables that were input to kmeans clustering\n",
    "\n",
    "### Side Notes on Kmeans\n",
    "\n",
    "Kmeans starts with randomly assigned clusters, and tries to improve cluster assignment in an iterative process. We set a seed for a random number generator which ensures that, given a particular random seed, we get the same clustering result every time. Different start points can result in different solutions. If you really want to be rigorous about checking if the solutions that come out don't vary too much given different start points, you can run kmeans 100-1000 times with different seeds and calculate the similarity of solutions with the [adjusted rand index](https://en.wikipedia.org/wiki/Rand_index#Adjusted_Rand_index).\n",
    "\n",
    "Kmeans works best if data is distributed roughly spherically, i.e. the density of points emanating from the center of a given group doesn't change that much depending on the direction outward from the center of the cluster. Kmeans also doesn't work well when groups of samples have a curved distribution. Examples of how violations of this assumption can lead to bad clustering are given [here](https://scikit-learn.org/stable/modules/clustering.html)"
   ]
  },
  {
   "cell_type": "markdown",
   "metadata": {
    "id": "LYX8lrwwTcG6"
   },
   "source": [
    "#### Choosing the number of clusters\n",
    "\n",
    "The question then arises: How many clusters is the best number? If we choose too few, we might not be capturing all of the cool structure in the data. \n",
    "\n",
    "We can use the silhouette score, which compares the the distance between samples in the same cluster to samples in the nearest cluster (more on the silhouette score [here](https://scikit-learn.org/stable/modules/generated/sklearn.metrics.silhouette_score.html).  Ideally, we want to maximize this score across all clusters, so we'll take the average silhouette score across all samples and make this the function we want to maximize.\n",
    "\n",
    "Let's see both the clusters that come out and the resulting scores\n"
   ]
  },
  {
   "cell_type": "code",
   "execution_count": 30,
   "metadata": {
    "id": "WyIHPJqCTcG6",
    "outputId": "05faadab-5b27-43d4-9399-f2506ab59faf"
   },
   "outputs": [
    {
     "data": {
      "text/plain": [
       "Text(0, 0.5, 'silhouette score')"
      ]
     },
     "execution_count": 30,
     "metadata": {},
     "output_type": "execute_result"
    },
    {
     "data": {
      "image/png": "[encoded data removed]",
      "text/plain": [
       "<Figure size 432x288 with 1 Axes>"
      ]
     },
     "metadata": {
      "needs_background": "light"
     },
     "output_type": "display_data"
    }
   ],
   "source": [
    "from sklearn import metrics\n",
    "\n",
    "def silhouette_analysis(df, feats_use = ['0', '1'], k_use = np.arange(2,9)):\n",
    "    # copy dataframe and do not modify input\n",
    "    df_copy = df.copy()\n",
    "    mean_silhouette_scores = []\n",
    "    for k in k_use:\n",
    "        col_name = 'k' + str(k)\n",
    "        do_kmeans(df_copy, feats_use = feats_use, k = k, col_name = col_name)\n",
    "        input_data = df_copy[feats_use].to_numpy().astype('float64')\n",
    "        clust_labs = df_copy[col_name]\n",
    "        dist_mat = metrics.pairwise.euclidean_distances(input_data)\n",
    "        s_mean = metrics.silhouette_score(dist_mat, clust_labs)\n",
    "        mean_silhouette_scores.append(s_mean)\n",
    "    return(mean_silhouette_scores)\n",
    "\n",
    "s_scores = silhouette_analysis(combined_df)\n",
    "plt.plot(np.arange(2,9), s_scores)\n",
    "plt.xlabel('number of clusters')\n",
    "plt.ylabel('silhouette score')"
   ]
  },
  {
   "cell_type": "markdown",
   "metadata": {
    "id": "otz7vEowTcG8"
   },
   "source": [
    "As we can see, and perhaps unsurprisingly, 2 clusters gives the best separation of datapoints into clusters"
   ]
  },
  {
   "cell_type": "markdown",
   "metadata": {
    "id": "0FrLipkwTcG8"
   },
   "source": [
    "## Summary:\n",
    "\n",
    "We did an initial data exploration of a breast cancer dataset with PCA, and learned how clustering can automatically group similar samples together. Now it's your turn to apply what you've learned to your own data and see if you can find any cool insights!"
   ]
  },
  {
   "cell_type": "code",
   "execution_count": null,
   "metadata": {
    "id": "2LswdaNiTcG9"
   },
   "outputs": [],
   "source": []
  }
 ],
 "metadata": {
  "colab": {
   "name": "unsupervised_learning.ipynb",
   "provenance": []
  },
  "kernelspec": {
   "display_name": "Python 3",
   "language": "python",
   "name": "python3"
  },
  "language_info": {
   "codemirror_mode": {
    "name": "ipython",
    "version": 3
   },
   "file_extension": ".py",
   "mimetype": "text/x-python",
   "name": "python",
   "nbconvert_exporter": "python",
   "pygments_lexer": "ipython3",
   "version": "3.6.8"
  },
  "widgets": {
   "application/vnd.jupyter.widget-state+json": {
    "000bf37799ee45fcb5f5b21d2d49c00a": {
     "model_module": "@jupyter-widgets/controls",
     "model_name": "VBoxModel",
     "state": {
      "_dom_classes": [
       "widget-interact"
      ],
      "_model_module": "@jupyter-widgets/controls",
      "_model_module_version": "1.5.0",
      "_model_name": "VBoxModel",
      "_view_count": null,
      "_view_module": "@jupyter-widgets/controls",
      "_view_module_version": "1.5.0",
      "_view_name": "VBoxView",
      "box_style": "",
      "children": [
       "IPY_MODEL_871b1000de084472a3bd130c86416d18",
       "IPY_MODEL_29fc780acad940b782fbb199929e67b9"
      ],
      "layout": "IPY_MODEL_67d000462d82461eb2ab68e04cad2359"
     }
    },
    "13523723db8e499996fd1f68c9dc988a": {
     "model_module": "@jupyter-widgets/output",
     "model_name": "OutputModel",
     "state": {
      "_dom_classes": [],
      "_model_module": "@jupyter-widgets/output",
      "_model_module_version": "1.0.0",
      "_model_name": "OutputModel",
      "_view_count": null,
      "_view_module": "@jupyter-widgets/output",
      "_view_module_version": "1.0.0",
      "_view_name": "OutputView",
      "layout": "IPY_MODEL_63dd4cc727034c8c8a8043fc17d69cb1",
      "msg_id": "",
      "outputs": [
       {
        "image/png": "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\n",
        "metadata": {
         "needs_background": "light",
         "tags": []
        },
        "output_type": "display_data",
        "text/plain": "<Figure size 432x288 with 1 Axes>"
       }
      ]
     }
    },
    "1b85e0b83f094d77b8c10d376c12da76": {
     "model_module": "@jupyter-widgets/base",
     "model_name": "LayoutModel",
     "state": {
      "_model_module": "@jupyter-widgets/base",
      "_model_module_version": "1.2.0",
      "_model_name": "LayoutModel",
      "_view_count": null,
      "_view_module": "@jupyter-widgets/base",
      "_view_module_version": "1.2.0",
      "_view_name": "LayoutView",
      "align_content": null,
      "align_items": null,
      "align_self": null,
      "border": null,
      "bottom": null,
      "display": null,
      "flex": null,
      "flex_flow": null,
      "grid_area": null,
      "grid_auto_columns": null,
      "grid_auto_flow": null,
      "grid_auto_rows": null,
      "grid_column": null,
      "grid_gap": null,
      "grid_row": null,
      "grid_template_areas": null,
      "grid_template_columns": null,
      "grid_template_rows": null,
      "height": null,
      "justify_content": null,
      "justify_items": null,
      "left": null,
      "margin": null,
      "max_height": null,
      "max_width": null,
      "min_height": null,
      "min_width": null,
      "object_fit": null,
      "object_position": null,
      "order": null,
      "overflow": null,
      "overflow_x": null,
      "overflow_y": null,
      "padding": null,
      "right": null,
      "top": null,
      "visibility": null,
      "width": null
     }
    },
    "250bad957753485b80a83b1517066721": {
     "model_module": "@jupyter-widgets/controls",
     "model_name": "DropdownModel",
     "state": {
      "_dom_classes": [],
      "_model_module": "@jupyter-widgets/controls",
      "_model_module_version": "1.5.0",
      "_model_name": "DropdownModel",
      "_options_labels": [
       "mean radius",
       "mean texture",
       "mean perimeter",
       "mean area",
       "mean smoothness",
       "mean compactness",
       "mean concavity",
       "mean concave points",
       "mean symmetry",
       "mean fractal dimension",
       "radius error",
       "texture error",
       "perimeter error",
       "area error",
       "smoothness error",
       "compactness error",
       "concavity error",
       "concave points error",
       "symmetry error",
       "fractal dimension error",
       "worst radius",
       "worst texture",
       "worst perimeter",
       "worst area",
       "worst smoothness",
       "worst compactness",
       "worst concavity",
       "worst concave points",
       "worst symmetry",
       "worst fractal dimension"
      ],
      "_view_count": null,
      "_view_module": "@jupyter-widgets/controls",
      "_view_module_version": "1.5.0",
      "_view_name": "DropdownView",
      "description": "var_name",
      "description_tooltip": null,
      "disabled": false,
      "index": 0,
      "layout": "IPY_MODEL_dd9eb1e7c7d04eec97b7d89bc5f79d41",
      "style": "IPY_MODEL_aee0adf7e3284007a803ea170676245b"
     }
    },
    "26d00b9d2c0e4d85977aeb06c66e2463": {
     "model_module": "@jupyter-widgets/controls",
     "model_name": "DropdownModel",
     "state": {
      "_dom_classes": [],
      "_model_module": "@jupyter-widgets/controls",
      "_model_module_version": "1.5.0",
      "_model_name": "DropdownModel",
      "_options_labels": [
       "mean radius",
       "mean texture",
       "mean perimeter",
       "mean area",
       "mean smoothness",
       "mean compactness",
       "mean concavity",
       "mean concave points",
       "mean symmetry",
       "mean fractal dimension",
       "radius error",
       "texture error",
       "perimeter error",
       "area error",
       "smoothness error",
       "compactness error",
       "concavity error",
       "concave points error",
       "symmetry error",
       "fractal dimension error",
       "worst radius",
       "worst texture",
       "worst perimeter",
       "worst area",
       "worst smoothness",
       "worst compactness",
       "worst concavity",
       "worst concave points",
       "worst symmetry",
       "worst fractal dimension"
      ],
      "_view_count": null,
      "_view_module": "@jupyter-widgets/controls",
      "_view_module_version": "1.5.0",
      "_view_name": "DropdownView",
      "description": "var_name",
      "description_tooltip": null,
      "disabled": false,
      "index": 2,
      "layout": "IPY_MODEL_736a705833154ff19510029854314057",
      "style": "IPY_MODEL_c97a94cdb8754433bb9165b05fa47fd7"
     }
    },
    "29fc780acad940b782fbb199929e67b9": {
     "model_module": "@jupyter-widgets/output",
     "model_name": "OutputModel",
     "state": {
      "_dom_classes": [],
      "_model_module": "@jupyter-widgets/output",
      "_model_module_version": "1.0.0",
      "_model_name": "OutputModel",
      "_view_count": null,
      "_view_module": "@jupyter-widgets/output",
      "_view_module_version": "1.0.0",
      "_view_name": "OutputView",
      "layout": "IPY_MODEL_8cda080de11f4c68983bae8223595544",
      "msg_id": "",
      "outputs": [
       {
        "image/png": "iVBORw0KGgoAAAANSUhEUgAAA3IAAAE9CAYAAABORlBxAAAABHNCSVQICAgIfAhkiAAAAAlwSFlzAAALEgAACxIB0t1+/AAAADh0RVh0U29mdHdhcmUAbWF0cGxvdGxpYiB2ZXJzaW9uMy4yLjIsIGh0dHA6Ly9tYXRwbG90bGliLm9yZy+WH4yJAAAgAElEQVR4nOzdd3iUVfbA8e+dlgahE3pvAgIiTUEBBUTsim0tWFHXtbuuru66a1t3/amra2UVuygWFBVFFqT3Kr23hBYICWnT3jm/P2aAhExiAkneDDmf53mfZO685SSEmTnvvfdcIyIopZRSSimllIodDrsDUEoppZRSSilVNprIKaWUUkoppVSM0UROKaWUUkoppWKMJnJKKaWUUkopFWM0kVNKKaWUUkqpGKOJnFJKKaWUUkrFGJfdAVSE+vXrS6tWrewOQymlVAVbsmTJfhFpYHccsULfH5VSsaq8X+/PG5wkBzKsssXwq2+yiAwvrxhO1EmZyLVq1YrFixfbHYZSSqkKZozZbncMsUTfH5VSsaq8X+8PZFgsnNyiTMc4G2+sX54xnKiTMpFTSimllFJKqeIIECJkdxgnRBM5pZRSSimlVDUjWKKJnFJKKaWUUkrFjHCPnJTrOY0xzYEPgZTIJcaIyCvGmM+BjpHdagOZItIjyvHbgGzAAoIi0quk62kip5RSSimllKp2KmBoZRB4SESWGmNqAkuMMVNE5OrDOxhjXgSySjjHYBHZX5qLaSKnlFJKKaWUqlYEwZLy7ZETkd3A7sj32caYtUBTYA2AMcYAVwHnlMf1dB05pZRSSimlVLUTQsq0lYUxphVwGrCgQPNZwF4R2VjMYQL8bIxZYowZ/VvX0B45pVSpiQj79x3C5XJSp14Nu8NRSlUyCWWAeMHRmPCNZaWUik0CWGWfI1ffGFNwDZcxIjLm2J2MMTWAr4D7ReRQgaeuBcaVcP4BIpJmjGkITDHGrBORmcXtXOGJnDFmLHAhsE9EukbaXgAuAvzAZuBmEcmMcuw2yjDhTylVcTasTuOfj31B+p4sJCS07tCIx/51FY2b1bU7NKVUBRNrD5L5AARWAgacDaDWCxjP6XaHppRSx+04ip3s/618xBjjJpzEfSIiXxdodwGXA8W+cIpIWuTrPmPMBKAPUGwiVxlDK98Hjl0BfQrQVUS6ARuAx0o4frCI9NAkTin7ZGbk8qfb3yNt+wH8viCBgMWmtbt4+KZ3CAYsu8NT6qRnjBlrjNlnjFlVoK2uMWaKMWZj5Gudiri2SAjJuA4Cywnff/WBlYocvBWx9lTEJZVSqsIJYImUafstkTlw7wJrReSlY54eAqwTkdRijk2KFEjBGJMEDANWRdv3sApP5CLdgRnHtP0sIsHIw/lAs4qOQyl1/KZ+vwwrWDhhC4WEvDw/i+cUN8xbKVWO3qfoTdFHgaki0h6YGnlc/vwLIJRBeHBMARJE8sZXyCWVUqoyhMq4lUJ/4AbgHGPM8sg2IvLcNRwzrNIY08QYMynyMAWYbYxZASwEfhCRn0q6WFWYI3cL8Hkxzx2e8CfA29HGoCqlKt6e1Ez8vmCRditokb63pAq6SqnyICIzIxPnC7oEGBT5/gNgOvCncr94aDdEHX7kB2tHuV9OKaUqgyDHM0eu5HOKzAaiTiAWkZuitO0CRkS+3wJ0L8v1bK1aaYx5nPB6C58Us8sAEekJnA/cbYw5u4RzjTbGLDbGLE5PT6+AaJWqvrqc1oL4RE+RdofD0LGrdqgrZZOUSKlrgD2E7+aWP3c3kGj3ohMwnr4VckmllKpwAlYZt6rGtkTOGHMT4SIo14lEH3RacMIfcHjCX1QiMkZEeolIrwYNGlRAxEpVX/2HdKZho1q4Pc4jbXHxLrr2bEWHLk1tjEwpBRB5H436XnqiNzqNqx3EDQbiC7S6wVkfEi48voCVUspmQoUMraxUtiRyxpjhwCPAxSKSV8w+ZZ7wp5SqGG63i5c/Gs1l159JSpPaNG1Zj+vvPIe/vXKd3aEpVZ3tNcY0Boh83Rdtp/K40Wlqvwg1HwJnG3A0gcQbMPW+wpiE449eKaVsZbDKuFU1lbH8wDjCY/jrG2NSgScJV6mMI7w+AsB8EbnTGNMEeEdERhAeIjIh8rwL+PS3JvwppSpOUo14brlvGLfcN8zuUJRSYROBUcDzka/fVtSFjHFhkkZB0qiKuoRSSlUqAUJVcLhkWVR4Iici10ZpfreYfU9owp9SSil1MirmpujzwHhjzK3AduAq+yJUSqnYUxV72cqiKlStVEoppVQJirkpCnBupQailFKqytBETimllFJKKVWtCNojp5RSSimllFIxJySayCmllFJKKaVUzNAeOaWUUkoppZSKMYLBsm9J7XKhiZxSSimllFKq2tGhlUoppZRSSikVQ3RopVJKKaWUUkrFHIMlOrRSKaWUUkoppWKGACGdI6eUUkoppZRSsUWHViqllFJKKaVUDBHRoZVKKaWUUkopFXNC2iOnlFJKKaWUUrEjXLVSe+SUUkoppZRSKobo0EqllFJKKaWUiilatVIppZRSSimlYpAlOkdOKaWUUkoppWKGYGJ+jlxsR6+UUkoppZRS1ZAmckqpMtm37xArV6Vy6FC+3aEopZRSSh23kDjKtP0WY0xzY8wvxpg1xpjVxpj7Iu1/M8akGWOWR7YRxRw/3Biz3hizyRjz6G9dT4dWKqVKJd/r56lnJ7J0+TbcbheBQJBLLuzJXaMHY0xsjzFXSimlVPVSQcsPBIGHRGSpMaYmsMQYMyXy3Msi8n/FHWiMcQKvA0OBVGCRMWaiiKwp7hjtkVNKlcpLr0xm6fJt+P0Wubk+/H6L735Yznc/LLc7NKWUUkqpMhEMlpRt+81ziuwWkaWR77OBtUDTUobUB9gkIltExA98BlxS0gGayCmlfpPPF2DGrPX4/Vahdq8vwBdfL7IpKqWUUkqp4xfCUaatLIwxrYDTgAWRpj8YY341xow1xtSJckhTYGeBx6n8RhJYKYlcJOB9xphVBdrqGmOmGGM2Rr5G+4EwxoyK7LPRGDOqMuJVShWWnx8o9jmdK6eUUkqpWCMCljjKtAH1jTGLC2yjo53bGFMD+Aq4X0QOAW8CbYEewG7gxfL4GSqrR+59YPgxbY8CU0WkPTA18rgQY0xd4EmgL+HuxieLS/iUUhWnVq0E6tROKtJujKFH9xY2RKSUUkopdSIMoTJuwH4R6VVgG1PkrMa4CSdxn4jI1wAisldELBEJAf8lnNccKw1oXuBxs0hbsSolkRORmUDGMc2XAB9Evv8AuDTKoecBU0QkQ0QOAlMomhAqpSqYMYaH7juPuDjXkcImLpeDxEQPt98y0ObolFJKKaXKRjiuHrkSmfCHpHeBtSLyUoH2xgV2uwxYdeyxwCKgvTGmtTHGA1wDTCzpenZWrUwRkd2R7/cAKVH2KfNYUaVUxejTuw2vvXw9n41fwM7UDLp2acbVI/vQsGGy3aEpVW0ZYx4AbiP8mWQlcLOIeO2NSimlYkMFVK3sD9wArDTGHK4G92fgWmNMD8Kv1duAOwCMMU2Ad0RkhIgEjTF/ACYDTmCsiKwu6WJVYvkBERFjjJzIOSJjVEcDtGihQ72Uqgjt2qbwxGMX2x2GUgowxjQF7gU6i0i+MWY84Tu479samFJKxQDBECpFJcoynVNkNhDtpJOK2X8XMKLA40nF7RuNnVUr9x7uZox83Rdln1KPFRWRMYfHqzZo0KDcg1VKKaWqIBeQYIxxAYnALpvjUUqpmGHhKNNW1dgZ0UTgcBXKUcC3UfaZDAwzxtSJFDkZFmlTSimlqjURSQP+D9hBuApaloj8bG9USikVGwQIiaNMW1VTWcsPjAPmAR2NManGmFuB54GhxpiNwJDIY4wxvYwx7wCISAbwNOHJf4uApyJtSimlVLUWucF5CdAaaAIkGWOuj7Lf6MOlstPT0ys7TKWUqqIMVhm3qqZS5siJyLXFPHVulH0XE564ffjxWGBsBYWmlFJKxaohwFYRSQcwxnwNnAl8XHCnSHnsMQC9evU6ofnoSil1sjjcIxfLqkSxE6Wqs71pBzl0MJeW7VPwxLntDkcpFTt2AP2MMYlAPuGbo4vtDUkppWJHVexlKwtN5JSySeaBHJ65+wM2rkzF5XYSCgmj/3wR51/Tz+7QlFIxQEQWGGO+BJYCQWAZkZ43pZRSJRMx2iOnlDo+T9/1Pht+TSUYtPD7ggC8/exEmrZuQLe+bW2OTikVC0TkSeBJu+NQSqlYVJpFvquy2I5eqRi1a/t+Nq3ZRTBoFWr35Qf4+t0ZNkWllFJKKaVihfbIKWWDrAM5uFxO/ASKPLd/7yEbIlJKKaWUqj4ECOkcOaVUWbXq2BjLsoq0uz1Oep3d0YaIlFJKKaUqzv69h/jqw9n8ungbjZrWYeRNAzilW3MbIzI6tFIpVXYJSXHc+MBw4hKOVql0uZ3UqJXIZTefbWNkSimllFLla9/uTO4a+Rrffb6Qzet2M3faGh69/T1mTl5pW0zh5QdMmbaqRnvklLLJ5becTYu2Dfl67Ewy0rPpNbAjI28bRK26SXaHppRSSilVbj5+cxq5uV5CVngpSxHweQO8/o/v6T+kC06nPX1LVoz3aWkip5SNeg3sRK+BnewOQymllFKqwiydv/lIEleQNz/Avt2ZNG5Wt9JjEqpmL1tZaCKnlFJKKaXKRUZ+PnN37CDB7WJAi5bEufSjpoJadZKiFnMLhULUSE6wIaLI9bVHTimllFJKVXfvLVvKP2fPwu1wYDAYh2HsJZdxepMmdoembHblTQP499+/wZt/tFq32+OkV/8O1LQpkRMBK8Z75GI7DVXVkmWF2LZpL/t2Z9odilJKKaWAVfv28sKc2fgti9xAgJyAn2yfj1u+nYAvGLQ7PGWzgcNPZeRNA/DEuUisEYcnzsWpp7fm4WcutzUuLXaiVCVaMHM9Lz7xFX5/kJAVomW7FP768rU0aFTb7tCUUkqpamv8qlX4oyyrIyLM3rGdc9u0tSEqVVUYY7j+znO47Poz2b55H/UbJtOwsb2f3cJz5GK7Tyu2o1fVys6t6Tz38GccyszDm+fH7wuyee0u/nTbWESKTqBVSimlVOXI9fsJRXkvFhFy/YEoR6jqKKlGPJ27t7A9iTvMwpRpq2o0kVMx4/vPFxIMFL7bFwoJB/fnsGb5DpuiUkoppdTw9u1JdLuLtAdDIfq3aGFDREqVTNeRU6oS7dudiWWFij5hDBnp2ZUf0EnEHwgyYe4qJi1ah8flZORZ3RjWswPGVL0XLaWUUlXPOa3b0KdpMxampZIXCOAwBo/TyUNn9qdeYqLd4SkVRewPrdRETsWMnme2Y+m8Tfi8hYdoBAMWnbo1symq2Be0Qox+9UvWp6bj9YcnpK/evocF63bw1+uG2hydUkqpWOB0OHjnkkv53+bN/LhpAzU8cVzZpQvdUhrZHZpSxQpVweGSZaGJnIoZQy86ja8/nMP+vYcIRBKO+AQ3Qy/pqcVOTsCsVVvYkLb/SBIHkO8PMmnRWm4ccjqtUip/kU6llFKxx2EMw9q1Y1i7dnaHotRvOhmWH9BETsWM+EQP/xl3F199OIfZU1aRWCOei6/tR9PmdZnz8yradWlKStM6docZU0SEH+atJd9XdCK6MYYlG1M1kVNKKaXUSUmHVipViWokJzDqD0MY9YchZB7I4bGb32HPjgwcTkPAbzH4oh7c98zlOByx/R+zMqTuPsj9z3zFLm8OxMGxowucDge1a9izSKdSSimlVEUKLz9Qvj1yxpjmwIdACuF6KmNE5BVjzAvARYAf2AzcLCJFFkQ2xmwDsgELCIpIr5Kup592Vcz654Pj2Ll5H958P3k5PgL+IDMmreDHzxfaHVqVJyI8+OxX7EnPQnIswq81hbmcDs7q0rryg1NKKaWUik1B4CER6Qz0A+42xnQGpgBdRaQbsAF4rIRzDBaRHr+VxIGNiZwxpqMxZnmB7ZAx5v5j9hlkjMkqsM9f7YpXVS1ZGbmsWrINK1i4iqUvP8DEj+baFFXsWLdlLxlZeYiAIwRxWQKh8OY0hsZ1azLmvpF43Nppr5RSSqmTUwhTpu23iMhuEVka+T4bWAs0FZGfReRwMYL5QLlU6bPtU5qIrAd6ABhjnEAaMCHKrrNE5MLKjE2VDxFh9/YDOJyGRs3rleu5vfl+HE4HHLOuHEBerq9cr3Uyys7x4nAcfUFy+iFhvxByQae29Xnvqet06QGllFIlEhHWZ89hccZEvFYOHWqeQZ96lxHvrGF3aEr9psPryFUUY0wr4DRgwTFP3QJ8XkJYPxtjBHhbRMaUdI2qcrv9XGCziGy3OxBVPtav2ME/7vmYzAPZiEBK0zo8/vqNtOxQPmWIGzapTXLtRPbvySrU7nQ5OOPczuVyjZNZlw5NCB7Tm2mAJIeLi/p30SROKQWASJBgYCXgwuXugjE6I0MdNWPfByzOmEhAvABk+NNYnfULt7R5jTinrh2nqr7jKHZS3xizuMDjMdGSLWNMDeAr4H4ROVSg/XHCwy8/Keb8A0QkzRjTEJhijFknIjOLC6aqvCJfA4wr5rkzjDErjDE/GmO6VGZQ6vhkZ+bx5xveZm9qBr78AH5vgNQt+/jjNW8UWQPueBljePD5K4mLd+N0hf+M4+Ld1K5Xg9/dfW65XONklpTg4Q83nE2cx3VkoECcx0WTlNpccE5XW2NTSlUNft9sDuzpQdaBa8g8cAUZe3sT8K+wOyxVReQGM1mYMeFIEgdgSYCc4EFWZE62MTKlSknCxU7KsgH7RaRXgS1aEucmnMR9IiJfF2i/CbgQuE5EihYnAEQkLfJ1H+GRin1K+hFs75EzxniAi4k+6W8p0FJEcowxI4BvgPbFnGc0MBqgRYsWFRStKo1fJi4tMndNJLxw97wpqzj7gu6sW7IVb56fU3q1JiEp/riuc9oZ7Xhj4n1898k8dm0/QPd+bTlvZG+Sah7f+aqby4efRvvWDfn6p+VkZOUxsG97RgzqQnyc2+7QlFI2C1n7yMq4CST/aJvkknXgGuqlLME4tLelutuVvx6XcWNJ4Ru0QfGxJWcJfepdZlNkSpWOUP4LgpvwkKZ3gbUi8lKB9uHAI8BAEckr5tgkwCEi2ZHvhwFPlXQ92xM54HxgqYjsPfaJgl2RIjLJGPOGMaa+iOyPsu8YYAxAr169oma5qnIc2JMVtect4A+yacUO3nliPHk5+RhjsIIhfv+Pqxl27ZnHda0mLetzx58vOtGQq61TOzbl1I5N7Q5DKVXF5Od9DRIq0i5Y+Lw/EZ94uQ1RqaqkhqsOoSh/IwYHNV31bYhIqbKrgDly/YEbgJXGmOWRtj8DrxJe7GlKZPrKfBG50xjTBHhHREYQXrJgQuR5F/CpiPxU0sWqQiJ3LcUMqzTGNAL2iogYY/oQHgp6oDKDU2XX+fTWxCfOwZvnL9TudDqY/NFMcjIL34h447HPaN+tBa27lL6Az66dGXz/xSJ2px7ktL6tGXpRDxIS48olfqWUihXGmNrAO0BXwjeYbxGReSd6XgntB6IUjpIAoVDGiZ5enQQaxbcn2d2ADH8awtGEzmnc9Kp3sY2RKVU6FVHsRERmU2RlXgAmFbP/LmBE5PstQPeyXM/WOXKRbsOhQMHxo3caY+6MPBwJrDLGrCCcyV5T3JhSVXX0GtSJlu1T8MQfvU8Ql+CmRZv6RYZcAvh9QSZ9NLvU5186fzN3XvUG34ybz9xf1vLOv6dwx5VvcCgrak+1UkqdzF4BfhKRToQ/AKwtj5N64gaAiTJ80jjxxPUrj0uoGGeM4ZqWz5IS3waX8eBxJBDnSOLCJg+SEt/G7vCUKpXjmCNXpdjaIyciuUC9Y9reKvD9a8BrlR2XOjFOp4N/jvs937w3k6kTluB0Ojjvqj7UqpXAf/74aZH9JSRk7c8u1blDoRAv/HVCoaGbPm+AA+nZfD52Frc/cF65/RxKKVWVGWNqAWcDNwGIiB/wl3RMabnjzsbt7kkgsOToPDmTSFzcebjcWhBJhSW763Nzm1fJ9O/BF8qlflxLnKbiPlpaoRCp+7OokRBHvZo6T1OdGKFqJmdlURWGVqqTUFy8m6vvOper7zpaQTJjXxbBQLDIvvGJcZxxful6knenHiQ321ukPRiwmD11rSZySqnqpDWQDrxnjOkOLAHui9wkPSHGOKhV72O8eZ/jzfsSY1zEJ/6OuIRLT/TU6iRU21M+SwuVZPrKzfxt3BS8/gBWSOjRpgn/HDWCuprQqRNQ3sVOKltVWX5AVQN1G9bi6nuHE5fgOdIWl+ihZafGDLioZ6nOEZ/gIRQqOjwTIDHJE7VdKaVOUi6gJ/CmiJwG5AKPHruTMWa0MWaxMWZxenp6qU9ujJuEpOup0+Abatf/kvjEy3UdOWWLDWnp/On9SRzMySffH8QftFi6OY0/vP2N3aGpWCY6tFKpMrnu4Qvo0rctP3wwi9xD+Qy85HQGj+yD21O6P8V6DWrS/pQmrFuVSsg6Ol0yLt7NRVeXuNSGUkqdbFKBVBFZEHn8JVESOa3qrCrbD9vX8fKKWezOzaZTnQY82nMQvRs2P+7zfTx9Kf6gVagtaIXYvOcAG3ftp30TrZKpyq4iip1UNk3kVKXrcVYnepzV6biPf/xfV/HI6PfJSM/GGEMwYDH4/FMZfmlPQqEQy+duYu3SbdRpmMzAC7qTVDOhHKNXSqmqQUT2GGN2GmM6ish64Fxgjd1xqept3MblPLVoKvlWeC77kvQ0bvjf53w85Bp6NSx9deqC0jIOEYpS687lcLAvK0cTOXXcNJFTqpLVb5jMuxPuYc2Knezfd4iOXZvSqEkd/L4gj980hk2r0/Dm+YlLcPPu8z/wz4/voF3X8JvH/vRsZk5bQ36+n9792tGhU2ObfxqllDoh9wCfGGM8wBbgZpvjUdVYSIR/LZtxJIk7zGsF+efS6Xwx/PrjOm/fDs1ZuXU3vmN65fxBi07NGh53vKp602InStnEGEOXHi0KtU38aDYbVqbij1S09OUHgADP3vMRY6c9yuwZ63j+qW9BhGAwxLiP5nLO0C488KcLiCy+qJRSMUVElgO97I5DKYAsv5fcQPTCqeszSz8/81hXD+jB57N+xcrJJxiZJx/vcXFV/25avVKdEInxRE5nLauTxv++WnwkiSvoYHo2W9bv5p9PT8TvC+L3W4RCgs8b4Jcpq1m8cIsN0SqllFInl5ruONwOZ9TnmiQlH/d5ayXFM/6R67hqQDea1k3mlGYN+cvVQ3jw0rOP+5xKQbhqZVm2qkZ75NRJo6RetbWr0nA6ij7v9QaYOnklvfu2rcjQlFJKqZOey+Hg1lN68981C8i3ji43lOB08UD3s07o3PWSk/jTyMH8aeTgEw1TKQBEYn+OnPbIqZPG0Ct6ERfvLtJer1Et6qYUfydQh1UqpZRS5eP+7gMY3aUvSS4PboeDevGJPN3nPM5r0cHu0JQ66WiPnDppXHRDfxZNX8e6FTvw+wJ44ty4XE4e/88NNG5VP2rFq/h4N0OHn1phMeXm+sjKyqNhw2RcrujDTZRSSqmThcMYHuh+Fvee2p/coJ8a7jgcesNUVVGxPkdOEzl10nB7XDz34WhWLtzC2qXbqZuSzIDzTiUhKQ6Ax/9+Oc/85SsAgsEQTpeDYSO6cVqv1uUei98f5MUXf2TG9LU4nQ6cTgej7xjMhReeVu7XUkoppaoap8NBsife7jCUKoFWrVSqSjHG0K1vW7pFmfPWr397Pv7qHmZNX0deno8+/drRum3FlC1+8cUfmTljHYGARSAQLpf8xutTqV+/Jv36tauQayqllFJKqdLTHjmlYkjtOklcdNnpFXqNnBwvM6avPZLAHebzBfjkk7mayCmllFJK2UyI/WInmsgpVc4OZeXjdDqKJHIA6fsO2RCRUkoppZQqRMKVK2OZJnKqVDat2M6KWetIrpNE/4tPJ7Fmgt0hVVkNGibjdBYtCOtwGLqe2tyGiJRSSiml1LGq4tpwZaGJnCpRKBTihdH/Ze53S7EsC5fbxZuPfMIzXz9E5746RDAat9vJbbcP4q03p+HzhRcodzgMcXFuRo0aYHN0SimllFJK0Dly6iQ38+tFzPt+Gb58PwBBf3i44FO/+w+fbHg5as+Tgosv7kmDBjX59JO5pKdn07VrM0aNOovmzevZHZpSSimllNKqlepkN/nDmXjzfEXaffl+Ni7dSqfeRatDqrAzzmjPGWe0tzsMpZRSSikVhc6RUyc1ywpFbTcmPOxSKaWUUkqpWBTrQyt1XJwq0ZDf9Sc+Ma5Iu9PlpOPpbWyISCmllFJKqRMjEk7kyrJVNZrIqRKde/UZnNq/A/FJ4WTOE+8mLtHDY+/fhdPltDk6dTyCVogpazbx5vQF/LhyPf5g0WUSlFJKKTsEgxY5uV4k1se8qZgQElOmrarRoZWqRE6Xk6e+fIAVM9eyfPpaatWvyaAr+1KnYS27Q1PH4WBePteO+Yz92bnk+QMketz866eZfHbHtaQk17A7PKWUUtVUIGDx1phpTPpxBcFgiHr1anDfPcM4o59WyFYVJ9bvF9jeI2eM2WaMWWmMWW6MWRzleWOMedUYs8kY86sxpqcdcVZHm9bs4vmHxnHvyNeYN2czF4w+l8vuHqZJXAz7148zSTt4iFx/AAFy/QHSs3P528T/2R2aUkqpauzlV35i0o8r8PmCWFaIffsO8dQz37BqdardoamTWHkPrTTGNDfG/GKMWWOMWW2MuS/SXtcYM8UYszHytU4xx4+K7LPRGDPqt65neyIXMVhEeohIryjPnQ+0j2yjgTcrNbJqavGs9Tx83VvM/Gklm9bsYtK4+dx1ySukbdtvd2gVwucPsn7THnbvzarU6/oDQX5etJ7/fj+f6cs3EyymuEx5mbxmI8FjitRYIszauA1Li9copZSyQXa2l6nT1uDzBQu1+3xBPv5krk1RqZOdULYkrpRz5ILAQyLSGegH3G2M6Qw8CkwVkfbA1MjjQowxdYEngb5AH+DJ4hK+w2JhaOUlwIcSHiw93xhT2xjTWER22x3YyUpEePXJb/B5A0fagsEQVq6P91+ezOOvXGdjdIX5/UGmTQck9p0AACAASURBVF/LwsVbaFCvJhde0IPmzeqW6Rw//Pwr/3lnGsYYgsEQ7ds05Jk/X0rdOkkVFHXY3oxsbvrHZ+R4feT7AiR43DSoU4P3Hr2GWknxFXrtImJ8aEFVkh3wkhPwkZKQjMNUvfH0SilV1ezfn43b7SQQKDpnOzUtw4aIVHVR3h9/IvnJ7sj32caYtUBTwvnMoMhuHwDTgT8dc/h5wBQRyQAwxkwBhgPjirteVeiRE+BnY8wSY8zoKM83BXYWeJwaaSvEGDPaGLPYGLM4PT29gkKtHrIO5pJ5ILtIu4SEFQu32BBRdPn5fu6650NeeW0Kv0xfx1ffLOH2u95jzryNpT7Hr6tTeWXMVPLzA+Tl+fH7g6zbuIfHnv66AiMPe/rDKezPyiXPG0AE8nwB0tKzeOXLmRV2zfM6t8flKPzf3mkMA9q3wumoCi8HsSs74OXueZ/T/4cXOX/K65w96WWm7V5vd1hKqTLIyvMyYeFqPpuzgtQDlTtCozpr1KhW1OWOHA5Dxw6NbYhIqWLVP5xvRLZouQsAxphWwGnAAiClQCfUHiAlyiGlynkKqgqf3AaISE/CQyjvNsacfTwnEZExItJLRHo1aNCgfCOsZhKiLDdwWM3khEqMpGTffreM1LSDeCM9h5YVwucL8vwLPxAsZSXG8d8uxu8vPJTDskJs3bGfHakVdxcwaIVYuHYHoWNm2QatEP9bXPpEtKweOf9smtZOJsnjxgCJHjf1aybx90uGVNg1q4s/zB/PzL2b8IcsvFaQ/b4cHlz4NasP6uABpWLBrLVbGfL0f/nHN7/wf9/P4NIXPuD1yfPsDqtaSEjwcNWVfYmPcxdq93hc3Hh9f5ui+m1+X4AP35zG9cNf5JqhL/DGvyaRfSjf7rBUaR3f8gP7D+cbkW1MtFMbY2oAXwH3i8ihQpcNjzIsl85A24dWikha5Os+Y8wEwmNCC3ZJpAHNCzxuFmlTFSQu3s2A805lzs+r8BcYrx6X4ObymwfYGFlh06avLZKEAYQsYfOWfaW6i5e+PztqxSKX08HBzFxalHGYZlVXJzGB7+69kenrt7Jx735a1a/DkFPa4nHZ/lIQ03bmHmT5gVQCocI3EPxWkLEb5/Fin8ttikwpVRp5Pj8PffQD3kDh95T3py9mQKdWdG+pvUIV7aYbB9Cgfk0++3w+mZl5nHJKE+64fTAtW9a3O7SoRITH//Ax61amHvms9MOXi1k8ZxNvffF7PB59X40JFTC1xBjjJpzEfSIih4d47T08NcwY0xjYF+XQNI4Ov4RwzjO9pGvZ+ldmjEkCHJExpEnAMOCpY3abCPzBGPMZ4cl/WTo/ruLd+7fLyD2Uz/L5m3G5nQQDFiOu7suIq/vaHdoRiQmeqO2hkBAf74763LH69WrDlm3p+I8Zlx+eKxet17t8uJwO+pzSggVrCvfKuZwOhvRqX2HXBXA7nQzt3I6hnbWkc3nZnZeF2+HEFyr8ITCEsDP3oE1RKaVKa/a6bTiiTGn1By0mLl5TJRK5zAM5zJi8ipzsfHqe0Y5OpzbDnETzcI0xXHhBDy68oIfdoZTKupWpbFidVuiGdzBgkbE/mzlT1zL4/FNtjE6VVnkv8m3C/ynfBdaKyEsFnpoIjAKej3z9Nsrhk4HnChQ4GQY8VtL17L5dkAJMiLwQuYBPReQnY8ydACLyFjAJGAFsAvKAm22KtUJM/3Yp41+fQsa+Q3Tp3YZRj1xAi/aN7A6L+EQPf3/rJtJ3Z7JvdyYt2jSkZu1Eu8Mq5NJLerJ+454jQysBjIGGDWvSonm9Up2jZ48WfDxxEZZDwBIclpDgcXPz784kMTF6olhe/nLj0KjFTu4beVyji5WN2ic3LNIbB+B2OOlTv6UNESmlysIKSdQb8yERAlbphupXpMVzNvL0g+MQEYIBi/HvzeKMQZ145LmROHR+sy02rNlFyCr6V5Of52fNrzs0kYsRFbCOXH/gBmClMWZ5pO3PhBO48caYW4HtwFUAxphewJ0icpuIZBhjngYWRY576nDhk+LYmsiJyBage5T2twp8L8DdlRlXZfnizal88vJP+PL9AMybvJJls9bz6qSHadamoc3RhTVoXJsGjWvbHUZUA8/qyMpVqXz/w3KcLgfGGJIS43j2qStKdZdyyaodPPL8BHyhEGIAl0HcDu64aSCXjzit2ONEhGVb0thzMIcuLVJo2bDEyrDFSqlbk2+fu5npyzezfe9B2jdrwIBTW+Ny6ptyrKkTl8j1bXvz6ZbF5FvhGwtODEkuD6Pa97M5OnWyM8Y4gcVAmohcaHc8sejMji2jFttI8LgZ3qOjDREd5fcHee6PnxeqJO3LDzB/+jrm/bKO/ud2tjG66iulSW2cbgf4C7fHxbtp2qJ0N5OVvYTy75ETkdlAcSc9N8r+i4HbCjweC4wt7fXs7pGrtnz5fj7999EkDsIJgs/rZ9wrk/njKzfYGF1sMMZwz++HcOUVvVm1Oo06tRPp0b0FzlImQi++MxXvMWvWhESYvmhjsYncvqwcbv/Pl+zLygHChVHO7d6OZ24YflxVHz1uF8N62/shQZWPh7sOoV1yQ8ZunEuWP58zG7bl3s6DaBBfw+7Q1MnvPmAtkGx3ILGqVmI8j19+Ds9+PQ1LBMsKEe9xMaxbe85o38LW2FYt3R613ZsfYMrEZdUukcs9lM/UrxaxdW0abbs2Y/BlvUmqWclL9gC9z2xHjZoJ+LxBQgVuArhcDs69oEgfhaqKBCjnRK6yaSJnkz07DkTtNQpZwprFW22IKLq9e7KYO3cjDqehf/8O1K9f0+6QimiUUotGKbXKdIzPH2Tnruhzl1ZtKH4K5mMf/MjO/ZlYoaN98dNWbmb8rF+5dmBsjOtXFcMYw2Utu3NZS30DV5XHGNMMuAB4FnjQ5nBi2mV9unJ6m2ZMWraOPJ+fwV3a0qNVE9vnoZV0ebtjq2y7t+/n/otfwpcfwJfvJy7Bw8cv/cQr3z9ESiUXJ3O6nLz03q386/GvWPtrKhho3ro+jzx9eZWq8K1KVgFDKyuVJnI2qdswudgS+Y2qSJf8F+MXMHbsDCD8ZvHWm9O47/7zGD68m82RnTi3y4nH4yzSIwdQM6no8guhkLBt1wFWbN1VKIkD8PqDfDJjqSZySik7/Bt4BKh6d9liUIv6tblzaNUaDt3ltJZRB2rFJ7gZdknx0wBORq89/gXZmXlI5H3Yl+8n4A/w5l+/4m9jb6/0eBo2qsX/vXsLOdn5hCwhOVJLIC/Hy/z/rcGb7+f0szpUepKpyiDGEzmdjGOTmnWS6H9+dzzHrJkSl+DmmnuG2RTVUTt2HGDs2Jn4/RZ+v4XPF8TvD/LKvydz4ECO3eGdMIfDcNE5pxJ3THlgj9vJ1Rf0LNQ2Y856rhj1Jrc98CGBQPTkO3VfFqs3h3vy/IEgO9MzyfP5o+6rlFLlwRhzIbBPRJb8xn6jDy9em56eXknRqfLi8bh44sVriU9wExfvxul0EBfvpvewTuxtFWTC1pUc9OXZHWaFExGWz95wJIk7LGQJS6avtSmqsBo1E44kccvnbuS6fk/x2l++ZMwz3zJ66L/48KUfbY1PFadsa8iV93y68qA9cjZ64IVrcXtcTP9mCcZhSEiK486/X073Myu2/HxpzJi+NurEb2NgzuwNXHxJzyhHxZbf33A2+w5kM2PhpiNtVijE1HkbuHRYDxITPPy6OpVnX56EzxdEAGM5kWNvf4jg8MPf3v6RC4Z1Y8yP8xGBkIS4uG8XHrlyEG6ns1xjz/cH+Hz+Ciat2ECCx8U1/bozvFuHajfMRqlqrj9wsTFmBBAPJBtjPhaR6wvuFFmwdgxAr169Yvz+c/XUs19bPvzpYWb9vIrcHC/ZnZy8lDYH55Lw/LngIuHpXsO5ok3sj5gpidPpKDQf7Ui7q3zfY4+Xzxvg6Tvfx5tX+Ebu1+/OpOdZnejau7VNkalixfgroiZyNvLEu3nwxd/x+2dGkpOZR92U5CpTRjgUEiTKwGERCIWKvojGIo/bRTAkOBxw+EeyLGHz9v28PW42D9xyDh+Nn48vMvzSAEn7LXIaRd4wjAn/QgRcPthxMIu3fphXaEHZ7xasweN28scrBpVb3P6gxQ1vfc7W9INHrrU6dS+LtqTy18uKFERSSp2kROQxImsMGWMGAQ8fm8Spk0dy7UQuuKoP6fk5DPz+DXxW4akBf1nyE/1SWtI0qfg54yLCuDkreGfqQjJy8mjdsC5/vHggZ3asGsuk7Ni0l23rd9O0dQPadm5a6DljDGdfdBozJi4lWGB0jMvjZPClVePm8rI5G6K2+71Bpny5SBO5qkbKv2plZasaWUM1F5/goX7j2lUmiQMYcFZH3O7od7jOKNBj6PMH+WX2er6ZtIxtOw8QDFrMmbuBCd8sYe26XVGTwWjWrEnjuee/40+Pfc533y/D7y86d628BYMW85dt5di8NBC0mDwrPExj157MQs+5vBCXKTh94PALrnyIOwRGwO+mUBIH4cdfzV5ZrusQTVm1ke37MwtdKz8Q5Jslq0nNyCq36yillKp6Jqeuj1rbPCTCDztKHmL47rRF/Pv7WaQfysUKCZv2HOC+9yayZEtqxQRbSn5fkCdve5d7Lv43rzz2BQ9d+RoPjvwPudneQvvd+ffLadG+EfGJHuIS3MQnemjVsQm3/eUymyIvzAqEonbwiAh+fyDKM8p2UsatitEeuWpi5cLNvPn3b9i2bg81aiVw6S1ncfVd5xZbqr9t24aMvLIPX36xkEDAwhiD0+ngttsGkRKpELlxy17uf2I8lhXCskJISHAHBIcxWJaFw+Gga5emPPv0lcUmhQDfTFzC22N+we8PIgIrV6Uy8btlvPbqDcQdM4ewPIUkeq8jcGRYaZdOTdi1J5NQgTH5rnzBYApNPnc6DA6nwYpyPisUIs8boFZS+Qz9mLV+G3lR3hCcDgeLt6bSrG7ZKngqpWKfiEwHptschqoEPitIqJj3Gp9VfLIQsCz+O3Uh+VFuOL46aS4f/OGqco+1tD599WeWz9mI3xc8sizbplWpvP7Xr3nk5d8d2a9GrURe++mPrFqwmZ2b99GifQpderepMtMKup/ZDivKXPr4RA+DLqxehWliR9X42zleVacL6CSRk5nL/O+XsGLGaqxy7IU5EZtWpfKXm99h69rdiAjZmXmMf3Ma/312YrHHHMzIxYODTm0bcWqXplx5ZR/GjLmFK0b2BsJDLx99ZgLZOV7y8v34/EGCOX583gD5+X78fguvN8DKVal8+dXCYq+Tm+vjzben4fUHsUz4ZofXGyA1LYPJP68q719FIR63i1M7Ni1S2tnpdHB273YA3Hj1GcTHuQvtUwMHrVPqEOdxkRDnJjHeTZMGtejWunHU69ROSiA5sWglzOOVklwDV5TeW2MM9Wokltt1lFJKVT2Dm7SLmrh4nE7Obdqh2OMO5uQXqbp82NZ9GeUWX1mEQsLShVuY8PlCfFK4wyPgt5g1aUWR+frGGE7t144R151J1z5tq0wSB1AjOYE/PHMFnng3Tlf4fTo+wUPvQZ3oPbiTzdGpqLRHTh028Y2fePvhj3B5nIhAfFIcz//0BG26Vf7Y803rd7NnVyZtOzRi3Gv/w+8tfAfOlx/gx3HzueGB4UUW0ty5/QD33j4WnzdAwBfE4TCsX7aTgWcdXbh649Z95OQUGPIggonyB+7zBflh0gquveaMqHFOm7EWH4K4wi/E4gRC4PUF+WXGGoYO7UJCvOf4fgml8Nhdwxj950/xB4J4fUES4t0k14jn7hvO5lCOl3krt9JvYHt2bj/A3tRM6tZO4ncj+zJscGe2pB1g7da9NKpXk56dmrM+bR83vzweXyB4ZF2SeLeLP44cWK5vNFf06crHc5cRLDAm1AAJHhdntCv6t7Zi+27GzlhMWkYWvds04+aBvWhYSxepVkqp8paZmcdXXy9i0eKt1G9Qk6tG9qHbqc1LPCY718v6zXupUyuRNi3q/+b7RZvketzasQ/vrV+EzwoiCPFON1e37U7nOinFHlcnKQGnI/q5Wzao89s/XDnLy/Xx0B0fsCs1g3xjoEZCuHhYVi4mknCGrBBWMFTs6KGqaOgVvencsxVTJywhL8dLvyFd6H5G9ORbVQFVMDkrC03kysn6RZsY88hH+L1+/JH8Jj87n0fPe5pxO9+utIpKh7Lyefy+T9i+NR2Hw0EwYOG0LEIiRTqPXW4n6bsOktSxcE/Say/9RG62F7HCf91iCQEryAO3v8+47+8nuXYiVtAq9YtSMEqFKQiPGX9v3Jzw/6GC53IIIQzL1qZxwZWv0rlTYx59YATNmpT/G03zxnX48vXb+HnWWralZdCpbQrn9OvAjj0Huevpz/FaFj4J4XIZGqXU5PVnryMpwcP8X7cxadYaAM4fcArGwCnNU/jwoWt444d5rN2xl6b1a3HH+f3o27FFucbcol5tXvzdBTw2/iesUIhQSGiQXIPXR12C65g3u8krNvD4+Mnh5BLYvPcAE5es5cv7r6NxneRyjUsppaqzgwdzuf2OsWTneAkELDZs3MOSJVu55+6hjDi/e9RjPvp6Ae+Nn4vb7cSyQjRtVIcXn7iC+nVLvtn2ULdBDGnagW+3rSIkwoUtO9OrQckJo9vl5KZBp/PeL4vJLzAPPd7t4p7zzyz7D3yC3ntjGju2poeX9TGR6QoCoaR4nNn5ALTr2gxPXOx9VG3augE3Pjjc7jDUbxEgxoudxN7/jirq+zFT8HuLjk335flZMWMNPc89tVLiePHpb9m8cQ/BwNHkyWFAEjyY/MLlcIMBiwZRkqPlS7YhVtHEL+AP8tE7M7j74fPp0Dal8B2yAi/CBbndTs4ZfErUWDdvTSc3L8paa8aAI1wQ0rJCrFqzi98/+DGfv39HhfTOJSXGcdl5hRfz/tvrk8gKBghFpuj5EXbkZPPQK9/QqmFdfp67jnxf+N979rItDOnXkcdvH0aHpg349+iLTzgmbyDIpOXrWLw1jRb1a3FFr640SD76xj7olDbMfOIO1u1KJ8Hjom3DekUSaysU4ukJUwsVRQlYIXK8Pl6fMo9nrjrvhOOsKLk+P8t37CYxzk33Zo1xFHMXWSmlqorPxi/gUHY+weDR91+fL8gbb01lyLld8Byzbum8pVv44Mt5+AMW/si8qq079/Onf0zg3RduKLTv9IUb+XDiQjKycunZuTm3XXEm3Rs2oXu9JmWK8c6h/Uj0eHhn2kIyc720bFCHRy4+mz7tSk4CK8K0ySuLrs1qDHhcuDwu3G4n9z43stLjUiqWaCJXTrIzcoosUgmAgbxDlbNQ56HMPBbM3lioMAdASIB4DxRI5OIS3Ay/pl+RYZUQXnzU648+v2/O9HXc/fD5uFxO/vrQhTzx/DeELCEQtHDX8BDKDeB2OfH5w8MUG6Ykc9210e/0+fxBHKXo1RORcHXMmesZMaziE+KMrDy27T1IyAPHTqBbvHUXazfuwV/g95PvCzBl3jquGNKdTq2LH9ZSWpl5Xq557VP25+SR7w/gcTl5d/pi3r3tCrq1ONp76nY6ObV5o2LPs+vgIXyBotU/LRHmbdxxwnFWlK+XrOKZ73/B5XAgIiTFeRgz6nI6NKpvd2hKKVWshQs3F0riCtqx4wDt2hV+fxj//RK8vsKv0aGQsC31AKm7D9KscfhG66c/LOK/X8zFG+lFmzxnLbOWbObDf9xI4wZHR1bMm7qGcW//woG9hzilRwtuvHcoLdo2LHR+YwyjBp3OqEGnIyK2Dvc79rPKEcZw+a1ncfGNA6iXosW7VMUqZXH1Kit2Bh1XcQMu60t8UtGCFkF/kG5nd66UGJ689b9RF8oEwBiMw2CMoWbtRK75/RBGP35R1F3PGdal2Bo+BatI9unZivtvGkzj+HgaOt0M6deBj96/g1tvHchll57Oww+NYMybt5AU5fcC0KFtSql7WrzeAGm7D5Zq3xPldBiCxY2EFfBJ0d9xIGgx79dt5XL9N6fOZ09WNvmRypT+oEWeP8Cj438q9XIOAMkJ8QSLeaOsW0WLoqzbnc4z3/+CNxAkx+cn1x9gX3Yut773VbFDdJVSqiqoUzcpanswGCI5OaFQ24Ll21i+JnrJf5fTwaHIHHSvL8B/v5x3JImDcAKU7/Xzwbfzj7R9P24+//zj52xclUZGejZzp67h/qvfYOeWfcXGa/ecrQGDOuFyFf4YaoyhW8+W3PzHCzSJU5UjxoudaCJXTgZedQZturU8kswZA3GJcdz09DUk16tZ4dd/59lvWbtkG0T7sCsCgSA4HZx5fjfGL32Ka+4+t9h1637/wHkkJRftqYuLc3HhFb2OPH77jam8+crP7Ek9SOaBXGZMWc3fHv+Ciy88jXvuHsrgQaeUuOyA2+3kzw9dQFyc68iLucfjjPrmkpDgpl2bhkXaK0KtmgnUqxX9DdnhMFEni7ucTpISTmzY5/a9B7n31Ql8+f0yHPtDOPOAEEdeOHZnZrM/O7fU56uVGM9ZHVvhdhb+N0hwu7h5YK9ijrLX+EW/4g8W7Q32BoMs3LrThoiUUqp0rhrZh/hjlsxxuRx06tiYhg2P9pwtW72Tx174Fn/Aivq5MCRC25YNANi552DU9xwrJCxbG04EA/4g7708GV+B6R0SErzeAB+/NjVqrP5AkOwcb5luDpa32+4dSv2GySQkht874xPcJNdK4MEnot9kVqpCiCnbVsXo0Mpy4va4+b9f/sb0z+Yy44u51KhTgwvvGErX/hVfbjZ9dybfvDsDI4IjO5dQrZrh+WrGRMZVCg5vABHYm/bbvVpxcW7eGXcX9936LpkZeZjIsgB9BrTn0qv6ALBv7yG+nbCYQIEhhj5fkLTUg0yfuoZh53crVez9+7bjvddv5ofJv5JxMJdePVsz7ov5bN+ZcWTsvMvloH7dGpx1RvvfOFv5+eutw7j71QlF2t0uB66AUGRmn4Fz+xZf9vmwbXsz+GreSg5k5zHglNYM7dEet8tJemYOo54bR47XBxL+53N5wekDyw3igqDDYvgzYxnUpQ2PXjao0Jy54jx3zXk8+PH3LNmShtvpJGBZ3DyoF+d3/+1Y7XAwLz/q+kggZOV7o7QrpVTlCIZChETwOKPfoOzXtx03jRrAex/MwuV0ErQs2rdrxN+fLLxY9X8/n4PPHzwyr1w4upJVnMfF/becQ1xkPl292kkEotzcAmhUP5wcpu/OijpMUULCmmXbC7Xle/289OYUps1ej4SElAbJPHz3ME7vXvnVtWvVTuSd8b9nzi/r2LRhD81a1GPQ0C5HEjulKkO0iuux5LgSOWPMzSLyXnkHE+vcHjdDbxzI0BsHVup1F/+yBofDgWWFMAELR8YhQgkecDkxgSDGF8Q4nbjcTrr3bVuqc9ZrUJMPv7mPlcu2k773EB1OaUyL1g2OPL961U5cLmehRA7CQyAXzN9U6kQOoGnjOoy+6ejv7MzebXj349lMmbYGEWHwWZ24bdRZuCqp8idAv66tePDKs3n169kYwottY+Afoy/AacETr/1wZFhoKCQ8dfeIYnvxDpuyfANPfDyZgGVhhYRpv27m4+lLee++q/j8l+WFli2AyHu8hJO4w+/y/qDF1F83sXzbbn547GbiPSX/F64RH8eY265g98FD7D2UQ7uUetSIL7817crbOZ3aMnP9NvIDhQsHBawQvVo1sykqpY6fMaYT0BRYICI5BdqHi8hP9kWmSuugL58nFkzm550bsEQ4rX4Tnu93Pu1rF523e9WVfbnwgh5s2ZJOnbpJNI1SUGx7WmTNNnM0kxPCIz7+/uCFDIisYwpQt1YS/bq1Yv6v244URAGI97i48eLwjdVa9ZKwipmb16Bx7UKP//L8RJav3HHkRmnankwee+Zr3n7xBlq3qPx5yB6Pi8HndWXweV0r/dpKVdXhkmVxvD1yfwc0kasi3B4XTpeDQIDwem6hEM7cAr0XbjdOp4OEpDguv+WsUp/X4TB0P71V1Odq1Y4+x8rpNNSvf2JDSRMT47hn9LncM/rcEzoPhAul7Nx9EKfDQZOUWmWaE3Dd0NM5r08n5q7ahsvl4KxT21AzsrD3j2/eyZLVOxGgV+fmRYbTHMsfDPLkp1PIDwTDa+W5INcKsGnPfr6et4pVW/dEHVIoTiK9q0fbLBFy8n1MXrGeS3p3KdXP0rhOckwsNzD81A58umAFG/akkx8p1JLgdnHb2b1pULPkRFmpqsYYcy9wN7AWeNcYc5+IfBt5+jlAE7kqTkS49udP2XzoAIHI2p1L09O44qePmHHZndSJSyhyTGJiHF27Fn/jqWXTumQeSgs/OFzxGYiLd9O3R+si+z959wieeesnZi/dgtPpwO1ycP8Ngzm9S3hpm6Qa8Qwc0Y2ZP/6Kv0DxlLh4N9feOfjI4117Mlm+amehhBAgELD4/JtFPHrv+aX7pZSDUEhYtmMXB3Lz6N68MSmlGGGiVPmrmsMly6LYRM4Y82txTwEnXppPlZu+Q7ry2mPjw8MoD9/hg8hEPQ+eeDf9zunMbY+MoG7D8vkw371HS5IS4/Dm+wv1IrlcTi64+LRyucaJWrVhF0+++D1Z2XmIQEqDZJ55+GLalOGuY/1aSVzcv2iyFO9x0/+0NqU+z+odewkZwYqnUFKWKxYTF62mV7OmLNuYVqSghxQzizXPH2BdWjqX9C51CFWGiLDm4D6yAz6612tMgutoEux2Ovng1pF8t2IdP/66npoJcVzduxv92pbvWnxKVZLbgdNFJMcY0wr40hjTSkRegWJrSqkqZOG+nezIyTySxEH4HdYfsvhi06/8P3vnHSdVdf7h59x7p21v9N5FmjQBARXsDQvWWKP+7MaWaDQxMSaaYooaNbFgiQULoqAoUqQJSFna0svCwi7L9j7tlvP7487O7uzMLkWqzvP5KLt3bjl3duac+57zvt/vHf1GMslVdAAAIABJREFUHPQ577h2DA8/86mdXhnC7dK44dLhOBwqUkq27CiisKiKXt1b07FdOs8+OIHqWj/VdX7aZqVEeYbe/9RlCAHzZ6xDUQQOp8btvzqf4af3Ce+zr7gah6YSDEYqZZqWJG9PeVQ7txeUsn7XPtqmJzP8pE52ZsphoKCiilvf/JSyOi+KEARNk+tOHcijF5xxzAVY4vwE+RGvyLUBzgOaFlUJYMkRa9FPnNoqHxKJt9rHG89MJ3vBJtweJxfeMJpr7jsHR4xUuuS0BB7/zy38+Z63URQFn19HmhYy2QOJboKKYPWGAjxJ0QImh4qqKvz9hev5zWMfU1ZagxJSxHzk1xfRucuxl4mvrPby0B8+wdeo+HvP3nLu/91HTH3tznD9QVPKa7zsLaumY1YqaUnRM62HitvpwIcRtboGkF9bwz/OGsxn362PCOQkzedue5wOerbNPGztO1rk1VRw89yPKfbVogqBYUmeGn421/RqMMt1ahoTh/Zn4tB4qk2cEx6lPp1SSrlLCHEmdjDXhXggd0KQVxO7rtxvGmypLDmkc55yckf+/KtLefGdeeQVlJOWksBNl5/KVRcOoaraxyN/+IS8gnIUITAMk9Gn9uR3D19MSpKblGbGcadT4+FnruTuJy6hutJLVpsU1CblCF07ZaLHsKRxaCr9+zb40RmmxWOvz2DJhl22rasQpCV5+M99V5CR7CHxBz5L3Pf+FxRUVkfUQ3+8IodBndtzfv/js347zo+YH3Eg9yWQJKVc0/QFIcT8I9ainyh780r5+0Pvsy1nD1JKpGHZ/1oSX22AT/4zl52b9vLk67fFPH7E2f15b8XT/PWxj1mxdEfD59I0sVDx+4J888VqJv5sFLpusGrpdvbmleNJdNKzb3t69o02FZVSsiZ7Fzt3FNOhUybDRnSPMAHv2CmTt9+/i107S/D5dHr1btuiSuWRoDkfnNkLN0UVf9vinSbfrdjOWU1EaHTT5E8fzGHmyi04NZWgYXLpqH48dvW4FmchddPkteyVTM5Zh98wOKd7Dx4+bTStEiPTAE/q0ApTie0zWBnw0yYjmVcfuZJn35vL1j0ltpKY2mjFv1E1vCIEHqfGBYP7RJ/vOEZKyQ1zPqSgthqrUc/51IrZnJTemkFZ7Vo4Ok6cE5IiIcQp9eNoaGXuYuBN4MibYsb5wWR6PAinjwS3gWkoBAMaUip4VI2BmYfeZ506qAv3Pn4Gi4t3kO5M4IxOvRBC8JeXZrIjryTCj27Jih18+Plybpg4cr/n9SS68DRj+ZORnsgFZ/Xnm3kbwv51QgicTo2rJjQoGU+et5qlG3aFfUiFYeFYXcodnz+Hqgg6dMniwT9NpO8pB58pkVdWSW5RWZSolU83eG/J6nggF+fo82MN5KSUsSMG+7Wf/dALCyE6Af/DXvmTwGuhdJPG+5wJTAN2hjZNlVI+/UOvfbwR9Ov88soXqSwLmYpbVtQHK+jXWTl/EwU7i+nQLVqGf8XCLbz09DSK91aCAKEqIATSlCAsAn6DrRv2sm1jAY//35v4fDqmaV9E1RS6927Ls/+9meRUu/atri7AL+97l4Ld5RiGieZQSU9P5PlXbwZV8NW8DRQWVzHo5I6cMaIXTsfRE0A1TIvXpy3l47lrqPMG6N2lNb+6fjyDejUEo8XlNRFpK/XohklZRbSE/ytfLGFW9laChhmuVfti2UZapyZx+wXNp87cM+NLFu/Ow2/Y1/p000YW5O1i1k23kORsUN4SQuByaPhjzIbWx6H9urbl/d9eT1A38AZ1XvpiMTNXbsGwLFLTPBRX12FJycjenfndVWeR4DqxlL1Wle6l3O+LCOIAAqbJu1tWMSjromPUsjhxjhg3ARFfeimlAdwkhHj12DQpzoGypWofv1n7MarT1ilWVQuny8BX4ybJ4WJij0PLGjAsi3u+n0x2aR5eU8epqLy8eT5/G3QF36/KjTIVDwQNPv96zQEFcvvjjIknkx0opHBlGaouGDaoC/f9fBytG9W2f7pwXcRYlZZTiaPGAGmnYe7eUcwTt07iv188SJsO0WIuLVFcUoURNMARPUFaUl5z6DcWJ86hIPnx1sgdBQzgESnlKiFEMpAthJgtpdzYZL9FUsqLj0H7Dis7N+bz2WvfUlpcQ79Te3DRjWNIy7SLe5fMysHvDdpBHDQ7O6BpCjs37Y0K5GZ/ns3LT09v8JCRgGGBpiCEQBoWzmQnXbq34sm736G22h8qsLY/vIZhsXVXCfff+w633n0Wp43owZv/+Za83JKwspWumwQDBk89NZWN5RUYlkUwaDJz4UbenrKUV5+5nqRmZgEPN0+9/jXzsreHA64tecXc9/cpvPXkz+jZ0U7rHNS3E59/szYitRJss+8BJ0WuPkop+Xjh2qggyx80+GD+6mYDua1lpRFBHNgDdJXfz+ebNnLDoFMi9j9/QG++XLMZo1GthaoIxvbpFrHq53RoOB0av732bH577dkA1AWCzN20nbpAkNG9utIh48QzSq0M+IhV/mAhKfHXRr8QJ84JjpQytuOz/drio9mWOAfPMzlf4jUbzGaEsDM72qarfHLGzSQ5DmzMs6TElBYOxc5YmZGfw8rSPHymPT4FLXsse2LFNJKILZzlC+gxtx8M721ZzTMr5+LPNJDngUfVUJLLyWwdKTTSWHhLqzXQao2oNH9DN/ni/aXc/uiFB9WGmu3lCBn9mCMMi9bVJ/YDdZwTk5+k/cDhQEpZCBSGfq4RQmzClmhuGsid0JiGybM//y+Lp2eHt62Zm8Nnr8/jxS9/SfturSjOLyfo338nbZqS9l0bLACklKxbkcu/n55GwJRIp4aQElGvSGVatgUBtvl21+5ZBAJGRBAnFUEwKwGpCHaVVvPnv88gLS2BuoKqcBBXj2FaZO8uQmoNna3Pr1NQVMW7ny3j7htOD2+3LEl5RR2JiU48bnvlqLzKi9cXoH3rtLB0/8Gwe18FTzw/ne17Sm2pZsDSAEUQ1E3enrGcP91pDyoOt4ohrQh/Hs2jktwlhTcWZlP0aTV791WSkZzITecOa3aQrPEFmm3PhuJilBiRic8wWLl3LzcMOoW6YJDZm7dTXufjoiEnsWZ3IcXVtfh1A7dDI9Xj5veXtazOuWJXPne9+zlgv69y5kJuGDmYX5534AqkxwNDWnVAt6KVOT2qxjkdj55H4ImCbvnZUDWffO8GMpwdGJh+LklaxrFuVpw4PxnWVeyJ2iYE1Jpe2iXuXzisTg/yh+/n8tn2jRiWxcBWbXl29LlM370uHMQ1RrogNcNDWXFk1oiqCE4bdmDWQc1Rqwf408q5+M2GiUefabC7ppKPtq3llr4NqZVnD+nF5LmrMaVE9ZuRImohDMNk947ig26Hy+GgfY6XgkH2cweKQBgWqs9icOqJN0EZ50fAYQ7khBBvAhcDxVLK/qFtHwH19TBpQKWU8pQYx+4CagATMKSUw5ru05TjwhA8pOY1GFgW4+VRQoi1wF7gl1LKDUexaT+Y9/86nSVfrorYZvmD1JZU8eofPuMPb99BzwGdcLg0TG9o5k+pN/JuQHOodD+5Pd1P7gCAaVo8+/Bkli/aRkBRQcVOpZQS6dBQfEHq5STdCU7++catlOytiFoR0VNcSLUhsPP5dYIlNY0VkcNIJSSH3wRdN5mzeHM4kJuzcBMvvj4Xr09HWhZjRvZia34Ju4sqkRIcqsK9143l6gn7/XyGCeoGd/3hQypqvEDYRxXFAMshsYDte+zC8007i/jVC9MJqBaKw97H8EBtFlT7a9iRU2WbbltQWRjgr5O/JS3JQ0WtL+q6/bq0bbZNHVJiD+QuVaV7ejrrC4u45d1PMaWFbppoisLo7l14qN8YcovL6ZKVxri+PXC24I8XNAzufX863mDkoP/BsjWM6dWFkd1PHDXHdJeHXwwcw0vrloQfYtyqRqekNCb2iJcLNcZrVPH2zgfwGtXo0o8qHCwt+4Sfdfkz7TzxGpI4cQ43UkokEkU0ZEe4NQdeIxi1r0eLTGv3GzqlPi+tEhJxqQ2PVbfO+pTVxXvDK25rSgq5asZkTu0WOx3RsExyu/tILrVXCYQEoQpSkj3cccPBTdxJKdmwYx9rt+STkZqIq6MTh6LgbzKX5jcNvt69JSKQu/2CEXwyezWmaWEkaogYZuNOl0bfwQc//gwd25vEx4K0LfFR0yMBM0HFXRggs8jggrdOQBnmOHGieRt4Cbt8DAAp5TX1Pwsh/gFUtXD8OCll6YFerCX7gZ5Am6bpH0KI0cA+KeWOA71ISwghkoBPgQellNVNXl4FdAkViF8IfA7EnLoXQtwB3AHQufPx83A77dW5DSmTjQkEWbN4KwCnjO5Fp55t2LWlED20Yqa6FFQUDMNEUQSjLxjE/X++Onz4d7PWk714GwFkxApb/cyZ5dJQ/DpOl8bv/nkdXXu0pnXb1AbTUGkfZ3k0mkZ3pmkhVHCqClYjFcVYq0/1GKFUjNU5u/nzi1/j1w0cPgtFlyz6egOWJpBpGigC3bJ4/r35tM5M5szR9gTF7sIKdu+roGv7DDq2SYs6/6JVO/AH9WjDbOz/WRoEpcWeogrenPa9La8sBJZTYDrBHxo3rfq0RmEHppbDTqEMVBp2MNz4xAIuHBYpitKY4e070D45mV2VlRHpkkHDJHdzCR8vzaEm0LCip5sWi3PzGN+7B3eMO7XZ8zZm+c58W/ikCT7d4NPsDSdUIAdwb/9RDMpsxzubV1IZ8HNBlz5c23NQhAVBHFhU8h41ejlWqLzKlDqm1Pmi4B/c0TNeWnWicLTG0TiHTmWwjue3fMp3JeuxJAzL7M3Dfa6grSeDiZ2H8fGu5QSsRt5sisaVXYYCdsrk35Yt4p0ce7JWEYJ7hozgnsEj2FpRypqSQgJNshB00yRBJuJRHVGrcgHdJOgE/zCFhL0WmhdkusId155Gq8wD92c1TItfPz+NlRv2YBgmDk1FKCCHSohhx9nUCy8l0U2vUsgrqkBPc2G4BJrPCguLCWH711b5dd59cyFnntWPTl0yCQYNFs3MIfu7bbRql8oFVw2nbcfILAJ3gpPfvnQjf7z3f6RuCdhZJlJy9Z3j6HtKlwO+xzhxDheHO7VSSrkwtEAVfS37S3Q1MP5wXa+lFbnngcdjbK8OvXbJD724EMKBHcS9L6Wc2vT1xoGdlPIrIcQrQoisWJGqlPI14DWAYcOGHTcZr97q6FWeelxu++FVURT+9uG9fPDvWXw7dSVSwrhLh3DdL85D1RQ0TUVrogY5Z9pq/D4dEpxRgRhCgKqQ0TaVEef1Z/IH3zNzZg6XXTmce39zCf/+03Q7bTJGgFCPoihkZiVRU+3D79Nxe2xT8YAUmPXBYz1SkhoS9nj1fwvxWwauWhOshlU9xZC4ynUCmY7wsS+9NY/BAztz5zMfsWtvBYoiUASMGtiNZ+67KEJApaisBr1JAXhEe3XIz69g4qNvkehxYtFwbdncp1zYAaCqh+Jao9GKo2Wv2M3L3sbVZwyKfbgQfHDl1fzym5l8tzsPy5IoOrhLYV7BDvwpjRoRwqcbfLw6h4mnHJiRt25GpyLWE8tA/GDZW1NNZcBPz/RMnOrRURwd064rY9p1PSrXOlHZUr0kHMQ1plIvxGtUkaDFU5BOEI74OBrn0DGlxf3ZL7HXV44p7fFlZdkW7l75Ih+c9jgPnHQ2Bd4KFhdvw6GoBC2TMa17cX8fu3b5peylvJOzCl+jOumXsr8nzeUmMzEBTVHsBKlGBC2TOq/FhR37MyM/B0tKNKFiSYlR4iGI7Tda072hP565azs3DD9wf9Yv5uewcv1u/CHBr3pbm6RVgrpR4C4SaNUCI0lCR42bTxoadY4MTaOkwAsFdhYMqgqh7JG01ilUSZj6yQoUReHD/y3hltvP4NtPlrMvvwK/L4iqqUx7dwlPvng9Q8dEZhEMHdOb9xf/lmVzN+L3BRk6ts9Bi6bEiXPYOHixkywhxMpGv78WikEOhLFAkZRyW3OtAWYJISTw6oGct0UfOSllTtQVpMxpLtI8GEJR6SRgk5Tyn83s0xb7hqUQ4lTssqiyH3rto0nPQZ3ZtiYvarvQVM7/2ajw7+4EF7c+dgm3PnZg47qqtmzMqWoqrtbJzP4mh4DfQAhYsmgrd91/Nv+efA/TJy9ly/oC9vj81BhmRIqwqgpGj+zJb391MQvnbWL7ln107ppJeutknv7LdKpVSeOkYsWQtEm2p/m27ilBCcqIIA5CP1ugBCWWy15BLK32cuWjb1Fd6wfsGkATWLx2J69OWcL91zXU3PXr0Q5NVdCbBC/2909EXKvOF2y0XEeEdH9ThBWquhb2OUSTQbewrOkicSRZCQn896IJnP7kf/DrOsKyL2S1EBOZVvMBaVNO7dYp5v4ep4OLBzW/Wrg/Sr1e7p45nXXF+9AUFUXA06efxeV9Tm72mHKvjz/Nn8fMbdtBSs7p2ZMnx51JVmKMKd4jwJTtOfxr7SL2eWvokJjKff1HcVWvgT9KA1lNcUQ9ANajiOMiIz7OgXFEx9E4P4yVZVsoDVRjyoYvm4XEZwaZV7SWC9ufyvPDr6PAW8Gu2lK6JmXRIcEOOKSUvL42OyKIA7tG+uVVy3hvwlURJuL1uFSVU1q356EhY7ip50iWlewk1eEhS6Ry1+fTgejaOY92cN/56fNywkFcY5y6QtsFDgjaY52lShJ3OOh2UXQQ1aNnG7Ysz23YYJpgmjjdDqoCBsGQQJdpWpimxZsvfINDt9BD1zUNE9Mwee6xT3h/4eNRzyyJSW7GXzrkoO4rTpzDTuTj7IFSeiC1a81wHTC5hdfHSCkLhBCtgdlCiM1SyoUtnbClaCA6v62Bw+GUPBq4ERgvhFgT+u9CIcRdQoi7QvtcCawP1ci9CFwrY+WZHcfc/dz1uDzRMvF9R5/EDQ8fnNpTY865fAhuj8NWp2zylmgOlR592lJSVE3Ab3eqUkLAr/OfF2aRvSYPd5sUrrv/bCa9eQdtWqfgCbXR43GSmZHEA/ecjdOlcfb5A7jrgXO48NIhDBnSFUWCs8ZE81pofgtHrYnms9haVUlZVR1B00IxZbNOt4oRaqslcXu0cBDXGNO0+GzeuohtA3u35+QebSONvAWg7N9VV5igNJ1xsSRarcRRB4oZaleT91FVBIN7ddjP2WF3aQUaSjiIq79mrM7B49CYOOjAVuMAEl1O/njZObg0DS00EHocDkb36MxZJx168futM6ayel8hAdOkTg9SEwzyxPzZrN5XGHN/w7K4cvJkvtqylYBhEDBNZm7bxhUfTCbYwqrh4WLy1jU8uWwWBXXVmFKyu7aSR5d+zanvv0L2vr1H/PpHm1PSL0ATkf2GQKWjpx9u9egEznEOC0d6HI3zA9jtLcGwogMevxlkZ+2+8O8dEtIZ3bpXOIgD0C2L2mBsMaxSr5fuqRmM7dAVd6OaOYFdF3xDX3t1rXdKa27sMYIJnQcyokMnEhzRKeYJDgfXDhx4UPdlxirnwB5b1WDDhKViCgJeg0f+9hkvfPUds9dtC2eBnHfNyHDWUGOklOixxMoCRjiIa0wwoLN7e9FBtT9OnB8jQggNuAL4qLl9pJQFoX+Lgc+A/dbhtDTNs1II8X9SytebNOR2ILuZYw4YKeV37OcZXEr5EnbB4AnLyaf25IV5T/LRP2awOTuXzHbpXPnABYw8r/mOeefWfeTvLKFLzzZ07hHtGbdzexH7iqrpMaAjW9flE5QyHDM43Q46d81Ccaq2QmUjLAF+afHKy3MAO2hr2y6VV1+8iVVrd5O3p4zOHTMYe1rvmMbe1bV+Lrj4FKZ+no3QLUKLYZgOKK6t5dcvf4nH7cDvN5GYMf+4lmbrNwsgs10KFQXlMd8DfxMVSSEE/3r0CiZ/lc0XC9ZjWha1hk5VTXQgCHatwoCe7di8s4iUJDfnjj6Jqes2ETRMdMOAKtMWPKk/PyHhFM1OG1WEwO10cNtFzXvI1ZOZnBiVAikAZw0YqQKHphIwDBKcDga2b8vEwQfnPXTRwJMY0LEt09dsosYf4Mw+3RnZvdMhr0RtLy9jW3kZhoycLfYbBpPWZvNS22i3j3m5uZTW1UXMMBuWRaXPx+zt27moz5EzJ5dS8vc1C6NV3gSU6DXc+MUnzPvZbbRJTIp9ghOQEZlXkO/dSF7dOnu9WQiS1DQmdPjVsW5anIPjiI6jcX4Y3RLboilqVP/tUZ30SG7Z7NupqnRMTmVPTbRmwUmZtg3OK+Mn8PyqxXywZS0+Q2d0+y78bsR4WnmiJ2NUReH1yy/npilTMKXEsiwsKbmyXz/Gd+9OIKCzfF0ehmkxfECXFu1+Lhx7MnmF5VFeqqYlEWbkg5dlSXJ3lbJuThkJbidtUpN57xfX0HtgJ258+ALe+cdXaJpqV0QIwYgJQ5k7f3N07X8z45FpSVzuE8vztDmKCirw1vjo1KNNVLlLnBOYo7c8dDawuTlbGiFEIqCElPwTgXOB/XpntxTIPQh8JoS4noYBZxjgBC4/mJb/1OnatwOPvXHHfvfze4P8/u532LJuD6qqYJgWA4Z15Xcv3YjT5UBKyb/+9AXzv8nBsiSqpiASHFx8/gASk92kt06l10nt6DeoE394fErEuS1FgBbZ0fp8QfLzy/n4o2XceNMYkhJdaJoSsz+e9P53fDB1OZqqYDgEUlMAuyYMCY5yiy2L8xBOBcshQAHZJL2SkOplEiq/uHUcS3Pz2d5MINe7S3QA63Ro3HzpCG6+1A6upixYy9/emhvzS9i1fQavP3ltxLZ7rhjD4s27WJqzi68WbMDfKNCVEpwOlYz0RHTLYkjvjtw1YRQdW7U0oW6TmZzA6L5dWbxpV0TdWoLQ+NOl51Por6Wkto4RXTpxWvfOLYrGNEfnjDTuGz9q/zseAMXeOrt2owkSu2YuFtvLyqNSiADqdJ3tZUc22zlgmVQEmqk1VeyA8sON63hg+GlHtB1HE1U4uLrzHyjy57LPt51UZ2u6JAxEiJZTquMcd8TH0eOYIRk9aefOsFfmQumVKgqJmodxraOUwaP4/Zjx3Df7iwgvUbem8dvTxgHgUjUeG34Gjw0/44DaM6BNG76/807m5eZS6fczslMnuqans2JdHk88Ny0cLJmmxaN3nMP5Z8ROhb/i7EHMX7mNLbuK8fl1XE4NVRFYXhNZHUAJWkhNoCdqyEbG3N6ATn5ZJS99vYQnrhjPxP87k7MuH8qaJdtwe5wMOb0P+fnlzPtuK1awSSaG24FTEQQbjatCEbTrmE77LpkHdP/HK2VFVfzxnv+xc/NeVE1FVRV+8cyVjL3g4FZK4xyfHG6xEyHEZOBM7Fq6fOD3UspJwLU0SasUQrQH3pBSXgi0wR4vwI7PPpBSztzf9ZoN5KSURcBpQohxQP0Swgwp5bcHfVdxDoiXnp7G+uxdEUqROSt28vbzs7jjsYtYumALC2avJ+ANgmmiqyqoCgu+3cyH3zyC1kjG/rKrhrNyeS4Bv27HOfVBXGj1ztIE0qFgIJk6PZspM1ahqQqmbmLVBFERpKcnctXPRtKxZ2s++nwlum6GveUEAmSoRk0lHLFZhgWqIJCi4fZbSL+FoghOP70P991/Dk6nRmKiCyEEHbe0YmH2DoJN/OqEgN/dcd5+368rxg5k1rItrNkQObnhcqg8cO3pUfs7NJUz+/cgL68syiMPIKibXHBqX+6ZOHq/127Kszecz5MfzGLhhlxURUFTFX512RmcM/D480fr16p1zHRIl6pyRuduMY/pnpGOR9Oo0yNXxRIdDrpnHFlvM5eikuZ0Ux4rmLMgaJrkVVUe9Hmrgz7ezV3C/KLNpDk9XN/9NM5sc+h1h0eCNu7utHF3P9bNiHOIxMfR4xtFKPxxwG3cu+x/bK2uBCS909J4fsgNuNT9K+me3bUHb114Bf9asYTcynJOymzFI6eOYXCbllfzWsKlaZzfu0EcpLYuwK//Ni0qS+Vvr82mf5/2dGwbPdnodGi88ptrWL4+j9Wb9pCVnsTQXh247/Y3CfoNu4Q8AJrXxJ/hJJCuhoNE3bSYuWYrT1xhi+qlZSVz5oSGWrZ3ytZROlSQsjy0IWSTYLRPwCj1oukmbpeGUBQSklz87t83HvJ7IaUkd185umnSq30WaowJyCONlJLf3PI6e3KLsUwJoUD1H7/6kA5ds+jet/1Rb1Ocw8zhV628rpntt8TYthe4MPRzLhBbXa8FWrIfcAN3AT2BHGCSlDJ6Sj7OYWHhrBzmTlsVtT0YMPhmygrueOwivv48m0BRFSKoN4h5ODSMBCcb1+5h4NCu4eNOGdqVm28/nbdem2+vEkmJMCyEaX9i1SAYCRqWW8Nr2QqTeCUOr93JG0BxcTUvvzkfM1GzU08UW8kxYj2p/hNUL0uMRLUk0oKsjmk8/8y1tGsdW2HvlD4duPeasbz80SJMaWFKSHRp/OPhy+neMWu/75miCF579GqmL9rAW9O/p6LaS/cOmdxz1RiG9e2Mz69TWFJFq4wkkhPd4eN6dmqFy6nhbWLCnuBy0LtzK6p9fuat30FANxnbtyvt0iP94rbvK2XOuu0IIThnYC+6t8kgweXkHz+/mGqvn8o6P+0zUsI1bccbqS439w0bwSvZK/AZ9nvgVFTS3B5uHhh7Fnp89+6kezwEDAMjVEuoCkGK2825PXse0fYKIXhw0BieyZ5HoJGZLRIIKiRoDka073RQ56zR/Vyz6BVKA7UEQzUyOZX5/LzHWO7sPe4wtj7OT5kjPY4KITphexW1wf5GvCalfOFwnf/HTtAyuW3xBxTU1WJJAQhyq+r45fLpTD7j5weUvj6qQ2dGdTgyNjB13gBTv14ds0zBNC1mLdrErVfZmRqF3io+yF3JtupiBqV34ExPLzpnpTHi6i4IIfj7s19g6mZEOQESXJU61d0i0wSbu+/82io+3LaGwCCo6K6SliMY27oxAAAgAElEQVTxFCiYLg1UAe0TcWS4STIUBvfrxLmXDaFd50Ob6NteWMpDr06npLoORQhcDo2//vxCTu0T+70u9dfyxe4cSgN1jGzdldGtexxS9ktTdmwooKigwg7iGqEHDaa98x0P/eXqZo6Mc8JwQilvRNNSauU72PJJi4ALgL7YaSJxmiHo11k8YzX78krpMaATQ8f326+6JMCsaav411OfNSuu6K2zC6rzNxZAUA93wABSNzAqarFiFDdf9bNRnHXeAK697AWsUBAXPr8Erc5AVwTSqYKUqCF5f0sV6EkalivUdssK+9NJFWiSYx+RiykaauB8tUGWrN7Jx19lU+sLMnJQV+64ZjRtshoCo4tP78eiLbtYsWUPmqoQFIIdReUM7tNxv+9bPRPG9mPC2AYBESklr328mA9mrERVFAzT5PwxJ/OrW89C01RG9u9Cu8wUdhdVhC0NNFUhIzURxa1w1lOvowhhewR9Pp87zx3J/51t15u+OmsZr89dbvvmCXh9znLuOW8kt463jUxTEtykJLijG3mccf+wUfTOyGLS2mzKfT7O6tKdO4YMJ80dW3/Boap8+rPr+P3cuczZYSuZjevWjT+cfRaug1RUOxRu7DMEVSj8YcUcezVRAgEFh9TITExgQq+DW0n7JG85ZY2COACfqTNp+0Ku7TqCVGfCYb6DOD9RjvQ4agCPSClXCSGSgWwhxGwp5cbDeI0fLXP2bqbYV4PeSLUyaJlsrSpmZdluhmcdG18z07R46bVv+fKbtViawN+4oLvRPl6f/WyQU7GXmxb9D90ykcUWG2fu4uO6JbgUlVatUnjq95exfOn2qGAEbOVmYTU8yzo1lYuHxu5Ps0sK0IRKABMjWSDRMBMannHUOh13fh3VwML8KpYv2kq/Uzrz9L9vQNX2X1MmpeT7ZTv46uu1fLdhJ7WJoCcpIATegM4vXp3GtN/9nDZpkfXQ3xfv5O6lH2JJScAymJy7koEZ7Xlt9PU4lR9Wy1ZeWoMSYyXQsiQlew8+EyTO8YWQhz+18mjT0hPYyVLKAQBCiEnA8hb2/cmzL6+Uhy96Dr83gN8XxO1x0rZLFs9Nf4TE5ObFyXTd4NW/fYUMGZ/JJv21BIRLo6CgnMqC8piBnuHXefKed9ADBslpCdz7+MWcGcrdTs9IJDk9gerimqhjBaD5DHSn3dFJBaQm8LWyi6ijVt9EowaGJPubQwhwpLp4+b0FYRnkb77bxNLVO3n/n7eQnmI/KP9m0tdkb83HMK2w180/pyygfWYKp/Xr2uz5W+LzueuY/NXKiELvbxZvItHj5Bc3nmkXlT9xDS9N+Y5Z329BSsn4Yb247dIRXPbcu/j1yAnz12Yv47Q+XfA4Hbw+dzmB+tclmJbBKzO/55yBveiUtf96ulhU+vxMXrGG73fm0ykjlZtGDKZ36/2vSP5Qzuvei/O6H3jqZ1ZiIi9PmBA2KD+asv9CCK7vM5hreg3irbXZvL9xHX6hc0GP3jwwbBSeGGpvLbG4ZFuEyW89DkVlQ9VeTmt1ZFcZ4/xkOKLjqJSyECgM/VwjhNgEdABO+ECuMljJR3veY13lGoQQDEsfwVWdriNRO3yqrTnlBXjNYNR2Q5psrCw8ZoHcO5OXMGP2OoK6iTQAt0LTSM7l0hgzzO6nnlz1BV4jiAhC288ciJADTxCTgoIKHnzoAzISnFSU18W8ntvpwAgYaIkOurbN4N7zYtdjZ7kjJ7jUYKSfrKfAG/FQ7PcGWb86jzlfrOG8y6O96pryrxe+Yc7cDfj99oR1UjUEExXq2msgBJYl+eL7Ddx+foMImSktHlr+aYQYltcMsra8gKm7VnNt90NVibfpPaBTTDVOl9vBkNN7xzgizgnHwfvIHVe0tFwU/lbEUyr3z9/vf4eqshp8dQGkJfHVBcjfXsS7f/2ixeMK8soaVtNChsyN7c8QoGQlsWtnScy6LhwauBzoobztmkovf/n1xyyavR6ADesL8PmjfWnqEaFrSyGQgD/NgWzuUyHrPdfA5dTo0Ca1Gd1RgaaplNZ4I7xsLEvi9Qf59Js1AJRV17Fs8+4oY2t/0OCdWSs5GHTTZPn2PSzavJN3pi+LEDIBCAQNPpu7NuzJlpzg5vGbzmbeK/cy/z/38bvbzmPdniLUGLLKAcPgi5Wb+DZnezjYbIwlLb5dv+Og2ltPcU0tF7/8Dv9dtJxlu/bw2eoNXP3GZBZs23lI5zsaCCGOmXebpij83+DhzL/+Nr6/+S5+P2Z8s6uILdHanYIS48NrSotMV1zeP85h46iNoyFfusHAsiN5naOBbgX586Y/sLoiG13qBK0gy8qX8tzmZ7Dkgftw7o8uSRl4YtTCORSVjgnHxqBaSsmUadlh1WkhQeghe5xGFjm6z2DXzhJ8hs7W6mIAPNuVkIdrZN9mmhYn9e8QZSegqoJ2WclkLa2mzWovrZdUMzGjKx6nvV9xURX//tsMbrv2FZ544H08+RYpTlf47P5WFjIUual+ExEjRy3g05nxyf7nL3buLGH2nPX4Gz2vCAnOOgvNZ583aJgUV0UGoxsr90VkVtTjM3U+370uavvBkpaZxOU/H4u7kY2Uw6mSmpHEBdeM/MHnj3McIA/yv+OMllbkBgkh6iXsBOAJ/S4AKaVMaf7Qnxa+Oj+bs3Oj0hv1oMH8qSu460/N51CnpidihNL7UAQ4VDAtu88WIDUVWVLHnx/6EJmcgKzxIUIrQhLA5YheGZPwyl9mMPac/mSv2kVQN2LGWxKwGqV+Sk1BOpXQIBB5L0K3UHQZbubwUzrz+C8v4sZ7J1FR6bXPpYDpUkAVdGyXQVFxdZSBd1A3Wb1xDwBl1V40TYkK5ACKKmqbfc+asm53IfdM+hw9FGTVOYO4POBsoo2h6xaBoEFCM1LIhmk2tZID7LFz6sr1dGiVGnMNXggRMwA8EF5ZsIxKnx8jFGCaUmLqBr+dPpsFD//fYcnxB1hfXMTm0hK6pKUxrF2HH6WJ9sFwfbdRfLtvE/5Gs7gqgg4JGfRObnsMWxbnR8ZRGUeFEEnAp8CDUsoo6VkhxB3AHQCdOx+Zeq7DSXbFCrxmHRYNQZspDcqCZWyq3kC/1AGH5ToXderPvzZ8i9/UwyOeKgTJDjentz3yq/JSSgzTQlOVcJ8spV0b1xjVkEhLYqkChEQYEix46fVv+ejz5ZjnSlBB8YKIMV0QCOh06JrFuLM1Zs9cZ4ueSUh0OagsrcUITRKbwDuvzSMtM4FBQ7tx902v4fMFMQ2LPbtKyV6RS2bbRFy9PBT3CmL1UZCFoBlKi8+3OzYUUFPlJTm1+ZT1lat2xiwRQYKjzsRIUEhwORh5UmfWbMrn3c+Ws7eoii490iGTmK6MjsMkjnLLLy+gZ/+OfP72ImqrvIw6pz8TbzuDxOTjv4wizv750aZWSinjJhlHgK0b8pkzfTWb1+2hML8C05Ikp7iprvTaAZ0QoKmh1Tg7pBIQ7mjxuBCKQAZ0FFWhubnJyrJagkGDT6etxEIgNAXFsMIBXf3n1nLaHbBUISUziTJ/IOwPV7+fYthBXPhYCdmrdvHqpPm88+9b+e87C5i9ZDO1SkMuZm5hGUqMAUVRBJ3b2cXPXdqkx5zd0FSFEScdmHiFXze48/XPqPE3GvgEBNIFmi4j2tA6MwmPy55prAsG0U2LNE9DR3xan67hFbvGSKDO0NlWXIpUQymnjdotgLMHHJw6ZfaeAt5cms38bTvDfm6NQ6uaQIC9ldV0TI8tFHOg+A2d26d/zup9e8MPCp1TUnn/iqtJ9/x0/Yj7p3XkyQETeHb9lwAYlknP5Nb8a9j1P/kgN87h42iMo0IIB3YQ976Ucmoz7XgNeA1g2LBhx/1jS743n4AVbbZtSIO9voLDFsglO9x8cMbPeWzlNDZX2QbgQzI78ddhl+H4gbVVLSGlZMqcNUz67Hsqa31kpiZy99VjuHhsP3JLy/GkufBVRt6/sEBtOlmsm+wprULb6MJyKPgTTRI8EkeTSUynU2PTlkLyNu1DQdi14VJSWxmtBGwETZ771wxGjeqN1xuIqKuTliRQWIuwEui+18Nv/3QJPa/I5NOZa1i2didFhTswm9oSSIliGMz+ZDlX3H5mzPejoryWuV/n2CmMTftfAVIVuB0aPdplolfrPPzfGeHSiYJ9FbhVB77zdKzkhrZ6VAdXdh3C4UAIwdgLBsbtBn6sHPc9YssceZWCnwCeRDcnDe3GxhW5ESaZmlPjjMuHh39/95W5THlrUYMlgKqAIqjzBdEUBc2hYuhmxGcq6pFSCCyXE2FJOvVqQ96eiphtciU4+W7pNoKhwEQ6VCxFoOi2UIRUBJZTxZailAhFYdSpPflq6UYsXSKEQKq2eWjjIK6eQNBg1tz13H/XWTx2//mszt9HbWNPOCHslItQKqa0JxJxaArXXGh3ri6Hxv2Xj+GFqYvCKZgC28/tlvOG0xRvIMgni9cxd812UhPdXHv6KXh1PXaqjRDoCeCqtt9Nl1PjkVvOosLn54np3/DdjjzA9mf7y4TzGNihLZnJCfzqsjN4btpCDNPEtEJG66HyBBm6F6GBCzX85X/s8jNpm54ccXlfUGf+5lzqAkFG9exCh0bKl9NzNvHkjDkEdKPhb92kPtKyJImuH26i+vz3S8kuLCDQyG5gR0U5v/l2Nq9cNOEHn/9E5uKOp3Buu/5sqykixeGhU+KRtVGIE+dwI+xZh0nAJinlP491ew4X7T3tcSmuqGBOExpt3Id3xbxHSiumjL+dGt2PQJDkiDbazq+r4L9b57O8dCet3cnc1mss49oeulXJlDlreOnDhnGvtLKO596ey77qGl5ZtQKrtUlKFcTQOIlA9wgqe6jgAxEQWEKlvB+kbwzi9Nr7qKpCUDdZtnQ7is+MOF9zAmt4Tb5bugUthjgKEqygid8XZPPSAkZe24U7rx3DndeO4Z3WM5n81ndNGmmg+wLs2FAQ8x5M0+LBO99h374qcEW3RhGCzn1ac8mY/kwcM4Cr7nkjov7dtCRCClLWuwmONTEsE0UojGvXm0s6HZ6AP86PmB+52MlPGsuymPr6fD5/YwG11T76n9qd//vtpXTpE9sf5pEXb+aRi/+O3xvA5w3gSXDRplMmNz12CQB7d5fxyZsLCQYMJBLqH9JDAiKGEIwa3ZPVy3bi90UXXzdGCoFMSaCg3ItUFTCtqM74nKuG8/WCDQQCOtIpUHSJdKiYjuhZRmEACqS5nGQkeSitqEMi7KaptDhbUVsXwOnU2BXD2Dt8bKPVPanZ6lP1XHPmKWTvLGBO9lakCaYKAZfkldnf8/Q154RXR3xBnev/Ppk9pZXhFMrlW/eQmZYQcb6Gm4J2bVPxuCWd22fw88tH0r9XOy597T12lJaHUxl3lJZz87tT+Pqem2mbksw1pw3i1J6d+HjJOt5fshqrfkm00RucnOjm3nEjEQjOGtAzSkFrVV4Bd779OSCxLIkpJbeMGcqD545GN03+OHNepKBKWDzG/ldTFIZ36UB6wg9fMftk4/qIIA5Atyzm7NyBbpo41J/2wrtT1eiX1uFYN2O/BC2d1RUb8Zp+Bqb2IdN1aMI6cX50jAZuBHKEEGtC256QUn51DNv0gxmafipTCz5Bt/RweqWKSqojlf6pR2ZVJNkRO02uwFvB1Qv+S50RwEJS6Kvi0ewpPND3LG7oHlsUpCWklEz67PuI+nGwa8Pf+nwZvnYWJAsq+qgkFNr1Ye5UJ1QYDWUYIWo6qrbsfwghBVKRVPdwkL7NsOvlTIklJIoRo75bAzVG5ow/wy6x0OpiD/5SEQSDJtlr87jl2tPC24eP7c2H/56FVEO+dIaJCKled2vGb23F9zuoqKjDMi0Uv8By16dDChxOld8/eRmnjbIzXvaVVMes+ZdS0qoyiTtOGUN5sI5Ts7rSNy2eIh/nAIkHcj9OXnnyU+ZMWU7AZ3caqxZu5qHLdvLKN4/StnNm1P7turbirRV/ZPGMNezbXUqP/p0YdlaD/cDyhVtCRWkSnKG3vT6FIBTM5azbgyVoNjhriq6bSEWAUKC+kxaQ3DOLyWs2g9+yvbqFsAVMWprdMyQff2YLjGgOkAgQYKl2Z68Y0ccGDJNJny3loZvGk5LoprrOH33eJgf5gwZPvvQlU/55G0IIdpVU8O3mHeiNJkH9hsE3a7cwcWR/+ndqy7Y9JczI3sTOovKI75tfNygoqUY6iJLtSXA6ePTacZzRt8FMeU1+IXsqqsJBXD3eoM5vPpvFpJsnAtCtdQYPXDSGj7LXYcao32uTmsT1YwfHehcJGib3/G8adYHIYPzdxas4rWdnMpIToq5f/z4JwK1p9GqVyd8nXhjz/M1RVFvL80uWMD93J0kuJ7cMGcJ1AwfGNP4GsKTkj0vmU+ytZWzHrlzR++SDVn6Mc3TYUrOTpze8jEQipcSUJhM7nsc1nQ/uMxLnx4eU8jtaXrQ5IXGpLh4/6fe8v/ttNlatRwjBKWlD+Fnnm1DE0fXnfG3rQrxmEKvR6OM3df696Vuu6jLsgIzDG2OaFpU10SmNALrfpP7PaSQITLfEU2oiK+vo1D6DwupagqH6NiHBjDXXJwSGGyq7O3BVWCSUmnaAJ0SkGIkQ+NM0EkoaaujryyxKh7rQfJK2SwMRNXcSuxwDRaAogvaNzMillGzJLcFKcEJdAEU2HCOAxMzICc968neXhYXchCVRvKZdiC/g0glDw0EcQHKSGytWITuQmZbIJZ1/eitwNVVenC5HlJBNnIMgHsj9+Kgsq2XWx8vCSpBgp70FAzpTXv2W+565KuZxLo+T8VeeGvM1h1OzZdsldkplVB64oLYmgHBrSKeGvZpjoQaiUyEaz8AhBKgqMvSXtDRBvssEU4Am7c5UAmp0EXTjtL7G24QOOOxfpENgqipKtRmRhiEBPVHw6fwc1mzM52cXDuXtJmqR9W4FTSmtrKOwpJr2rVNZvHlXzO+QP2gwecFqsrPz0A2TaozwPUbRMPaBALdDY3DX9ozt0y1it/zKqtiOCQK+37GHFdv3MLynXZvndmhMGNyX6as3EzAa7snt0LhzXOy/McCKnfmYMQq2fbrBv2cv4V/XXxxT+RKge2YGz1950UFbD1T6fEx49z0qfT4MKSmuq+PP8xewubiE8d2689W2LZhN/hASyQcb1mBIyYLdO3lj7UqmTbyBFFd0WlGcY4dhmfxp4yt4zcgHv88KZtM/tRf9Ug+uNjNOnKOBKS0m583ls/xF1Bo++qZ04d5el9Er+cD9QTNdmfyi1yNY0kJwbJRyywLVzNqbgxkjfV8IyKsrp3dKm5jH1voDmJYktYmvqKapZKYnUloRbQUgnMKesHFIUrfoJBVYqKXVKHvL2LdqB4qq0GN0H6zuGRTkFIPUYobxQoKjRkZMcEqHAsHI+3AEBHqyA9Nt4qiV+NMVygc5CKQrBLIEqkzAubKWgG5gmRLLqaCn2NlEDk3lqgm2pUDhvkoe//2n5BdUYHRIByRaYRVatd+u+fe4KC6sAqC0pJqpU1awaUMB3bq3pneftjhCZSUQuh1L4vE46NMnclUt0eNk3IhezF+2jWAjFW+3S+OGy5ofl3+MrF+5kxee+IR9e+xsqJFnncwDz15FUspPt/b9UDnRUyuP7tTWCUL+jmKczuiowTQstqzJO6Rzjj7rZMyg2fLUqZSYPh3qH/SdGmaKE0sVDaqnqmjWv00CerLdbmFInBUGSr0whxRYShMFVQGWM/J84Z9MGQ48pSrQU1Qsh72yZ2mgJypIoSJMSW5xBT07ZHLlOYNxOTU8Lgdup0ZKYuxUFSklSkjl0e3QYio+qorC3JXbqKr14/Xp9kpmMzNxqgTFDN2UBYM7tuPlWy8LX6O4qpbs3HzaJSeH0zIjsEAGJR8sXB2x+YkJ47hgYG+cmkqC04FTU2iXlcIXGzczZ/P2sJ9aY4JGbIVQgDW7Cvl23XZOapWFGgTFDyJoX9/j0Hho/OgWg7i5+duZMONthn78IrfM+Zj1ZXZx/vtr11ITCGA0ao/PMPh0wwZuHzyMDE8CnpBptzuUSmmqMry/zzDYW1vNG+sOzvIhzpFnffXWmA+RQSvI7KIlx6BFceLsnxe2fsoHeXOo1GsxpElOVS4Prn6JfG/JQZ9LEcphD+JqdD91RrSYSmPqDD+3LP0rAdnM6pllkuWKXmUqrKjmlv98wtin/ssZT7/K+c9N4rU1iyn0VoX3ufeqsbgbP2NIiROFvgPaEuxooGeGgrjyWpQ9JQgj9OxgWuR/t5ldizYjdQtPiWGPjY0QAYvU7UGS9wTxFOuI+jo3xU5brN/b43HaAbKqUNnHxa4JHnztnLTKhk7fmLRdYDC2f08++PIhUrtlEMx0o6c6ww8JrTOS6NG1FVJKHnniY3bnl9uTlIoARcFol4aVmQKJHjxJbjr3aM2e3WXceuOrTPloGTnr9vDltFW89MIs0jIScTQq+1BVheTUBMae2Tfq/X3srnMZNbgbDodKoseJ26Vx0+UjOHv0odcsnmjszSvlyVvfID+3BEM3MXST77/dyO9un3SsmxbnGBBfkYtBm04ZBGMYQCqqoEuvQ8u7TstMIiUtgaryOjtQa7oqJyVYEsWSSKeCNO2oxErQsNI1RNBA9TYIgmgOFcu0sELJElIAmp3ygCVxVZgRqZQSW8DE0iQCYe8vROzZPCAsh1lf36YKjCS1oa1S2AGiYStZzZy/gdtvGMvZo3qT4HTQOiOZqXPX8uoniyMKkwXQsU0abbNs8Y+zBvTkL5/Pj2qDRCJ0GRZJUYJgRWUONKwRCglqKJgrLKlGUxV0w+SJD2Yyb/0OnJpK0DBJzXJRYngjlxYBNQhlNd6Iszs1jWeuOo9fX3ImN//vE9YXl7C1qpytVeXM376LC/r2ikqBHN6tY+zUSQnSkDw3YyGGCpih0jvT/vnqEQM456Tm5a6nbM/hyWXf4DPt93L+3lyWFe3mk/Nv4Ps9+VF1cABOVaW0ro45N/6cqZs3sraokHS3m8lb1uE1mvjsmSZf79jKw8NHN9uGOEefoBnbA1ICAbPlB9E4cY4FVcFaZu9bEeXtFTR1Ptz9Lb886Zpj1DLIrSnhidVT2RJSqByU3ok/D7mCdgnRNacf7FhAneEn0alQ6VNpPFg6hMLY1r3IaOI5qZsmN778EcXVdeEUwPziKl78aBmvDJ/HTb1HkBnM4s3N2ZT3B0edA9eWIKpf4nBIvnPsxtLAXWGnOCqFZYgmE4bCkjh2V2CdlEraNh09ScXwYI/3pqT12gCKbrdWNUAKieJUcSY6QYKeYHLlJUM4dVh3Pp2ezeLF28jcYJFYIHDUglI/j1wH86esp2dKJtX1dfvhoU1SVlbLqrW7cbs0yivqoq0DBBiJDjy1OkkpHkafdTKPPvAe3rpA+NnHkhK/X0d1qpx9wQAWzNmIZUlOO703d/3iHJyu6EdUt8vBs7+6lPLKOkor6ujULh3PTyytcPr/FkeZlBtBk9xNe9m1dR9de8frAw+KE3xFLh7IxaBVuzSGjzuZFfM22V+WUEfqcDqYeNd41i7PJXfrPtp1zGD4mF6o2oEJRgwe1ZMFX6/D0hQUMzLtASnBCOWGhxCWRPGbWA6BMCxQBW6nRrsO6Ywc25vTzuzLs7+dSkV5Lb7QSpPqs1BdFqbTPo9i2MqT9dnxQjS/otcUxcJOW1Rlk2NE+IMvQk2fuSmXb57MxenUSE1089c7L+aqcwezPCePNVsKME0Th6bicmo8+8Al4TOlJXr4x80X88v/zQh5pkn8uoGlS4IOCQ47JVTzgeoH091E97+xEEloqTHRaad+/OvLRczfkEvQMBu86soCaCoYTvs4JWif262pjBtgB1KGZTF/205yS8tol5LMstw9rC8qibiWLi2+3rSVmwuGMKBDQ6eZ5Hbx1KVn8+spMyMETLBAWlBnGVGdhgAKSqpoDktKns3+NhzE1eMzDf66aj5d07JYtmdPVPqkYVm0T04m2eXi5kGDgcHsqa7kvc2xTVITHT9cJfNIUeyvYnbhOmoNPyOzejMwrfNPwiagX2ovTBkdpLsVJ6Ozhh6DFsWJ0zL5vlIcQiNIZH9lIdlSvecYtQrqjAA3fTeJat0X7oJXV+zmxu8m8fXZD2JaFvl11bT2JJHidLGgcANClTgxSXb5qQ24w8e1daXw7JAroq6xaNMuavyBJnVcAmlJzBwHb2xei+lSw9kQriC4A5K6tlDUwcBQ7HoEPcm2G0CPoUQCCNPCcIJqClJ3GPgz7YwZT4kRDuLC+0rQLLjvrvG4XE5OHdYNn1+nusbHTTeOZtnyHeiGhauq6TgPhin56pt1YYGRxq/qusn23CI27S3F5wtG98fCtj06bXxf7v71RTidGhs2FMR8/sjfXcark27n4V9fHPN+Y5GRlkhGWuL+d4zBvrxSJj35EdnfbsCd4OLi/2fvvMPkKK4t/qsOEzZHrXIOKAshQCShgMg5m2CwSQ8TbIMDGIwxNu/hAJhnAyaZnDMIYUAoIoEyymklraRdSZvzpO6uen/07OzMzqySEenN+b79pO3prq7pma2qU/fcc6+exIU/PxXDTL0krqlu5rPZ67Fsh6OOGUTPFD4JXye2l1bipDCv0Q2d3Tvq0kRuf5B2rfx+QilFn0O688Wc9WAaoBQ+v8mtf7mYB+95j+1bq3EsB8Ojk5ObwQPPXkNhl73Xdb30hinMn70Oy9AgHIkSgygpig7sKmqO0kaQcCSehlAsuqZnKPwKfvDjCfj8Hp5560b+9Mf3+PTj1S4XzNTdvLhoHp3U3KiPHumQeQykisYR95ICkApluJNL7HQlEnPlstywmUIQitiEIi385ME3ef++q3jwV+eypnQXq0p30aUgi+PGDsDTYbCcMLQfs+++lgUbtjF79RY+XrqBsHRiA74yFI4PjBDolrtT6TMNgsrB9qloONLtjMzl/z4AACAASURBVE/XOfeYEW6dns9XEe4wEUYsh2xhIgMqZv/vNQ1KcrO48OhR1LUGuPjpV6lpbSUQsdrVnB2flQBLKeaVliUQOYAzxw7lyRkLKa1xS0Nokhh5SzVeKGBZ2c5OP4vaUIBWO7WT6cra3dw99UTeXruWYFyUzdQ0BhUVMqS4OOH8Xjl5DMovYG1tdcJiw2+YXDEytYFLG3YGGnlg1Wzm7t5MtunlikFHcNnAcV9Z0fLOMLdqHXd8+QpSSWzl8GLZZxxbfAh/HH3R12588HUj0/Bzbf+LeHzLq9jSQSLxaV4OyenPUUV7/rzSSOObQDd/IZZKoWhB0D8rtevz14EPK1YRkXbCGCyVosUKcdvC95i+dSsaAls6nDtgBB7HjwQ0DfweG5/ZgqMESJiadxwZRnI+cUV9Y/umYRyEFGjVJoHeJKQI+HZLakaDlU10nhUQVjimItBDkrPOgwgkR96VqeNkmmC7UTdvvcTOFBiB1CZpUirCQZujxg/izj++zZp1OzEMHQSccNJIPvpgBalssZRSBFoj+HwmoQ5ukR6PQWUowIzPVmK4u8SJFzuSH109kVzT5JNpKxgwsAuqTY2U4j668fWM5Q01Tdx0/N20NgSQUhFoCvLK/dMoW1vBb565Pun8Tz9ezQP/My3Wz2cen81Flx3ND6+a8LX0NxWGj+vHmiVbiYQT/86siE2/Q765v7E0vhl8v1dBB4g5077k7afnthfCFAJHwtMPfsTWTbsJBSJYlkOwNUJ1ZSMP/O7tfWq3Z98irr39dBDCTTyOulgmSCfayAsgTYEeiCRIJEOBCFs27uaNp+YSDEbYtauRWfPWu8pMj3Ang/gBVQiU3s51kp1TkqEAKSBUqGFnazh+DccrsL0C2WH3wjFpJ6RxkErx0aINCCEYMag7PzjlMKYcOSSJxLUhw+thysiBLFhdRjjsuNJDy42YCUcgDfD6dEYO6MpFE0fzq0sm88Idl5Dv9eHTdEwEfsPg6KF9Oe+YUThSJZG4NliO5NHrzuGE0YM4tF93bjjlKF699VIyfR7u/Xg2FY1NtEasWB6h6oynRI1VUuHnpx5HpmagO+7z2hvVKcjsPEE5x+NFdNJCt8xsBhQW8NjZZ9EtOxuvYWBqGsf06cPT5ybvGAP88+Sz6JmdQ6Zpkml68Oo65w8ZztmDkvMR2lAbauWsj5/k/e2rqQsH2NZSz19WzuS3Sw+uy3nIifDbFa8SlhaWcg13Qo7F/OoNzKlad1Dv/W3BlJKj+OvoX3NG90lM6XIUtwz5EXcO+wn695zEpvHdRIEnm+OKR+PVEuVupmbwgz5TvqFewfaWOoIppMohx+LD8vUEbYtWO0JYOry9ZQ2GU5gw+AsBOgoVMTh/UHKdU4BhPbpgpCrpohThApLmXCu7jcTFHxVgCyqP02g+vBDVYW5VuiA0uAuaE53rhcCwoMjwg5l6TLAdycNPzOSqm55lxepyIpZDIBghEIjwwcerkNlGykiZpgmGDumGaIlgNkXQWy2ELdE0QUaGhyVbdyK21KCX17bn9oPrum3ZvPznD3jioY959p8z+f2vXkNrCkDH1AMpyYSYw/fBxgdPzSIciCRIQSNBiy+mL2fX1qqEcxsbAjzwP9OIRGwiERvLcohEbF57cQGbNuz6WvqbCqdfejS+DE/MBwDA6zM57uRRlPTI/8b69Z2F2s+fbxnSEbkUeP3x2YSCiQO+FbHZuaUaleFNGPCko/hy0RYiYQuPd+867bFHDgBAWIk7Z7EIWDxJ8mqY9ck7bCEBT7++kH+9tZi2SzTA9qRww4xCaW5hbylE4ilxEbp4F0sBeBsk4QI9wSlTZoDWGtffThhKKGJT3dCS+sUUKK2o4eZ/vE1dY6C9f5orRxTS3dG89uyjuezEcbHB66NlGxCGhhN9X0ce0pv7fnQqRnRCGNS9iI07a5LuNbpvV0b17cbg7sVk+TwJkpCP15Um5bglfDYd3u+Zo1KTn0kjBvDb86bwwLR5NAZC2FK6a4IUET6/aXDVhHFIpZhXVsaczVvJ9fs4Z/gweufl4dUNLh08hpc2fpkgr/TrBj8d5ea0HdOnD/OuuZrdLS1kmiY5vtRGMwA9s3OZfcnVLN5VTnWglUNLutMje88R5RdKl9BqRxLkm0HH4p2yldw8fAIl/uw9XH3gWF5XhpbiSxZ0InxYsZxJJcMPyn2/beiV0Y0r+6Um5mmk8W3DLw+5iAJPNu9XLCAsI/TN7MZPB59H38xvTvI1PL8HGbqHgJOobnAUhK3E1VnIsZlTtYPjc8exXv8Sw+uuByJNfs4smkqvvNR1HMf268Eh3YtZU14Zi8wpFMoAJyrnj0egS0cS1w6laew6K5vQYIPi16oQzWGk3yQ8sAiZn4sRSeyz02Lxz/sv59afvkA43nEbd/4P6pJIdVPSGkEBTliCHjUNi39NwbJ5myBkIyRoUqFZNr2GFfE/917AlQ+8hrAlZnkDWmsIu2s+GDpabTN6dQN2YQG26fbFcRz0YARlGu46SrlSTi3iMGxMH35y+eP4/R5OP38cE6cOP2jS+bULS4mkqEVneAzK1pbTrV+X2LEv5m9C05P7YVkOsz5Zw6BO6gofbOQWZPL3d3/G03/5kKVzN+DP9HDG5cdwzo+/uSjhdxrfQnK2P0gTuRRorNsDAVHJOnIUyYm+naCpIYCJSCljEICQkl6DSyitbkh5vfQaOLk+V38e/4Ih3Pw6RyIUbn25eDdIR7nkUdOIiSSFK72M3V92eGsSPI0O4YLEr4nUXbmg1KMRuRTwe00OHbRvhZarGpr58f2v0RQKJ+a8gctQo8Yg22saYyRuyaZy7nrx44TC2p9v2MZdL37En648DYA7z5vCtY+9iWU7OFKhawKPrlOYm8n43z6C40iKczK545zJTBzWn/3Fj44YS1FW5xr9Mw8fxumHDeW9ZWu5991ZBCJW0oChaYIrjxvHmYcO5dq33mHRjnICloWpaTyxaAl/OfVkThkymNsPm4yjFK9sWgGAR9P55djjOaVPu1OXEIJu2ftGqDQhOLJ7r31+r4urtxORyd9aUzNY31B50IjcnmSb6YhUGml8O2FqBv818EyuG3AGUkl0bd/yyA8mJnc9hH/4c6horceK5p16NIOwpXDs5LFEIvnziWezonw876xfjVc3ufDwUYztmbqwNbhj8F+vPIULX3iK2u0OKIHRJYToEcbZkIMW1FxjkujtHC8pNwhRoAUVmfU6s++9jRUXlzN3SSnZmT7efWMJMlpGQAm3DJDSBU7YZuCgEn72i1O4797325vSIJxr4Gm2kZ7kz6Ftf1EZAkk0p77NBCxkE7YkUhMorwYSNEsSqGyhS1EO/XoUsrRPDr5tjej1rehxJRWUJqBD6QWZnUlGSxARjmAh0JVCFOSwat2umExw04ZdrFq+jZt/fVqnz/k/Qd+hPVkxZ12s3EEbHNuha9/EVIRYyagOUNFaft8kunTP59cPXvLNduJ7AEE6R+57iTFHDWTWe8uTyJnpNXFMHcdpPy6EYMjInvj8qY0iIhGbT6avYM6MNWRkepl80p4LVgqPzvk/PpaHHp1BoDWMnedz68ophRawkL5kCYTAHdD1oBNznAJXamn7NUBghKORPUdhZbQROdcAxTHBCMmkL7MANAvX3jhKoJQQOH63TF0MHaJMXo/BkF7FHDW87x7fq+1I/vDKDKYtWYdtS9BSB/iU5pLML9Ztix178pNFCSQOIGw5zFy5mfqWIPlZfsb0684zN1zI/0ybTXldI8O6d8HUNGat3RKTXe5qaOYXL3zAk9eex5i+3Zk8uD8zNpRix3/2yt2pVMLNzyvJyeJXU47jjBF7tzvWNMGIniWxfDQRbU8pMHWNK489jJtOOIr3162PkTgAS0osKfn1hx8xsX8//KbJ3UdM5baxE2mIhCjyZWJoXx+R6ZddyOKa7cmGKsqhR2bq3emvAocW9Ev5pfDrHk7vmTb7SCONbzOEEOiicxLnKMk7O5bx5vYl2NLh9J6juajPkftdZHtfYGo6Lx53NQ+vn8W/K1ajCcGZvUazaEcNnzcnm7AU+TLJ9fg4fkA/jh/QL3Z8beku3vt0FS2BMJOOHMzxRw6KqUAAHtr4AaHetfh7t0/GSoKnXyvGvGyCxa6cEgFmQGDldNDeKxC2IG+VwVGj+5Hr9TFh3EAmjHPNuEpX7GTVmnJsjyDQNfpsBVhCcPPD71C3vg7pc0kXAqxMHd1SpNw9jt3QlWgqA4RSsZqzypLYmTrSpycQmsbWEHW1LVw25VDml5YR6ZqJZ3cAzZbRouICa1ARHtnhszd0xpx+KKecPJLqnQ00Bi1ee2UhkTgFVCho8fH7K7jgsqPpdhBkgmdcO4UP/jUrgciZHoOBo/vQb3ji5uaRxwzi7/f/O6kNj8fg+CmdpyKk8R1Dmsh9/3D5z05i4cx1hAIRbNtBCPD4TK6/62xeeeYzGupaCQYi+Pwmpsfglt+fk7Id23b4xfXPUra5yk0Uth0WfrgqFjVz3UvaJwAFWKbO888vwLEdVwrpM6L5UQKZ6UnNdKIXax3mAy2i0JGuc2X8TZI093t+HqJtU6otGhknEWxLj5s0qj/bahtpaA0RCkZYvbaC8Vc+CBr07lnAQz87hx5FuQntPvrh5/x72YZOC2THbhBFUW579Ku8JnXE0tR1appayc/ys2F3NT967k0sRxK2LRp37MBqsZN20kKWzeOfLuSRq87hzpMnsXLnbuoDQYJt9r4KzAD4DIM7z53MWYfvn5xvYNcixvTpxrKynTG5jYabX3fZsa5hxXtr18VIXDw0IVhcXsGEfn0B8BkmXY2v32r5ysFH8Pa2VTixHBOFoekMy+vKwJz9K2C+P/BoBn869FJ+uex5iBoRaELjlO5jOLpo8EG7bxpppHHw8etlr/JZ9SZC0XHl4Q21fLJrDc8cfc1BibjnmH5uH3kqt49sLxuzuqSSCz56kbBtI6MTm183uPvwE5LkfX97fSZvvv2lu5mr4PNlW3n305U88JvzMHQNpRSzKtcg6SDP18CTGyFQBBlVoKqiG4NeQSSgCHalfU6VkLEbtC4a1502PtZG2LGYX7aRsSf2YMPm3TQXkaC6kcDiDTvwNEt0Q4vN+8JyMGtD6GGJDGlYOV4w4koJ0WENEL8Z7NVcEhdfqkgpgn6NjAwPRw/ty6DuRZSeAN7tTfi2NqI8OvawIgp2gV2XaNTi85ucdNZYxh/vboLed9fbSWksALqhsWbFjoNC5Lr2KeK+937J3256hh0bdyI0wdFnHsbNf7si6dz8/ExuuvVk/n7/v5FKoaTEMHTOOv9wDhm2b4qjNL7lSLtW/mcQQpwMPATowJNKqfs6vO4FngMOA2qBi5RSZQe7XyU9C3jkg1t444nZrFq0ha69CrjgmokMHduXSWeNZf6nayldu5MefQqZeMooMjKT3auCwQj/fOgTNm3Y5drE2hIt0D5gtblSxrs4Sa+O8ujUVDeTl++nusWCaNkAABG1JgZX1igNzS1RYKmUhhoC163S8WnYUXMVoVSSPNTxCYQtMAMqqQ2lgYoyOU0IDI9OOOIk3kPT2FHTiMfQaahrQdntCkklYfv2Os694198+refkOVvf1avzluRFFVLQjS5VNc0rjhxXOzw6H7dqaht6mDz7O7w9izKRSnFz1/9wJVrtn0mYRu9kz/YsigxLM7K5PyRI3h07heYQqAshdfROHJIb66dcgSH9juwwfsfV5zF/dPn8c6SNYRth8P79+SOsyZRnO2SU6/R+Z+iJ1Xy/NeMATlFPHHshdy2+H12hxsBhRA2m1t289rWZVzYb+xBu/cRhQN5f+JtzNy9mlY7zPiigQzITtsrp5HGdxnrG3cmkDiAsLTY3FzFvKoNTCz5eiIeIwpLeOeUy3lo5XxW1uyiT3Y+N48+hiNLEqMz93z+ER++uQoh22fJYNhizcZdzF1cyuTxg1GoJNVCOxThQohkgxGG3IBBOGDjadExNytsPwgbzBZFpKdFaw+HX66dxjNdL2bJ7k38Yc07SEe6E+sPBCzJhebEecNRirAXvD5BIEcD26FgVYubNgEIW6IHbcJFGShTB0ehPG40TteEO3dLFY2qgfLoyakkQqCZgsraZvplFvHEDedz+wsfssSsIDiokPxMP/dcPBW91uIPv34NpRS25WB6DI6ZOJSjJgyJNVVUnI1haK4iJ/4WQF5+xv59kPuBQw4fwD+/+APBlhCGx8D0dD7/nnz6GA4d15c5n67Dsh2OPnYw/QZ06fT8NL6DSBO5A4MQQgceBqYC5cBiIcR7Sqm1caddBdQrpQYKIS4G/gR8LdVEi7vlcf1dZycd93gMJp0yikmnjOr02qqqJm687mkaa1pQ0QFKC1spiRYKbL+J8hruwBpFdU1zUruum6TAydRjrM0x3SLg/qrU9vTgSizbdu5ktAZcmxmX1KI6+2wNI+yAjIvAAVaGhuYIBILfXnMi68ureWXG8oT2HUeyuaLWraRgJxLKtuCdDCsee/dzbr14ovtelKIlGE46MSFdoK0TEnSfYNKY9oLZ1508nlkrSxNKBPg8BteceCR+j0lFfSO7Gjo8Q5E6HUETgpG9XGIwe8MWnpq3GMeOc7QyFDV28IBJHIDfY3Ln2ZO58+zJKV+/YNQI5mwtI9ghKmdoGuN6fjU7fxX1jSzftoui7AwO79cTfT+lmUeV9OPIkt58WLEGS7n9DMgQd694n5AT4YcDx++lhQNHjunn7F6pneLSSCON7x6W121P2ogDCDgRFtdu/dqIHMCQ/GIeOT55vm/DmvrdvL3wS7ya7tZ3i8LOlFT1D3DPuo+pLGrl7L4j6KIVsNupTeA/jgOt23JceaMGth/qTIvMVtBbFU6GwFsPZiuAwLPRhI1QPryeH+svUuNUIA3VvmIzFRzdCB8XJNkqKwFNvXWUBiULmhPSLdo2kD0NIewsd1PVNjR0W3DK5GHMmbOBgHJwMnSUDsJJ3twFN2L28idLOXrsAI4d1Z/H/us8GltDBCMWJXlZsUjmc+/+lDkz1tDaEuKwIwcwZHjiXHbK2WN59/XFCUROCPBneDj08P3PW99f+LM6NwWLR0nXPC689KiD3Js0vjGkidwB4wigVCm1BUAI8QpwFhBP5M4C7o7+/w3gH0IIodQ3nWa6Z/z9bx/R0BBwo20Qy01LBSFA+s1YVE4IKC7OpryiPknWoZRCejU0u50gaZbC8SqkIdDt5HsoHbcQTtv9otcpFc1787pFRR0DgsU6RlChhSVKCLcQuSYQEnQdcrP8TBk3mPc+W0MglEgclVLI6K6fctPyooXI2yePl5et4LUd6zi0V3d+MeVYhvbqwtodcXa/8WQujmxiguFN/Kr2Ls7jxV9cwt/fn8+yLRUUZWdy1YmHc8phrmQj5dOO5rhpkgR5pc80uO6EIwF4bsEygh2ihI5SlFbWsr2ugd4FebH3+8zS5Ty1eAn1oSAjS7pyx+TjGdn1wCJFE/r25eJRI3npyxVuXkmUeN9/xil7zIVrDId4ZOUXTN+6Ab9pcsXQsfxgyOgEkxClFPe8O5N3lq1x2xKQ4/PxzDXn06tg3/PbWqwwH1aswVZWh4oTij+v/ogp3YbQIzNtfZxGGmnsHYW+LAyh0XEL0qMZlHj3Xpc1FbY1NvCXz+fxecUO8n1+rhkzjguHjfiPHRA/rliPpUm8tG+2hkscGo60QYOA1sS9y2fw1IaFTMwexTuNs5FCoekgK03sddnYhRoiOjd66xQ529w5TkigVbk1X9ukktGoX+Yag109q9CzUyWwKyi2oKo9P9/QNBxdojSFkGAEUtS0A7AkWsRBiziYLeDxmvzk6sl0ycrkmbcXuusGIaL9SzZ4i1gOb81fzYdLNlCUm8WjvzyfroU55GYmEqO8gkzOuvCITp9rj14F3Pnf5/Hnu9/BtiVSKopLcrjnrxd/bXXl0kgjLa08cPQA4jOMy4EjOztHKWULIRqBQiDZU/4bxhfzN/HW64tobgyyeUuVu9Ooa4g2pz9NuKYhHSA0DV+GB8t28HgMDENn+MgelFfUJ99EJJo6tv2rhyGSo+Grc2LH2+7k+NsnHgVIE6TRnucmLFC6RAo3shfJFAi/QI+QsJPnOIpf/e97XHnOkXTGo5UA6Y/rGNE6cDbYHnAsB3aG+KxyCws2lPGns07i7hc+IWI5SKVijpRSqQQiZmgaU0YPpCP6lRTwwNVnpOxLj7wcuuZmsbU2MZfO49OZOKAvG8trqGsNMrpPV245bQL9uxQAUBcIpmzP0DUaAyFwT+PPc+fxwrIvY0W4l1RUcMkrr/HmZZcwuGj/c8aEENwxeSKXHjqaT7ds5v3KVaxvqeS6Ra/Se00+9x15GmOLeiZcE7QtTn/vOXa3NsccJf+waCZLqyp4YEK749e0Fet5b/lawrZDOJrxHozY3PT8+7zz08v3uY+14dZY4cmO6yKJ4vktC7lt5Mn7/d7TSCON/384vssQTE1PMuHQhcZpPcfsd3s7m5s489UXaLEiSKWoCwb5/byZlDXW8+uj/zNbdkNoOCUq5japUDSOsxNWUEHHYmdrI5QIQouKMetC6Lt0lKljFRObF7WwS+JEh9wcTUbTGOIHVwV6WEGq/TYFwpR4PQZhy8Znmowe0J3F28tBOKg9hBkEJNSo7dGvGJTihJNG8vQHi0EIhC3x7mzFKvS7dW/bDM+AcLaGcAThFpudLQ2cc8tTnHrMUH79oxM6rRXbGY48djCv/fsXbN60G5/PpEu3XJavLmd7VQOHjuyF35faSC6NNL4yfMeJ3Pdmy0MIca0QYokQYkl1dfXXeu8XnpnHvb97m+VLyijdVIlyFEg3MiVNzSVQPiPpu6IE9Du0FyecMJyxh/bh8suO4dVXbmBHeQoSh+sE1anbidCwsgykKZC6K4kM5xnIuF0tx+NG2dBELHnZ8eI6W+rRY5prZdzxNgrXZfLZDxeTlcKhUwIqvjh49Ed6wPaBkwlCCYQCzQbqJfd/Op+Xbr2EU8cdwqDuRZw27hD+97qzyM3w4Y9q1jM8JiV5Wfz0jGP3/kHEPw4h+NnUY9F03AxMDYQOfYvy+PPFp/Lh7T9m4R9v4J6LTqTVidAYDAEw5ZABeIxE8quES1SGdHUJWkskwnPLlsdIXBvCtsMjny/cr352RJ+8PN6vWcn6lsqYc+Xm5lqumP0yFa2NCee+VbqG6mBrQlmAoG0zbesGyprav0Mvff5lUpRRKsX2uga216Y2jUmFbhm5e9zZ3thUuc9tpZFGGv+/4dVNnjrqKnplFODTTfy6h2JvNg8fcTmF3qz9bu+J5UsI2FaCXDNo2zy9YhmNodB/1NdTew1DNzUajwsjPQor36271hFh6TCvaguj6/PxlpnI6EnxckxfHZ0vHJMWCWA3GCSFLQEEFOz0kxnRKMZLH5FB6fxtZGyOkFXhoDkQ6OrpqLzE4zXQdJGQV799SyW3/ugJPiwtxfa7R327A+gRiW9XK56aIHpzBKMhhKM5SEPE8u7ALb80bd5azr3pSRYvL+vsMaZEc3OIaR+tYMHyrcxftoWzfvgIv//L+9zz12mc9cNHmPv5xv1qL4009gvqAH72AiHEv4QQVUKI1XHH7hZCVAghvoz+nNrJtScLITYIIUqFELfty1v4JiNyFUB8NnHP6LFU55QLIQwgF9f0JAlKqceBxwHGjRv3tfHrpqYgLz+3gEjYinN1FEhdoDxtJiYKHAPNq2M0hRGOe56d7WH9jlo27XIX0ytX7ACl6N4jn3WrOz4K6Nyy0oXSBOF8082Jw9W3G8GoKxW4hUfjF+JCYPtEymRm2wOeYOJjlIZr8d+zJJ+6lmCCrl1Gi52KFH1URuLxtojh7t1N7G5u5veXnJhg3zz9dz9m+tL1bKtqYGivLkwdMwjvfu7yhS2b302b0W7AFc2P29HUREvYLWx9y1sfsGDrdjy6TsRxuOzwMVx79OG88+VaalpaCQrpklMgoDvc++lcfjt1IuUNjZiaHotuxZ6BUqyu3DOZWV9TzV8/n8+Kyl10zcripsPHc+KAQbHX19RXUtpUi9WhKLklJc9vWsptY9pz7Bbs2k7QTlHYVAi+rN5F3xxX5hiMJJ8Dbm5gZ6+lgkfTuWbIMTy8flbSa6bQGJmfdvFKI4009h0Ds0t4b+LP2NZag60k/bOK0Q7QrXLRzgrsDuMmuGZRpfW1HNbtwMenATlF3DpiEn9dNZPmMyz0OtGp23NZTR2N20yEck3JwrkCx6vQLHcOFZ2WAXChhHLz0yw3Yudd6kHmhVH5Etr2UMPgWwgsqqd5YBZGGAKyvYab2Qo5ZTYYXhyPgx5pV+tk5/hpagwgnfaOSFuxbVs1K16di52l4a9y0MJObNY2AjZGwN0MFLaDneVJuRqpbmnl9v9+i59fO5XTpu651BLA6nUV/OLO15BSxYqYK3BJcnRd8of7P+Clx7pRXHhgtUrDlo0tJZnedGQvjdQ4CNLKZ4B/4Jo1xuNBpdRfO+3HvnmHJOGbJHKLgUFCiH64hO1ioGN1w/eAK4DPgfOBmQczP862HOZ9spo5H60mI9PLqeePY8TYvnu8Zu2qclQoggi3RzyUrqFyPO0ESbiDvjQ0bOVqzqVXB01DCIETzaVzHMmzz37Gnb87m09nrEY57dRNgSvN1CEVodMchTI1l8RF76sMge2TGCHl5q2lQGfH0YjtPEgDLH+0xowD9S2t/OKKyfz59VlEIk50QhPoqQwoRbzQM+4wruTyhmffJUvzcPvZEzntMDe5Pcvv5cJjR3fSsX3DzA2bsVKUNXCk5L2V61hbWcWCLdsJOw7haEmAl5asoG9BPu/ccDm/evffzNy6JdZzW0reWrWGLK/JteMPJ+Kkzj0YWFjYaZ821NZw3hsvE7QsFFATDPCzj6fzm2OP57KRrpSovLXBzY/r0LwlgDhbuwAAIABJREFUHTY3JSqKe2XlYmpaEukD6JrRvqN98sjBbKtdFHufbfAaOgNLOu9vKtxwyPHMryxlRf2OhPKBPt3ksv4dldFppJFGGnuGEIK+WcV7P3Ev6JeXx7qaqqTZJuI4dMs6MBLQhmDYYt1HleRs8GGVSFCQVWhSrVoTIoBKAZVuGQKEoLUnKMPNRxeAZitC+eCvSYzSRa+mtasiUiDQLEVuqYiWFdIRM3KQ/cNo3YJoIfAtFHjWAZrE02ChvIkladpqwQkEVpdMbMtB2C5BrGpoRY8kzxlSgrnTxiuFSzo9egKZi7WdIhc/HuGIwyNPz+akycMTNmiT76e46953CKYoP4AkFvGUSjFz3nouOnv/zK4aAiHuevcTZm/YglQwqEshfzx7KsN7lOxXO2n8P8BXzCqUUnOFEH0P4NJ98Q5JwjcmrVRK2cCNwEfAOuA1pdQaIcQ9Qogzo6c9BRQKIUqBW4B9CjMeCBzb4TfXP8tD97zLF7PXM2v6Cu64/jleeXLOHq97//VF2GE7lrsmAOFItGAiq9FCNmZNAMejEcn3Ig2BFojQsaiZ40j+8Kf3IUNHGm7OsxLuzp4yXDmEiuaQtUd5FZrjSicT9fUKZQisTDfy1lFiEb00NZQ70dgeCOcJpNe9v/QIdoYDTB0ziHOOHYnpN8jK8OL16kmBvbbmU5HFtuOWLWkMhrjt5X9z07Pv7leEaE+obglgpSBbYduhorGJf6/bRLjD60HL5qnPl5Dt87KmppqOU13Itnlh6QqyvV7OHjYMX4eSAV7D4CfjOycz93/xWYzExe5p2/xlwWexvg7NK0lJQH26wbiiRDvsSw8Zg6ElbgvrQlDkz+SIru3nXn7MWHoW5OKPRjUNTcNnGvz3BSfvt3MlwLPHXcl1QyaQ78nAqxkcWzKQV46/hmLff7ZYise21hqe2TyX57bMozxQ95W1m0YaaXw/cd3YI5LGZI+uc0zP3nTP3jfzlNrGVh5+bR4/vvsl7np0OuvLXIXFPU/+mwUrt2IFFcEWQZMmqCu1yMJDhuFxTboUqLCGCmsgBKH8qApGi1ejCDAElq996m2T7zsegadJI2urIHejhpAipmQRSkMv9WFOzyL3GQ3vOvc1IcFott2yQnuAMnWk30B5DOxMT9K6QwFObgZmUGCE3Xw9J8uLk5lcs1TkedF1kXrpEF2UhEIWVdVNe+zTlrJqAoFkzahoaycK23ZoaQ0nnbcnKKW46tk3mb1hC5YjcaRk/e5qfviv16lsatmvtr4u1Ne28OJjM/nDz1/itafm0FjfuveL0vhK0Javuq8//wFuFEKsjEovUznDpfIO2auU4ButI6eUmg5M73Dsrrj/h4ALvo6+zJ+5jo2rK9zilEqhQhbhliAvPDyDk845jPzCZM3+3DnrWfLZxtT128K2W8AbQCn01jCBvtkozc1Dc6SBlefFUxNCi6sT5jiScDCC9GngcyeEtkFXs2h3v4zWCIh9qToO5PG/xxXxViTG8/SwwvGRRAD1kHuyld2BHAoIOzYvzl3O7edP5uqpR7C+vJqu+dnMWLaRJz5YGLtHLL9MFzGSGw/pib6n6Llz1mzh5uff44mrzkt61vuLw3p3TxnZyvCYjOxewqvLV6W8ri1Xrj6Y2vQkZNtYjsPvp04mx+flpS9XELJteuflcvcJUxjVrXPXyhW7d6ec/CzpUNnaQs+cXPpk53NCz8F8WrGRkONuBuhCkGl4uHhgogFAr+xc/jX1XG6ZO52GcBCpFMMLS3hk0lkJrpWZXg9v3HApH6zcwPyNZXTLy+aCI0bRp3DfHSvjYWo6Nw+dzM1DU5dS+E/xr82zebJ0Fo6SgOCfm2Zw05ATGZGfQVnrZgo8hRyWPx6f7j8o908jjTS+exjZpYS/n3Q6d8z+hIZQCKXg5P6D+O9JU/fp+sraZi6/83kCoQiWLVm7pZLZS0r5zVVTmbd8CyHl0DigzQnaLeXTUqYY16MbK+p3EYjmh0fyoiqWbJFA4mKQYGeBlQ1GxJ0j9WgKnyZF8lzeBiFwMtqXbLZPo7m/n3CBm5zubZR4mlUSEUrVjov21YCTYcSihvHnSZ+JDFho0bUDmsCSgsE5uWxubsKKr//Wtm4QEJY2S5eV0e2U0Z3mVe+rkajXYzL+sP0rRbCqopJt22ogGIEsPfY52I7k1cUruXnK0fvV3sFGWWklt/7wcSIRGyvisPizjbz+zGc89NJ/0b3X/qlm0jgA7D85KxJCLIn7/fFoetee8Cjwh+jd/gDcD/x4v++cAt8okfs2YcHMdYSCEbBt2F0D0aiIXVPPAzc+zT0v3ZgwICmlePThGW5aHNHvQZsTJFGCFR2QRcQhUuiLmoi0WVe5/1p5HrzN7WxDQSzHLV6aCSBNV6KBETcCStDDrtRDRCQqPsLSyUCpUDECqFlRU5Y4+bgRBq/UMHMMIrrEVh3ytWzJzJWb+ckpR1Ocm0Vxrkty8zJ9PDFjEdJ221e665Kpov1sezZKgO0lVkahratSwrKynWypqou5SB4ohncv4dgBfflsc1nM6MNnGAzqUshpI4bwwOz57O6wM6cJwRF93UjW8JIuLK3YmdRuz9ycWPHu2yZO4FfHH4flOHss6N2GbtnZVAWSd9mkUhT424ufPjD+TJ5c/wUvli4jYFtM6j6AW0dNJNeTTFyO7taHzy/8L7Y3N+AzTEoyUpsEeE2Dcw8bzrFD+7CxvgZlfjttmra2VPFk6SzCsj2ibSt4YP10xhVXI0QAj+bl7YpXuGXwnXT399pDa2mkkcb3BZWhCuZUfUBleBf9M4cwofhkss3Ezagp/QYwuW9/ShtqmbFjE4vqyrhk7tN0y8jhon6HMbHroE6JxT/fmk91RpBwVwc9JPDt1ghHFA++MBtNE4Ry20kcgB6AnK2CzWsryRQamUrR3A9ChVA/GLxNuOkQKcicERToIYjkQLAEsrerhELjnUFEN3Idj6BmXA7KaF9ThAo0HI8iozZZ0RGDVBgtEXdDWBNRtYxCGUZqZqVAmRqOI5F+EyfTA5qgfFMN99x5Jo+/sYCtlfUIFV2HCJfEguCvz8zk/c/W8L+/uxCfNzmy169PMZmZXoKhFCqc6DP2+0yOGz+IYUO67fXZtKGuqokHb3iJotJqlHBN4mrG5RDs7iXiOGyu/vYpPP7+h3cJtIZjHD4StrEsh3/+aTr3/GPfnaXTOADso4FJB9Qopcbt122UihkoCCGeAKalOG1fvEOSkCZyUWTn+tE0gayqgw65RF/OXM2cNxcx8fx22Vw4bFNT0wyaQGoC5Y0bCJVCGHG7W7rAzkg9UCpTQwkn9kVyvCJWUy7pXCEQHQ1LNIXj1dDC0cLjVvsum9KiE088W3IbcmWWwiWcZgRUpJ2RZvpMnrj3EkyfwXn3PY9tJU8M+ZnJpKIhEMKTYdAaThyYBVFSp8A03U5odmKh0TYibGgaZTX1/zGRA/jbhafxxrLVvLZ0FbaUnDV6KJcePgZD17nn1BO4+c1pRGy39IGhafhNg1smHQPA7VOO5/KXXidk27G/cZ9h8NupkxLuoQmxTyQO4ObDj+LGf7+f4HbpMwzOGTKUDNPEUZLZuzbxRfVWin1ZvDn1Crr49y5XFELQJ2fP9dukUtyx4GPe2LQar25gSYdxJT14bMrZZJnefer//sCV/6r9Ni74dPeapI0Dtz1JZVCnawZEZJgIYf619WHuHHbfV9XlNNJI41uKTc1reHLrn7GlhUSyPbCJBbUzuHXwf1Pg7ZJw7pq6Si766CUcM4DSJELAhqZKFlaXcV6fQ7lzTHKJlFYrwsvWKsJDpSuHdBQtAyT5Sw2CYQvN1LAzaU9GkZCzFbToUiEqgCS7TOFE5zgrO0V+uHLTIPSQe42nKZo2Qdy+qxAoXYHTYS9WKcz6CApo7elz1T0JawGBlQWyXrmbpJYDHWqxaSEbvdWtA6qkQnoNpE9H+vTYRmtHCEchbIXtaY9sOUqxfWsNP54whvsf/JBgjummdkT7D25e+aatVTz75hdcd8lxSe1qmuCPd57DLXe8ipKKiGVjmgb9+hTRtVsuCjhp0nCOGtd/n+sAKqX4zdX/ompLTburpqMoXtjIrskF6IU+xvQ8sFqvBwuOI1n75Y5kUZVULP9i8zfTqf9HSKUWOyj3EaKbUmpX9NdzgNUpTtsX75AkpIlcFKecexgfvbaQiJW8O2SFLN59bEYCkfN4DHw+k4DlgBCJ0TohUHHJumgCIyixs5NtroQQKL+OdNwJQGgiSf4Yi/YJUG32i23nCAGawvaJaDHR+GhdtJJMWwQvfqSw3f7F97stSmfZksK8THKz/AzsWsj6iiqcuBp4fo/JpRMPjf1e3xrk6kffYGt1Xcr8rrY3IYQbdRtYUsjWyrqYw1hMHaqB5TgM6PLVSAl0TeOicaO4aNyopNeOH9SPl664kCcXLKGsrp6xvXpw1VGH0T3XzaUY3b0rr15+Mf+Y/wVrKqvoX5DPjceMZ2zP7gfcn8n9+nPXhMncN38OYcdBKcW5hwzjdxMmE3Zsrpj3HBsbqwg4ETyazqPr5/Ho0RczvrjfAd+zDc+sXcrbpWuISCdWrmDR7nJ+M/9j/ndi6lp8B4ImK8DfNrzJvOpVSCUZkz+QW4acT4+Mfauttz8DalW4kkarnlwzXYQ8jTS+r1BK8eqOx4jI9jwpW9k4Tisf7HqFy/venHDuzXPfJyhDmFES14agY/F62TIuH3gEfbISNwofXfUFYZ9sz+fW3emycYRNxhKDG84/hj/OmY0dleCYzcQmLkU0F05BOFug2WA2uxE3K0tgZ0GbdEezILM8cZzTLJKicdJ0z9GkipmiaGEFukG42CBUZLolgzpAKMBxJY5CKog4KEOghECzJcLGJYpKoXSBk6Fj57lFvPVAh7lbuYl/UtfQFBgtESyvu2QUQGaGl1FH9MPbEkHVB2kdnJu0WR2xHF75YCmnnziKHkW5Sf0dOqQbbzx3PbM/20B9fYAxI3sxfGj3Ay7gXrp2J5Xl9UgnkRUJCbmlQVT3HM47bMQBtX2woGkCw9SwIsk5/R5veon+teArFigJIV4GJuJKMMuB3wEThRBjoncrA66LntsdeFIpdWq0Xnabd4gO/EsptWZv90t/S6LoP6Qb519xDC/d/TqpPtXWxsScKU0TXHDhkTz3zLyk0wVRzhRXjkBzAFsm7pBFGZvl1WIkS0lXeoiMk2y28b8Og5uKn0hMLWnwE7jmKJI40tcGXaEHFdJHQqFPn6lz/OGDyM1yI25/u+ZMrn/0LSpqm9A1gWU7/GjKOCaOGBDtg+L8Pz9PVUtrYuSvLVzdYTyWShG2He44dxL3vDUTKd0JTmkgNOhZmEtRdgZfB4Z3K+HB807r9PWhJcU8fO6eSc666moWlZdTmJHBCf374zOTJSRtRqtCCC4ePpLzhw6nOtBKnteHP3r+o2vnsbKqkoh00A2I4AAO13z2Mo+Pv4yjuvU+8DcK/GvNUoJOogFPRDp8WLaRkG0nmQQcCKSS/GzZw+wIVGMrd1JaXl/KDUv/lxeOup0sY+85bZO7juCpzbOj+XGJyPcGOhxJ8QVLI400vldodZppsJLlcArF+uaVCcd2B5qpaG1EM2RKpaAQ8HnV1iQi9/KGFcmmXA6YtTqBfMXfP/2csV278XlwF1JXsUic7QHHT2woEgL8uwRaWzSoBfSwS9b0sJsTl/Q+dHAM0KNukALX5drxKXw7bTyBaOQveg8lQI8onAyVvCaIkkUlVHsfrDjtmACZaeJE68Xa+b721A2fhhaS7cYp0ctUpgeHqMoiuqYxTZ2JEw6huCib0y46gg/eXExrJ8Nx2LK55E8v8vodP6RLXrL0PzPDy2knJm+2HgjqqprQOiG4JZqXf1x/CTl+31dyr68KQggmnjKK2R+uTCBzHq/BiWeP/QZ7lsaBQin1gxSHn+rk3J3AqXG/J3mH7A1pIheHS2+cynsPTqOlIXHBaHoNjjkz+Q/qsh8ey8svLki5k5IKekSCR0fXNBwpkVKhpGonWdFdOyHjTExi5ChucIpTbCiBq5PvBErrZKkrAA20iMLxCaQGTpaGnmcyt7qc3778ETecfDRd87N549eXs3FnDbXNAYb3KiE3s30gfHPuikQSF99+NC8uJkcR7uEBJQWcP34UY/v35KcvvM+WqrqYMcr2pkbOe/RF3rz+0v2q+1JWXc/Tny1l0+4aRvYs4YpjD6N7/r45lXUGpRSrqispra9lYH4hI4tLYmRZKsUt06fzyebNSKUwNY27NI0XLriAYV260BQJ848vF/B66SrqIwH8Xp0LB47i9kMn4zPMBDvsaVvX8efFC1BKAAY2YHhtDK8kIm1+9Omr/PLQSVw1fN8l2VIpPq8sY1tLHUPySmiKpHb9UihCjvWVELkv6zezO1QXI3Ft7Ycdixm7l3J2z70Xde+XVcy1AyfzeOlMpFIIIZDKoXdWE169vV2BoKuvB7nmgRm2pJFGGt8NeLTOpd9+PXHTT9e0aCBJxPZR4yGATDNRGdMQClIXCCYW+FaQVWqghQWOUjQHw6zZXknv7EzqCiI4+RK123ZJXJuZGO7cjQ7Ybt0404JIHqCB3oHEKVwS10YghWxvRwtB9mY7yVZcRcmSv9YhktthcpfgsQReQ3MJmJViXSIEdqYX6dHcnP34tg2B4xf4dgawMz0IXUvM7xMCIRXKo/HLn59CcZE7h/3w5qn0HtyVv70yl5YOTtAKNx/eDtu8OGsZPz9nQnKfgIhlM3POer5YsoWiwkzOOHkMfQ7A5GPQiJ6pI1s+kx+cdzRdc786Z+WvEtffdjoV22rZsmEXQtOQjmTYmN5cedO+GfWk8Z/hINSR+1qRJnJx0A2dWx+5ivuuegwrYiMdidfvoaBrLufdmKyr1zTByFG9WLakbK9tC8AISY4a04upZ47hgcc/obYhkOQSheMahcSls6XOrcOVX0iv+5oeJnV4uBOOpwArQ7hSCxThXA280ByJQCTCtCXrmLN2C2//6goKszMY0iN1nZ+3562i08iIcCcvJ24e9poG10w5AoCuedmUtzYlGK2EHYfdTc28smglVx23b8RlwaZtXP/CO249NQfWlFfy9tI1vHT9xQws2TdJX0e0WhF++P4brK2pjvHmYYXFPHfm+WSaHt5dt44ZmzcTiua7tdWVu+7dd3nl4gs57Z3nqQ+3RXE1ArbilY1fsr2lnqcnXRy7T02wlV98Nj0aXW1/hnbYQDMjCOE+kz8vnUN9pJWFVdvpnpnDjw85nNFFqWWetaFWfjDzeXYHm3GURBMCXfeiCZFQ8wige2YOuZ6vZodyR6AaJ4XjWkhG2NKye5/buXLA8UzpOoJZlWvRhGBCl8G8Xv5PyoMhLGlhah5MzeSqfjd8Jf1OI43vMoQQJwMP4VKIJ5VS36vEUY/mZUTuOFY3LsFR7aoCU3iYUHxK7HdbStY3VFGSlUFFsw2e5AW9pSJ8WPkPwuocDs0/nP5ZxczeuhXT1onEuW8ZTQItIhBxNXssR9IajPCnCSfSp2cBt/zvu5TXdbDYFwBujhoKdAuMZrCzwcpyC3XH12eNZLtkzrBUNKfLTZ0wW2WnWgPhKDz1EfI2OzT18SFNgRAwuk9XHrruLOpqWvn00zW8+fJC7BRkTmmkdtME0DXsTMMlcUkKHzcyqJk6GzdXMum4ITzy8KdM/3gldX01WoYIlNDwNCkydyqE4743K0sDx2HppvKUtwyFLG74xYuU76onFLLQdcF7H67gjltP4/hjhnTyFFKjoDibMy4dz/RXFrnmdYBh6uQVZHLyBftXh+7rREamlweeu5bSdTspL6uhz4Au9Bv87crl+14jTeS+XzjqtEN5aNZvmfbETKrKazls8ghOvOxY/FmpF7uXXHYMy5aUJVCZtp22ePMTcIt2+/wmEoXjqE4HahXfUNv1KbYW4+8hTYUWib3UfqlO6iRm4daGwxM1RenwTXCUIhC2eHnecm489ZiU/WwOhtle15iaLCoQUTmIikblehbkcNd5JzCylztArdlZiZGijlnYdpixvnSfiNyS7RVc9fLbSE25kT8DpCOxwpI/TZtzwKUM7p0/m1XVlQmFv1fVVPLH+bO5Zsw4Hlw0n1ZlRVMX2x/A7pYWbpv3MQ3heCmu+4mEwrCwajtbm+rol+NKe/69Lbl8RRuciI5uOigpiODw2JqF2DiIavh4x0buG38qZ/UbnnTdHUums62lPsE0xNAkhmailMKSEl0IPLrBfceedMD5CB3RL6sreoq2fJqHQdl7LYWSgF6Zhfywf3uC/C2Df8vGlnVsa91MvqeQ0Xnj8Gj7HrFNI43vI4QQOvAwMBW35tBiIcR7Sqk9FpD9ruHiXtfypNXE9kApujCwlcW4guM4tugkADY1VnPZrJcI2RaOUgiPRFkGmDa6JhEoNKEYVFDF4souzN/1BR5tGblmBmcWHY5pmUQ0Bwx35tQDgqRCokAgbLF5dy1TxwymMC+T8vpEItc290fy2w+YzeCrcTc0rYyouYkGaNF/fQ5ILYE0dmZgKZRChG30kIOnRpFd7/BfvzmNCZOGsmD5Vh5/bQE9uuRywQVHsGnNTlav2kEkGqESoj0No72zxJRAbSfZ2R7MjvlycbAsh7c/Ws4LXyzFt82mZqwHJRU5myJoFgS76DQM0skoB+kHNIEmBH1LUucyvzv9S3ZU1BGOuCTdcRSOY/Onv33I0UcMxDSTvQX2hKt/eSqDhvfg7Wfn09oc4qgpw7jgqglkdrKG+yqxbcMuFn68Eo/X5NgzxlLUbf8UIwOHdmfg0APPw0/jAJEmct8/9B3agxsf2DfL1y+Xb0MzBI6tEkw70ERiEpstsQo9fLJxK7O2bMdKZbkLMXlH7HvVxiPiyFybvCJeUql0geN15RxtMkXpcf8VksScO9xoXrwkRI9Etf5xiNgOi0rLWbVtN4s37yAvw8/U0YPI9nt5/tOl/P39z7As6bp9tq2p426iRTdPlQCvV+ep686nR0F7wnOu34cjU08YBZl7z5OzpeT6V95NijIpHZQDS8v26traKd7euDaBxIEbdXtt3Sre2rCWiGOjDJcAxyerS6X4YveOFOOCuzAwhMaWptoYkbOkk2q94L4PBVbAA7gGOJa03clfQcixuWvRR5za5xDMuKLglnSYtbM0yfnRxiEny+TC3uNYWlVB/9wCrhlxBIPyvroaNSNz+9E7owtbWnZhReWVGoIMw8sJJf+Z1l8IwZDsYQzJHvZVdDWNNL4vOAIoVUptARBCvAKcBXyviJxPz+DGQXdRFdpJXaSabv7eMZMjpRRXz32N2lBrwrirazond+9JpVyIJEKWGWZpZW9spQGCkGMTcpp4YddcJJmIFh10BYZCorUznzgIAAemf76WtaW73M3DONIVc4mOlQ4CK0ehNYARcudpIQGhUGGJMDVEq+7OJTHppUKanW+u6VFi5tgSx5Y8dt90nvl4KXXNQYJhC6/H4PHX5pMb0bEEsTk5Kz+DVsuOlVYCEHbcxjFuv8z6EJjJZioKtyYsuCYm/jKHSJ6Gp86mYHU4Viw5s8IinK/j+AT+zZLWHh5ENz+XT0m9MTtr3voYiet4v42bKxl+yP4RGyEEE08bw8TTxuz95K8QT//xbd55YhaOLdF0wdP3vsNP77+UyXEmeWl8C6HS0sr/99i2rQbHiRp2RI8JBV5dR0kZjTgJmjIVli7Q6yxs6UZy0EB5O0SkOkY0dOU6TBqJc4rtTXGuJnC84ET9NoTjEg2FQnNErAaNMkiQVghc0pUkwlCwvbqeqx99nbDlYGiC/3lrJjefejQPT/+cSLQYqCaBcLR+TJQ4tpE4GY2Sdc3LTspZG9SlkB55uWypqUsgYz7T4PLxex+El22voCUUjr2HaJdj7zHTPPCITUcS1wZHubuF8TeVpkILR5PUhdpjhCsiJQNy28nTlF4DuW/pnJTnykj0gaLQvDbxCRNKKmwlKW2sZWh+u/22VArZyfaSg+T2wycCUN5az5vbllOzpZXjSgYwudshKaOj+wMhBPcfej2PlU5jRuUyHOVwZOFQbhp0Nn7jqy9xkEYaadAD2BH3eznwvV05dvF1p4svcWG/tqGSunAgadSLSIdGp5EumRYhGaI6kIkEdE0hleL/2DvvKDmqa+v/boUO0zOjiRpplHNCCSUkJBA5G3hEk21sbGyDAzbPOOD0PeNnHJ8T8GyMjTFgMCIYEDlLAgnlHEd5NDl1qHTv90d193RP90giCj96r6UlTXXV7dulnnvrnLPP3kppCCGJBDroN6kVx3UpdlzC0iYaj7CnawCJLj2LWaMU/PXxN3GkxFNAEFLN336CNQ97Br8SF2z3xxAyuTcjCDVL3CKBTDJnNFuhO/5S70Q0vzImQDcU0gEt6vhqlIAT0ekcEsYL65DoTBFSsGwX4SqaHRcR0SCiIRDYOGgyb4qxG1KBArfYQI/L9Osp5r8yfeuieCWUdIEThoq1lv8MkITmQbDVI1ZjoHlQssfmsnPnUFES5hcLXmXZlj0MqurDVSdNY8KQfoTD+fdpKRXhUK542EcRm5bX8dgfX8ZOJuhTjwi/vuk+pp84gdKK/P6uBXxEUAjkPt4YP2EAby7ZimW5ORS5//ndNTQ2dLB2637ueXIpRrR7YQR86oYlUQGRd/FPQwOrpJsOIRyFLkElVa6USAZRmuiWqBR+UAEghOYHdMnCTa/vlEPhVLTHEn6gCtjJv3/26GtZHjcqOUfdJecXQpoQ0HVu/+SZuaqaQnDnlefx2b8uYH97p6+K6XnceOIcjhl+aJXGDfWNWayQ1GdLbTqXzX5nGTnb81hdX0/QMJg9YBCL9u7Oqfb1BqX58qCySFIaLKI9YaVl/pNnoBswr/8whpZ0K6YNLinjhkmz+e3qxdieh0KlxXBMXUcJhZfs3ci6fRpYyqGsR3/HcAWRAAAgAElEQVRbUDeYWjmA5U17srPTQnDygNEAvLR/E19b+jCu9M3en9qzljF9lnDP3KtoteO8sHcLmhCcPGAUVaF3tgFFjBBfG3shXxt74Tu6roACCvjgIIS4DrgOYPDg96aA+1FD3HXQetnVolYRkSIXpaDZihAyu9dkqQR9gjFMXYKQzKmuo0i3MTQJysQauZGn/3kMLW1+AlJ4YMTBVtJnuggQDlkm4fl7xX1fOM9I9rLjUySV8Nk7ZkxhlQiUAZ4h8AToMYUIalgVGnoCAkpg7o2iJ3ve3KBG2+jirKqZNBWuEJhx32agJ+1fIfBMP1jsnlvGPJVC77LRHYVRH8MN63hFfiClNK3brsiTGFGJ0gXBVs//7D1oJalgLsVEWfLMBu5ZuYZYwsbxJBt2H+CVNdu57VNncv7ZU1m3fg9Wj36+yooIw4a8ux73DxsvL1iKbeWyrDRdY+kL6zjpov+zuZX/EyhU5D7mOOOMyTxw/2Icx/Ol9PE95qZOHcqo0f0YOaqGXzzwKsJJSQt3IxV0KCF6Da6UEDgRfPNPQEiF0AQaGcIVyq+AuSHlL+wpBUzIfvpPHu8pTaJrGgKF5yikmaSIKtCUwCN33oBfTUwFc0n6RspLp7s06Usqh1oVxUZu1s3xPDbubuCCCeMJBQ2G1FQwaVA/SkKHV73prYIkgIqiMGsSDYz73a8xNME5o8dyy9zjKQnmH/u5rVv5+sKFgF/VKg4EiOgmDjItz+9J6Quq5IHSFbJIggGtVpxZ/Qax7MBeHCmRyqefXjl+Et+adlLOtV+aPIcTBo7gse3r2Rdr56WGTXhSZlQF/SypkpDy1xYCEJL+kVxlzp/MOJsLX7gHy3NJeC5FuklJIMQ3J5+ILT3+c9kCEhlWBDHPZkN7Pf+59DGe2bUNLfmd+eHbz/H/ZpzOfwx7f6ShCyiggPcde4FBGT8PTB7LglLqLuAugOnTp/+bP7ZkY2JF/7wJ9ZBucNagydSU9uPubU9jeUa2fzaKhGcSNCyGhpuI6Ba6lto3HQImzD9lBU/cfbx/KHld5v6pSZ/xgufv0dmpuySEQplgl0KgK2klkNzzvRA4qUAwOTkvoIgOlihdIVxBeJ+G0SBxIyZ6wkMoiNcEczdlIZCGXzVE+onFzHH9CQu8QHdVMHMIs81Cj3cnpI2oix73SNQW+WNIMDps9IRHsBm8oIawtbzVDAXolkozf3bvbqazJJR+ZlEKEo7L/3vgee646FTU9nqorfRfUCCkZHZl5H3r3/6gcbB8rzrIi56UtHbGKS0KEjALj+NHDP/mK2Lhm/MeUVwS4o47P81dd77Im0u2EQwanHX2VC6/0hcI6YxaNDR3+gFYvgEk+cVMMqCM7EDP94br/uYJSC5+wu+bSy6GyauTJ/UYP+OL6yUpkmkBlSTvXyYjTdEz8ku9aTITp3oez4wdJSAVr67axpX9ujnyTR1Rrvz1A7RG49iOR8DU6V9Wwl9uvCR9zq7mNm5f+CqLt+0iHDC5dMYkrps/E1P3S4uj+lYRNHQsNzuTpwlBLODw3PateEphefDIxvWsaTjA45dekbM57Gxr4ytPPZVWoASIOQ5loRCfn3U0G5ubmFDdlyGlZdz0wtPE3NzMm7AEmqWhAgoZVvztjItZ39zAptZGhpaWc3Tfg5ucTqisYUx5NbOf+CWWcpBe5o3MpvZ0D5N/vOGllbx81hd5pG41WzuamFRRy9mDx1NkBFjRvDtvT17Cc1i4dz22zG4s/86yhRzbbxg14Y+mbHMBBXzMsRQYJYQYhh/AXQpcdmSn9OEiqBv8ZOZZfOPNJ3Ckh6cURYbJiNIqLhkxhaBucPvapSiyLViEAFfqSAX9w+3dQVzG68VlcYqKE8S7spkPqS1R4FfPpCmQQT/wUkbGi2T0tpsKqwyCraSpiEqILDqmG1JYVYpgo5Fe3p1SiWoEGdJxIyZGl4Mb1vMqTwpXEWpIpMVKlC5w+gSQwYx1XQgU0mfQJKuCwlNZQRzp6Su0mIvbJ4BwlR9IJj+WbkkStRrhXgSJU08tQoAT1vKyW6Jxmz/d+gBi3U7MrfuQ5cUI20U0d/DMkg189tYLCRV99Gn588+fzsK/vY4Vz/aYkJ5k5sn5DcgfXbSWXz36GnHLQROC/5g7ka+efxyG/t5aHAp45yhU5Aqgum8p3/7ueemfHcdj+bpduK5kwuhaNE34BpzkBnOC5GKe8TN0B0du0M/0pR/pe/nCCXxVTC8pgCK87HOl4WfHlBDoKDKsvrorgymRlmx2Zf54QWW8pno5SfniK5omMHssTj/8x/PUt3XiJauYriXZ1dTGLx5/je9fegrNXTEuueN+OhMWUilitsOfXl/GloZmfvXJswGYMWQAw6sq2NrQnK6UCeH32Fmml6aEgk+brGtrZcme3cwelE0temjt2ryiK66UjCmr5ovTjkl+HMXLu3bw+JYNJFy3u+hpg5bi1tggbI3PPLKAX551JkdV1eS5efmxsmUPrvTI44WdcU9J92P0DfZOeywNhLhm9Myc4wHd6DVDqHpJSz2zexNXjT58D7sCCijgw4FSyhVCfAl4Bl8q626l1LojPK0PHWcOHseYsmoe2LaSpkSUE/qP5PRBYwnoOq/s30qHY9N7C7DotaIiyGYNKqHSgh8pATGhwHA9EqNcCElEu4lsM8DowYcX/k7rFvmVuRSkLtKWQ3aZItiUVLBMzkmPa7hFHoGowCkP4habfp9cngRwaV0cI9ZtXeBbFVjE+4YQmgaewkhk9L6p5LOC42X0JWRMWYGe8LArRc6zh1AQ7JDUXD6crkf2gPKffdzUWMlAMxA0MSdU0BjtzLm/nlLsWrMLpRQiYaPv7zZ+13RBw64mBo8dQFdXgif/tZK3l9dR27+M886bxtBh+S2RjgTGThvGOdfO5/E/voTneGiGhhCCL//88rz9ca+s2cZ/P/QSiQyRl0feWINScPNF8z/EmReQxSL7N0UhkHuPcF2Plxdv4bU3t1ASCVJdVcx9jy1LxzWelBw1qpY1m/aibCfHpgDhyxIrXaBbCt3xF2gvpOGFNaTuL7QpqHxBFSmKpv/vVBCX1VLl+sHc5NG1rNm4L29AKYPkxGNeAAw7N55TKHQ7mc3TwAlmGp4mvfA8fJ86E06aPrp7TCl5bcOOdBCXguNJFq7cxPcvPYUH3lxF3HaysngJx+WVTdvZ1dzG4MoyhBB87bS53PTUQqKJGELChPK+jK6t5JEtuaJtrpRsbmnKCeSaY7G8lElPKVrj3TYCQgh+Mv9ULh0/ibtWvMXTm7ekXkgG6SKdhVy0cxfXP/Y4f7/k4pxxe0M37eTgdJLULamxy3DTgjqHh3F9+lEaCBHrkTnU0bC93HF8u4LDM7wvoIACPnwopZ4CnjrS8zjSGFFaxbennpxz/J4tb2G7OkHTzePi4++3+xJlDI80oWdEK1JCc6yYpvIgoeReZYZ0dF0j4bhoTlLteYCHd0xXsjwHeBaiQ0etKSFnQ03SHzMhTdICYYH2DBsCpTCjkkC79EVSPIEVAbvaSFMzM4M5PeZixPP4zylAukRrQgRbXKShodsK3VYZPeX59xwFyICv4KkMcCMGZrQ7+Jg2ehC333AF1mcdli7eSixqYdkeTzz6Nk0NHYweW8u1nz+Bt+r38z+Pv46VYdZt6jpzxw8lsKGdxl1NOe/tOR6VteW0tcX43OfupqM9jm27rNAEzz67hlu/dz7HHDMy77yPBK797vmcfNEs3nx2DWbQYO45R1Ndm99y4c6nlmQFcQAJ22XBG2v48nlzCRZolh8uCoHcxxeO43HjrQ+yra6ReMaDcVrhKclPX7dpL1MnDOLt1Tsh7qXlIZUObljz6ZBC4IX8jF/A0UATSCM3gPJMX1Skp8gH4EsWp1SxepnzqsZ6DpKYzIHuJoO1FFsz+YWXAQgmE2xKgFuscCMCzQGkoDihYSiBNBXfuuoUqsuys1K9/d6kgpSVu/fnVY40dZ0tDc0Mrixj+b59XPfYY9i257f/abAt1sIIKggbJvEeFEhD0xheVpEz5nFDh/KvTZuIOdnnSymZOXBg1rG1zQf426YVPL9jux+0iSR9tAccKVm1v57Xd++gwemif6SEWX2HpPvP8mFK5UA0IdA0laRW9rw3AoFC2QI6A6xXLXzpqSe44+xzex2zJzQhuGP2ZVzz+l9xpIvteUk6kshUpU5DZIikFFBAAQX8u6HNihGzTAKG/+Cc2UJuewaOaVAXq6IyEKXMtNAF6CJA1JIseWYGwhV45RrFCYP//dKF3PP62zyzYjMyADKgEDOikCmuaAClHtQmYF8PTx+lum15AC9pYaMc0JTKMpArqncJdMl0JUwJhR7UkOHuiqDm4HvLSb86lg8C0BM+/TPe10gqLIORkIQbfaqk0jWUoSEcmXOxXZbsb9cETkYgFwyZXHzV3PS/554wLn3ZOf8xDYBFW3by+X8+SWs0hhOSCAOKpYnnKaYMr+VHV55G3fhRrHtjI1as+xkqWBTglCuPJ1JaxO9/9zxtrVHcZAuIlArLcrn9p0/y0MM3ovVmbn4EMGRsLUMOwy5hf0tudRL870R7NEHfsoLK5YeFVFX93xmFQO494NlX1rN1RyOJRHZ1I802lP4ibStJcSTIA7/5NFt3NrFm014eem4ltvL8dTvtVyOQAR0R1Bld0Yf6WJQmYSN15TdIA+gCOwKBrgwinAA3kBwnj7xwak5Cgi0Vpu43XPdkUOKR843IbMdS+GamssgPmlSzX7Hzwn7lTSg/uzisupzrpk9HAPMmD6e8JNsTTtc0Zo8ezOJNu7IqboaucfIkP8M2uqaKN3fsxu0RXbhSMriiD1IpvvDPx3GjXpZgWFy5PLt1G8GAhuV1C8KYmka/4hKOHTwk596cMnIkY95+m42NjcSTfXJmQKO4xOSCJ+5jbEU1N82Yy/b2Fr71xrPYjodyRXfPm+ruB8iELR2+8MbfkHoA1wOEYkh5ERcOncpVI44hqGdLKwc0nV/PvoAvvPEQceUlK5YiXfoXcR1iZvqdXCSv7dzJmgMHmFhz+BTOMX1qeOWMr/G3rW/xs9UvYbs9GhvxVS5NTeeL449lSEn+rGIBBRRQwEcdpwwcy77EbsrNKAlpEPWCeFLD8XzTtwNdxZgCmrqq+dWM4wloDRSb1fQPzGBo11ZWbd/H0JoK5h89gluWPMuK2D684f6erLuSsJFnzzVA1NiovaGcapew/QDODZP2jSUAMpU0laAnZFYQB91URruPxCnRQQepKfS4oqhR5mnc8KEEOMU6aWWypNWBG9KwSxTBTgmaoGhUJaOKI6xfvgvXk0hDI1ETRgVS5rYKIX3FTpQ/1+qaXLGtFLY1NHPDvY+TcLorT6ap0beqlN9deS4DqnxP2aPmjuM7D3yN397wJ5r2NmMGTc65/jSu/bHf6rlo0ZZ0EJeJRMJh375WBg7MTc5+1DF+UF8WbdiZczxo6lSUHNpDt4D3GYVA7uOLF9/YRCKP5Cx09zl7hl86e3nFVpZt2s0dt15Cv+pSNu1qZPmGPShP+tL1mkgGBJBQHscdN4bLz57OvBt/5wdPQvk0RQkYAjfg98SlqBFCCXBV3upQciq+RQHgRiDQkdHiljxHk9n9APnol0LzKZqa5W9EXoj0RqVJwIbvnH0Cs0fmBkyZuPXik7n8l/cTsxxitkNR0KQ8Euamc48D4LJjpvDg0tVZgVxA15k4oB+jaqp4cMVqWjrj2fLKyqd7xoVDuRthzKBqlu7fiyYEpwwfyQ9POClvRczQNO676CIeXruWxzdupEtabI4102BFAXh9706W1e9FagpLuiB7hG3Cf++ewZxUUNSnCzRobClBScHWlg7+kHiFl+s3c++8T6GJ7Pro3JrhvHTml3hi11rWtRygzUpgSoOX1u/EciVGSYJAmYXQFdLWka0Rlu3be9iBXKsV48crXuDp3RuxPTdZHM6etyk0Ths0luvHz2FsWd+cMTqdOBva91IRLGZkSb/Det8CCiiggMNFLPYYnR0/wfP2oOsDKSn9FkVF57yrsQaUHmBq/x0I4UuEKSXY21HG9vZKDMPfX1zA9Vzu3lrHXbOvTl978bzJXDxvMgDnP3YfaxrrfSVn009aoh3kCVAKhA0qU7DZE3hFGftsxtIri8Bok3glGma0p4pYN4oOSLoCGl5QJKma4ARABXWMuIHZ6XZX8fCZP/G+3UlDJZIVCE3gFGsoDdzaAO14NATiXP3D01nw4FtEY3ZOEKo0DbssiNIFloKbP38P9y/8OnoegY5731iB00OIzJGS3a3txL1sWuExZ09j1llHk4hZBEImut4tzhKJ5Bc78TxJUVH3zZVS8fbyOt5cuo2SkjCnnjSB/v3L8t/EIwSlFE0HOvjMSdNZvm1vFr0yFDC44RNzC2InRwDiMG2mPqooBHLvElIqrKiFlvAAhTS1vCpSPvdO4HqS9s44X/3JI7S1x7BsF4Uv/Ki8pERtqjk4oLOlvplfPfSqT5twFEoHlTL6thXSAE2K9EIN3VU2KfJrlLhJlofSBVapwown++80uOS0qTy6bD0xx8Y72Hc6WTkUtsINkaPEqCF4bd2OQwZy/ctLeeo71/Lcqs3UNbQyqraKkyaOxDT8DzOgvJQ/f/pCvv/Y82yub0LTNE6fOJrvnnMiALe/9HqeOy38+6igXkZp2BenNBjignETuGnOHEJG7+aiQcPg8ilTuGzyZObef1dOX1jCc9GkSCp6Zt9dZfhZ1lSfHIDQJEXVMQxTIRVEwhZdsTBKQtxz2NR+gDcatjGvZhSb2g/wt21vsS/WxrE1I7h46DSuGZ3tO/O/pUv55frn0UsTaQsCPeSh1XTg6NlqbL3Bk5JLnr+XndFW3F5sFMBXgTtt4Ji8Qdyft73Mn7a+iKnpuEoyqKiSX0+/hupQ75nZAgoooIDDRSy2gPa2r6OU35/seTtpa/0KICkq8mnkUddCQxDOY2uTiSargRcb/oWmZXi4CsWA0jaa7SKiTnaQsLIlt0oCUNfeyobmBtweSlTS01COQOg9eh1coE2DaV0QkNBkwt4QSmpIE3QnN/GHELilGoE2iVskUS35KV9CQKhFEu3fHewI5Qdo8ZogXlAj0OYglMIqNYgODKLM7uAgM9nrBgR2qU5KYStq2dz5zBIuP3syLzyzAdvxkJ4kYTlotkJTSWVsABTtnsfaFTuZPH1Yzjx3NrXi5XlANjSN/W0djKyp9EdRiq64TShgEI6Ecs6/4MIZ/OpXz2AlupPmuq4xblwtFUkhEc+TfOd7j7Bq9S7iCQfD0Lj/wSXc8o2zOP64sbk38Qjg7dc288tvP0xnWwylFHOmDqZrUg2bGpqpKSvhc2cew4lTPjo9fx8bFMROPp6QUvG9HzzC1nX70V2f4qi5Ei8gshZMIGtxV0B9U0euMhT4NEwNpAYxTfLq2u3YrgeeSsoZZwQOukJ4foXNKUn24iXHNDOo15ofY/rnRchYgAFd4CQV5StLivjGBfP56nnH8eKabXzrgYXYTm5/msKfn97le8zlY3JIpXhw8WpuOONYwoHeAyfwM1DnzBjf6+sTB/bjn1+8goTj+ot/tJPfLl/C6oZ6OqyDBy/SAKkkbYkEf1u9krUNB7j/wkMLj1iex/486lqpzwak7RnSVTjhZ12FC5ruoRmS4r5RQmUJ/3QB4aBDVywVSfvebStbdpNwXW5+ewG2dJFKsbxlF/dte4uHT7iO8mA3xeLs0WP4nz1PIHp+vQSsjG0FZh/ys72yfxv18c6DBnEAjvSY1TfXNPiNhk3cve0lLOn6lUlge+cBbnr7Xv567BcP+f7/bvCUA0qhawd/WCyggALeP3R2/DgdxHUjTmfHbTTI2fxo7cNs7NiLAKaUD+O7R11ITTh/5WVt+8q8xzWhqAxFcwK5EjOc9/zmRAxT00j03BaFINEYJtw/7kdTKXPshIYa6CBSLgJFFrJE4uyKgAK9rZcPr0GwS9I+RlC8J//TpTSSvejJ/UhzJIalsMP+fOzyAFZ5ADtCto9cst0jvW1Lhcxg1KTgKcVDS9by2h1fYOX6PSxaupVHH1meax8gBFIXRDvz78XThw1k5a79/nNMBmzPY0x/X3Fy0do6brvvBRrautA1wVmzx/P1S+ZniX2ccspRbNlczxNPrCAQ0PE8RW1tOd+99fz0OS+/upGVq3eRSAZ7ritxXclPfvYUs2aOIBQ6+LPIB42dWw7woy/dmxWMbl6+i9GO5OX7rz+CMysACj1yH0ssXrKFt5fXYSfL4qllULcVrtGtIuWl+tYycRCZ40BQJ5bMHKYXv7xFPoHUFV5RcvyMFienVKHFfalgu0835973lktlDbuDsJBp8LWz5yGEwDR0Tps6mrLiELfc9zRNHbGsaSuRVKI8SG+xwu9je3zZei6ZM7n3E98BJIpfLn2Du1YuRSlwlUQ3BZotcrOayY+XedjyPFYfqGf1gXom1RycChjUdYoMky7HznnN0DQ8IZEoVEgiElo3R0YotJBH1YhmdD3nUqRKOXn7f8K6SWWwmO+ueIKE1724JzyXxkQX313+L+ZUjmJa34GMKavG0RxChpEOoDI/65bOAwf9TCls6WjKeq+eEEBIN/nyUfOoDEVyXv973Rs513sotncdYE+0mYGRysOax0cdMbeBxQd+zP7YUgBqwlM5puZblJiHbmIvoIAC3j2UUnhejp85AJ63h+veuoNOJ5G2SlnRuoPr3rqDf877BoaWu/AamoEQuabVQgg0kX1+SDe5cnj+hNjYiuq8ysa4EDgQgDoTKh0wJbRoqBkxModXSuDsi6RZN6qHGnUKmgNSE2DrtA9VlO7MXm+j/XRCHSLdiC9sKN7rK1UKz0/yphQtA9Fk73yyZ0JpIsnASfbSpyhBeRC3Xb7800cY0q+cuVOG8fijK5A9qDpKKlxNURfronzHAUYOqqKtK05ZcRjT0Lls9hQeWLKKdplIK1SHTINPHD2evqXFbNh5gG/c8USaXuh68OTiDXTFLG677iwaO7r4y+vLWbp9D4Mq+nDrzy+CDpfq6hJGjqzJYgM9/+L6dBCXdT81wZq1e5iRp2L4YWLBPa/j9EiOu47HtvX72LWtgcEjctkvBXyIKARyHz+89PLGvIuGrgn6lBQxeGgV1f1KeW7Z5pzKlhAir49XJBzgy9ecwO3/eIVohniKSomh9IDy+7TzBHo+Z15zQbN8SwETgUj4FSUhfS6+ZmqM7F/JF06bzfwJI7JGmDVqMC9+/3Ns3tfAb55ZzCubduDpvhm15qTfxm94zjMFVype3bjjfQnk1jYe4JML/kGXa2X9rnlhheYKlPSrYqmNXep0N5BnQKH485rlnNQ1nJOHjOiVZimE4DOTpnPnqrfSwicAYcPghqPn8OCW1TTGutCEIG55SKXQKyxEyO9paOkspqQoTijQ/f8uJXTFAoAiEPAlsHWhMa5Pv7zS/o7yeGHfRl6o82k+pwwcxY9nnd7rPRpcdHhiJENLKgjpJlE3O0gNajqj+lQzpqwvl46YwtFVA/Ne32ZH8x43hE67Eyf/Vf9ekMrl6d2fJe42oZIdhAfiy1m4+zOcP/QRDC2X+lNAAQW8PxBCoGn9kXJ/zmsJVYntuVl+l56SdDoJFjVt4ri+ueyOyX2m8dDue3OOm8JgVPFkgnI586o2UWpEEdp4LhwyPO+8ImaAr8+Yx8+XvZ5WQ9YRFO3Q0WwAAfVBf24VTs6DoWw3s445yT715JVpSehAm+czcBQ4pRrNEwKYUZW8RqC5EOzw8ExB0X5JIKbSYwTaPewyHZUsLwgBRc0egXZ/HfMMsEsN7BKBWyQItYAXShqY94RUrHpzB6tKdvP06+sZN6E/G1bvTX8EKRR2pYER1PnDo4vw/inxUGhB357hqtOm89mzZ/HQDZfz2+cW8dqmOkpCQa44dioXz5wEwJ+fXorlZCcmLcfl5ZXbWLf7ANf9+RGilo3jSdbtPcBLG7bz00vPYNSo3GSsaebZ9JMwjCPfc7Z3ZxMyjyy0bmg07msrBHIFvCcUArl3gd6MkxXwzRtO55hZI0lYDtvrW6jb10LccggGDHRN4/Rjx/H0q+tIWNlNrpefM4OhtZW5Y0v8um+uAU5+JIM7TfkqWIaESWP6oWzFnr0tENKZNLqWT586k4mDDl6dGl3bl9986lx++cIb/Hnx22ien0XK/LxZaikCnCIIxgX9ykoOOvbhQCnF555+nE7H6v5sGZ/TKZFolkC4PqVFAQGpYWcodyqhUKYipkue3LGJZ3dtRReCe8+6kMl9++d93xuPnkPCdfnLuuUAaELjhqmz+dzkGVw/eSarmuppjsf4/eK3WOVsRwSl/98jQCHoiIXRRAxD9493RUMUG8UEzQSaZlAdLOYXMy+iIhDB68X9Wyqwkw3hz+/Zytz+m7hoyAz+sXMpdo+q3LauJpoSnVSFDn7PT6wdSXkwjOW56V4PDUFZMMw/Tr6KoH7w5WBe37HURRtz3l+hGFly+KqZH2Xsib6G7XWmgzgAhcSVcXZ2vciI0jOP4OwKKOD/PkpK/5OO9luy6ZUizKr4J0jI3ASqI132xVpyjgOUmH24asjn+evOO9CE5rMLleSCgVcwPNTJ2uYlSOVT4AXLWLTvQuYO+CdhI3dv+MzE6Ywqq+SPa5bRGI8SqFPstLM5kgKBsrT0du05GnbMxLN1tJBEi2v+OabPmDFiCs3xK2W6DUYim2GDJnBKUtRIhRHzs6dmVKYDwPSpEoItHtIEJQS65aW94sC3EtJcj3jfAGgQblUEuhRWH7KfL5Qi2OZhWApsh0S5Yk80yrVXzePhBcuIxizscgOhKRxPkvatUQpHKmxT8JeFSykKmvSPRNj28h705jjVA8KMCPdJ2wXU1bfkNWI3DZ07nllMZ9xK99gp5fvI/mDBC5wwbkSO5cBZp09i6bIdOeV7JqwAACAASURBVAl2Q9eYeNSRTzFOmjmcTat341jZe6djewwbm/85pIAPDwVq5buAEOJ24BzABrYBn1JK5bDGhRB1QCe+ML6rlJr+Yc6zN4iwkbcSpZSipNzvawoFTf74w8t4Y/l2VmzcQ7+qEk47dhytHXE2bj/Aph0HMA0dpRTnnTyJq8+dhUIRMHRiZCxG6b7ijGBOKYQD5BNzUn5vnMLv21IarKjbT8DQsYWHoeu8vL2OV+/cybyxQ/n5ZWehH8JQ+qsnHcvlMyeztG4PP13wCq1dcaRSuEX4HPtUs2gyqDMdjUvfh2rclpbmLEPuHAiQoe6dzBAalcEiDrREu/tXUxU6Abb0sJMVsGsXLuDNKz6f9dm3dzRzx4bFrGupZ0xZNQ+ddykVgQhV4QiBDL7klGp/4V25fx9rdm3N+SIoJWjtiKApsB2dPoEIb118I3tjbUgUg4rK07SQcWX9WNOy11dCS18PrtM9r7jncN+W5Txy+tW8VL+BvfHsX5V2J87P1i/kJ0dfdND7aWo6D598NbcuW8gL+7YCiuP6DedHM844ZBAHcNmwuTy5dwWtdheWdBEIgprB18efk2Ol8O+KTnsPnsrt+XBVnA571xGYUQEFfLwQiVwMSDo7foqU9Whaf0pKv0mxGE1Yf4S4l80oMDSdUaW9056nVcxibOkE1rSvQCrJUX2mcCDexY/XfotO5yjGltQzsXQvhubiyChbWv/ApOof5h3r+EHDOH7QMFo6Y5zy3bvyUlJE1EB16diGINGRquALZLFChD3MVh2h/EqYUwzhRtAt0jR9oSDYqrDK6RZQUwokhJo9dMsP5qSeFM3MCMIEoDt+AjNeZRBudv2ALPlasNP3sdNthfAUuoRgO9iRpGiXB2aXJNwi0zZKekLSEU1wyskTuPLS2bR3xTnzxjtzqJYIgeYpzIY4kf1x7n3tEVTIIFEVRoYNtuxo4Js/eZSffPN8ZkwewlHD+1NX35KmXabgeh5r9zfkFUqJWjb17Z3UlmeLa82cMZyzzpjEE0+uRCbH0zSN7996HobRe7Xuw8I5V8zmyfuX0OVKvGTgGwybnHrBdCqq33vSu4D3iEIg967wHHCLUsoVQvw3cAvwn72ce4JSqunDm9qh0WE7eCENPZFdTdHLQzQ0dzEh9bOmcdz0kRw33VcievqNDdx293O4rocnFLoumDiqli9ednwywySYPnYwzy/b3P290kSyvw1/1U7pbUhQtm9ImtPM7CWpl0lRDujuuXNiXrJ3D17fWMejy9ZzwcyjDvmZ+5YUc9bEsUwfPJBb7l/Isro93UFU5kam4NL5UxjVr+od3NH88DJ7+nrjcWbAVZID7d30PwFIU+W9JuG6rGyoZ1o//wFgbUs9n3zxXizPxVOKzR2NPLtnM/fMv5Ta4vyKjNMG9UPs6qZ1pt9X+HuyZZsENIPLRk1BCMHASC4F8tezLuYzr9/LnlgbAkHMtfEcDellB9eW56GUYn+8Pc99krxUv7H3G5OB6nAxf5h3Ybpx/WAG5T1Raoa5f+6NPLxrCW80bqI6WMonhx7LxPJcYZR/V5QFR6KLIK6KZR03RBEVwYIxegEFfBiIRC4lErkUpaTf4wbMD7vctfU59sfbcJW/nwU0g+HFNRxdfvAeqIhRzDGV8wB4cs8qfrB6AbYciEJjY2d/FjWP4Lphr2FqHs2JJQC4nuSul9/kvjdXEbVspg6u5Zaz5jO6XxU7DrQQ0HVc1819M6VQy4tIjO2xYWl+q4QXlhgxHaRCj/stEOCfmrIGCLUrdEdhlWlIHYy4oqjexbAyKnCO3+6gDNFzC/aF04KCaH+T4r0OupOsbAkIN7iEW/wT3bBAB8J2MthzFUaXTI8nku8jpSScFAxxPXnQ595gh4vmJseLu4T3dBIfXIoM6li2yx/ufYUZk6/iU6fP4Lllm4gnnPR4oYDBRfMn88qenTREc6n8nlQUh3LFp4QQXHjBDJ59dQOxqI3jeoRCGj/+9dPc8fMrqCw/sgbbZRXF/GbBjdz3m+dZ+spGikvDnHfNXE6/aMYRnVcB+FXtQiD3zqGUejbjxyXAhUdiHu8WE8fUsmz1TqyAg+b4gYI0BUFDMGJI/gAmGre57e7nsFK+IUJgOS7rttXz4lubOXX2WBKWw6urtuUuknqGQmQyMweAB8ITpHU0HL83TpDsFevtGT25v8Qdl3+8tfqwArkUavoUc/fnL+SXL7/BHxa/lTtXAc32Qapo7wBjKquImAFiTkaFMjl3TYhcFS0F0ssj69wLXtuzg/9a/DKtVpxEMEbM7X4fqRRxz+H7bz/Dv07/TN7rJ1UOwNS1dJUvPQ0FSvqG4fMHDOcrk+f2Ooe+oRIeO+l61rfX0xDv4OZFC2lysoOIkG5w7tAJCJE0Ic+TqezpR3covJMALhPFZohrRsznmhHz39X1H3XUFs2i2OxPh70LmayMaxiEjAoGFR93hGdXQAEfL4iMdc3UDP446wvcufVZXqhfgy40zqydyrUjTs6xwekNcc/mR2sew5JJ3x3AVgYHrFLebhvMMRV1BHVfUfG7C57jmbWb04bWb27fzeV3PsCjN15JbUWpX1nJaCsAMjL7Onhebr+2AGUqzHaJ8ARGV8ZuJQRORBDo8gcxY2DEJOCrVGcGcanzQeEFfFpm6kWlQbxKT79u99EIN/mcDykg1Nb94GrGFSqhkMI3OO9pi6fwk8JBTac4HGRbXQN3LX4TR8jcXVb5XrcyqOcMYrbEsfr7wdSufT4NdlDfMu755qX86uHXWLV1H30iIa44dRoXz5/M8BVV/HDBC8QzzcR1jbljhlAazt+n/LPfPktnzPKfC3RBwnJxWqL87o8vces33p0H4fuJ6n59+Mp/XXCkp1FAPhQCufeMTwMP9vKaAp4VQijgTqXUXb0NIoS4DrgOYPDgD7ZCcO5JE3ng8WU4jodMrnwBU6d/3z586Qf/oCtqMXFsLTdeNZ8Rg/1NYeWmPRi6Rk/SVtxyeHbxRk6dPZa/LFzqG2jmcDb9NXna6IHsbutgb0c7mueXfUTyT+q8dwovTwPuoRCzHf6yeLkfT/SYqy4EFUVFea87GKRSvLRtOws3b6HINLlo4lEc1a+G3592Nlf/6xGkVCQ8h6BhMLCklPNHj+f3K97MCr78foHsCQlXJJW8st/P8jz+sOKttAqkXurkDXw3tjXgSZmXfloRLOLKkTP5+7ZlxFNqjsn/g5GRGq6bMAuEP8bEin69PmwIIZhQ1p8JZf35zbEhrn35IVwpsaVHkWEyvLSCa8ZORxcax9WM5rUDm7P8jEyhc8aAiYe4wwUcDoTQOG3gnaxo+j11Xc+hkAwpPpGjq76EJj4Ky2UBBXx80SdQxM3jz+Pm8ee9q+vXtO7Jm/RylMGa9oEcW1nPiD7X0tjRxdNrNuVI51uux59ff5vvnHMis8YO4c2NO7GkRKGQlR5uXwc80BtTa0Xumm/EINyQwRbJ2BdkUMPSJegKI0bSPkhgdubfp1N9cokyAUKgdIHMVMsWAi+gIXWJG9bS05ECRDLpKxTofryYl/TiBTSIulx99Z3UN7TjCUUooGGVG+n3SLGGdEsi7Oy5CkDP8G2oqe5muIyoreI3N55PT5wzdRzbGlq49/XlmIaO40qmDunPbRfnF/2SUvH2qp1pWmV67p7k9Te35r2mgAKg+3fg3xkf2JOJEOJ5IJ+axreVUo8lz/k2vnXmfb0MM1cptVcI0Rd4TgixUSn1ar4Tk0HeXQDTp0//QP9bSkvC/Om/r+B3f3uFN1fUEQqaVFUVs2N3c7ritnT1Lq77zv389farGFBTluWL0hOhoE9Z+Nei9ShPZXu/JDF5eC2jRvRl+aJ6lCaQXh7RSi1ZrJH4XYVazxOSSB5LSQG/Uzy3YYsfPOYZWwjBRZMPv8IHfhB3/aOPs3jnLmKOgyYE/1y7jq/OncO1M6bz+pWf4bHNG2mIRTlmwCDmDRpC3HW4a9XSnM8lNMjUDxEuCFOgGwJHSUxNQxOiW8Y/owUhX5wVNgIHrV7dPPEkRpVW86fNi2mxYkypGMg1o2bxk5Uv8r3lz6Q3x/HlNdwz/1Ii5sE9yY7pN4QXP/E5Ht62hv2xDmb3G8LsfoP5xdqXeGr3ekARNoJ4ysNRHqbQGRSp4KvjTj30jS7gsBDQi5lVczOzam4+0lMpoIAC3keE9UBe1WiAkC4ZVf4laiIn8tb23QR1PSeQc6Vk7R7f7uWnnz6L2x58kaff3kh0TAyvwvVbGgBZ6WEkdFzLzN4nPQjVC5wKRXy4gxdR6B0a4ToDkdAQCjpHgF0OSL/fvXKVSI+bD2bUQ5oGdjKYy4JSaHGJW6T1eE2hTCCVvxQCYQokCuxU/wY4YQ3dBdmRYL9K+D34gOlIPNP3zkUDTfrVOKEUgY7sHkYFeMkqXTBg8NlLe2eopCCE4Kunz+VTx01n24Em+pYWM6gyv1dg5jX5stnvln1SwMcIvawJ/y74wAI5pdTJB3tdCHENcDZwkuplZVVK7U3+3SCEWADMBPIGch82+lWX8qOv+uX6to4Y511/V47VgO243PfYUm6+7hSmjBmAoedmAkNBg/Pmd1dTUg3GmQuSEIJvX34Sn/zN/Wm5XqVnVOIyLzb867XkdYap43q+yInluOghDU9JigImY/pXcckxk97xZ2/sjOJ4nq+M2UPj4qRhwxhWeXhy+Cm8sn1HOogDP7BLuC6/eO0Nzh0/jqpIhE9NPjrrmogZ4P5zL+H6Zx6jMeZz6SvDRXx12hx+8PzLeFKScF0iZoD+4WK+fNwc3ty/m8pQEX/buJLGeA/lRVuDlPpkEiHd4PKRRx+UtuNIybL6/Wxt6kQgWBzbR2P0FTa0NmRRLte07Ofby56kJAQb2+sZV9afT4+cy9DiXCpuTVEJX5w4Jzm+xznP/i+7o63p8YKazpCSCi4dMYVRpTXMrBr2jqmVBRRQQAEfN0woq6XUDBPrIZgS0nSuH3sjw/v4SchBFWVYXq41jC4Eo5P93+GAyQ+vPI3TTx7F5xY/iJu5HxughT20uI5MmbVpoEdBGZKOyW460SqDEqfKRt9noFydUJsg2OIHSFYfX/REuDqBqJuXdSMUhFpd3JCBDGUEbMkkojQFqifRJ1VFS8Y+Arj5htPZuKeBR55dhedJhKfQlABPIVT36ZAUTml3sSp08PwAVI87BHd3IGR2QCk0gVsVprIswuevmMf82Yffa1xWFGLasEOrTmqaYM7MESx+axtuBsvIMDROnDf2sN+vgI8n3u+KnBDibvz4pkEpdVTy2Acm8nikVCtPB24Gjleqh6pA9zkRQFNKdSb/fSqQX0rqCGPXvlZMU88J5DxPsW5rPQCGofPzm87jK7cvQErlG59KyaWnHs30CT4V9MxjxnHvM8uwXS+dIBDA6EFVDO5bTiJzfC0paOIB+AuthmDSiFpaOmNMGV7LZ06dSVsswbKte6gsKeLokQN4Yd02Gju6mD58IMeNHXZIxcp8mDKoP6Zu4DoOwiZtKhoxDC6Z+s4Dw4Wbt2T3wSVhaBpv7NzFuePH5b1uQlVfXrnsM9S1t6FQDOvjq0HOHzKcR9atZ3d7OzMGDuC0UaMI6DpnjRjDsvo93LHmzZyxlK2BptADfpBoeS6nDxrLTZOOP+jcb33rWR7dsS696Sc8h+VNe3KqlS4Ozzes9E3FlWRLZwML967l7jmf4qjyAXnHtjyH21Y/Q11Xc5aClyU99nR1MrZ0IDOqP5pCIx1OFEs6VAX6HHb/SgEFFFDABwlNaPxu1pVct+QeEq6NAlzlccXwYzmupptJ0r+shONGD+O1zXVYGYImAUPnU3OnZY25qGlHN8OjB4IdoKI6XpFvM4CriI23snvnkvunV+0RWWcgVIr/CME28AyF0gVd/XQi9R5CqfSDp8hQjjS6FHYwO9aTut9XLXrru0hSIiNK44yTj+Ikx+PFVzbS3hlHpeah+f5zKJ8iaSQrdpoCIT0a5+mM+MM+iLn+uwRNSAqShEImP/zD1YyeNIhgwPhA94KbvnAKX6xrpLUthuN4GIZGv5o+XP/p+R/YexbwfwCKD6JH7h7gt8BfM459YCKPR6rp47f44vnPJX+xlyilPi+EqAX+qJQ6E6gBFiRfN4C/K6UWHqH5HhRGQCcat3OOa0IwfFBl+ueJI2t58jfXsXhVHV1xixnjB9Ovqpsvfs2ZM1m0to6d9S3ELIdw0EQzNE6bO47VO/cztKqMHY2t6fOV4Qdzmg1GHCIBgxtOn8O0cYPS5wwGJg3t9im55rhpOJ7HC+u38ZMnX2FAeSmfmDqOisjh97VNGzyAqYP6s3T3XuJad6rPMRQ1fd65OlSRaYAGEt+wPN3nJgRF5sFl7YUQDCvLrgBWFhXx2Rn5kxj10a781SshEJbJX066iHDQYFBxH6pCB/8sUcdmwfa1ycb5buTrM0gZgad84zwliXuS29Y+xX3zPpsztu25XPPGn1jT3Iincjc/R0nWtu7/yAVyLVYHP15/H2vbtyOEoDLQh5vHfZJJZfmNdgsooIACPkyMLKnh2ZO+zlvNO2i3YxxdMZSacK4y8c8uOYOfLXyNh5etxXJdxvSr5tZPnMiw6oqs84LC6FVRWYYEIiHQLeFXyIRC5bMNAjBVdxCXhFAiaScAVrmGVS4o2e1hRBW6LdOqlV5AYNqgWj3i/Qxf8EwDNHCTzwf5Qiiz3cGUcNJZkxFCEAwY/P6/Psl3bn+cut1NyEx7AwFeWEcoD91RSA2i/TVCLgSkIK23Yjlg+UqUYbOESTN6X/v3t3WyYV8DtWWljK2t7vW8w0F5WYR7/3Atb769g937Whg+uIppU4bmeM4VUEBP5LDb3iOUUq8KIYb2OPaBiTweKdXKkb0c3wecmfz3duC9m5F9wFBK8YM/P4PUu5uHU5AoqgaUopRKZ6JCAZMTZozKO1Y4aPKXb1/G4nV1rNuxn8Xbd7N2zwHueNaXQ46EAgQNHSvF209Wacy4b0egCUE0kRtQZiJq2Vx+14PsaWknZjsEDZ3fvrCYuz99IZMOYRCeghCC2847jRPuupsM32Qsz+PyBx7i9S98lqBxeF+trS3N/GvXFtxgBpXUVuieH87NGzrksMY5XEyq7ocrcykzABeOPoo5Aw7//VqsWDIozBxPZHNQAFBoPeXAkljbujfv8af2rmZ7VyMSj7QRXgYCms6ASJ/DnuuHAaUUX1/5B/bEGvHwFd32J5q5ZdVd3D3rZmpCFYcepIACCijgA4ah6cypzvsYkkbAMPjW2Sdwy1nz8aTK2xrx6sYd/PmfK2Ec+SOlDn8fFJavLKmUwJHkqlmSfH5wFMF25fvKCXCKwC4FuzRJV9QEXbUQqVfYyb574SnMpGVAwALZqdBchR0RPuUxGWFlbUtSocc9DKno06eIqz83Pz2PwQMq+N//vpwzrvptDssIIfCCOsJz8YIwbHYt3z/hJL7/v7/M/TzA4FE1ee+tlIrvL3ieJ1ZsIKDreFIyoqaSOz91PmWRcN5rDge6rjFn5ghgxLseo4CPIT78Frn3ReQxhUJjzXvElt1N7G/qwAuCNLqrtFKAXQT3vr6CPz+39FDDpKFpgmMnDqO6bykb9jVgux4xyyFmOTR3xBhSXsbEATVonm8iGmzzG6IBXNdj6uj8NL0U7n5tGXVNrcRsn8pouR4x2+HrDz7VaxN4Pjy1aXNOE7ECbM/jha3bD2sMT0ouf+whmuLRbuUWASrg+8nc9R/nETpERe6dYnBpGWcPH0s4I9A0hEZtcSnfm3PiOxqrX1EJRj5qqhQYQiOUNNkO6WavhgjFZv707Av164l7DrqeK0kqgIgR4IT++RMCRwrrO+posNr8IC4DrvJ4Yu+iIzSrAgoooIB3DyFE3iCuI57gq3/7F1ZMom0LJjta/D9KAnuDvrK04+/VqfYHo1HPzv0BeBDYrVPU6AdxKSU9MwqhFr/qlmqgD3YIlJkM7JJKlXapTqqYJ6Rv9m3E/YAOXeCEBdL0bYmcEolT5uDpks7BAbT5fWm04rTG4izavpOtjc10Rq386l+AZmpcc+VcHv/7l1lw+ZVMrq3lgs+diFkSQpl6eqcKhk2uvOnMvGM8uGQVT67ciO16dFk2ccdl0/5GbvnHR5J0VcD/cQj1zv4AVUKIZRl/rjvs9zo8kcejgTOALwohDul7VNDTfhdwPcmy9bvoill+A7PmL6gyRLe3mfD93RK2y5+eXcqVJ03D1A8iPdUDD7y2kridzbuXSrGrqY0F37yK793xNFt2N5GQjk+JMHW+dNE8SiL5PVZSeHLVxhwlLvAFTPa1dTCgvPcqjycljy9bz8NL1rDDaieRpy/A8SQNXV2H9Rnf3LeHqOPkJEOEgDMnjmHmoEM3Ob8b3H78GRzdt5a/rF9BzLE5fegovjh19iEVJXvC1HRunno8P377eRzN8o3APY2gCPLXEy5hecteNrQeYEJ5P5rdFh7euSzrnoU0k0uHzsw7dpkZQUMghSIYcLEdPVmAFYzqU82dx16CqR3+9+nDwIFETt8u4Adye+OHTfcuoIACCvhIoyUe46fPv5amyuttJtpKA1Xs+7V5psLp62IgMPbrWbY4gb0m6OBWJvdh4Sd+zVaRFh4B0kbFRhxKdkm8INjF+NZDaUGT7t3TCfkVOCUETpFAZTkgCGKDXOIjfZEVs87ErPL3u7UHmrjkd3/HiUBRwMSRkpGVFQQDOnaPZxAhYObRw7j66nnpY1u21vPk8h1EB5Yjk/TRcl3wnW+ey1Gz8lfG7l20Iu3Pl56/J1m8dRedCYuSUG/80wIKeJ+heDeqlU2HI0LSEx+UyGMhkHuH2LKrkRv++2Es2wMUjufhZtLmkgusgrRRt+t5tEcTVJVGDvt9UhWzntA1gSsVd3zzYp5/axMvLttCaSTEf5wwiQnD++e9JhNGL8GkQmEcIjD4z/ue4tUNO4jbLl4AKCWHTqJrgmkDansdozkRY+HOzSRcB0Pl//opoDXx/piK54MmBJePn8Ll46e857GGlZUSKLYQ0vOlmYVkakUtU/sOYHpNd6+iIz3anRjP7FtHQDOwpctpAyZw/Zj5ece9eOgMntm/loTnoGmKUNBXLKsKFvPEKZ/9SKpUjikZiKdykwQhLcCkssOjulhelG2dr5OQnQwsmkzf0Eer6lhAAQV8vPHsji3c+MKTiHbfqBsUTonC7aNQQqBZIAwFQsPr7yDqs/dVgSC4K4C5VxIdbydpliLdTpBGhuAZ+IbgugVeIOmV08MzTYY0rD6+T50yyKqoKRRGk0EgDIG9BlJoaT6WDIAd8kVPOi2/NWNjQxOjRpVgr/ewLD/gEgKCAZPrLuu2D4hGLb5609+JxezuuSpBmwcvb9/HtOPzC5VF4xZFO6MU7Yr5Qi4jirFqQmhCELedQiBXwIeKD8NH7oMUeSwEcu8AnpR85fZHaO3IDjJ0U6Ab3Z4zycJJWppf1zT6HKJS1hMnTxrF315ZnlM9i4SCDK4qQ9MEZ8wZzxlz3pkP3EUzjuLXzy3KyoZpQjCiuuKgQiUb9zbwyvod6euUpvzPl9orPIhoJrOHDGZi//y9ds/s3MyXX30CAXhKIQS4yWxhJooMk9OGv78P8A2xLp6o20DUtTm+djiTqw4d9B4KtnS5aelDODIjs4piffs+ntyzhk8M6m7xNDWdHx99AV8bfxq7oy0MilQcVExlYvlAbhp/Gj9btxBT05FK8f/bu+/4OKqr4eO/MzPbVC3ZkovcCzYuGDfAxoDBBTC9hJpQQkIIAVLgISEhhZD3SUIgPSQPCaQAAQIJoRcTQjPY2AYbG/duyd2y1bfN3PePXcsqK1uyJa1kne/nY9DOzs6cHWln9sy999xsX5A/nHRNmyRxxpjaeekOt7JYUUYBU3uMYe7uZUS8xI0IRyyyfRmc2WvSIV+/tfpTniu+K1HR1cSwxGZI9lTO7P1NpAMmrkqpo8+eSCXzd20g0wkwuXAwfuvA16RdNZV85e3niDtxyBGCux1i3Q3xLBKXMQ+8EIkHVTam2sYNejhVDZI5F5waIfdjP/FMQ7i/SyzHENhlsDxplMTVZcXBOCbl84FyiGaS2Ebd/SHY1UJolR9jg5d1YIoCN0CjQTZxz2OdXclPb57Jsy98zI7d5Rw7tDdfvGoqQwceKEry1tsra+fOPbCvRAPH8y9/zPmTjyUnM0Bh33zCsTivfryKTzZtw/dpGd0W78UJe4miKCU1VIzIJvOUfhRkN/+Gt1KtovWnH3gCmEaiC2Yx8H0SVSrbpMijJnItsHTNNqpTFBNxY4ZxQ3sRMS7LNmzHs5JJnAhBv8P1Mye1qFslwPXTJzJnyWp2lVcRjsbx2Ra2bfGjq888oipMV510PB+s28KC9VvwjMGxbUI+h59fee5BX7doQ0ltt9F4IDG3Td2Tvzgw/ZjB3H/22SlfXx6N8NV3XiDs1j/pO34LxxXq5qtZAT/nDG3+XDOHMmfLGm5953kMhpjr8ful8zl34Ajum3L2EZVD/qS0mFTFjmrcGM9tXsLI3D785JPXWLhnM5lOgKsHT+LG4VMPWQ1zv8sHnsA5RcexeO8WspwAx+X1bZMk7q0dS/jdmhfYHSkj0wlyRf9pXD3wjEMem7jnUu2GyXJCtXF9a+TV/Lv4PZ4vmUvYjXJywRiuGTiLDOfgNzI84/JiyfeJetV1lsVZVzGXNVlvc0zO6Uf+RpVS6iAeXj2X36x8M9ltXbBFeGjKZzkury87qis4++U/4fqjiWnY/BAe4WJq/LVJ3AEHuj5G8g129YGKlBIHpzqZiMUs7GpDYI9FZIQH6xOtZ5Iyhdvf4tV0TzBDItFLWf0guUk3o87KQIqiyEBizrw5H6+mNBym/+AeXHLe+HpJ3LbScv760ofE416jaCUSJ7hkN984534syyKvMIeS8d0oy7SoicaQQgdm9KbwrR34KuOIcCQ2kwAAIABJREFUa8hZUcE37p6s09WodrV/PGprMsZcmWLxw02se8RFHjWRa4GaSLTJk0zA5+MP/3M57yxbzwP/eodNO/eSlxXihjNP4Opp41q8r5yMIE/f+TleXLCC+Ws20yc/h8umHEffHt2O6D34bJs/XHMhn5bsYMmWbfTMyebU4QMPmWh2z8rAZ1tE4y7RXBpdKAwwd8sW7CaOz1vF67BTJCGu8cBnkrWSATGUu9U8+PE8bp90SqP1W6o6FuWr79ZPIGvcGC9tWsnsAcM5ve/hV7dKJC+pzwAxz+OKtx6hKh7BAGE3zkOr32NTZSk/nXRhs/eR5QsytbDtuhfO272CHy9/srYFrTJew2Mb38AzHtcMnpnyNa5x+cuGF3hp63u4xiXLyeCGwRdyRs9J2GJxSb9TuaTfIcfn1rMjvIq41/gmSdyE+XTfq2lL5Izx2FUzl7LIMkJOb3plzsKxmj9Vh1Kqc1hcuoXfrXqLqOcSrVPZ+EvvP847Z9/BPYtepzx2oI6/CHhI8lugNHEpEDyfoaaXh3+vhR1NFj6pk/pIoisHA/Z049JLRvKXZ+bXm9S6oT5FuWzZV4ZEUj/v+sGKp0gGTSKJtMNCPNlzUZJF09zGhZGJROLMX7YBz/LYlLuTD19fw4U7j+eOaWfiuXDtT56krLKCjOSk4rU8g3/zHnA9Elddlx2b92BtKyU8uy/4bYxjgTHsndCdwrd3ABAMOEhJVZPvW6k2YQ5yZ6ST0ESuBY4bVpTyBBsMOMw4MdGCdOrowZw6enC9KQcOV8jv4zMnH8dnTm75JNuHMqqoJ6OKUpcGTmXaqCE4/3oTiNHE0Db2hWuIuHGCTuNKk14THxSz/7/OgefDrsvDSxdx24QpR1zQ44MdmxtV1wSojsf41/pPOb3vEHbUlPPYhg/4pHQLQ7ILuWbIFAZm9Tjkto/LK8JvOVRRPwEJ2T4ybD9ht34hl7Ab55WST/nG6DNSzluUDo+sf7U2idsv7MV4cvNbXDXwjJTjJh9Z/xyvbJtb+7p9sQp+u+ZJcnyZTMxvWVff/YzxEkM6UvyZeI1KvLWPuFfN/G3XUxnbgGuqsSWDFaX3M7n3X8nya3lrpY4mz2z8iIjbeGx63Hh8uHsDb25d26gHhljN6JXlCV5ACPdKrJn3ServBTt3VvD5S6Zw3UWTqagK87tH3+GNufW7Lvp9Nr3GdGflinKytppGOxegpgd02+tge0Jk/xAKA1YskXPaVQYrAm6m4PhsrLBLTQjEEjxjsCRRNCW0zcPNjBM+szIx+7cP/lE+n7lvr+K64BlUh6PEAok57OyIqc0DpTIMxjRuU/QgY3MVVUOT1z4Ronl+jJWYx8uyLTKyWjYERSml0w+0SGbIzx3XnE7A79R2bwwFfAzrV8BZU+oP6j3augcEfQ4P33QpffNza6c7aCg7ECBgp87yTisaTNw0cZfRa3ysXONREW3ilmMLNNVFBRJ3VDdW7uait37D39fP4+O9m3l28yIue+f3fLRn0yG37Vg2vznxCjIdPxm2D59l4behMBRibcWulO83YDmsq+g4FRy31pSmXB4zLpXxxgVnIm6Ul+skcbXLvRiPb3rlsOPoGRqBpDgdORJkZO6sw97ukVi372Eqomtwk+OSXVNNzCvj4113piUepeoSkZ+JyEoR+UREnhWRI+uu0cVVJntPNGaoicdS3hDEMuCBVSNYNYLEaJBcNd6iaeLeZFYo0UxmWUJudog7b5zBpWeNIxT0IQIDivK5/Ssz+e/OzYn55bIS3SL3T3lkBKp6gpVl8/rPvsRtl57CqWMHJ+ani0MkN/F8OC8x95wVNbjiIbaQVWXjhGFofj7njhpOn11+/OWG6OTqRI+Z5L1Z4zNsrynjn7vnUx2JgQiVfXyEu1m4dqJlz7O8lC0clmuwqxtXut5/iCxLmDQtdXEUpdrSYUw/0KFoItdC5582hj9970ouOv04pp9wDHfdMJM/fOcyfE7HKgXfFob3KeDlu67n7mnTCDToihlyHG476aQmE9i8YIj/d9IsAraDz7KwgJDtUBjISnlLM+T4yPUf+d25yb36p5wfL8Pxccng0Tyw/DWq4lFiyWqLbvKi/a2PnuF/P3mJm+c9xo+XvsyS0i0pt5/jC3JevzH0zczFsV0cC7aG97IzXJZy/ajn0j8z74jfV2sZmFmYcnnA8pHta9yFsDxW1WRqvDOcOilsDlscZhd9F0eC2JIoi+2TIH0zjmN4zvTD3u6RKKl8Ho+G3T0NVdENRNyOk4yrLmsOMNoYcxywmsRgenWYziwaSYbduDdJ3POY1GMgs/uNwNdg3lCr1Iezz8aqEeyohV1tYVfub6ZLzCXQ8JIY7m4wDb4NOo7FldPHNVhmc/PnTmXO327lrb9/jb//8nqWhnfjigeWUNVLqCgSwnlQ0x3KBoFd6OPYaB6X3/Mon2zYzmdOHkPQhYqBEO4BsVzB4BEoc8ksjpO1KoqzI040GkeqDLs2lfO9s86gb1Y2xjF43d3GhVCMx8pIMd3WhfHvi4MIkXwfFf39lPf3U3ZMCGM3vkp4jhDtUeea7hkyd0fIzAyQnZfBj/56E/5g684bq1SzmBb+62C0a+VhOGZAAXdel54vl+kmIlw3aTzdszP4ybvvsq2ygu6hDG496UQ+N/bg5fwvHTaGE3v148UNK6lxY8zoN5RY3OPql/5RbwxbyHG4Y9JU7FSTbbdQyPHx21Mv4Oa3/40hcVF2LIuLB4/i1D6D+OaSv2PqfDL353zbasp5YuOHtcv/uWkRlwyYwF1jDkxw+mrJUr778b+JeS6euPUu2MaKgetQd+BBwHKYXDiIvnUSOWMMqyq2UhqpYGRuP7r527di1xeHzObOxX+q18IWtHxcP3hWyjGNef4cbLGBxl2QhmQd2bx//TMncN2QR1ld/iY1bhn9MsbTN2Ns2lq3j7ZWdXV0Mca8XufhPODSdMVyNJjZ+1ieyf+IxaVbqHETLXB+y+aOUbPI9Ye4e/xMlpZuZ2t1OVHPxY7bRCutRuPdxDNkE2D84D5MKurNLxfNJVqReBYg3BOcuODfC7YtWAjnTRnFF849sV48+ypq2FdZQ9+CXJzkjeLtFZW4BvCDxIV4BsQzQHzCtJ4DWLq4hI3RUjCGt19ZxtxnPqF8hJNIrETw7/Pott5D9ncWMRDc6wGGcIGDJcK7KzZw7QUncs9DL9PkJEAeSNyQsTNxHYh2cxKtg7YQLggSKQgQ2BnBchMXVNtnY+cHkf45BCXR+tYjK4Ovn3k8PW7OZvSkwTi+o/9muOqYOmIrW0tIE3PSdWoTJ040CxcuTHcYXYLreUeccC3YXsxP5r/NytJd9MrM5usTTubcISNaKcKE0nA1L21aRVUsymlFgzg2L9ESNWPOz9gZrqhd78DHofGX+KDt489Trmd0XhERN8apr91HdTwKGERMozuvnid4roMxgs+yuXDAWO46bhbB5F3fneEyvrrwEbaH92GJEPNcrh54CjcOndkoidhUWcprxStxjcfMohEMzTn0GL7m+qh0Db9f+yKbqnbQ3Z/DtYNmclafpqcLeL7kbf6y4QUidYqTBCwfPx37VYZl9z+sGFwTx+Lwpz5oC6v3/o71+x7Bo24XXyHHP5ypRc+kLS5Vn4gsOpzJWY8mIvIC8JQx5rFDravXx6a5xuPNbSt5fesKcnxBLhkwnpHdDkxV4xnDe9s3sLpsF8s27OKlxWtSbic7GOCjr98MQE0sys8+fI9nli2nJh4jy+fnthMnc+HgEWzbU06fHrl0ywrVvrayJsJdf36Oxf5PEMtFfDCiqA8/nXo9/1m5iXvm/JeaWP0baQGxyN1iEU6Op3MqXUKlLmJg62QfJFvI8pfG8Vem6O4psHeYgwQtjAV+x2ZEfndWZq8lXhCr3yoXh9DHNplvJ3pOeA6UDQ6CBzWFJPblGnKWl5G9uhLLFc6/ego33HEOq3bsYdXWXfQv6MaJQ/sfUQVu1TW19vk+O7evGT/1tha95p2Xv9mhrjnaIqeOSGu0mk3q1Zd/XnB1K0TTtPxgBp8b3rh66JUDT+L/Vr9FuN6Yr9QXl4gb441tyxmdV8Sn+7YedPwdgGUZ8oM+5sy4E0esRmMsvvnxo2yu3p2o3Jn0xKb3GJ5TxLSeo2qXPbp2Afd98h9cz8MDHlzxHjcOn8Ktow5Uhiyp2cJzJU+xsWodOb5unN37AibknXTQ+PYbnz+MP57w9WatC3B+0Wl082XzxOZX2RPZx5Dsflw/6PzDSuKWli3mqS2Psieyi6AdZHrh2czufUGHmPB8SO7n2VUzl8roWlwTxpYglvg5vuBn6Q5NdREi8gaQamLO7xhjnkuu8x0gDjx+kO3cCNwI0L//4d1sOVrFPY/Hln/M4yuWEHVdzh8ygu+PPY8sv7/RupYIp/YezKm9B/NwxSJeInUi59S5LoZ8fr538hncPeV0qmJRMn3+2mtBXnbj7ut3/fFFFkeXYd7OxViJgiaf+qu5dt8veOK8O3nkw0Vs2rePSNwFDwKWzZQ+/VhRUlK7DX+lV9vKIF5iugM7DE5NE6MABYxt8EjsLxyNsWrNdgKxTNwzypEgeHjggbNbyHj/QBdIiYOvxmAswYkkWgixhfJRuUiffE4c1o9bvn4xAMcP6sPYgb2pjsQShVUOcQ1Vql108vYsTeRUl3bd0JPZVLWbl0uW4rdsKmPRJj/TFoI/Wcwlw/HXqcSZKLdoTP3xEAHL4cJ+4/GnqPy4tbqU9ZU76iVxAGE3xlOb5tYmctuqy/jpkv8Q8Q50PXVdj4dWvc+ZfUdwTG4h22pKuH/VD4h4iZajSreCRzc9xL7oXqb3TD2v35E6tXA8pxaOP6JtrKlYyR/X/YaoSbTs1bg1vL7jRSJehEv6XtEaYR4R2woxpfdj7A7POzD9QMYMbCt06Bcr1QqMMTMO9ryIXAecC0w3B+leY4x5CHgIEi1yrRljZ/eVN57nneIN1MQT59j/+2QBr21cw4sXX4v/INPyfGbMKH76n3fwTONS/1eOG9NofUuEbH/goLHs3lfJxztWw9osiAu1NxVjhj3P+rli7x+5d8ZFzN9awp/fXUhlOILPERasLyaWEccfSXYTqzNHXFZx4sIkBjw7MeVAo/RJEnPf7r9+BUoNvvLEdkL/zsYtimOyPPwbPNjrUFXggIBT5eKrdBMvNGDHwSC4xpAX9XPtzPFcf+4Jtbv578druO/Jt9hTVo3PsfjMtLHcctFUHDv9N+5U19XZu1ZqIqeOamvLd/HDxS+zcM9mgraPiweM5Y7RM2q7N9pi8cPjL+KWEdNZV7GTD3au5/H184iaxqU5HcvmrD6jARie04vugUxKqhOJnzGCJM8GActBRBib14+bjzkjZVwV8XByrFnjKl7lsQOTYv9n65pGXTYBYq7Lq8UrOSa3kBe3/ZNogznYol6UF7f9k1MLZuCzOuYA8he2/qs2idsv6kV5a+cczutzEX7r4F962oOIRUFoCgWhKekORal6ROQs4E7gNGNM9aHWV40t37OzXhIHEHVdiivKeXXDas4f2nQVxZxgkJ+edyZ3vvBavTv6I3sWcMvJzesN0dCe8mqkTDBuoym2ISZs376XL//pWa6eNp5YxMUYCCenGLB8EM8F3z6IZQp2zBDJsep9SY1n2dil9a9tngWVfQTZ3wvCMwTKD3y5FSM4xYnKma5tcPMFkl0io44QzXEQIOR3uPGcE+neI4uThw6gMCer3n4WrSrm7odfre3+6UY9nn5rCeFonG9dlfo6qVS76ORDzDSRU0etHTUV9Sblro5HeXrDx2yqLOWPJ9fvylkYzKEwmMP4/AEs2buFpXtLaitZAvjE5hsjZzE4uwBIFMJ48KTPcsP7f6E6HgGEqBfnrD6jOKlgMMfk9GJEbm+aMjirMGU5a7/lcFrhgW6VAqmb/eXAXdWNVWvrFWw5wLA3uofCYKqeWem3I7It5XIRoTxWRo9A6oqaSikAfgsEgDnJsaXzjDE3pTekzmXxzm0pv8NVx2PM27bloIkcwEWjRjJz6BAeXrCI3VXVnH/sCCb1P/yiTwN65mGqrURTWgqm0iGOx2PzPq5N4PbzAAKQ4Vg4+UEkHMYNWfW6iXh+IZJv46twERfcAFQMEiK5Nk51omXRalzHqnb7rr9By5mVaIlzLItxI/ryhVknpnwtwEMvflCbxO0XjsZ5fu4ybrt4KhnBxl1ZlWoP2iKnjgox16Wkopz8UIicwNExKecT6xcQ9eL1UpyIF2fB7k2sr9jN4OzGBUMCto/7xl/GuS//iYipJo6L5TngBZmQN7jeuoOyejBn5jdYsHsj+6LVjMvv3+yJvn2WwzdHXsiPlv2TmBfHwxCwHPID2VwxcGrtetOLjuHHS95I8Xqbs/slJt/uHihgb6xx6X/XeGT7OsbE46kUhfpRFtuX8rlcn06JpdTBGGOGpjuGzq5nRlZinHeDDhgB26ZvVvPOnVmBAF+d2jot9sGAj9PGjeDt91ZCvEHS5AnhqB9jucRjqb952rbFM/deB56hIDeL8+74I3sr69ee9PxCuIfDvuF15rTzwKlJVFE2DilvHhor0T3Ua5j5CgwfWMj9X7vgoO9ty87U53pLhMdeXMCSlSXkZgW5dNY4xo/sd9BtKdVqOuiUAi2hHZMVTy9fysRHfs85Tz3KpEf+wK2vvtioKlZn9Om+bUS9FF0kxWb9QSbl/umit9lbHaeq2iFSHaAmbFMZjfE/cxtPeG2LxUkFgzmraHSzk7j9ZvYey0Mn3sTsPuOZmD+EG4fN4rEpt5HjOzAGq1coh++OO5OA5RCwHPyWTcByuHXkqbWVK8/udSF+q/7dTJ/4mZQ3hZDdeDB9R3Fen0saxe23ApzZ8xx8lt6dVUq1rdP6DSLL529UdMMWi0uHj05LTN/70tn0KugG9v5vlwZjG2ryBGNZBH0OQwu6p+zRUdQtl77dc+lb0I2A3+HymeMI+Orfr7ctIT8vo/5AOQuiOWDFwFhCNLtxo6BjW/hTTBHgd2xOGTekdoqEpozo37Px2DxjcMti/P3FhXy0fAv//XANt9/3Lx5/ccFBt6VUaxFAjGnRv45GE7ku7t3NG/n+O29SHolQHYsRdV3mbFjL7W80Tlo6m5HdeqcsNBI3bsrWuP3eKF5LvEEREgN8Wrqd6ljDCaIP366aSp5as4z/btrFjjI/PewCMp3GraGXDx7HnLO/zP8cdwa3jzmdl868kRtHHLgDfGzOGK7qdwNZTg6O+PCJj5O6T+XK/te3WqxtYVDmEG4deicDMgbjiEOeL59Liq5kdu8L0x2aUqoLcCyLp8+/kpE9CgnYNkHboSgrh0dnf4bCjKxDb6CVxD2PBxa/zXFP/pzRv/8Fa/Kr8Xr5kSybeJZFVaFNJMfGEiHD7+PHl5xJTihAIJk8OZZFyOfj3gtnYIyhZG8Z28squObsSYwf0Zeg3yHod8gI+uiZn80vv3IBudss7DDggV0N2Vsgv9yhV24W0f424fxkNUtAAhbfv/lsskKBRlPE2LbFeVNHNX5TDdx0/mQC/vpJpd8INkKkTpfLcDTOQ0/PpbwyfMTHValm8Vr4r4PRrpVd3IOL5tcb6A0QcV3e3LievTU15IU6b4W+qwZP4vF1C4h5bm3LecBymNh9wEETOV+K5A8SY7daY7oFgD3hKs559U+UR8PEjMfGyr3cvncHa8p2c8voqY3W752Ry7XDTkixpYQTup/MxPzJVMTLCdkZjVq6Oqph2cO569h70h2GUqqL6p/TjRcvvobtVRVEXZd+2bntPp/ldz98jX9vWIa7BXylDnFjKAsZJAR+20e230c07nLKiEHcfs4p9M7L4eXbruOJD5ewaFMJgwvy+dzkcZRVhznzl39mV3kVBsPA7nl89/zTmbxhIGWVYcYO7cMJI/tjWxZfn3ky//fsB8RiLp4xhAI+zpg0jNuuPo1fvjmXFxeuoDIQw7EtfI7DXc++zs3nnMQb765i8/a9iEBOZpAf3TSbgrxDJ73H9Cvgj3d8hl8+8y4rNu0gPyeDzLjFhi17Gq3rc2yWrdnKlHGDU2xJqdbVEVvZWkITuS5ua0VFyuWOZbG7prpTJ3I9Q9k8Me167l38Sm3VyksGHM/to6cf9HWXDR3DIysWEnEPdMt0xOK0PoMJ2K3zkfnzqg+piEWI1Wn5q3FjPLjifa49ZiLZ/paPU7TE0rFlSil1GHplZqdlv3sj1Ty7fimRqEuoNIDU6dNoAA/DhSeM5vbZp9R7XV5miJtPP1Adc291DRc/+DhVkWjti9ev3c0Xf/Y0mUE/rucxbNUmRg7qxd7yahav3YplCyHHx7C+BXzxgpOYOLI/IsKtp03mpXdXgAhxzxCPJoZaPDhnHs9961osT4jGXfr37NaipHfkwF48dMdnah/f8+ArbCze06jgjDGGnKzENbCssoZ/zFnMvE82UJifzVVnTWDMsD7N3qdSB3UUjJHTRK6Lm9SniOKK8sYDmIH+OblpiKh1Dcsp5G+nXtui13x17Ml8vGsrS/ZsB2OwxKJ3ZjY/nXJWq8U1d8fGlOP3/JbNyn07mVSok/YqpdTRrriyDJ9tEwub/VOS1hNzPRauLz7kdl5YsoK464KX2IAdlkTXSaAqnEjulm7YziX3/pVYeZSaSKw2gVqxeQdzl21k0qgBAPznk7Upp+r2jOG1xav5/BmTDuetNnLJzLH898PV9bpWikBudohRQ3uzr6KGz979KGWVNURjLrJuO+8v2cCd107nnFOa7s5ZWRMh4HPwHWLcnlJgdPqBwyEiPwC+COxKLvq2MeblFOudBfwKsIE/GWN+0m5BdhG3TZrM6+vXUhWN4SWvICHH4faTphJwumaeH3R8PHnWVSzZvY2Ve3fSL6sbJ/Xqn3Jw+eHqk5HD0tJtjW4ExTyXglD7jc1QSimVPv2yuhFzXYzfpGwZsEQYUJB30G18um8rT22Yj7UnQmZVYvoCI8kKlA2uW6X7qrCi9WudhKNxnv7PYj5/7onkZAaJxN2UN3ddzzSaQuBIjB7Wh9s+O41fP/YWjm3hGUNeTga//OYliAiPvbyAfRXVxOKJnismGesDj/2XmScNx9+gkMtHq4v50d/eoHhXGbYlzJx4DN+6+gyd2kAdlE4/cPh+YYy5v6knRcQGfgfMBIqBBSLyvDFmeXsF2BX0z+3GC5d/jl99+D7zSorpmZnFzRNPYOYgrWw9tkdvxvZoei64I/GFESfx1rZ1hN0DF0WfWIzK68XA7Pw22adSSqmOpVsgxKVDjuNf65fiZXhY1Va97pV+x+a6UyakfG3c8/j23Od5accSQu9kYkUtZH+KZkBi4PlM/WSuiS+tPp/Npu2ljBnSh1OPHcSvX57baB2/Y3P66CGH/V5TuXjGWM48+ViWr9tGVkaAEYN61nbXnLt4Q20SV5cxhg0lpQwfeGCu0Y3bS7n1V88emHDcgzkLV7OnvIrfff2SVo1ZHWW0Ra7NnACsNcasBxCRJ4ELAE3kWtmA3G78fObsdIfRZVTHIzy++Q2CwWqi1T6MSYxvm1TYn19P0YqNSinVldwzaRaFoSweYQHhDS52uY3PssjPyuCei2cwok9Bo9cYY7jhn/9kgf0p9jYfuHIgieNAL03x6swXR51KlA22F4u79MxPjBMcWJjHddMm8Ne3FhGJxUEg4HO45MQxHNu3kNaWGfIzafSAesvirkdlVSTl+q5ryM2qP4788TkfEYvXH64Qjbt8vKaELTv30a9Qx4+ro1M6E7lbROQaYCFwuzFmb4Pni4AtdR4XAye2V3BKtZV7lz3Nh3vW4vPHyfdFcD2LkGPzhZFjyQt03HnfGnJNnPd2zWF+6X/xjMfE/FM4teDsTlMxUymlOgLbsrjtuKncdlyiYnFVJEp1JEqP7Mwmi4nM31LMoj2bMQVg1UijSc2h/pC7/f+PByAYo17LnN9nM3n0QArzDhR8ueXsKUwbNZgXF63EGI+zx43g+EHtV2TkwUffZt+eKrDqtyhKcgLyXj3qz9u6fuseXK9xy4rPsSnZXaaJnErNJG52dGZtlsiJyBtArxRPfQf4PXAviVPJvcADwOePcH83AjcC9O+vhSJUx1QWrea9XSuJJQudiIBje8SMx982vM1pPQ89H09HYIzhT+vvZ13lcmImMZD+9e3/ZFnZAm4b9kMs0SkqlVLqcGQG/GQGDn5DbP6WLURjLjbg5XqJSgINkrlQwEckYBJj3izw/GD5LDKzg2RHbPbsq0JEmHXCcL752cbVnEf378Xo/qm+xtW3Z18Vf391EQs+3UzvHjl8dvbEFlWWrA5H8Tl2bXGSaCzOv+d8AhVxbL/ghjjQjBiHu66d0Wgbxw3pw6cbtzfqihmNuQzp073ZsaguSLtWpmaMafxJS0FE/gi8mOKpEqBfncd9k8ua2t9DwEMAEydO7Ny/FXXUKotV44hNLMXt092R1FNBdESbqteyvmpFbRIHEDNRtoWLWVG+mFG549MYnVJKHd26Z2TgiwfwvBriBXF8mR5WpYV4idYrx7Ho3zOP+756Pne/+DKLzSqs7BjdrCy+M2EW04qOpawqTCjgI+Br+VdBYwwR16WsrJprvvc4VTURYnGP1Zt2Mm/pRr79+VmcOWUEAJFYnN+8OJdn5y0jEoszcVg/vnXxNCrKw/z4T3PYtK0Uy7I448Rh3HndDMLhGF7cQwz4IgYnkizc4oHlwTtzVzO4f/25YK+aMY5n311K3I1ikl/Mg36HMycNp6CbFhBTB9HJM4Z0Va3sbYzZlnx4EbAsxWoLgGEiMohEAncFcFU7hahUm+gTysNJ0VplIUzM7zyTny4r+5jKmIdrfFhi8FkulhiiXpgNVSs1kVNKqTZ07ojh3Pf2u0S2ZuArqqZmchX+NQGcEh+Zjp9LTzmeG847iZLYHtb1WonPjWEwlFPO95c/xT2+gncvAAAbwklEQVTOZzi91+gW79czht8s/IA/Ll5EdSxGBg4+fxx/8j7k/sqS9z/6JtNPPAbHtvjGwy+wYO0WIrHEDcx5qzZx1QNP4JS6RMP7i5O4vDl/DbtKq/jNty7Bb1skZ09AAKlTLHPN+h2N4irolsWj37mKXz3zDh+u3EJWMMAV04/n6pl6LUpl774qdu2qoG9RHhkZgXSHk1Y6IfjhuU9Ejifxmd8IfAlARPqQmGZgtjEmLiK3AK+R6DTwiDHm0zTFq1SrcCybr404l58tf46wl5hk1RaLkO3nhqHNasROu601xbyy7XViJpGQesYQdy2Cdoyg5SPX1/5VNz2vknD4dYxXQSB4Go4zsN1jUEqp9tItFOKRSy/mK8+9QHVxABOM4+tj8/PPncepAw7cFPzNslepcaP1Xhv2Yty/4kWm9RzVogm9Ae6f9x5//uQjauKJzKqSGAyCbjEIlB/YVizuUrJzH54FC9YW1yZxkOjJVhON4VgGC3CDEMuAGlw+Ki5h47ZSrrxwEn95tHHlTJ/PZsSw1N09+xV24/6bz2/R++lqotE4P7n/Jd57fw1+n00s7nHZJZP4/LWntPhv4ajRyomciDwCnAvsNMaMTi7LB54CBpLIey5LURsEEbkWuDv58EfGmL8ean9pSeSMMZ9rYvlWYHadxy8DjeaXU6ozO6doAr2C3fjbhrfZHt7HhLzBXDN4Gr1CnWMw9j+2PEHMxOosSZz8I65Dhm0zPm9qu8YTicyjdE/ilGKMC2WGzKwbyM29+xCvVEqpzisYsRhcEmJtaTWWJcwcNZTxhUX11vm0bEvK1+6LVlEeqyHX3/wCWxE3Xi+Jq2VDVV8I1Kkp7roeOZlBFm0owbEtIrH6L/GMIW4bTC7EQ4CVuI5UBgzffeZ1Hv/qlbw7dw3rNuys7fomAsGAw3lnjm12zKq+Xz/4BnM/WEss5hJLJtfP/GshvXrmcs7ZXfC4GqD1i538Bfgt8Lc6y74F/McY8xMR+Vby8TfrviiZ7H0fmJiMbFFy2rVGCV9dHXn6AaWOWhO6D2FC99adj6e9rK1cnXK5weKLg75JptN+4xGMiVC65zqMqaq3vLrqzwQDpxEIntJusSilVHvZuquMW37yDDWRGIm+EYa3Fq1l195K/u/uy2vXy/dnURkPN3q9JUKG07IKw6U1NU0+F68zG4DPsZgwsh95ORkMLMzDdRt/U7ZEsIBIyNQmcQAIrN61hwXrivn9fVfx0N/e5ZU3lhGJxpkwtj+33Tidbrmdp7pzRxKNxpnzxjKisfpj9MORGE8+Pb9LJnKCafWulcaYd0RkYIPFFwDTkj//FXiLBokccCYwxxhTCiAic4CzgCcOtj9N5JRSLRKyQ0S9aKPlPvExKOuYdo0lEvmAVLfTjKmhqvpJTeSUUkelp99Y3GjetFjcZeXGHawr3s2QvoliINcNPo37lj9f25UfIGA5nN93Ij6rZV8Be4QysJuoSOyvETJDfuJxl9FD+3DvlxOdq4b27sFxA3uzeMNWonXiDfodjOsSSVH7PRyLM3f1Rk4Y2o9bv3gGt37xjBbFqVKrCcea7EW4r6y6fYPpSNpnjFzPOrVBtgM9U6yTatq1ohTr1aOJnFKqRc4onMVLW58jWqdipU98TO5xSvtPO2BiB3mucbKplFJHg/XFe4inaOmybYuSnWW1idw5RePZGSnnL+vewhIh7MaJ7g7w7NKtxLe8zWXjRvPm8nWU1UQ4bfggJg4qanKslM+2uWXiifxqwQf1ulcGHYeHr7qQ7KiPHt0y6VOQW+91v/riBTzw77d5YcEKovE4Ywf24e7LpvPeyg388rW5uA2+SPsdm7zM0JEeItVATnaQbt0y2LW7foVsERgzqm+aouoAWp7I9RCRhXUeP5SsnN/M3RkjIq2WPWoip5SqVR6r4cXixayv3MWo3CLOKhpDyK7f/ebMXrPZFdnJvD3v47Mc4l6c0bnHcXm/K9s9Xn9gMibFVA4iGYQyLmr3eJRSqj2MGdqbj1ZuadRNLhZ3GdL3wLxpIsLnh5zO5f0n85m/PUbpzkqiUQPU8PgHH/PYOx/hWBYx1+OJ+UuYOmwAv7jyXCwrdTL3pXGTyAuG+M3CeeysrmJE9wLuPvk0TujTdCKQEfDx3ctncPdl0zGG2m33zs/mD/+dT1WDAXSWCLOPH3GYR0Y1RUT42q2z+OH/Pkc0Gq/9XQQDPm68YVq6w0uPwxsjt9sYM7GFr9mxv2K/iPQGdqZYp4QD3S8hMe3aW4fasCZySikANlbu4pr3/0jUixN2Y7xkL+YPa97ksZNvoiCYXbueJRbXDPw8FxZdwrbwNgoCBeT70zPhqmVl0a3bA+zb+w0Ss+HGEMkgEDiVYPCstMSklFJt7ZLpY/nHnI+Jxz28ZItCwO9wyvGDKSpsXDhrwYatbN8ZTiZxgAE3ahAglmzZq4nGeG/NJt5YvpZZo4el3K+IcPnIMVw+ckyLYxYR6jb2ZQUD/P6Gi7jtL8/XxiACP7tqNoW5OvdbW5hy0lB+ft+VPP7EBxSX7GXksX347BWTKSrKS3doadNO0w88D1wL/CT5/+dSrPMa8L8isv+XMQu461Ab1kROKQXADz75NxWxMCZZIqzGjRH1XH6x4lX+d9xnGq2f48slx5fbaHl7y8i4EL9/HNXVz2C8MoLBmfgDU7tuKWWl1FEvLyeDv9xzNb958h3mL9tEMODj0uljueacSSnXX75tJzXROi1fTbRC1ERjvLB4RZOJXGsbP7CIt777JT7ZvA3XMxw/oDc+x26XfXdVI0f04f/dc0m6w+g4Wn/6gSdItKz1EJFiEpUofwL8Q0RuADYBlyXXnQjcZIz5gjGmVETuJTGPNsAP9xc+ORhN5JRSRN04n+zdUpvE7ecaj7d3rkpTVM3nOAPIybk93WEopVS76VOQy49vPa9Z6/bNyyXk91G9P5k7yH0un9W+iZRjW4wfdMiaDkq1AdPqiZwxpqlxJtNTrLsQ+EKdx48Aj7Rkf+1cmUAp1RGJCFYTLVhNVSlTSinVccVdj+Wbd7B++x5mjhhK0OccOM9L6lwu5Pdx0cRR7RqnUmljSCRyLfnXwWiLnFIKn2VzSuFw3tm5Ctcc6HPjtxzOKzo+jZEppZRqqXc/3cC3H32FuJsYQ9ezWzb3X3Y2v31vHp+UbAdgUJ88SnaVYYkQ9zwE4eIJI5k6bECz9mGMYdnmHZRXhxkzoBc5GcFDv0ipjqb1JwRvV5rIKaUA+O6YC7jhgz+xI1yOZzxELIZl9+SW4TPSHZpSSqlm2rJrH3c88iLh2IEpAjbv2sv3/vYar97zBcLxRPfKrECAynCEN5avpSIc5eShAxhcmN+8fezex02//xelldVYIsRcl1tnn8znTp/QJu9JqbbSTsVO2owmckopAPIDmfzztFv5cM8GNlft4ZjsXozN66dFQ5Tq4ETkduB+oMAYszvd8aj0enbeMuJe/WYGY6A6EmP+qs2cPHJg7fKsYIALx7esK6Uxhi//4V+UlJbV62n221fe59h+PZk4tAvPSaZUO9NETilVyxKLk3oM4aQeQ9IdilKqGUSkH4ky1ZvTHYvqGHbsrUg5WbjBUFpZfcTbX1G8k93l1Y2GC4WjcZ54d7Emcqpz0RY5pVQ6bK8p5W8bX2fxvjV09+dwRf/pnFwwOt1hKaXa1y+AO0k9L5HqgqYcO5D/fLKu/nQDgOt6jBvc54i3X14dxm5iwvC9rZAoKtVuDOB17kROy9Ep1QntCO/lSwsfYM72BewI72V5+Sb+d/ljPL3l7XSHppRqJyJyAVBijFmS7lhUxzFr3DH0L+hGwHfgXn3I73D+iaPo26PxZOEtNWZA75QtfkGfw4zj2mf+OaVaRwsrVnbA1jttkVOqE3pi03+oiUfw6sz7Fvai/GX9K5zfZzIB25/G6JRSrUVE3gB6pXjqO8C3SXSrPNQ2bgRuBOjfv3+rxqc6Hp9j89evX84/3l3CK4tWEQr4uGzqWM4af0yrbD8z6OcbF5zKz597h0gsjiGRxBV1z+XCk7RXiOpkOmBy1hKayCnVCS3etxY3Rc1cS4Timl0MydLJVZU6GhhjUpaNFZExwCBgSbIgUV/gIxE5wRizvcE2HgIeApg4cWLn/taimiXk93Ht9IlcO31im2z/8qljGVFUwJPvLWFPRTVnjBnCBSeOIuT3tcn+lGozmsgppdpbYaAbW6p3NloeMy55vuw0RKSUak/GmKVA4f7HIrIRmKhVK1V7GTuoD2MHHfmYu65gU8kefvvoOyxeXkxWRoDLzxnPZedMwGpirKFqJ0fBGDlN5JTqhK4cMJ1lZRuIeAcGs/vEYWLeMeQHctIYmVJKKaX2276rnC/e9Xeqw9HENBA1Uf741FyKt+/jji/qPK3pZcB07hnBtdiJUp3QuLxh3HbMJWQ6IYK2H584nNB9BN8e+dl0h6aUSgNjzEBtjVOq43nihYVEovF6PfjCkTgv/XcZe8u0ymfaabETpVQ6nNX7BGb0nMC28B5yfJnk+jLTHZJSSiml6vh09daUVT59PodNW0vJy81IQ1QKOCq6VmqLnFKdmGPZ9Mso1CROKaWU6oAG9O2ecixcLBanVw8dCpF22iLXciLyFDA8+bAbsM8Yc3yK9TYCFYALxI0xbVN+SSmllFJKqVZ29fmT+O8Hq4lE47XL/D6bE8YOpFeBJnJp1wGTs5ZISyJnjLl8/88i8gBQdpDVT9d+/0qpo4XxqjBVD0LNC4BA6CIk60uIhNIdmlJKqVY2uH8PfnbXRfzsoTfYuqMM2xbOPHUkX7v+9HSHpuiYrWwtkdYxcpKY/OYy4Ix0xqGUUu3BGBdTeiXE1wPRxMKqhzHR9yH/KZLzgSmllDqKTBjdnyd//XmqaqIEfDaOY6c7JAXJMXJatfJInALsMMasaeJ5A7wuIotE5MZ2jEsppVpf5G1wN1ObxCUWQnw1ROelK6q0MF4NxrjpDkMppWrFYi7ROl0gW1tmyK9JXEejY+RSE5E3gF4pnvqOMea55M9XAk8cZDNTjTElIlIIzBGRlcaYd5rY343AjQD9+/c/gsiVUqptmNgnYFKUmzYRiC2FwOT2D6qdRSPvU7nvLlx3A+AjmHEFWbnfQySQ7tCUUl3U3r1V/PyBV5g/fx3GGEaNKuL2O2bTr1/3dIem2loHTM5aos0SOWPMQWc5FBEHuBiYcJBtlCT/v1NEngVOAFImcsaYh4CHACZOnNi5fytKqaOS2EUYMoAGyZwEwe6TlpjaUzy2nLLSa8DUJJe4hKufxPNKyc3/fVpjU0p1TZ5n+NpXH2Pbtn24yWkCli0r5tZb/sZjj3+ZrKxgmiNUbcfo9ANHYAaw0hhTnOpJEckUkez9PwOzgGXtGJ9SSrWu4NkgPqDuWDgrkcgFZ6YrqnZTXfG7ROtjPWGi4ddw3R1piUkp1bV9tGgDe/ZU1iZxkGikicVc3njj0zRGptqcAWO8Fv3raNKZyF1Bg26VItJHRF5OPuwJvCciS4APgZeMMa+2c4xKKdVqxMpCuj8BzgjAl/jnjEbyn+wSXQvj8dVA4wuhiB/P3dL+ASmlurzikr31krj9wuEYmzZp0XTVsaWtaqUx5roUy7YCs5M/rwfGtnNYSinVpsQZivR4DuOVJh5b+WmOqP34/MfjxleRmBr0AGOi2M7g9ASllOrSBg8uTDlhdzDoY/jw3mmISLUr7VqplFKqpcTK71JJHEBG1lcQaTjeJEQw40qsLnYslFIdw5gxfRk4qACf70A1Sdu2yM4OMm3asWmMTLWLVq5aKSLDRWRxnX/lIvK1ButME5GyOut873DDT+s8ckoppboO2xlItx7PUVn+Q2LRBViSSyjrRkKZX0x3aEqpLkpEuP/+K/nzI2/z+uvLcF2PKScfw5e+dDrBoC/d4am2ZEyrzyNnjFkFHA8gIjZQAjybYtV3jTHnHun+NJFTSinVbhzfsXTrfrBZZ5RSqn2FQn5u/spMbv7K0V90SjXQttMPTAfWGWM2tdUOtGulUkoppZRSqssxnteify3UqLBjHZNFZImIvCIiow43fm2RU0oppZRSSnUxzRv31kAPEVlY5/FDybms6xERP3A+cFeKbXwEDDDGVIrIbODfwLCWBgKayCmllFJKKaW6GsPhVK3cbYyZ2Iz1zgY+MsY0miTVGFNe5+eXReRBEelhjGnxfBeayCmllFJKKaW6nrab5PtKmuhWKSK9gB3GGCMiJ5AY6rbncHaiiZxSSimllFKqSzGAaYN55EQkE5gJfKnOspsAjDF/AC4FviwicaAGuMKYw6u6oomcUkoppZRSqmsxpk1a5IwxVUD3Bsv+UOfn3wK/bY19aSKnlFJKKaWU6nLaokWuPWkip5RSSimllOp62m6MXLuQw+yS2aGJyC6gzSbfq6MH0OIKMwrQY3ck9NgdPj12h6+jHrsBxpiCdAfRWbTi9bGj/D1oHPVpHPVpHPV19jha9XwvIq8mY2mJ3caYs1orhiN1VCZy7UVEFjazBKlqQI/d4dNjd/j02B0+PXaqro7y96BxaBwah8bRlVnpDkAppZRSSimlVMtoIqeUUkoppZRSnYwmckfmoXQH0InpsTt8euwOnx67w6fHTtXVUf4eNI76NI76NI76NI6jjI6RU0oppZRSSqlORlvklFJKKaWUUqqT0UTuCInID0SkREQWJ//NTndMHZmInCUiq0RkrYh8K93xdCYislFElib/zhamO56OTkQeEZGdIrKszrJ8EZkjImuS/89LZ4wdVRPHTs91XZiIPFXnd79RRBY3sV6bnqea+3fY1tcaEfmZiKwUkU9E5FkR6dbEeq1+PA713kQkkPx9rRWR+SIysDX222Af/UTkvyKyXEQ+FZGvplhnmoiU1fldfa+146izr4MeZ0n4dfKYfCIi41t5/8PrvM/FIlIuIl9rsE6bHY8jud6JyLXJddaIyLVtEEfaPitdgXatPEIi8gOg0hhzf7pj6ehExAZWAzOBYmABcKUxZnlaA+skRGQjMNEY0xHmgOnwRORUoBL4mzFmdHLZfUCpMeYnyS9AecaYb6Yzzo6oiWP3A/RcpwAReQAoM8b8MMVzG2nD81Rz/g7b41ojIrOAN40xcRH5KUCqc0lrH4/mvDcRuRk4zhhzk4hcAVxkjLm8NfZfZx+9gd7GmI9EJBtYBFzYII5pwB3GmHNbc99NxLORgxznZMJ/KzAbOBH4lTHmxDaKxQZKgBONMZvqLJ9GGx2Pw73eiUg+sBCYCBgSv8cJxpi9rRhHWj4rXYW2yKn2dAKw1hiz3hgTBZ4ELkhzTOooZYx5ByhtsPgC4K/Jn/8KXNiuQXUSTRw7pRARAS4Dnkh3LAfR5tcaY8zrxph48uE8oG9rbv8gmvPe6p7nngGmJ39vrcYYs80Y81Hy5wpgBVDUmvtoZReQSC6MMWYe0C2ZjLaF6cC6uklcWzuC692ZwBxjTGkyeZsDHPZk16niSONnpUvQRK513JJsMn6kqaZrBSRO8lvqPC6mY5/4OxoDvC4ii0TkxnQH00n1NMZsS/68HeiZzmA6IT3XqVOAHcaYNU083x7nqUP9Hbb3tebzwCtNPNfax6M57612neQX6DKgeyvsO6Vk181xwPwUT08WkSUi8oqIjGqrGDj0cW7Pv4kraPpGR3sdD2je9e5o/qx0CU66A+gMROQNoFeKp74D/B64l8Qf4L3AAyT+UJVqbVONMSUiUgjMEZGVybtf6jAYY4yIaN/y5tNz3VHuYNc6Y8xzyZ+v5OCtcUd8nuoo19zmHA8R+Q4QBx5vYjNH9XlbRLKAfwJfM8aUN3j6I2CAMaYy2bXx38CwNgqlQxxnEfED5wN3pXi6PY9HPR3hetfVPyttRRO5ZjDGzGjOeiLyR+DFNg6nMysB+tV53De5TDWDMaYk+f+dIvIsiS42epJrmR0i0tsYsy3ZrWZnugPqLIwxO/b/rOe6o9OhrnUi4gAXAxMOso0jPk+1wjW3Va41zTge1wHnAtNNEwUH2uC83Zz3tn+d4uTvLBfYcwT7TElEfCSSuMeNMf9q+HzdxM4Y87KIPCgiPdpiDFQzjnN7ff84G/io7vmyToztdjySmnO9KwGm1XncF3irtQNJ02elS9CulUeoQR/ri4BlTa2rWAAME5FBybtWVwDPpzmmTkFEMpMDyhGRTGAW+rd2OJ4H9lfluhZ47iDrqjr0XKeAGcBKY0xxqifb4zzVzL/DNr/WiMhZwJ3A+caY6ibWaYvj0Zz3Vvc8dymJQhOt2hqTHHP3MLDCGPPzJtbptX9snoicQOI7Z1sklM05zs8D10jCSSSK9Wyj9TXZYt1ex6OO5lzvXgNmiUhespvyrOSyVpPGz0qXoC1yR+4+ETmeRDePjcCX0htOx5WsWHQLiZOEDTxijPk0zWF1Fj2BZ5PXAAf4uzHm1fSG1LGJyBMk7jT2EJFi4PvAT4B/iMgNwCYSRRtUA00cu2l6ruvyGo39EZE+wJ+MMbNpn/NUymtu3Tja6VrzWyBAogsYwLxklcg2PR5NvTcR+SGw0BjzPIkE61ERWUui8MQVR7LPJpwMfA5YKgemovg20D8Z5x9IJJFfFpE4UANc0doJZVLK4ywiN9WJ5WUSFSvXAtXA9a0dRDIBmUmdc2ODGNrseLTkeiciE4GbjDFfMMaUisi9JG4QAPzQGHPYha6aiOMu0vBZ6Sp0+gGllFJKKaWU6mS0a6VSSimllFJKdTKayCmllFJKKaVUJ6OJnFJKKaWUUkp1MprIKaWUUkoppVQno4mcUkoppZRSSnUymsgp1cGJiCsii0VkmYg8LSIZyeW9RORJEVknIotE5GUROSbF688SkVUislZEvtX+70AppVRn1grXoUdEZKeI6NxgSrUiTeSU6vhqjDHHG2NGA1HgpuSkos8CbxljhhhjJpCYq6Vn3ReKiA38DjgbGAlcKSIj2zd8pZRSndxhX4eS/gKc1W7RKtVF6ITgSnUu7wLHAacDseQkowAYY5akWP8EYK0xZj2AiDwJXAAsb4dYlVJKHX1aeh3CGPOOiAxsl+iU6kK0RU6pTkJEHBIta0uB0cCiZrysCNhS53FxcplSSinVIod5HVJKtRFN5JTq+EIishhYCGwGHk5zPEoppboWvQ4p1QFp10qlOr4aY8zxdReIyKfApc14bQnQr87jvsllSimlVHMdyXVIKdVGtEVOqc7pTSAgIjfuXyAix4nIKQ3WWwAME5FBIuIHrgCeb8c4lVJKHZ2aex1SSrURTeSU6oSMMQa4CJiRLPv8KfBjYHuD9eLALcBrwArgH8aYT9s7XqWUUkeX5l6HAETkCeADYLiIFIvIDe0brVJHJ0l8DpVSSimllFJKdRbaIqeUUkoppZRSnYwmckoppZRSSinVyWgip5RSSimllFKdjCZySimllFJKKdXJaCKnlFJKKaWUUp2MJnJKKaWUUkop1cloIqeUUkoppZRSnYwmckoppZRSSinVyfx/JI2bEl/ynocAAAAASUVORK5CYII=\n",
        "metadata": {
         "needs_background": "light",
         "tags": []
        },
        "output_type": "display_data",
        "text/plain": "<Figure size 1080x360 with 3 Axes>"
       }
      ]
     }
    },
    "2e7951596a13447da89368cf05353d3c": {
     "model_module": "@jupyter-widgets/output",
     "model_name": "OutputModel",
     "state": {
      "_dom_classes": [],
      "_model_module": "@jupyter-widgets/output",
      "_model_module_version": "1.0.0",
      "_model_name": "OutputModel",
      "_view_count": null,
      "_view_module": "@jupyter-widgets/output",
      "_view_module_version": "1.0.0",
      "_view_name": "OutputView",
      "layout": "IPY_MODEL_fe27590ed0f04842921d48e4fd5d721a",
      "msg_id": "",
      "outputs": [
       {
        "image/png": "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\n",
        "metadata": {
         "needs_background": "light",
         "tags": []
        },
        "output_type": "display_data",
        "text/plain": "<Figure size 432x288 with 1 Axes>"
       }
      ]
     }
    },
    "4a08699214314369be9da89bcec6e0fd": {
     "model_module": "@jupyter-widgets/controls",
     "model_name": "VBoxModel",
     "state": {
      "_dom_classes": [
       "widget-interact"
      ],
      "_model_module": "@jupyter-widgets/controls",
      "_model_module_version": "1.5.0",
      "_model_name": "VBoxModel",
      "_view_count": null,
      "_view_module": "@jupyter-widgets/controls",
      "_view_module_version": "1.5.0",
      "_view_name": "VBoxView",
      "box_style": "",
      "children": [
       "IPY_MODEL_26d00b9d2c0e4d85977aeb06c66e2463",
       "IPY_MODEL_13523723db8e499996fd1f68c9dc988a"
      ],
      "layout": "IPY_MODEL_1b85e0b83f094d77b8c10d376c12da76"
     }
    },
    "63dd4cc727034c8c8a8043fc17d69cb1": {
     "model_module": "@jupyter-widgets/base",
     "model_name": "LayoutModel",
     "state": {
      "_model_module": "@jupyter-widgets/base",
      "_model_module_version": "1.2.0",
      "_model_name": "LayoutModel",
      "_view_count": null,
      "_view_module": "@jupyter-widgets/base",
      "_view_module_version": "1.2.0",
      "_view_name": "LayoutView",
      "align_content": null,
      "align_items": null,
      "align_self": null,
      "border": null,
      "bottom": null,
      "display": null,
      "flex": null,
      "flex_flow": null,
      "grid_area": null,
      "grid_auto_columns": null,
      "grid_auto_flow": null,
      "grid_auto_rows": null,
      "grid_column": null,
      "grid_gap": null,
      "grid_row": null,
      "grid_template_areas": null,
      "grid_template_columns": null,
      "grid_template_rows": null,
      "height": null,
      "justify_content": null,
      "justify_items": null,
      "left": null,
      "margin": null,
      "max_height": null,
      "max_width": null,
      "min_height": null,
      "min_width": null,
      "object_fit": null,
      "object_position": null,
      "order": null,
      "overflow": null,
      "overflow_x": null,
      "overflow_y": null,
      "padding": null,
      "right": null,
      "top": null,
      "visibility": null,
      "width": null
     }
    },
    "67d000462d82461eb2ab68e04cad2359": {
     "model_module": "@jupyter-widgets/base",
     "model_name": "LayoutModel",
     "state": {
      "_model_module": "@jupyter-widgets/base",
      "_model_module_version": "1.2.0",
      "_model_name": "LayoutModel",
      "_view_count": null,
      "_view_module": "@jupyter-widgets/base",
      "_view_module_version": "1.2.0",
      "_view_name": "LayoutView",
      "align_content": null,
      "align_items": null,
      "align_self": null,
      "border": null,
      "bottom": null,
      "display": null,
      "flex": null,
      "flex_flow": null,
      "grid_area": null,
      "grid_auto_columns": null,
      "grid_auto_flow": null,
      "grid_auto_rows": null,
      "grid_column": null,
      "grid_gap": null,
      "grid_row": null,
      "grid_template_areas": null,
      "grid_template_columns": null,
      "grid_template_rows": null,
      "height": null,
      "justify_content": null,
      "justify_items": null,
      "left": null,
      "margin": null,
      "max_height": null,
      "max_width": null,
      "min_height": null,
      "min_width": null,
      "object_fit": null,
      "object_position": null,
      "order": null,
      "overflow": null,
      "overflow_x": null,
      "overflow_y": null,
      "padding": null,
      "right": null,
      "top": null,
      "visibility": null,
      "width": null
     }
    },
    "736a705833154ff19510029854314057": {
     "model_module": "@jupyter-widgets/base",
     "model_name": "LayoutModel",
     "state": {
      "_model_module": "@jupyter-widgets/base",
      "_model_module_version": "1.2.0",
      "_model_name": "LayoutModel",
      "_view_count": null,
      "_view_module": "@jupyter-widgets/base",
      "_view_module_version": "1.2.0",
      "_view_name": "LayoutView",
      "align_content": null,
      "align_items": null,
      "align_self": null,
      "border": null,
      "bottom": null,
      "display": null,
      "flex": null,
      "flex_flow": null,
      "grid_area": null,
      "grid_auto_columns": null,
      "grid_auto_flow": null,
      "grid_auto_rows": null,
      "grid_column": null,
      "grid_gap": null,
      "grid_row": null,
      "grid_template_areas": null,
      "grid_template_columns": null,
      "grid_template_rows": null,
      "height": null,
      "justify_content": null,
      "justify_items": null,
      "left": null,
      "margin": null,
      "max_height": null,
      "max_width": null,
      "min_height": null,
      "min_width": null,
      "object_fit": null,
      "object_position": null,
      "order": null,
      "overflow": null,
      "overflow_x": null,
      "overflow_y": null,
      "padding": null,
      "right": null,
      "top": null,
      "visibility": null,
      "width": null
     }
    },
    "871b1000de084472a3bd130c86416d18": {
     "model_module": "@jupyter-widgets/controls",
     "model_name": "DropdownModel",
     "state": {
      "_dom_classes": [],
      "_model_module": "@jupyter-widgets/controls",
      "_model_module_version": "1.5.0",
      "_model_name": "DropdownModel",
      "_options_labels": [
       "mean radius",
       "mean texture",
       "mean perimeter",
       "mean area",
       "mean smoothness",
       "mean compactness",
       "mean concavity",
       "mean concave points",
       "mean symmetry",
       "mean fractal dimension",
       "radius error",
       "texture error",
       "perimeter error",
       "area error",
       "smoothness error",
       "compactness error",
       "concavity error",
       "concave points error",
       "symmetry error",
       "fractal dimension error",
       "worst radius",
       "worst texture",
       "worst perimeter",
       "worst area",
       "worst smoothness",
       "worst compactness",
       "worst concavity",
       "worst concave points",
       "worst symmetry",
       "worst fractal dimension",
       "0",
       "1",
       "2",
       "label"
      ],
      "_view_count": null,
      "_view_module": "@jupyter-widgets/controls",
      "_view_module_version": "1.5.0",
      "_view_name": "DropdownView",
      "description": "feature",
      "description_tooltip": null,
      "disabled": false,
      "index": 0,
      "layout": "IPY_MODEL_de884c9dd2aa413595f03295499afcef",
      "style": "IPY_MODEL_c4b3455af5fc402e9bf0e6906b7c80d3"
     }
    },
    "8cda080de11f4c68983bae8223595544": {
     "model_module": "@jupyter-widgets/base",
     "model_name": "LayoutModel",
     "state": {
      "_model_module": "@jupyter-widgets/base",
      "_model_module_version": "1.2.0",
      "_model_name": "LayoutModel",
      "_view_count": null,
      "_view_module": "@jupyter-widgets/base",
      "_view_module_version": "1.2.0",
      "_view_name": "LayoutView",
      "align_content": null,
      "align_items": null,
      "align_self": null,
      "border": null,
      "bottom": null,
      "display": null,
      "flex": null,
      "flex_flow": null,
      "grid_area": null,
      "grid_auto_columns": null,
      "grid_auto_flow": null,
      "grid_auto_rows": null,
      "grid_column": null,
      "grid_gap": null,
      "grid_row": null,
      "grid_template_areas": null,
      "grid_template_columns": null,
      "grid_template_rows": null,
      "height": null,
      "justify_content": null,
      "justify_items": null,
      "left": null,
      "margin": null,
      "max_height": null,
      "max_width": null,
      "min_height": null,
      "min_width": null,
      "object_fit": null,
      "object_position": null,
      "order": null,
      "overflow": null,
      "overflow_x": null,
      "overflow_y": null,
      "padding": null,
      "right": null,
      "top": null,
      "visibility": null,
      "width": null
     }
    },
    "8e5fa0d33a7448cb991aa9e80288061f": {
     "model_module": "@jupyter-widgets/controls",
     "model_name": "VBoxModel",
     "state": {
      "_dom_classes": [
       "widget-interact"
      ],
      "_model_module": "@jupyter-widgets/controls",
      "_model_module_version": "1.5.0",
      "_model_name": "VBoxModel",
      "_view_count": null,
      "_view_module": "@jupyter-widgets/controls",
      "_view_module_version": "1.5.0",
      "_view_name": "VBoxView",
      "box_style": "",
      "children": [
       "IPY_MODEL_250bad957753485b80a83b1517066721",
       "IPY_MODEL_2e7951596a13447da89368cf05353d3c"
      ],
      "layout": "IPY_MODEL_cd9ec21d539542ae8f3c12a382da3a66"
     }
    },
    "aee0adf7e3284007a803ea170676245b": {
     "model_module": "@jupyter-widgets/controls",
     "model_name": "DescriptionStyleModel",
     "state": {
      "_model_module": "@jupyter-widgets/controls",
      "_model_module_version": "1.5.0",
      "_model_name": "DescriptionStyleModel",
      "_view_count": null,
      "_view_module": "@jupyter-widgets/base",
      "_view_module_version": "1.2.0",
      "_view_name": "StyleView",
      "description_width": ""
     }
    },
    "c4b3455af5fc402e9bf0e6906b7c80d3": {
     "model_module": "@jupyter-widgets/controls",
     "model_name": "DescriptionStyleModel",
     "state": {
      "_model_module": "@jupyter-widgets/controls",
      "_model_module_version": "1.5.0",
      "_model_name": "DescriptionStyleModel",
      "_view_count": null,
      "_view_module": "@jupyter-widgets/base",
      "_view_module_version": "1.2.0",
      "_view_name": "StyleView",
      "description_width": ""
     }
    },
    "c97a94cdb8754433bb9165b05fa47fd7": {
     "model_module": "@jupyter-widgets/controls",
     "model_name": "DescriptionStyleModel",
     "state": {
      "_model_module": "@jupyter-widgets/controls",
      "_model_module_version": "1.5.0",
      "_model_name": "DescriptionStyleModel",
      "_view_count": null,
      "_view_module": "@jupyter-widgets/base",
      "_view_module_version": "1.2.0",
      "_view_name": "StyleView",
      "description_width": ""
     }
    },
    "cd9ec21d539542ae8f3c12a382da3a66": {
     "model_module": "@jupyter-widgets/base",
     "model_name": "LayoutModel",
     "state": {
      "_model_module": "@jupyter-widgets/base",
      "_model_module_version": "1.2.0",
      "_model_name": "LayoutModel",
      "_view_count": null,
      "_view_module": "@jupyter-widgets/base",
      "_view_module_version": "1.2.0",
      "_view_name": "LayoutView",
      "align_content": null,
      "align_items": null,
      "align_self": null,
      "border": null,
      "bottom": null,
      "display": null,
      "flex": null,
      "flex_flow": null,
      "grid_area": null,
      "grid_auto_columns": null,
      "grid_auto_flow": null,
      "grid_auto_rows": null,
      "grid_column": null,
      "grid_gap": null,
      "grid_row": null,
      "grid_template_areas": null,
      "grid_template_columns": null,
      "grid_template_rows": null,
      "height": null,
      "justify_content": null,
      "justify_items": null,
      "left": null,
      "margin": null,
      "max_height": null,
      "max_width": null,
      "min_height": null,
      "min_width": null,
      "object_fit": null,
      "object_position": null,
      "order": null,
      "overflow": null,
      "overflow_x": null,
      "overflow_y": null,
      "padding": null,
      "right": null,
      "top": null,
      "visibility": null,
      "width": null
     }
    },
    "dd9eb1e7c7d04eec97b7d89bc5f79d41": {
     "model_module": "@jupyter-widgets/base",
     "model_name": "LayoutModel",
     "state": {
      "_model_module": "@jupyter-widgets/base",
      "_model_module_version": "1.2.0",
      "_model_name": "LayoutModel",
      "_view_count": null,
      "_view_module": "@jupyter-widgets/base",
      "_view_module_version": "1.2.0",
      "_view_name": "LayoutView",
      "align_content": null,
      "align_items": null,
      "align_self": null,
      "border": null,
      "bottom": null,
      "display": null,
      "flex": null,
      "flex_flow": null,
      "grid_area": null,
      "grid_auto_columns": null,
      "grid_auto_flow": null,
      "grid_auto_rows": null,
      "grid_column": null,
      "grid_gap": null,
      "grid_row": null,
      "grid_template_areas": null,
      "grid_template_columns": null,
      "grid_template_rows": null,
      "height": null,
      "justify_content": null,
      "justify_items": null,
      "left": null,
      "margin": null,
      "max_height": null,
      "max_width": null,
      "min_height": null,
      "min_width": null,
      "object_fit": null,
      "object_position": null,
      "order": null,
      "overflow": null,
      "overflow_x": null,
      "overflow_y": null,
      "padding": null,
      "right": null,
      "top": null,
      "visibility": null,
      "width": null
     }
    },
    "de884c9dd2aa413595f03295499afcef": {
     "model_module": "@jupyter-widgets/base",
     "model_name": "LayoutModel",
     "state": {
      "_model_module": "@jupyter-widgets/base",
      "_model_module_version": "1.2.0",
      "_model_name": "LayoutModel",
      "_view_count": null,
      "_view_module": "@jupyter-widgets/base",
      "_view_module_version": "1.2.0",
      "_view_name": "LayoutView",
      "align_content": null,
      "align_items": null,
      "align_self": null,
      "border": null,
      "bottom": null,
      "display": null,
      "flex": null,
      "flex_flow": null,
      "grid_area": null,
      "grid_auto_columns": null,
      "grid_auto_flow": null,
      "grid_auto_rows": null,
      "grid_column": null,
      "grid_gap": null,
      "grid_row": null,
      "grid_template_areas": null,
      "grid_template_columns": null,
      "grid_template_rows": null,
      "height": null,
      "justify_content": null,
      "justify_items": null,
      "left": null,
      "margin": null,
      "max_height": null,
      "max_width": null,
      "min_height": null,
      "min_width": null,
      "object_fit": null,
      "object_position": null,
      "order": null,
      "overflow": null,
      "overflow_x": null,
      "overflow_y": null,
      "padding": null,
      "right": null,
      "top": null,
      "visibility": null,
      "width": null
     }
    },
    "fe27590ed0f04842921d48e4fd5d721a": {
     "model_module": "@jupyter-widgets/base",
     "model_name": "LayoutModel",
     "state": {
      "_model_module": "@jupyter-widgets/base",
      "_model_module_version": "1.2.0",
      "_model_name": "LayoutModel",
      "_view_count": null,
      "_view_module": "@jupyter-widgets/base",
      "_view_module_version": "1.2.0",
      "_view_name": "LayoutView",
      "align_content": null,
      "align_items": null,
      "align_self": null,
      "border": null,
      "bottom": null,
      "display": null,
      "flex": null,
      "flex_flow": null,
      "grid_area": null,
      "grid_auto_columns": null,
      "grid_auto_flow": null,
      "grid_auto_rows": null,
      "grid_column": null,
      "grid_gap": null,
      "grid_row": null,
      "grid_template_areas": null,
      "grid_template_columns": null,
      "grid_template_rows": null,
      "height": null,
      "justify_content": null,
      "justify_items": null,
      "left": null,
      "margin": null,
      "max_height": null,
      "max_width": null,
      "min_height": null,
      "min_width": null,
      "object_fit": null,
      "object_position": null,
      "order": null,
      "overflow": null,
      "overflow_x": null,
      "overflow_y": null,
      "padding": null,
      "right": null,
      "top": null,
      "visibility": null,
      "width": null
     }
    }
   }
  }
 },
 "nbformat": 4,
 "nbformat_minor": 1
}
